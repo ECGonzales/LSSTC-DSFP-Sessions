{
 "cells": [
  {
   "cell_type": "markdown",
   "metadata": {},
   "source": [
    "# Building a Supervised Machine Learning Model\n",
    "\n",
    "The objective of this hands-on activity is to create and evaluate a Real-Bogus classifier using ZTF alert data.  We will use the same data from the Day 2 clustering exercise (see [that notebook](https://github.com/LSSTC-DSFP/LSSTC-DSFP-Sessions/blob/master/Session7/Day2/Clustering-Astronomical-Sources.ipynb) to download the data).  \n",
    "\n",
    "1. Load data\n",
    "2. Examine features\n",
    "3. Curate a test and training set\n",
    "4. Train classifiers\n",
    "5. Compare the performance of different learning algorithms\n",
    "\n",
    "#### What's Not Covered\n",
    "\n",
    "There are many topics to cover, and due to time constraints, we cannot cover them all.  Omitted is a discussion of [cross validation](http://scikit-learn.org/stable/modules/cross_validation.html) and [hyperparameter tuning](http://scikit-learn.org/stable/modules/grid_search.html).  I encourage you to click through and read those articles by sklearn."
   ]
  },
  {
   "cell_type": "markdown",
   "metadata": {},
   "source": [
    "### 0a. Imports\n",
    "\n",
    "These are all the imports that will be used in this notebook.  All should be available in the DSFP conda environment."
   ]
  },
  {
   "cell_type": "code",
   "execution_count": 79,
   "metadata": {
    "collapsed": true
   },
   "outputs": [],
   "source": [
    "import numpy as np\n",
    "from sklearn.preprocessing import Imputer\n",
    "from sklearn.preprocessing import MinMaxScaler, StandardScaler\n",
    "%matplotlib inline\n",
    "import matplotlib.pyplot as plt\n",
    "import pandas as pd\n",
    "import seaborn as sns"
   ]
  },
  {
   "cell_type": "markdown",
   "metadata": {},
   "source": [
    "### 0b. Data Location\n",
    "\n",
    "Please specify paths for the following:"
   ]
  },
  {
   "cell_type": "code",
   "execution_count": 43,
   "metadata": {
    "collapsed": true
   },
   "outputs": [],
   "source": [
    "F_META = '../Day2/dsfp_ztf_meta.npy'\n",
    "F_FEATS = '../Day2/dsfp_ztf_feats.npy'\n",
    "D_STAMPS = '../Day2/dsfp_ztf_png_stamps'"
   ]
  },
  {
   "cell_type": "markdown",
   "metadata": {},
   "source": [
    "# 1. Load Data\n",
    "\n",
    "Please note that I have made some adjustments to the data.  \n",
    "\n",
    "- I have created a dataframe (feats_df) from feats_np\n",
    "- I have also dropped columns from feats_df.  Some were irrelevant to classification, and some contained a lot of NaNs."
   ]
  },
  {
   "cell_type": "code",
   "execution_count": 44,
   "metadata": {},
   "outputs": [
    {
     "name": "stdout",
     "output_type": "stream",
     "text": [
      "There are 19 columns left.\n",
      "They are: ['diffmaglim', 'magpsf', 'sigmapsf', 'chipsf', 'magap', 'sigmagap', 'sky', 'magdiff', 'fwhm', 'mindtoedge', 'magfromlim', 'seeratio', 'aimage', 'bimage', 'elong', 'nneg', 'nbad', 'sumrat', 'label']\n"
     ]
    },
    {
     "data": {
      "text/html": [
       "<div>\n",
       "<style scoped>\n",
       "    .dataframe tbody tr th:only-of-type {\n",
       "        vertical-align: middle;\n",
       "    }\n",
       "\n",
       "    .dataframe tbody tr th {\n",
       "        vertical-align: top;\n",
       "    }\n",
       "\n",
       "    .dataframe thead th {\n",
       "        text-align: right;\n",
       "    }\n",
       "</style>\n",
       "<table border=\"1\" class=\"dataframe\">\n",
       "  <thead>\n",
       "    <tr style=\"text-align: right;\">\n",
       "      <th></th>\n",
       "      <th>diffmaglim</th>\n",
       "      <th>magpsf</th>\n",
       "      <th>sigmapsf</th>\n",
       "      <th>chipsf</th>\n",
       "      <th>magap</th>\n",
       "      <th>sigmagap</th>\n",
       "      <th>sky</th>\n",
       "      <th>magdiff</th>\n",
       "      <th>fwhm</th>\n",
       "      <th>mindtoedge</th>\n",
       "      <th>magfromlim</th>\n",
       "      <th>seeratio</th>\n",
       "      <th>aimage</th>\n",
       "      <th>bimage</th>\n",
       "      <th>elong</th>\n",
       "      <th>nneg</th>\n",
       "      <th>nbad</th>\n",
       "      <th>sumrat</th>\n",
       "      <th>label</th>\n",
       "    </tr>\n",
       "  </thead>\n",
       "  <tbody>\n",
       "    <tr>\n",
       "      <th>count</th>\n",
       "      <td>3190.000000</td>\n",
       "      <td>3190.000000</td>\n",
       "      <td>3190.000000</td>\n",
       "      <td>3190.000000</td>\n",
       "      <td>3190.000000</td>\n",
       "      <td>3190.000000</td>\n",
       "      <td>3190.000000</td>\n",
       "      <td>3190.000000</td>\n",
       "      <td>3190.000000</td>\n",
       "      <td>3190.000000</td>\n",
       "      <td>3190.000000</td>\n",
       "      <td>3190.000000</td>\n",
       "      <td>3190.000000</td>\n",
       "      <td>3190.000000</td>\n",
       "      <td>3190.000000</td>\n",
       "      <td>3190.000000</td>\n",
       "      <td>3190.000000</td>\n",
       "      <td>3190.000000</td>\n",
       "      <td>3190.000000</td>\n",
       "    </tr>\n",
       "    <tr>\n",
       "      <th>mean</th>\n",
       "      <td>20.151915</td>\n",
       "      <td>19.038766</td>\n",
       "      <td>0.114721</td>\n",
       "      <td>29.171392</td>\n",
       "      <td>18.882236</td>\n",
       "      <td>0.133377</td>\n",
       "      <td>1.759273</td>\n",
       "      <td>-0.156530</td>\n",
       "      <td>5.762724</td>\n",
       "      <td>535.662895</td>\n",
       "      <td>1.269680</td>\n",
       "      <td>-19.033703</td>\n",
       "      <td>1.447092</td>\n",
       "      <td>1.121355</td>\n",
       "      <td>1.277802</td>\n",
       "      <td>3.702508</td>\n",
       "      <td>0.827586</td>\n",
       "      <td>0.942922</td>\n",
       "      <td>0.263636</td>\n",
       "    </tr>\n",
       "    <tr>\n",
       "      <th>std</th>\n",
       "      <td>0.600403</td>\n",
       "      <td>1.182225</td>\n",
       "      <td>0.059628</td>\n",
       "      <td>184.693580</td>\n",
       "      <td>1.146221</td>\n",
       "      <td>0.090430</td>\n",
       "      <td>11.922192</td>\n",
       "      <td>0.361237</td>\n",
       "      <td>8.082798</td>\n",
       "      <td>358.128782</td>\n",
       "      <td>1.056042</td>\n",
       "      <td>140.283975</td>\n",
       "      <td>1.359441</td>\n",
       "      <td>1.081769</td>\n",
       "      <td>0.233597</td>\n",
       "      <td>2.640393</td>\n",
       "      <td>1.852272</td>\n",
       "      <td>0.093331</td>\n",
       "      <td>0.440673</td>\n",
       "    </tr>\n",
       "    <tr>\n",
       "      <th>min</th>\n",
       "      <td>16.387886</td>\n",
       "      <td>11.861366</td>\n",
       "      <td>0.000729</td>\n",
       "      <td>0.145480</td>\n",
       "      <td>11.904000</td>\n",
       "      <td>0.000900</td>\n",
       "      <td>-62.988770</td>\n",
       "      <td>-0.999049</td>\n",
       "      <td>-0.840000</td>\n",
       "      <td>10.071900</td>\n",
       "      <td>-0.689344</td>\n",
       "      <td>-999.000000</td>\n",
       "      <td>0.289000</td>\n",
       "      <td>0.256000</td>\n",
       "      <td>1.000000</td>\n",
       "      <td>0.000000</td>\n",
       "      <td>0.000000</td>\n",
       "      <td>0.400054</td>\n",
       "      <td>0.000000</td>\n",
       "    </tr>\n",
       "    <tr>\n",
       "      <th>25%</th>\n",
       "      <td>19.816405</td>\n",
       "      <td>18.404491</td>\n",
       "      <td>0.066442</td>\n",
       "      <td>1.752059</td>\n",
       "      <td>18.243625</td>\n",
       "      <td>0.062925</td>\n",
       "      <td>-0.078796</td>\n",
       "      <td>-0.387930</td>\n",
       "      <td>2.080000</td>\n",
       "      <td>233.525776</td>\n",
       "      <td>0.485384</td>\n",
       "      <td>0.392570</td>\n",
       "      <td>0.771250</td>\n",
       "      <td>0.667000</td>\n",
       "      <td>1.096764</td>\n",
       "      <td>2.000000</td>\n",
       "      <td>0.000000</td>\n",
       "      <td>0.921823</td>\n",
       "      <td>0.000000</td>\n",
       "    </tr>\n",
       "    <tr>\n",
       "      <th>50%</th>\n",
       "      <td>20.221339</td>\n",
       "      <td>19.230843</td>\n",
       "      <td>0.111248</td>\n",
       "      <td>3.588183</td>\n",
       "      <td>19.093750</td>\n",
       "      <td>0.121900</td>\n",
       "      <td>0.326771</td>\n",
       "      <td>-0.088569</td>\n",
       "      <td>3.170000</td>\n",
       "      <td>475.807602</td>\n",
       "      <td>1.019777</td>\n",
       "      <td>0.794723</td>\n",
       "      <td>1.018000</td>\n",
       "      <td>0.841000</td>\n",
       "      <td>1.201702</td>\n",
       "      <td>3.000000</td>\n",
       "      <td>0.000000</td>\n",
       "      <td>0.990973</td>\n",
       "      <td>0.000000</td>\n",
       "    </tr>\n",
       "    <tr>\n",
       "      <th>75%</th>\n",
       "      <td>20.608219</td>\n",
       "      <td>19.917913</td>\n",
       "      <td>0.167752</td>\n",
       "      <td>11.765462</td>\n",
       "      <td>19.744100</td>\n",
       "      <td>0.185475</td>\n",
       "      <td>0.891043</td>\n",
       "      <td>0.057932</td>\n",
       "      <td>6.200000</td>\n",
       "      <td>782.824844</td>\n",
       "      <td>1.860215</td>\n",
       "      <td>1.171276</td>\n",
       "      <td>1.726750</td>\n",
       "      <td>1.268000</td>\n",
       "      <td>1.395918</td>\n",
       "      <td>5.000000</td>\n",
       "      <td>0.000000</td>\n",
       "      <td>1.000000</td>\n",
       "      <td>1.000000</td>\n",
       "    </tr>\n",
       "    <tr>\n",
       "      <th>max</th>\n",
       "      <td>21.169477</td>\n",
       "      <td>21.312767</td>\n",
       "      <td>0.217133</td>\n",
       "      <td>7037.184570</td>\n",
       "      <td>21.160299</td>\n",
       "      <td>0.733300</td>\n",
       "      <td>321.040314</td>\n",
       "      <td>0.971744</td>\n",
       "      <td>118.790001</td>\n",
       "      <td>1507.777222</td>\n",
       "      <td>8.407010</td>\n",
       "      <td>116.662155</td>\n",
       "      <td>23.407000</td>\n",
       "      <td>15.154000</td>\n",
       "      <td>2.000000</td>\n",
       "      <td>13.000000</td>\n",
       "      <td>7.000000</td>\n",
       "      <td>1.000000</td>\n",
       "      <td>1.000000</td>\n",
       "    </tr>\n",
       "  </tbody>\n",
       "</table>\n",
       "</div>"
      ],
      "text/plain": [
       "        diffmaglim       magpsf     sigmapsf       chipsf        magap  \\\n",
       "count  3190.000000  3190.000000  3190.000000  3190.000000  3190.000000   \n",
       "mean     20.151915    19.038766     0.114721    29.171392    18.882236   \n",
       "std       0.600403     1.182225     0.059628   184.693580     1.146221   \n",
       "min      16.387886    11.861366     0.000729     0.145480    11.904000   \n",
       "25%      19.816405    18.404491     0.066442     1.752059    18.243625   \n",
       "50%      20.221339    19.230843     0.111248     3.588183    19.093750   \n",
       "75%      20.608219    19.917913     0.167752    11.765462    19.744100   \n",
       "max      21.169477    21.312767     0.217133  7037.184570    21.160299   \n",
       "\n",
       "          sigmagap          sky      magdiff         fwhm   mindtoedge  \\\n",
       "count  3190.000000  3190.000000  3190.000000  3190.000000  3190.000000   \n",
       "mean      0.133377     1.759273    -0.156530     5.762724   535.662895   \n",
       "std       0.090430    11.922192     0.361237     8.082798   358.128782   \n",
       "min       0.000900   -62.988770    -0.999049    -0.840000    10.071900   \n",
       "25%       0.062925    -0.078796    -0.387930     2.080000   233.525776   \n",
       "50%       0.121900     0.326771    -0.088569     3.170000   475.807602   \n",
       "75%       0.185475     0.891043     0.057932     6.200000   782.824844   \n",
       "max       0.733300   321.040314     0.971744   118.790001  1507.777222   \n",
       "\n",
       "        magfromlim     seeratio       aimage       bimage        elong  \\\n",
       "count  3190.000000  3190.000000  3190.000000  3190.000000  3190.000000   \n",
       "mean      1.269680   -19.033703     1.447092     1.121355     1.277802   \n",
       "std       1.056042   140.283975     1.359441     1.081769     0.233597   \n",
       "min      -0.689344  -999.000000     0.289000     0.256000     1.000000   \n",
       "25%       0.485384     0.392570     0.771250     0.667000     1.096764   \n",
       "50%       1.019777     0.794723     1.018000     0.841000     1.201702   \n",
       "75%       1.860215     1.171276     1.726750     1.268000     1.395918   \n",
       "max       8.407010   116.662155    23.407000    15.154000     2.000000   \n",
       "\n",
       "              nneg         nbad       sumrat        label  \n",
       "count  3190.000000  3190.000000  3190.000000  3190.000000  \n",
       "mean      3.702508     0.827586     0.942922     0.263636  \n",
       "std       2.640393     1.852272     0.093331     0.440673  \n",
       "min       0.000000     0.000000     0.400054     0.000000  \n",
       "25%       2.000000     0.000000     0.921823     0.000000  \n",
       "50%       3.000000     0.000000     0.990973     0.000000  \n",
       "75%       5.000000     0.000000     1.000000     1.000000  \n",
       "max      13.000000     7.000000     1.000000     1.000000  "
      ]
     },
     "execution_count": 44,
     "metadata": {},
     "output_type": "execute_result"
    }
   ],
   "source": [
    "meta_np = np.load(F_META)\n",
    "feats_np = np.load(F_FEATS)\n",
    "\n",
    "COL_NAMES = ['diffmaglim', 'magpsf', 'sigmapsf', 'chipsf', 'magap', 'sigmagap',\n",
    "             'distnr', 'magnr', 'sigmagnr', 'chinr', 'sharpnr', 'sky',\n",
    "             'magdiff', 'fwhm', 'classtar', 'mindtoedge', 'magfromlim', 'seeratio',\n",
    "             'aimage', 'bimage', 'aimagerat', 'bimagerat', 'elong', 'nneg',\n",
    "             'nbad', 'ssdistnr', 'ssmagnr', 'sumrat', 'magapbig', 'sigmagapbig',\n",
    "             'ndethist', 'ncovhist', 'jdstarthist', 'jdendhist', 'scorr', 'label']\n",
    "\n",
    "# NOTE FROM Umaa: I've decided to eliminate the following features. Dropping them.\n",
    "#\n",
    "COL_TO_DROP = ['ndethist', 'ncovhist', 'jdstarthist', 'jdendhist', \n",
    "               'distnr', 'magnr', 'sigmagnr', 'chinr', 'sharpnr', \n",
    "               'classtar', 'ssdistnr', 'ssmagnr', 'aimagerat', 'bimagerat', \n",
    "               'magapbig', 'sigmagapbig', 'scorr']\n",
    "feats_df = pd.DataFrame(data=feats_np, index=meta_np['candid'], columns=COL_NAMES)\n",
    "\n",
    "feats_df.drop(columns=COL_TO_DROP, inplace=True) \n",
    "print(\"There are {} columns left.\".format(len(feats_df.columns)))\n",
    "print(\"They are: {}\".format(list(feats_df.columns)))\n",
    "feats_df.describe()"
   ]
  },
  {
   "cell_type": "code",
   "execution_count": 48,
   "metadata": {},
   "outputs": [
    {
     "name": "stdout",
     "output_type": "stream",
     "text": [
      "bogus= 2349\n",
      "real= 841\n",
      "460195930015015000    False\n",
      "465347930015015004    False\n",
      "465347930115015001    False\n",
      "465347930115015005    False\n",
      "465347930115015006    False\n",
      "465347930315015000    False\n",
      "465384220215015000    False\n",
      "465403700015015000    False\n",
      "465405110215015001    False\n",
      "465446590315015000    False\n",
      "465448960115015001    False\n",
      "465458950115015004    False\n",
      "465463110015015003    False\n",
      "465473830115015001    False\n",
      "465473830315015000    False\n",
      "465479540015015000    False\n",
      "465517620015015012    False\n",
      "465517620115015000    False\n",
      "465251810315015000    False\n",
      "465347930115015000    False\n",
      "465347930215015000    False\n",
      "465347930215015001    False\n",
      "465384220015015003    False\n",
      "465387540215015000    False\n",
      "465406080115015003    False\n",
      "465446590215015004    False\n",
      "465446590215015009    False\n",
      "465450390315015001    False\n",
      "465453730315015000    False\n",
      "465458950015015000     True\n",
      "                      ...  \n",
      "630197735115015021    False\n",
      "630258041715015015    False\n",
      "631112815015015006    False\n",
      "631169604015015029    False\n",
      "631206951515015030    False\n",
      "631225841415015005    False\n",
      "631357332715015002    False\n",
      "631376551215015007    False\n",
      "632184102715015000    False\n",
      "632375995915015017    False\n",
      "632430401415015016    False\n",
      "632443814315015011    False\n",
      "633115786115015061    False\n",
      "633176643815015000    False\n",
      "634128490615015173    False\n",
      "634128491515015077    False\n",
      "634128961215015035    False\n",
      "634201505715015001    False\n",
      "634208225715015024    False\n",
      "634242331415015005    False\n",
      "634301892715015003    False\n",
      "634349022615015011    False\n",
      "634361621215015010    False\n",
      "634446145715015002    False\n",
      "634526681415015047    False\n",
      "635128560215015015    False\n",
      "636148120715015057    False\n",
      "636148582615015015    False\n",
      "636176033015015038    False\n",
      "636176490115015175    False\n",
      "Name: label, Length: 3190, dtype: bool\n",
      "460195930015015000     True\n",
      "465347930015015004     True\n",
      "465347930115015001     True\n",
      "465347930115015005     True\n",
      "465347930115015006     True\n",
      "465347930315015000     True\n",
      "465384220215015000     True\n",
      "465403700015015000     True\n",
      "465405110215015001     True\n",
      "465446590315015000     True\n",
      "465448960115015001     True\n",
      "465458950115015004     True\n",
      "465463110015015003     True\n",
      "465473830115015001     True\n",
      "465473830315015000     True\n",
      "465479540015015000     True\n",
      "465517620015015012     True\n",
      "465517620115015000     True\n",
      "465251810315015000     True\n",
      "465347930115015000     True\n",
      "465347930215015000     True\n",
      "465347930215015001     True\n",
      "465384220015015003     True\n",
      "465387540215015000     True\n",
      "465406080115015003     True\n",
      "465446590215015004     True\n",
      "465446590215015009     True\n",
      "465450390315015001     True\n",
      "465453730315015000     True\n",
      "465458950015015000    False\n",
      "                      ...  \n",
      "630197735115015021     True\n",
      "630258041715015015     True\n",
      "631112815015015006     True\n",
      "631169604015015029     True\n",
      "631206951515015030     True\n",
      "631225841415015005     True\n",
      "631357332715015002     True\n",
      "631376551215015007     True\n",
      "632184102715015000     True\n",
      "632375995915015017     True\n",
      "632430401415015016     True\n",
      "632443814315015011     True\n",
      "633115786115015061     True\n",
      "633176643815015000     True\n",
      "634128490615015173     True\n",
      "634128491515015077     True\n",
      "634128961215015035     True\n",
      "634201505715015001     True\n",
      "634208225715015024     True\n",
      "634242331415015005     True\n",
      "634301892715015003     True\n",
      "634349022615015011     True\n",
      "634361621215015010     True\n",
      "634446145715015002     True\n",
      "634526681415015047     True\n",
      "635128560215015015     True\n",
      "636148120715015057     True\n",
      "636148582615015015     True\n",
      "636176033015015038     True\n",
      "636176490115015175     True\n",
      "Name: label, Length: 3190, dtype: bool\n"
     ]
    }
   ],
   "source": [
    "# INSTRUCTION: How many real and bogus examples are in this labeled set\n",
    "# 0 is bogus 1 is real, this comes from the label coloum.\n",
    "\n",
    "bogus= feats_df[feats_df['label']==0]\n",
    "print(\"bogus=\",len(bogus))\n",
    "real= feats_df[feats_df['label']==1]\n",
    "print(\"real=\",len(real))\n",
    "\n",
    "real_mask = feats_df['label'] == 1\n",
    "bogus_mask = ~real_mask\n",
    "\n",
    "print(real_mask)\n",
    "print(bogus_mask)"
   ]
  },
  {
   "cell_type": "markdown",
   "metadata": {},
   "source": [
    "## 2. Plot Features\n",
    "\n",
    "Examine each individual feature. You may use the subroutine below, or code of your own devising. Note the features that are continuous vs categorial, and those that have outliers.  There are certain features that have sentinel values.  You may wish to view some features on a log scale.\n",
    "\n",
    "#### Question: Which features seem to have pathologies? Which features should we exclude?"
   ]
  },
  {
   "cell_type": "code",
   "execution_count": 13,
   "metadata": {
    "scrolled": true
   },
   "outputs": [
    {
     "data": {
      "image/png": "[encoded data removed]",
      "text/plain": [
       "<matplotlib.figure.Figure at 0x10eb86780>"
      ]
     },
     "metadata": {},
     "output_type": "display_data"
    }
   ],
   "source": [
    "# Histogram a Single Feature\n",
    "#\n",
    "def plot_rb_hists(df, colname, bins=100, xscale='linear', yscale='linear'):\n",
    "    mask_real = feats_df['label'] == 1\n",
    "    mask_bogus = ~mask_real\n",
    "    plt.hist(df[colname][mask_real], bins, color='b', alpha=0.5, normed=True)\n",
    "    plt.hist(df[colname][mask_bogus], bins, color='r', alpha=0.5, normed=True)\n",
    "    plt.xscale(xscale)\n",
    "    plt.yscale(yscale)\n",
    "    plt.title(colname)\n",
    "    plt.show()\n",
    "\n",
    "# INSTRUCTION: Plot the individual features.  \n",
    "plot_rb_hists(feats_df,\"diffmaglim\") \n",
    "\n",
    "# features with pathologies would have weird outliers?\n",
    "# plot_rb_hists(feats_df,\"chipsf\")\n",
    "# plot_rb_hists(feats_df,\"magap\")\n",
    "# plot_rb_hists(feats_df,\"sigmagap\")"
   ]
  },
  {
   "cell_type": "code",
   "execution_count": 14,
   "metadata": {},
   "outputs": [
    {
     "data": {
      "image/png": "[encoded data removed]",
      "text/plain": [
       "<matplotlib.figure.Figure at 0x1122fa2e8>"
      ]
     },
     "metadata": {},
     "output_type": "display_data"
    }
   ],
   "source": [
    "plot_rb_hists(feats_df,\"magpsf\")"
   ]
  },
  {
   "cell_type": "code",
   "execution_count": 15,
   "metadata": {},
   "outputs": [
    {
     "data": {
      "image/png": "[encoded data removed]",
      "text/plain": [
       "<matplotlib.figure.Figure at 0x112f7e8d0>"
      ]
     },
     "metadata": {},
     "output_type": "display_data"
    }
   ],
   "source": [
    "plot_rb_hists(feats_df,\"sigmapsf\")"
   ]
  },
  {
   "cell_type": "markdown",
   "metadata": {},
   "source": [
    "#### Answer: \n",
    "\n",
    "- 'nbad' and 'nneg' are discrete features\n",
    "- 'seeratio' has a sentinel value of -999\n",
    "- There are some features that have high ranges than others.  For classifiers that are sensitive to scaling, we will need to scale the data\n",
    "- There does not appear to be good separability between real and bogus on any individual features."
   ]
  },
  {
   "cell_type": "markdown",
   "metadata": {},
   "source": [
    "## 3. Curate a Test and Training Set\n",
    "\n",
    "We need to reserve some of our labeled data for evaluation. This means we must split up the labeled data we have into the set used for training (training set), and the set used for evaluation (test set). Ideally, the distribution of real and bogus examples in both the training and test sets are roughly identical. One can use sklearn.model_selection.train_test_split and use the stratify option.\n",
    "\n",
    "For ZTF data, we split the training and test data by date. That way repeat observations from the same night (which might be nearly identical) cannot be split into the training and test set, and artificially inflate test performance. Also, due to the change in survey objectives, it's possible that the test set features have drifted away from the training sets.\n",
    "\n",
    "Provided is nid.npy which contains the Night IDs for ZTF. Split on nid=550 (July 5, 2018). This should leave you with roughly 500 examples in your test set.\n"
   ]
  },
  {
   "cell_type": "code",
   "execution_count": 54,
   "metadata": {},
   "outputs": [
    {
     "name": "stdout",
     "output_type": "stream",
     "text": [
      "2586\n",
      "2586\n"
     ]
    }
   ],
   "source": [
    "feats_plus_label = np.array(feats_df)\n",
    "nids = meta_np['nid']\n",
    "\n",
    "# INSTRUCTION: nid.npy contains the nids for this labeled data.\n",
    "# Split the data into separate data structures for train/test data at nid=500.\n",
    "# Verify that you have at least 500 reals in your test set.\n",
    "test_set_ids = np.where(nids>550)[0]\n",
    "train_set_ids = np.where(nids<=550)[0]\n",
    "print(len(train_set_ids))\n",
    "\n",
    "\n",
    "nid_mask_train = nids <= 550\n",
    "nid_mask_test = ~nid_mask_train\n",
    "\n",
    "train_plus_label = feats_plus_label[nid_mask_train,:]\n",
    "test_plus_label = feats_plus_label[nid_mask_test,:]\n",
    "\n",
    "nreals_train = np.sum(train_plus_label[:,-1] == 1)\n",
    "nbogus_train = np.sum(train_plus_label[:,-1] == 0)\n",
    "nreals_test = np.sum(test_plus_label[:,-1] == 1)\n",
    "nbogus_test = np.sum(test_plus_label[:,-1] == 0)\n",
    "print(np.sum(nreals_train+nbogus_train))"
   ]
  },
  {
   "cell_type": "markdown",
   "metadata": {},
   "source": [
    "## 4. Train a Classifier\n",
    "\n",
    "#### Part 1: Separate Labels from the Features\n",
    "\n",
    "Now store the labels separately from the features.  "
   ]
  },
  {
   "cell_type": "code",
   "execution_count": 40,
   "metadata": {},
   "outputs": [
    {
     "name": "stdout",
     "output_type": "stream",
     "text": [
      "[ 0.  0.  0. ...,  1.  1.  1.]\n",
      "[[ 17.28185081  17.55156708   0.1656967  ...,   3.           5.\n",
      "    0.80935222]\n",
      " [ 20.32056999  20.80205345   0.19589421 ...,   3.           0.           1.        ]\n",
      " [ 20.42772484  20.92233276   0.200625   ...,   2.           0.           1.        ]\n",
      " ..., \n",
      " [ 20.15216446  16.65803528   0.0544863  ...,   3.           0.\n",
      "    0.98557377]\n",
      " [ 20.04430199  16.71076202   0.06362198 ...,   1.           0.           1.        ]\n",
      " [ 20.30524063  18.51434326   0.10477263 ...,   2.           0.           1.        ]]\n"
     ]
    }
   ],
   "source": [
    "# INSTRUCTION: Separate the labels from the features\n",
    "# feats_plus_label\n",
    "\n",
    "# test set \n",
    "feat_test_labels=feats_plus_label[test_set_ids].T[-1].T\n",
    "# print(feat_test_labels)\n",
    "feat_test_nolabels=feats_plus_label[test_set_ids].T[:-1].T\n",
    "# print(feat_test_nolabels)\n",
    "\n",
    "#training set\n",
    "feat_train_labels=feats_plus_label[train_set_ids].T[-1].T\n",
    "print(feat_train_labels)\n",
    "feat_train_nolabels=feats_plus_label[train_set_ids].T[:-1].T\n",
    "print(feat_train_nolabels)"
   ]
  },
  {
   "cell_type": "markdown",
   "metadata": {},
   "source": [
    "#### Part 2. Scaling Data\n",
    "\n",
    "With missing values handled, you're closing to training your classifiers.  However, because distance metrics can be sensitive to the scale of your data (e.g., some features span large numeric ranges, but others don't), it is important to normalize data within a standard range such as (0, 1) or with z-score normalization (scaling to unit mean and variance).  Fortunately, sklearn also makes this quite easy.  Please review sklearn's [preprocessing](http://scikit-learn.org/stable/modules/classes.html#module-sklearn.preprocessing) module options, specifically StandardScaler which corresponds to z-score normalization and MinMaxScaler.  Please implement one.  \n",
    "\n",
    "FYI - Neural networks and Support Vector Machines (SVM) are sensitive to the scale of the data.  Decision trees (and therefore Random Forests) are not (but it doesn't hurt to use scaled data)."
   ]
  },
  {
   "cell_type": "code",
   "execution_count": 41,
   "metadata": {
    "collapsed": true
   },
   "outputs": [],
   "source": [
    "# INSTRUCTION: Re-scale your data using either the MinMaxScaler or StandardScaler from sklearn\n",
    "#\n",
    "scaler= StandardScaler()\n",
    "scaler.fit(feat_train_nolabels)\n",
    "train_scaled=scaler.transform(feat_train_nolabels)\n",
    "test_scaled= scaler.transform(feat_test_nolabels)"
   ]
  },
  {
   "cell_type": "markdown",
   "metadata": {},
   "source": [
    "#### Part 3. Train Classifiers\n",
    "\n",
    "Import a few classifiers and build models on your training data.  Some suggestions include a [Support Vector Machine](http://scikit-learn.org/stable/modules/generated/sklearn.svm.SVC.html#sklearn.svm.SVC), [Random Forest](http://scikit-learn.org/stable/modules/generated/sklearn.ensemble.RandomForestClassifier.html#sklearn.ensemble.RandomForestClassifier), [Neural Net](http://scikit-learn.org/stable/modules/generated/sklearn.neural_network.MLPClassifier.html#sklearn.neural_network.MLPClassifier), [NaiveBayes](http://scikit-learn.org/stable/modules/generated/sklearn.naive_bayes.GaussianNB.html#sklearn.naive_bayes.GaussianNB) and [K-Nearest Neighbor](http://scikit-learn.org/stable/modules/generated/sklearn.neighbors.KNeighborsClassifier.html#sklearn.neighbors.KNeighborsClassifier).  "
   ]
  },
  {
   "cell_type": "code",
   "execution_count": 72,
   "metadata": {},
   "outputs": [],
   "source": [
    "from sklearn.neural_network import MLPClassifier\n",
    "from sklearn.neighbors import KNeighborsClassifier\n",
    "from sklearn.svm import SVC\n",
    "from sklearn.tree import DecisionTreeClassifier\n",
    "from sklearn.ensemble import RandomForestClassifier\n",
    "from sklearn.naive_bayes import GaussianNB\n",
    "\n",
    "knn3 = KNeighborsClassifier(3),\n",
    "svml = SVC(kernel=\"linear\", C=0.025, probability=True)\n",
    "svmr = SVC(gamma=2, C=1, probability=True)\n",
    "dtre = DecisionTreeClassifier()\n",
    "rafo = RandomForestClassifier(n_estimators=100)\n",
    "nnet = MLPClassifier(alpha=1)\n",
    "naiv = GaussianNB()\n",
    "\n",
    "# INSTRUCTION: Train at least three classifiers and run on your test data. Here's an example to get your started.  \n",
    "# \n",
    "\n",
    "# random forest\n",
    "rafo.fit(train_scaled, feat_train_labels)  \n",
    "rafo_scores = rafo.predict_proba(test_scaled)[:,1]\n",
    "rafo_predict =rafo.predict(test_scaled)\n",
    "\n",
    "# neural Net\n",
    "nnet.fit(train_scaled, feat_train_labels)\n",
    "nnet_scores = nnet.predict_proba(test_scaled)[:,1]\n",
    "nnet_predict =nnet.predict(test_scaled)\n",
    "\n",
    "# support vector machine regression\n",
    "svmr.fit(train_scaled, feat_train_labels)\n",
    "svmr_scores = svmr.predict_proba(test_scaled)[:,1]\n",
    "svmr_predict =svmr.predict(test_scaled)"
   ]
  },
  {
   "cell_type": "code",
   "execution_count": 76,
   "metadata": {},
   "outputs": [
    {
     "name": "stdout",
     "output_type": "stream",
     "text": [
      "Random Forest Scores\n",
      "acc_rafo: 0.726072607261\n",
      "AUC: 0.7278302979493232\n",
      "F1 Score: 0.7067137809187279\n",
      "MCC: 0.4528716138898582\n",
      "\n",
      "\n",
      "Neural Net Scores\n",
      "Accuracy: 0.6600660066006601\n",
      "AUC: 0.6669828908033932\n",
      "F1 Score: 0.6555183946488293\n",
      "MCC: 0.3330851170082362\n",
      "\n",
      "\n",
      "Support Vector Machine Regression Scores\n",
      "acc_svmr: 0.590759075908\n",
      "AUC: 0.5484098706054956\n",
      "F1 Score: 0.27058823529411763\n",
      "MCC: 0.14957153219653496\n"
     ]
    }
   ],
   "source": [
    "# INSTRUCTION: Print out the following metrics per classifier into a table: accuracy, auc, f1_score, etc.\n",
    "# \n",
    "from sklearn.metrics import accuracy_score, roc_auc_score, f1_score \n",
    "from sklearn.metrics import matthews_corrcoef as mcc\n",
    "print('Random Forest Scores')\n",
    "print('acc_rafo:',accuracy_score(feat_test_labels,rafo_predict))\n",
    "print(\"AUC: {}\".format(roc_auc_score(feat_test_labels,rafo_predict)))\n",
    "print(\"F1 Score: {}\".format(f1_score(feat_test_labels,rafo_predict)))\n",
    "print(\"MCC: {}\".format(mcc(feat_test_labels,rafo_predict)))\n",
    "print(\"\\n\")\n",
    "print(\"Neural Net Scores\")\n",
    "print('Accuracy: {}'.format(accuracy_score(feat_test_labels,nnet_predict)))\n",
    "print(\"AUC: {}\".format(roc_auc_score(feat_test_labels,nnet_predict)))\n",
    "print(\"F1 Score: {}\".format(f1_score(feat_test_labels,nnet_predict)))\n",
    "print(\"MCC: {}\".format(mcc(feat_test_labels,nnet_predict)))\n",
    "print(\"\\n\")\n",
    "print('Support Vector Machine Regression Scores')\n",
    "print('acc_svmr:',accuracy_score(feat_test_labels,svmr_predict))\n",
    "print(\"AUC: {}\".format(roc_auc_score(feat_test_labels,svmr_predict)))\n",
    "print(\"F1 Score: {}\".format(f1_score(feat_test_labels,svmr_predict)))\n",
    "print(\"MCC: {}\".format(mcc(feat_test_labels,svmr_predict)))"
   ]
  },
  {
   "cell_type": "markdown",
   "metadata": {},
   "source": [
    "#### Part 4. Plot Real and Bogus Score Distributions\n",
    "\n",
    "Another way to test performance is to plot a histogram of the test set RB scores, comparing the distributions of the labeled reals vs. boguses.  The scores of the reals should be close to 1, while the scores of the boguses should be closer to 0.  The more separated the distribution of scores, the better performing your classifier is.\n",
    "\n",
    "Compare the score distributions of the classifiers you've trained.  Trying displaying as a cumulative distribution rather than straight histogram.  \n",
    "\n",
    "*Optional:* What would the decision thresholds be at the  5% false negative rate (FNR)?  What would the decision threshold be at the 1% false positive rate?"
   ]
  },
  {
   "cell_type": "code",
   "execution_count": 78,
   "metadata": {},
   "outputs": [
    {
     "data": {
      "image/png": "[encoded data removed]",
      "text/plain": [
       "<matplotlib.figure.Figure at 0x112b98a20>"
      ]
     },
     "metadata": {},
     "output_type": "display_data"
    },
    {
     "data": {
      "image/png": "[encoded data removed]",
      "text/plain": [
       "<matplotlib.figure.Figure at 0x113006d68>"
      ]
     },
     "metadata": {},
     "output_type": "display_data"
    }
   ],
   "source": [
    "# INSTRUCTION: create masks for the real and bogus examples of the test set\n",
    "real_mask_test = feat_test_labels == 1\n",
    "bogus_mask_test = feat_test_labels == 0\n",
    "\n",
    "# INSTRUCTION: First compare the classifiers' scores on the test reals only\n",
    "#\n",
    "\n",
    "scores_list = [rafo_scores, nnet_scores, svmr_scores]\n",
    "legends = ['Random Forest', 'Neural Net', 'SVM-RBF'] \n",
    "colors = ['#FF1FE2', '#05FFEB', '#B24A0C'] \n",
    "rbbins = np.arange(0,1,0.001)\n",
    "\n",
    "# Comparison on real examples\n",
    "plt.figure()\n",
    "ax = plt.subplot(111)\n",
    "for i, scores in enumerate(scores_list):\n",
    "    ax.hist(scores[real_mask_test], rbbins, histtype='step', cumulative=True, normed=False, color=colors[i])\n",
    "ax.set_xlabel('RB Score')\n",
    "ax.set_ylabel('Count')\n",
    "ax.set_xbound(0, 1)\n",
    "ax.legend(legends, loc=4)\n",
    "plt.show()\n",
    "\n",
    "\n",
    "# Now perform the same comparison on bogus examples\n",
    "plt.figure()\n",
    "ax = plt.subplot(111)\n",
    "rbbins = np.arange(0,1,0.001)\n",
    "for i, scores in enumerate(scores_list):\n",
    "     ax.hist(scores[bogus_mask_test], rbbins, histtype='step', cumulative=True, normed=False, color=colors[i])\n",
    "ax.set_xlabel('RB Score')\n",
    "ax.set_ylabel('Count')\n",
    "ax.set_xbound(0, 1)\n",
    "ax.legend(legends, loc=4)\n",
    "plt.show()"
   ]
  },
  {
   "cell_type": "markdown",
   "metadata": {},
   "source": [
    "## Refining\n",
    "\n",
    "Now it's time to go back and start experimenting with different parameters.  If you have time, create a validation set and perform a Grid Search over a set of possible hyperparameters.  Compare different classifier results using the histograms above."
   ]
  }
 ],
 "metadata": {
  "kernelspec": {
   "display_name": "Python 3",
   "language": "python",
   "name": "python3"
  },
  "language_info": {
   "codemirror_mode": {
    "name": "ipython",
    "version": 3
   },
   "file_extension": ".py",
   "mimetype": "text/x-python",
   "name": "python",
   "nbconvert_exporter": "python",
   "pygments_lexer": "ipython3",
   "version": "3.6.2"
  }
 },
 "nbformat": 4,
 "nbformat_minor": 2
}
