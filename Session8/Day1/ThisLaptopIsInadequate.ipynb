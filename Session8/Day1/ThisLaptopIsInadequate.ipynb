{
 "cells": [
  {
   "cell_type": "code",
   "execution_count": 1,
   "metadata": {
    "collapsed": true,
    "slideshow": {
     "slide_type": "skip"
    }
   },
   "outputs": [],
   "source": [
    "import numpy as np\n",
    "import pandas as pd\n",
    "import matplotlib.pyplot as plt\n",
    "\n",
    "%matplotlib notebook"
   ]
  },
  {
   "cell_type": "markdown",
   "metadata": {
    "slideshow": {
     "slide_type": "slide"
    }
   },
   "source": [
    "# This Laptop Is Inadequate:\n",
    "# An Aperitif for DSFP Session 8\n",
    "\n",
    "**Version 0.1**\n",
    "\n",
    "By AA Miller 2019 Mar 24"
   ]
  },
  {
   "cell_type": "markdown",
   "metadata": {
    "slideshow": {
     "slide_type": "slide"
    }
   },
   "source": [
    "When I think about LSST there are a few numbers that always stick in my head: \n",
    "\n",
    "  -  37 billion (the total number of sources that will be detected by LSST)\n",
    "  -  10 (the number of years for the baseline survey)\n",
    "  -  1000 (~the number of observations per source)\n",
    "  -  37 trillion ($37 \\times 10^9 \\times 10^4$ = the total number of source observations)"
   ]
  },
  {
   "cell_type": "markdown",
   "metadata": {
    "slideshow": {
     "slide_type": "slide"
    }
   },
   "source": [
    "These numbers are *eye-popping*, though the truth is that there are now several astronomical databases that have $\\sim{10^9}$ sources (e.g., PanSTARRS-1, which we will hear more about later today). \n",
    "\n",
    "A pressing question, for current and future surveys, is: how are we going to deal with all that data?"
   ]
  },
  {
   "cell_type": "markdown",
   "metadata": {
    "slideshow": {
     "slide_type": "slide"
    }
   },
   "source": [
    "If you're anything like me - then, you love your laptop. \n",
    "\n",
    "And if you had it your way, you wouldn't need anything but your laptop... ever.\n",
    "\n",
    "But is that practical?"
   ]
  },
  {
   "cell_type": "markdown",
   "metadata": {
    "slideshow": {
     "slide_type": "slide"
    }
   },
   "source": [
    "## Problem 1) The Inadequacy of Laptops"
   ]
  },
  {
   "cell_type": "markdown",
   "metadata": {
    "slideshow": {
     "slide_type": "slide"
    }
   },
   "source": [
    "**Problem 1a**\n",
    "\n",
    "Suppose you could describe every source detected by LSST with a single number. Assuming you are on a computer with a 64 bit architecture, to within an order of magnitude, how much RAM would you need to store every LSST source within your laptop's memory?\n",
    "\n",
    "*Bonus question* - can you think of a single number to describe every source in LSST that could produce a meaningful science result?\n",
    "\n",
    "*Take a minute to discuss with your partner*"
   ]
  },
  {
   "cell_type": "markdown",
   "metadata": {
    "slideshow": {
     "slide_type": "slide"
    }
   },
   "source": [
    "**Solution 1a**\n"
   ]
  },
  {
   "cell_type": "markdown",
   "metadata": {
    "slideshow": {
     "slide_type": "slide"
    }
   },
   "source": [
    "As for a single number to perform useful science, I can think of two. \n",
    "\n",
    "First - you could generate a [heirarchical triangular mesh](http://www.skyserver.org/HTM/) with enough trixels to characterize every LSST resolution element on the night sky. Then you could assign a number to each trixel, and describe the position of every source in LSST with a single number. Under the assumption that every source detected by LSST is a galaxy, this is not a terrible assumption, you could look at the clustering of these positions to (potentially) learn things about structure formation or galaxy formation (though without redshifts you may not learn all that much).\n",
    "\n",
    "The other number is the flux (or magnitude) of every source in a single filter. Again, under the assumption that everything is a galaxy, the number counts (i.e. a histogram) of the flux measurements tells you a bit about the Universe. "
   ]
  },
  {
   "cell_type": "markdown",
   "metadata": {
    "slideshow": {
     "slide_type": "slide"
    }
   },
   "source": [
    "It probably isn't a shock that you won't be able to analyze every individual LSST source on your laptop."
   ]
  },
  {
   "cell_type": "markdown",
   "metadata": {
    "slideshow": {
     "slide_type": "subslide"
    }
   },
   "source": [
    "But that raises the question - how should you analyze LSST data?\n",
    "\n",
    "  -  By buying a large desktop?\n",
    "  -  On a local or national supercomputer?\n",
    "  -  In the cloud?\n",
    "  -  On computers that LSST hosts/maintains?"
   ]
  },
  {
   "cell_type": "markdown",
   "metadata": {
    "slideshow": {
     "slide_type": "subslide"
    }
   },
   "source": [
    "But that raises the question - how should you analyze LSST data?\n",
    "\n",
    "  -  By buying a large desktop? (impractical to ask of everyone working on LSST)\n",
    "  -  On a local supercomputer? (not a bad idea, but not necessarily equitable)\n",
    "  -  In the cloud? (AWS is expensive)\n",
    "  -  On computers that LSST hosts/maintains? (probably the most fair, but this also has challenges)"
   ]
  },
  {
   "cell_type": "markdown",
   "metadata": {
    "slideshow": {
     "slide_type": "subslide"
    }
   },
   "source": [
    "We will discuss some of these issues a bit later in the week..."
   ]
  },
  {
   "cell_type": "markdown",
   "metadata": {
    "slideshow": {
     "slide_type": "slide"
    }
   },
   "source": [
    "## Problem 2) Laptop or Not You Should Be Worried About the Data"
   ]
  },
  {
   "cell_type": "markdown",
   "metadata": {
    "slideshow": {
     "slide_type": "slide"
    }
   },
   "source": [
    "### Pop quiz\n",
    "\n",
    "We will now re-visit a question from a previous session:"
   ]
  },
  {
   "cell_type": "markdown",
   "metadata": {
    "slideshow": {
     "slide_type": "subslide"
    }
   },
   "source": [
    "**Problem 2a**\n",
    "\n",
    "What is data?\n",
    "\n",
    "*Take a minute to discuss with your partner*"
   ]
  },
  {
   "cell_type": "markdown",
   "metadata": {
    "slideshow": {
     "slide_type": "subslide"
    }
   },
   "source": [
    "**Solution 2a**\n",
    "\n"
   ]
  },
  {
   "cell_type": "markdown",
   "metadata": {
    "slideshow": {
     "slide_type": "subslide"
    }
   },
   "source": [
    "This leads to another question: \n",
    "\n",
    "Q - What is the defining property of a constant?"
   ]
  },
  {
   "cell_type": "markdown",
   "metadata": {
    "slideshow": {
     "slide_type": "subslide"
    }
   },
   "source": [
    "A - They don't change."
   ]
  },
  {
   "cell_type": "markdown",
   "metadata": {
    "slideshow": {
     "slide_type": "slide"
    }
   },
   "source": [
    "If data are constants, and constants don't change, then we should probably be sure that our data storage solutions do not alter the data in any way. "
   ]
  },
  {
   "cell_type": "markdown",
   "metadata": {
    "slideshow": {
     "slide_type": "subslide"
    }
   },
   "source": [
    "Within the data science community, the python [`pandas`](https://pandas.pydata.org/) package is particularly popular for reading, writing, and manipulating data (we will talk more about the utility of `pandas` later). \n",
    "\n",
    "The `pandas` docs state the `read_csv()` method is the [workhorse function for reading text files](http://pandas.pydata.org/pandas-docs/stable/user_guide/io.html#csv-text-files). Let's now take a look at how well this workhorse \"maintains the constant nature of data\". "
   ]
  },
  {
   "cell_type": "markdown",
   "metadata": {
    "slideshow": {
     "slide_type": "slide"
    }
   },
   "source": [
    "**Problem 2b**\n",
    "\n",
    "Create a `numpy` array, called `nums`, of length 10000 filled with random numbers. Create a `pandas` `Series` object, called `s`, based on that array, and then write the `Series` to a file called `tmp.txt` using the `to_csv()` method.\n",
    "\n",
    "*Hint* - you'll need to name the `Series` and add the `header=True` option to the `to_csv()` call."
   ]
  },
  {
   "cell_type": "code",
   "execution_count": 21,
   "metadata": {
    "slideshow": {
     "slide_type": "subslide"
    }
   },
   "outputs": [],
   "source": [
    "nums = np.random.rand(10000)\n",
    "s = pd.Series(nums, name='nums')\n",
    "# print(s)\n",
    "s.to_csv(\"tmp.txt\", index=False, header=0)"
   ]
  },
  {
   "cell_type": "markdown",
   "metadata": {
    "slideshow": {
     "slide_type": "slide"
    }
   },
   "source": [
    "**Problem 2c**\n",
    "\n",
    "Using the `pandas` `read_csv()` method, read in the data to a new variable, called `s_read`. Do you expect `s_read` and `nums` to be the same? Check whether or not your expectations are correct. \n",
    "\n",
    "*Hint* - take the sum of the difference not equal to zero to identify if any elements are not the same."
   ]
  },
  {
   "cell_type": "code",
   "execution_count": 14,
   "metadata": {
    "collapsed": true,
    "slideshow": {
     "slide_type": "subslide"
    }
   },
   "outputs": [],
   "source": [
    "s_read=pd.read_csv('tmp.txt', header=None)\n",
    "\n",
    "# complete"
   ]
  },
  {
   "cell_type": "markdown",
   "metadata": {
    "slideshow": {
     "slide_type": "subslide"
    }
   },
   "source": [
    "So, it turns out that $\\sim{23}\\%$ of the time, `pandas` does not in fact read in the same number that it wrote to disk.\n",
    "\n",
    "The truth is that these differences are quite small (see next slide), but there are many mathematical operations (e.g., subtraction of very similar numbers) that may lead these tiny differences to compound over time such that your data are not, in fact, constant."
   ]
  },
  {
   "cell_type": "code",
   "execution_count": 22,
   "metadata": {
    "slideshow": {
     "slide_type": "subslide"
    }
   },
   "outputs": [
    {
     "ename": "KeyError",
     "evalue": "'nums'",
     "output_type": "error",
     "traceback": [
      "\u001b[0;31m---------------------------------------------------------------------------\u001b[0m",
      "\u001b[0;31mTypeError\u001b[0m                                 Traceback (most recent call last)",
      "\u001b[0;32mpandas/_libs/index.pyx\u001b[0m in \u001b[0;36mpandas._libs.index.IndexEngine.get_loc\u001b[0;34m()\u001b[0m\n",
      "\u001b[0;32mpandas/_libs/hashtable_class_helper.pxi\u001b[0m in \u001b[0;36mpandas._libs.hashtable.Int64HashTable.get_item\u001b[0;34m()\u001b[0m\n",
      "\u001b[0;31mTypeError\u001b[0m: an integer is required",
      "\nDuring handling of the above exception, another exception occurred:\n",
      "\u001b[0;31mKeyError\u001b[0m                                  Traceback (most recent call last)",
      "\u001b[0;32m/anaconda/envs/DSFP/lib/python3.6/site-packages/pandas/core/indexes/base.py\u001b[0m in \u001b[0;36mget_loc\u001b[0;34m(self, key, method, tolerance)\u001b[0m\n\u001b[1;32m   3077\u001b[0m             \u001b[0;32mtry\u001b[0m\u001b[0;34m:\u001b[0m\u001b[0;34m\u001b[0m\u001b[0m\n\u001b[0;32m-> 3078\u001b[0;31m                 \u001b[0;32mreturn\u001b[0m \u001b[0mself\u001b[0m\u001b[0;34m.\u001b[0m\u001b[0m_engine\u001b[0m\u001b[0;34m.\u001b[0m\u001b[0mget_loc\u001b[0m\u001b[0;34m(\u001b[0m\u001b[0mkey\u001b[0m\u001b[0;34m)\u001b[0m\u001b[0;34m\u001b[0m\u001b[0m\n\u001b[0m\u001b[1;32m   3079\u001b[0m             \u001b[0;32mexcept\u001b[0m \u001b[0mKeyError\u001b[0m\u001b[0;34m:\u001b[0m\u001b[0;34m\u001b[0m\u001b[0m\n",
      "\u001b[0;32mpandas/_libs/index.pyx\u001b[0m in \u001b[0;36mpandas._libs.index.IndexEngine.get_loc\u001b[0;34m()\u001b[0m\n",
      "\u001b[0;32mpandas/_libs/index.pyx\u001b[0m in \u001b[0;36mpandas._libs.index.IndexEngine.get_loc\u001b[0;34m()\u001b[0m\n",
      "\u001b[0;31mKeyError\u001b[0m: 'nums'",
      "\nDuring handling of the above exception, another exception occurred:\n",
      "\u001b[0;31mTypeError\u001b[0m                                 Traceback (most recent call last)",
      "\u001b[0;32mpandas/_libs/index.pyx\u001b[0m in \u001b[0;36mpandas._libs.index.IndexEngine.get_loc\u001b[0;34m()\u001b[0m\n",
      "\u001b[0;32mpandas/_libs/hashtable_class_helper.pxi\u001b[0m in \u001b[0;36mpandas._libs.hashtable.Int64HashTable.get_item\u001b[0;34m()\u001b[0m\n",
      "\u001b[0;31mTypeError\u001b[0m: an integer is required",
      "\nDuring handling of the above exception, another exception occurred:\n",
      "\u001b[0;31mKeyError\u001b[0m                                  Traceback (most recent call last)",
      "\u001b[0;32m<ipython-input-22-d8ab224c8ccf>\u001b[0m in \u001b[0;36m<module>\u001b[0;34m()\u001b[0m\n\u001b[0;32m----> 1\u001b[0;31m \u001b[0mprint\u001b[0m\u001b[0;34m(\u001b[0m\u001b[0mnp\u001b[0m\u001b[0;34m.\u001b[0m\u001b[0mmax\u001b[0m\u001b[0;34m(\u001b[0m\u001b[0mnp\u001b[0m\u001b[0;34m.\u001b[0m\u001b[0mabs\u001b[0m\u001b[0;34m(\u001b[0m\u001b[0mnums\u001b[0m \u001b[0;34m-\u001b[0m \u001b[0ms_read\u001b[0m\u001b[0;34m[\u001b[0m\u001b[0;34m'nums'\u001b[0m\u001b[0;34m]\u001b[0m\u001b[0;34m.\u001b[0m\u001b[0mvalues\u001b[0m\u001b[0;34m)\u001b[0m\u001b[0;34m)\u001b[0m\u001b[0;34m)\u001b[0m\u001b[0;34m\u001b[0m\u001b[0m\n\u001b[0m\u001b[1;32m      2\u001b[0m \u001b[0;31m# print(np.max(np.abs(nums - s_read.values)))\u001b[0m\u001b[0;34m\u001b[0m\u001b[0;34m\u001b[0m\u001b[0m\n",
      "\u001b[0;32m/anaconda/envs/DSFP/lib/python3.6/site-packages/pandas/core/frame.py\u001b[0m in \u001b[0;36m__getitem__\u001b[0;34m(self, key)\u001b[0m\n\u001b[1;32m   2686\u001b[0m             \u001b[0;32mreturn\u001b[0m \u001b[0mself\u001b[0m\u001b[0;34m.\u001b[0m\u001b[0m_getitem_multilevel\u001b[0m\u001b[0;34m(\u001b[0m\u001b[0mkey\u001b[0m\u001b[0;34m)\u001b[0m\u001b[0;34m\u001b[0m\u001b[0m\n\u001b[1;32m   2687\u001b[0m         \u001b[0;32melse\u001b[0m\u001b[0;34m:\u001b[0m\u001b[0;34m\u001b[0m\u001b[0m\n\u001b[0;32m-> 2688\u001b[0;31m             \u001b[0;32mreturn\u001b[0m \u001b[0mself\u001b[0m\u001b[0;34m.\u001b[0m\u001b[0m_getitem_column\u001b[0m\u001b[0;34m(\u001b[0m\u001b[0mkey\u001b[0m\u001b[0;34m)\u001b[0m\u001b[0;34m\u001b[0m\u001b[0m\n\u001b[0m\u001b[1;32m   2689\u001b[0m \u001b[0;34m\u001b[0m\u001b[0m\n\u001b[1;32m   2690\u001b[0m     \u001b[0;32mdef\u001b[0m \u001b[0m_getitem_column\u001b[0m\u001b[0;34m(\u001b[0m\u001b[0mself\u001b[0m\u001b[0;34m,\u001b[0m \u001b[0mkey\u001b[0m\u001b[0;34m)\u001b[0m\u001b[0;34m:\u001b[0m\u001b[0;34m\u001b[0m\u001b[0m\n",
      "\u001b[0;32m/anaconda/envs/DSFP/lib/python3.6/site-packages/pandas/core/frame.py\u001b[0m in \u001b[0;36m_getitem_column\u001b[0;34m(self, key)\u001b[0m\n\u001b[1;32m   2693\u001b[0m         \u001b[0;31m# get column\u001b[0m\u001b[0;34m\u001b[0m\u001b[0;34m\u001b[0m\u001b[0m\n\u001b[1;32m   2694\u001b[0m         \u001b[0;32mif\u001b[0m \u001b[0mself\u001b[0m\u001b[0;34m.\u001b[0m\u001b[0mcolumns\u001b[0m\u001b[0;34m.\u001b[0m\u001b[0mis_unique\u001b[0m\u001b[0;34m:\u001b[0m\u001b[0;34m\u001b[0m\u001b[0m\n\u001b[0;32m-> 2695\u001b[0;31m             \u001b[0;32mreturn\u001b[0m \u001b[0mself\u001b[0m\u001b[0;34m.\u001b[0m\u001b[0m_get_item_cache\u001b[0m\u001b[0;34m(\u001b[0m\u001b[0mkey\u001b[0m\u001b[0;34m)\u001b[0m\u001b[0;34m\u001b[0m\u001b[0m\n\u001b[0m\u001b[1;32m   2696\u001b[0m \u001b[0;34m\u001b[0m\u001b[0m\n\u001b[1;32m   2697\u001b[0m         \u001b[0;31m# duplicate columns & possible reduce dimensionality\u001b[0m\u001b[0;34m\u001b[0m\u001b[0;34m\u001b[0m\u001b[0m\n",
      "\u001b[0;32m/anaconda/envs/DSFP/lib/python3.6/site-packages/pandas/core/generic.py\u001b[0m in \u001b[0;36m_get_item_cache\u001b[0;34m(self, item)\u001b[0m\n\u001b[1;32m   2487\u001b[0m         \u001b[0mres\u001b[0m \u001b[0;34m=\u001b[0m \u001b[0mcache\u001b[0m\u001b[0;34m.\u001b[0m\u001b[0mget\u001b[0m\u001b[0;34m(\u001b[0m\u001b[0mitem\u001b[0m\u001b[0;34m)\u001b[0m\u001b[0;34m\u001b[0m\u001b[0m\n\u001b[1;32m   2488\u001b[0m         \u001b[0;32mif\u001b[0m \u001b[0mres\u001b[0m \u001b[0;32mis\u001b[0m \u001b[0;32mNone\u001b[0m\u001b[0;34m:\u001b[0m\u001b[0;34m\u001b[0m\u001b[0m\n\u001b[0;32m-> 2489\u001b[0;31m             \u001b[0mvalues\u001b[0m \u001b[0;34m=\u001b[0m \u001b[0mself\u001b[0m\u001b[0;34m.\u001b[0m\u001b[0m_data\u001b[0m\u001b[0;34m.\u001b[0m\u001b[0mget\u001b[0m\u001b[0;34m(\u001b[0m\u001b[0mitem\u001b[0m\u001b[0;34m)\u001b[0m\u001b[0;34m\u001b[0m\u001b[0m\n\u001b[0m\u001b[1;32m   2490\u001b[0m             \u001b[0mres\u001b[0m \u001b[0;34m=\u001b[0m \u001b[0mself\u001b[0m\u001b[0;34m.\u001b[0m\u001b[0m_box_item_values\u001b[0m\u001b[0;34m(\u001b[0m\u001b[0mitem\u001b[0m\u001b[0;34m,\u001b[0m \u001b[0mvalues\u001b[0m\u001b[0;34m)\u001b[0m\u001b[0;34m\u001b[0m\u001b[0m\n\u001b[1;32m   2491\u001b[0m             \u001b[0mcache\u001b[0m\u001b[0;34m[\u001b[0m\u001b[0mitem\u001b[0m\u001b[0;34m]\u001b[0m \u001b[0;34m=\u001b[0m \u001b[0mres\u001b[0m\u001b[0;34m\u001b[0m\u001b[0m\n",
      "\u001b[0;32m/anaconda/envs/DSFP/lib/python3.6/site-packages/pandas/core/internals.py\u001b[0m in \u001b[0;36mget\u001b[0;34m(self, item, fastpath)\u001b[0m\n\u001b[1;32m   4113\u001b[0m \u001b[0;34m\u001b[0m\u001b[0m\n\u001b[1;32m   4114\u001b[0m             \u001b[0;32mif\u001b[0m \u001b[0;32mnot\u001b[0m \u001b[0misna\u001b[0m\u001b[0;34m(\u001b[0m\u001b[0mitem\u001b[0m\u001b[0;34m)\u001b[0m\u001b[0;34m:\u001b[0m\u001b[0;34m\u001b[0m\u001b[0m\n\u001b[0;32m-> 4115\u001b[0;31m                 \u001b[0mloc\u001b[0m \u001b[0;34m=\u001b[0m \u001b[0mself\u001b[0m\u001b[0;34m.\u001b[0m\u001b[0mitems\u001b[0m\u001b[0;34m.\u001b[0m\u001b[0mget_loc\u001b[0m\u001b[0;34m(\u001b[0m\u001b[0mitem\u001b[0m\u001b[0;34m)\u001b[0m\u001b[0;34m\u001b[0m\u001b[0m\n\u001b[0m\u001b[1;32m   4116\u001b[0m             \u001b[0;32melse\u001b[0m\u001b[0;34m:\u001b[0m\u001b[0;34m\u001b[0m\u001b[0m\n\u001b[1;32m   4117\u001b[0m                 \u001b[0mindexer\u001b[0m \u001b[0;34m=\u001b[0m \u001b[0mnp\u001b[0m\u001b[0;34m.\u001b[0m\u001b[0marange\u001b[0m\u001b[0;34m(\u001b[0m\u001b[0mlen\u001b[0m\u001b[0;34m(\u001b[0m\u001b[0mself\u001b[0m\u001b[0;34m.\u001b[0m\u001b[0mitems\u001b[0m\u001b[0;34m)\u001b[0m\u001b[0;34m)\u001b[0m\u001b[0;34m[\u001b[0m\u001b[0misna\u001b[0m\u001b[0;34m(\u001b[0m\u001b[0mself\u001b[0m\u001b[0;34m.\u001b[0m\u001b[0mitems\u001b[0m\u001b[0;34m)\u001b[0m\u001b[0;34m]\u001b[0m\u001b[0;34m\u001b[0m\u001b[0m\n",
      "\u001b[0;32m/anaconda/envs/DSFP/lib/python3.6/site-packages/pandas/core/indexes/base.py\u001b[0m in \u001b[0;36mget_loc\u001b[0;34m(self, key, method, tolerance)\u001b[0m\n\u001b[1;32m   3078\u001b[0m                 \u001b[0;32mreturn\u001b[0m \u001b[0mself\u001b[0m\u001b[0;34m.\u001b[0m\u001b[0m_engine\u001b[0m\u001b[0;34m.\u001b[0m\u001b[0mget_loc\u001b[0m\u001b[0;34m(\u001b[0m\u001b[0mkey\u001b[0m\u001b[0;34m)\u001b[0m\u001b[0;34m\u001b[0m\u001b[0m\n\u001b[1;32m   3079\u001b[0m             \u001b[0;32mexcept\u001b[0m \u001b[0mKeyError\u001b[0m\u001b[0;34m:\u001b[0m\u001b[0;34m\u001b[0m\u001b[0m\n\u001b[0;32m-> 3080\u001b[0;31m                 \u001b[0;32mreturn\u001b[0m \u001b[0mself\u001b[0m\u001b[0;34m.\u001b[0m\u001b[0m_engine\u001b[0m\u001b[0;34m.\u001b[0m\u001b[0mget_loc\u001b[0m\u001b[0;34m(\u001b[0m\u001b[0mself\u001b[0m\u001b[0;34m.\u001b[0m\u001b[0m_maybe_cast_indexer\u001b[0m\u001b[0;34m(\u001b[0m\u001b[0mkey\u001b[0m\u001b[0;34m)\u001b[0m\u001b[0;34m)\u001b[0m\u001b[0;34m\u001b[0m\u001b[0m\n\u001b[0m\u001b[1;32m   3081\u001b[0m \u001b[0;34m\u001b[0m\u001b[0m\n\u001b[1;32m   3082\u001b[0m         \u001b[0mindexer\u001b[0m \u001b[0;34m=\u001b[0m \u001b[0mself\u001b[0m\u001b[0;34m.\u001b[0m\u001b[0mget_indexer\u001b[0m\u001b[0;34m(\u001b[0m\u001b[0;34m[\u001b[0m\u001b[0mkey\u001b[0m\u001b[0;34m]\u001b[0m\u001b[0;34m,\u001b[0m \u001b[0mmethod\u001b[0m\u001b[0;34m=\u001b[0m\u001b[0mmethod\u001b[0m\u001b[0;34m,\u001b[0m \u001b[0mtolerance\u001b[0m\u001b[0;34m=\u001b[0m\u001b[0mtolerance\u001b[0m\u001b[0;34m)\u001b[0m\u001b[0;34m\u001b[0m\u001b[0m\n",
      "\u001b[0;32mpandas/_libs/index.pyx\u001b[0m in \u001b[0;36mpandas._libs.index.IndexEngine.get_loc\u001b[0;34m()\u001b[0m\n",
      "\u001b[0;32mpandas/_libs/index.pyx\u001b[0m in \u001b[0;36mpandas._libs.index.IndexEngine.get_loc\u001b[0;34m()\u001b[0m\n",
      "\u001b[0;31mKeyError\u001b[0m: 'nums'"
     ]
    }
   ],
   "source": [
    "print(np.max(np.abs(nums - s_read['nums'].values)))\n",
    "# print(np.max(np.abs(nums - s_read.values)))"
   ]
  },
  {
   "cell_type": "markdown",
   "metadata": {
    "slideshow": {
     "slide_type": "slide"
    }
   },
   "source": [
    "So, what is going on?\n",
    "\n",
    "Sometimes, when you convert a number to ASCII (i.e. text) format, there is some precision that is lost in that conversion. "
   ]
  },
  {
   "cell_type": "markdown",
   "metadata": {
    "slideshow": {
     "slide_type": "subslide"
    }
   },
   "source": [
    "How do you avoid this?\n",
    "\n",
    "One way is to directly write your files in binary. To do so has serveral advantages: it is possible to reproduce byte level accuracy, and, binary storage is almost always more efficient than text storage (the same number can be written in binary with less space than in ascii). "
   ]
  },
  {
   "cell_type": "markdown",
   "metadata": {
    "slideshow": {
     "slide_type": "subslide"
    }
   },
   "source": [
    "The downside is that developing your own procedure to write data in binary is a pain, and it places strong constraints on where and how you can interact with the data once it has been written to disk. \n",
    "\n",
    "Fortuantely, we live in a world with `pandas`. All this hard work has been done for you, as `pandas` naturally interfaces with the [`hdf5`](https://www.hdfgroup.org/solutions/hdf5/) binary table format. (You may want to also take a look at [`pyTables`](https://www.pytables.org/))\n",
    "\n",
    "(Historically astronomers have used [FITS](https://fits.gsfc.nasa.gov/fits_primer.html) files as a binary storage solution) "
   ]
  },
  {
   "cell_type": "markdown",
   "metadata": {
    "slideshow": {
     "slide_type": "slide"
    }
   },
   "source": [
    "**Problem 2d**\n",
    "\n",
    "Repeat your procedure from above, but instead of writing to a csv file, use the `pandas` `to_hdf()` and `read_df()` method to see if there are any differences in `s` and `s_read`.  \n",
    "\n",
    "*Hint* - You will need to specify a name for the table that you have written to the `hdf5` file in the call to `to_hdf()` as a required argument. Any string will do.\n",
    "\n",
    "*Hint 2* - Use `s_read.values` instead of `s_read['nums'].values`."
   ]
  },
  {
   "cell_type": "code",
   "execution_count": 8,
   "metadata": {
    "slideshow": {
     "slide_type": "subslide"
    }
   },
   "outputs": [
    {
     "ename": "ImportError",
     "evalue": "HDFStore requires PyTables, \"No module named 'tables'\" problem importing",
     "output_type": "error",
     "traceback": [
      "\u001b[0;31m---------------------------------------------------------------------------\u001b[0m",
      "\u001b[0;31mModuleNotFoundError\u001b[0m                       Traceback (most recent call last)",
      "\u001b[0;32m/anaconda/envs/DSFP/lib/python3.6/site-packages/pandas/io/pytables.py\u001b[0m in \u001b[0;36m__init__\u001b[0;34m(self, path, mode, complevel, complib, fletcher32, **kwargs)\u001b[0m\n\u001b[1;32m    468\u001b[0m         \u001b[0;32mtry\u001b[0m\u001b[0;34m:\u001b[0m\u001b[0;34m\u001b[0m\u001b[0m\n\u001b[0;32m--> 469\u001b[0;31m             \u001b[0;32mimport\u001b[0m \u001b[0mtables\u001b[0m  \u001b[0;31m# noqa\u001b[0m\u001b[0;34m\u001b[0m\u001b[0m\n\u001b[0m\u001b[1;32m    470\u001b[0m         \u001b[0;32mexcept\u001b[0m \u001b[0mImportError\u001b[0m \u001b[0;32mas\u001b[0m \u001b[0mex\u001b[0m\u001b[0;34m:\u001b[0m  \u001b[0;31m# pragma: no cover\u001b[0m\u001b[0;34m\u001b[0m\u001b[0m\n",
      "\u001b[0;31mModuleNotFoundError\u001b[0m: No module named 'tables'",
      "\nDuring handling of the above exception, another exception occurred:\n",
      "\u001b[0;31mImportError\u001b[0m                               Traceback (most recent call last)",
      "\u001b[0;32m<ipython-input-8-50ef5377d764>\u001b[0m in \u001b[0;36m<module>\u001b[0;34m()\u001b[0m\n\u001b[0;32m----> 1\u001b[0;31m \u001b[0ms\u001b[0m\u001b[0;34m.\u001b[0m\u001b[0mto_hdf\u001b[0m\u001b[0;34m(\u001b[0m\u001b[0;34m'tmp.h5'\u001b[0m\u001b[0;34m,\u001b[0m \u001b[0;34m's'\u001b[0m\u001b[0;34m,\u001b[0m \u001b[0mheader\u001b[0m\u001b[0;34m=\u001b[0m\u001b[0;32mTrue\u001b[0m\u001b[0;34m)\u001b[0m\u001b[0;34m\u001b[0m\u001b[0m\n\u001b[0m\u001b[1;32m      2\u001b[0m \u001b[0ms_read\u001b[0m \u001b[0;34m=\u001b[0m \u001b[0mpd\u001b[0m\u001b[0;34m.\u001b[0m\u001b[0mread_hdf\u001b[0m\u001b[0;34m(\u001b[0m\u001b[0;34m'tmp.h5'\u001b[0m\u001b[0;34m,\u001b[0m \u001b[0;34m's'\u001b[0m\u001b[0;34m)\u001b[0m\u001b[0;34m\u001b[0m\u001b[0m\n\u001b[1;32m      3\u001b[0m \u001b[0;34m\u001b[0m\u001b[0m\n\u001b[1;32m      4\u001b[0m \u001b[0msum\u001b[0m\u001b[0;34m(\u001b[0m\u001b[0mnums\u001b[0m\u001b[0;34m-\u001b[0m\u001b[0ms_read\u001b[0m\u001b[0;34m.\u001b[0m\u001b[0mvales\u001b[0m \u001b[0;34m!=\u001b[0m\u001b[0;36m0\u001b[0m\u001b[0;34m)\u001b[0m\u001b[0;34m\u001b[0m\u001b[0m\n",
      "\u001b[0;32m/anaconda/envs/DSFP/lib/python3.6/site-packages/pandas/core/generic.py\u001b[0m in \u001b[0;36mto_hdf\u001b[0;34m(self, path_or_buf, key, **kwargs)\u001b[0m\n\u001b[1;32m   1994\u001b[0m         \"\"\"\n\u001b[1;32m   1995\u001b[0m         \u001b[0;32mfrom\u001b[0m \u001b[0mpandas\u001b[0m\u001b[0;34m.\u001b[0m\u001b[0mio\u001b[0m \u001b[0;32mimport\u001b[0m \u001b[0mpytables\u001b[0m\u001b[0;34m\u001b[0m\u001b[0m\n\u001b[0;32m-> 1996\u001b[0;31m         \u001b[0;32mreturn\u001b[0m \u001b[0mpytables\u001b[0m\u001b[0;34m.\u001b[0m\u001b[0mto_hdf\u001b[0m\u001b[0;34m(\u001b[0m\u001b[0mpath_or_buf\u001b[0m\u001b[0;34m,\u001b[0m \u001b[0mkey\u001b[0m\u001b[0;34m,\u001b[0m \u001b[0mself\u001b[0m\u001b[0;34m,\u001b[0m \u001b[0;34m**\u001b[0m\u001b[0mkwargs\u001b[0m\u001b[0;34m)\u001b[0m\u001b[0;34m\u001b[0m\u001b[0m\n\u001b[0m\u001b[1;32m   1997\u001b[0m \u001b[0;34m\u001b[0m\u001b[0m\n\u001b[1;32m   1998\u001b[0m     \u001b[0;32mdef\u001b[0m \u001b[0mto_msgpack\u001b[0m\u001b[0;34m(\u001b[0m\u001b[0mself\u001b[0m\u001b[0;34m,\u001b[0m \u001b[0mpath_or_buf\u001b[0m\u001b[0;34m=\u001b[0m\u001b[0;32mNone\u001b[0m\u001b[0;34m,\u001b[0m \u001b[0mencoding\u001b[0m\u001b[0;34m=\u001b[0m\u001b[0;34m'utf-8'\u001b[0m\u001b[0;34m,\u001b[0m \u001b[0;34m**\u001b[0m\u001b[0mkwargs\u001b[0m\u001b[0;34m)\u001b[0m\u001b[0;34m:\u001b[0m\u001b[0;34m\u001b[0m\u001b[0m\n",
      "\u001b[0;32m/anaconda/envs/DSFP/lib/python3.6/site-packages/pandas/io/pytables.py\u001b[0m in \u001b[0;36mto_hdf\u001b[0;34m(path_or_buf, key, value, mode, complevel, complib, append, **kwargs)\u001b[0m\n\u001b[1;32m    276\u001b[0m     \u001b[0;32mif\u001b[0m \u001b[0misinstance\u001b[0m\u001b[0;34m(\u001b[0m\u001b[0mpath_or_buf\u001b[0m\u001b[0;34m,\u001b[0m \u001b[0mstring_types\u001b[0m\u001b[0;34m)\u001b[0m\u001b[0;34m:\u001b[0m\u001b[0;34m\u001b[0m\u001b[0m\n\u001b[1;32m    277\u001b[0m         with HDFStore(path_or_buf, mode=mode, complevel=complevel,\n\u001b[0;32m--> 278\u001b[0;31m                       complib=complib) as store:\n\u001b[0m\u001b[1;32m    279\u001b[0m             \u001b[0mf\u001b[0m\u001b[0;34m(\u001b[0m\u001b[0mstore\u001b[0m\u001b[0;34m)\u001b[0m\u001b[0;34m\u001b[0m\u001b[0m\n\u001b[1;32m    280\u001b[0m     \u001b[0;32melse\u001b[0m\u001b[0;34m:\u001b[0m\u001b[0;34m\u001b[0m\u001b[0m\n",
      "\u001b[0;32m/anaconda/envs/DSFP/lib/python3.6/site-packages/pandas/io/pytables.py\u001b[0m in \u001b[0;36m__init__\u001b[0;34m(self, path, mode, complevel, complib, fletcher32, **kwargs)\u001b[0m\n\u001b[1;32m    470\u001b[0m         \u001b[0;32mexcept\u001b[0m \u001b[0mImportError\u001b[0m \u001b[0;32mas\u001b[0m \u001b[0mex\u001b[0m\u001b[0;34m:\u001b[0m  \u001b[0;31m# pragma: no cover\u001b[0m\u001b[0;34m\u001b[0m\u001b[0m\n\u001b[1;32m    471\u001b[0m             raise ImportError('HDFStore requires PyTables, \"{ex}\" problem '\n\u001b[0;32m--> 472\u001b[0;31m                               'importing'.format(ex=str(ex)))\n\u001b[0m\u001b[1;32m    473\u001b[0m \u001b[0;34m\u001b[0m\u001b[0m\n\u001b[1;32m    474\u001b[0m         \u001b[0;32mif\u001b[0m \u001b[0mcomplib\u001b[0m \u001b[0;32mis\u001b[0m \u001b[0;32mnot\u001b[0m \u001b[0;32mNone\u001b[0m \u001b[0;32mand\u001b[0m \u001b[0mcomplib\u001b[0m \u001b[0;32mnot\u001b[0m \u001b[0;32min\u001b[0m \u001b[0mtables\u001b[0m\u001b[0;34m.\u001b[0m\u001b[0mfilters\u001b[0m\u001b[0;34m.\u001b[0m\u001b[0mall_complibs\u001b[0m\u001b[0;34m:\u001b[0m\u001b[0;34m\u001b[0m\u001b[0m\n",
      "\u001b[0;31mImportError\u001b[0m: HDFStore requires PyTables, \"No module named 'tables'\" problem importing"
     ]
    }
   ],
   "source": [
    "s.to_hdf('tmp.h5', 's', header=True)\n",
    "s_read = pd.read_hdf('tmp.h5', 's')\n",
    "\n",
    "sum(nums-s_read.vales !=0)"
   ]
  },
  {
   "cell_type": "markdown",
   "metadata": {
    "slideshow": {
     "slide_type": "slide"
    }
   },
   "source": [
    "So, if you are using `pandas` anyway, and if you aren't using `pandas` –– check it out!, then I strongly suggest removing csv files from your workflow to instead focus on binary hdf5 files. This requires typing the same number of characters, but it ensures byte level reproducibility.  \n",
    "\n",
    "And reproducibiliy is the pillar upon which the scientific method is built. "
   ]
  },
  {
   "cell_type": "markdown",
   "metadata": {
    "slideshow": {
     "slide_type": "subslide"
    }
   },
   "source": [
    "Is that the end of the story? ... No.\n",
    "\n",
    "In the previous example, I was being a little tricky in order to make a point. It *is* in fact possible to create reproducible csv files with `pandas`. By default, `pandas` sacrifices a little bit of precision in order to gain a lot more speed. If you want to ensure reproducibility then you can specify that the `float_precision` should be `round_trip`, meaning you get the same thing back after reading from a file that you wrote to disk. "
   ]
  },
  {
   "cell_type": "code",
   "execution_count": 9,
   "metadata": {
    "slideshow": {
     "slide_type": "subslide"
    }
   },
   "outputs": [
    {
     "ename": "KeyError",
     "evalue": "'nums'",
     "output_type": "error",
     "traceback": [
      "\u001b[0;31m---------------------------------------------------------------------------\u001b[0m",
      "\u001b[0;31mKeyError\u001b[0m                                  Traceback (most recent call last)",
      "\u001b[0;32m/anaconda/envs/DSFP/lib/python3.6/site-packages/pandas/core/indexes/base.py\u001b[0m in \u001b[0;36mget_loc\u001b[0;34m(self, key, method, tolerance)\u001b[0m\n\u001b[1;32m   3077\u001b[0m             \u001b[0;32mtry\u001b[0m\u001b[0;34m:\u001b[0m\u001b[0;34m\u001b[0m\u001b[0m\n\u001b[0;32m-> 3078\u001b[0;31m                 \u001b[0;32mreturn\u001b[0m \u001b[0mself\u001b[0m\u001b[0;34m.\u001b[0m\u001b[0m_engine\u001b[0m\u001b[0;34m.\u001b[0m\u001b[0mget_loc\u001b[0m\u001b[0;34m(\u001b[0m\u001b[0mkey\u001b[0m\u001b[0;34m)\u001b[0m\u001b[0;34m\u001b[0m\u001b[0m\n\u001b[0m\u001b[1;32m   3079\u001b[0m             \u001b[0;32mexcept\u001b[0m \u001b[0mKeyError\u001b[0m\u001b[0;34m:\u001b[0m\u001b[0;34m\u001b[0m\u001b[0m\n",
      "\u001b[0;32mpandas/_libs/index.pyx\u001b[0m in \u001b[0;36mpandas._libs.index.IndexEngine.get_loc\u001b[0;34m()\u001b[0m\n",
      "\u001b[0;32mpandas/_libs/index.pyx\u001b[0m in \u001b[0;36mpandas._libs.index.IndexEngine.get_loc\u001b[0;34m()\u001b[0m\n",
      "\u001b[0;32mpandas/_libs/hashtable_class_helper.pxi\u001b[0m in \u001b[0;36mpandas._libs.hashtable.PyObjectHashTable.get_item\u001b[0;34m()\u001b[0m\n",
      "\u001b[0;32mpandas/_libs/hashtable_class_helper.pxi\u001b[0m in \u001b[0;36mpandas._libs.hashtable.PyObjectHashTable.get_item\u001b[0;34m()\u001b[0m\n",
      "\u001b[0;31mKeyError\u001b[0m: 'nums'",
      "\nDuring handling of the above exception, another exception occurred:\n",
      "\u001b[0;31mKeyError\u001b[0m                                  Traceback (most recent call last)",
      "\u001b[0;32m<ipython-input-9-1af40861dcc6>\u001b[0m in \u001b[0;36m<module>\u001b[0;34m()\u001b[0m\n\u001b[1;32m      3\u001b[0m \u001b[0ms_read\u001b[0m \u001b[0;34m=\u001b[0m \u001b[0mpd\u001b[0m\u001b[0;34m.\u001b[0m\u001b[0mread_csv\u001b[0m\u001b[0;34m(\u001b[0m\u001b[0;34m'tmp.txt'\u001b[0m\u001b[0;34m,\u001b[0m \u001b[0mfloat_precision\u001b[0m\u001b[0;34m=\u001b[0m\u001b[0;34m'round_trip'\u001b[0m\u001b[0;34m)\u001b[0m\u001b[0;34m\u001b[0m\u001b[0m\n\u001b[1;32m      4\u001b[0m \u001b[0;34m\u001b[0m\u001b[0m\n\u001b[0;32m----> 5\u001b[0;31m \u001b[0msum\u001b[0m\u001b[0;34m(\u001b[0m\u001b[0mnums\u001b[0m \u001b[0;34m-\u001b[0m \u001b[0ms_read\u001b[0m\u001b[0;34m[\u001b[0m\u001b[0;34m'nums'\u001b[0m\u001b[0;34m]\u001b[0m\u001b[0;34m.\u001b[0m\u001b[0mvalues\u001b[0m \u001b[0;34m!=\u001b[0m \u001b[0;36m0\u001b[0m\u001b[0;34m)\u001b[0m\u001b[0;34m\u001b[0m\u001b[0m\n\u001b[0m",
      "\u001b[0;32m/anaconda/envs/DSFP/lib/python3.6/site-packages/pandas/core/frame.py\u001b[0m in \u001b[0;36m__getitem__\u001b[0;34m(self, key)\u001b[0m\n\u001b[1;32m   2686\u001b[0m             \u001b[0;32mreturn\u001b[0m \u001b[0mself\u001b[0m\u001b[0;34m.\u001b[0m\u001b[0m_getitem_multilevel\u001b[0m\u001b[0;34m(\u001b[0m\u001b[0mkey\u001b[0m\u001b[0;34m)\u001b[0m\u001b[0;34m\u001b[0m\u001b[0m\n\u001b[1;32m   2687\u001b[0m         \u001b[0;32melse\u001b[0m\u001b[0;34m:\u001b[0m\u001b[0;34m\u001b[0m\u001b[0m\n\u001b[0;32m-> 2688\u001b[0;31m             \u001b[0;32mreturn\u001b[0m \u001b[0mself\u001b[0m\u001b[0;34m.\u001b[0m\u001b[0m_getitem_column\u001b[0m\u001b[0;34m(\u001b[0m\u001b[0mkey\u001b[0m\u001b[0;34m)\u001b[0m\u001b[0;34m\u001b[0m\u001b[0m\n\u001b[0m\u001b[1;32m   2689\u001b[0m \u001b[0;34m\u001b[0m\u001b[0m\n\u001b[1;32m   2690\u001b[0m     \u001b[0;32mdef\u001b[0m \u001b[0m_getitem_column\u001b[0m\u001b[0;34m(\u001b[0m\u001b[0mself\u001b[0m\u001b[0;34m,\u001b[0m \u001b[0mkey\u001b[0m\u001b[0;34m)\u001b[0m\u001b[0;34m:\u001b[0m\u001b[0;34m\u001b[0m\u001b[0m\n",
      "\u001b[0;32m/anaconda/envs/DSFP/lib/python3.6/site-packages/pandas/core/frame.py\u001b[0m in \u001b[0;36m_getitem_column\u001b[0;34m(self, key)\u001b[0m\n\u001b[1;32m   2693\u001b[0m         \u001b[0;31m# get column\u001b[0m\u001b[0;34m\u001b[0m\u001b[0;34m\u001b[0m\u001b[0m\n\u001b[1;32m   2694\u001b[0m         \u001b[0;32mif\u001b[0m \u001b[0mself\u001b[0m\u001b[0;34m.\u001b[0m\u001b[0mcolumns\u001b[0m\u001b[0;34m.\u001b[0m\u001b[0mis_unique\u001b[0m\u001b[0;34m:\u001b[0m\u001b[0;34m\u001b[0m\u001b[0m\n\u001b[0;32m-> 2695\u001b[0;31m             \u001b[0;32mreturn\u001b[0m \u001b[0mself\u001b[0m\u001b[0;34m.\u001b[0m\u001b[0m_get_item_cache\u001b[0m\u001b[0;34m(\u001b[0m\u001b[0mkey\u001b[0m\u001b[0;34m)\u001b[0m\u001b[0;34m\u001b[0m\u001b[0m\n\u001b[0m\u001b[1;32m   2696\u001b[0m \u001b[0;34m\u001b[0m\u001b[0m\n\u001b[1;32m   2697\u001b[0m         \u001b[0;31m# duplicate columns & possible reduce dimensionality\u001b[0m\u001b[0;34m\u001b[0m\u001b[0;34m\u001b[0m\u001b[0m\n",
      "\u001b[0;32m/anaconda/envs/DSFP/lib/python3.6/site-packages/pandas/core/generic.py\u001b[0m in \u001b[0;36m_get_item_cache\u001b[0;34m(self, item)\u001b[0m\n\u001b[1;32m   2487\u001b[0m         \u001b[0mres\u001b[0m \u001b[0;34m=\u001b[0m \u001b[0mcache\u001b[0m\u001b[0;34m.\u001b[0m\u001b[0mget\u001b[0m\u001b[0;34m(\u001b[0m\u001b[0mitem\u001b[0m\u001b[0;34m)\u001b[0m\u001b[0;34m\u001b[0m\u001b[0m\n\u001b[1;32m   2488\u001b[0m         \u001b[0;32mif\u001b[0m \u001b[0mres\u001b[0m \u001b[0;32mis\u001b[0m \u001b[0;32mNone\u001b[0m\u001b[0;34m:\u001b[0m\u001b[0;34m\u001b[0m\u001b[0m\n\u001b[0;32m-> 2489\u001b[0;31m             \u001b[0mvalues\u001b[0m \u001b[0;34m=\u001b[0m \u001b[0mself\u001b[0m\u001b[0;34m.\u001b[0m\u001b[0m_data\u001b[0m\u001b[0;34m.\u001b[0m\u001b[0mget\u001b[0m\u001b[0;34m(\u001b[0m\u001b[0mitem\u001b[0m\u001b[0;34m)\u001b[0m\u001b[0;34m\u001b[0m\u001b[0m\n\u001b[0m\u001b[1;32m   2490\u001b[0m             \u001b[0mres\u001b[0m \u001b[0;34m=\u001b[0m \u001b[0mself\u001b[0m\u001b[0;34m.\u001b[0m\u001b[0m_box_item_values\u001b[0m\u001b[0;34m(\u001b[0m\u001b[0mitem\u001b[0m\u001b[0;34m,\u001b[0m \u001b[0mvalues\u001b[0m\u001b[0;34m)\u001b[0m\u001b[0;34m\u001b[0m\u001b[0m\n\u001b[1;32m   2491\u001b[0m             \u001b[0mcache\u001b[0m\u001b[0;34m[\u001b[0m\u001b[0mitem\u001b[0m\u001b[0;34m]\u001b[0m \u001b[0;34m=\u001b[0m \u001b[0mres\u001b[0m\u001b[0;34m\u001b[0m\u001b[0m\n",
      "\u001b[0;32m/anaconda/envs/DSFP/lib/python3.6/site-packages/pandas/core/internals.py\u001b[0m in \u001b[0;36mget\u001b[0;34m(self, item, fastpath)\u001b[0m\n\u001b[1;32m   4113\u001b[0m \u001b[0;34m\u001b[0m\u001b[0m\n\u001b[1;32m   4114\u001b[0m             \u001b[0;32mif\u001b[0m \u001b[0;32mnot\u001b[0m \u001b[0misna\u001b[0m\u001b[0;34m(\u001b[0m\u001b[0mitem\u001b[0m\u001b[0;34m)\u001b[0m\u001b[0;34m:\u001b[0m\u001b[0;34m\u001b[0m\u001b[0m\n\u001b[0;32m-> 4115\u001b[0;31m                 \u001b[0mloc\u001b[0m \u001b[0;34m=\u001b[0m \u001b[0mself\u001b[0m\u001b[0;34m.\u001b[0m\u001b[0mitems\u001b[0m\u001b[0;34m.\u001b[0m\u001b[0mget_loc\u001b[0m\u001b[0;34m(\u001b[0m\u001b[0mitem\u001b[0m\u001b[0;34m)\u001b[0m\u001b[0;34m\u001b[0m\u001b[0m\n\u001b[0m\u001b[1;32m   4116\u001b[0m             \u001b[0;32melse\u001b[0m\u001b[0;34m:\u001b[0m\u001b[0;34m\u001b[0m\u001b[0m\n\u001b[1;32m   4117\u001b[0m                 \u001b[0mindexer\u001b[0m \u001b[0;34m=\u001b[0m \u001b[0mnp\u001b[0m\u001b[0;34m.\u001b[0m\u001b[0marange\u001b[0m\u001b[0;34m(\u001b[0m\u001b[0mlen\u001b[0m\u001b[0;34m(\u001b[0m\u001b[0mself\u001b[0m\u001b[0;34m.\u001b[0m\u001b[0mitems\u001b[0m\u001b[0;34m)\u001b[0m\u001b[0;34m)\u001b[0m\u001b[0;34m[\u001b[0m\u001b[0misna\u001b[0m\u001b[0;34m(\u001b[0m\u001b[0mself\u001b[0m\u001b[0;34m.\u001b[0m\u001b[0mitems\u001b[0m\u001b[0;34m)\u001b[0m\u001b[0;34m]\u001b[0m\u001b[0;34m\u001b[0m\u001b[0m\n",
      "\u001b[0;32m/anaconda/envs/DSFP/lib/python3.6/site-packages/pandas/core/indexes/base.py\u001b[0m in \u001b[0;36mget_loc\u001b[0;34m(self, key, method, tolerance)\u001b[0m\n\u001b[1;32m   3078\u001b[0m                 \u001b[0;32mreturn\u001b[0m \u001b[0mself\u001b[0m\u001b[0;34m.\u001b[0m\u001b[0m_engine\u001b[0m\u001b[0;34m.\u001b[0m\u001b[0mget_loc\u001b[0m\u001b[0;34m(\u001b[0m\u001b[0mkey\u001b[0m\u001b[0;34m)\u001b[0m\u001b[0;34m\u001b[0m\u001b[0m\n\u001b[1;32m   3079\u001b[0m             \u001b[0;32mexcept\u001b[0m \u001b[0mKeyError\u001b[0m\u001b[0;34m:\u001b[0m\u001b[0;34m\u001b[0m\u001b[0m\n\u001b[0;32m-> 3080\u001b[0;31m                 \u001b[0;32mreturn\u001b[0m \u001b[0mself\u001b[0m\u001b[0;34m.\u001b[0m\u001b[0m_engine\u001b[0m\u001b[0;34m.\u001b[0m\u001b[0mget_loc\u001b[0m\u001b[0;34m(\u001b[0m\u001b[0mself\u001b[0m\u001b[0;34m.\u001b[0m\u001b[0m_maybe_cast_indexer\u001b[0m\u001b[0;34m(\u001b[0m\u001b[0mkey\u001b[0m\u001b[0;34m)\u001b[0m\u001b[0;34m)\u001b[0m\u001b[0;34m\u001b[0m\u001b[0m\n\u001b[0m\u001b[1;32m   3081\u001b[0m \u001b[0;34m\u001b[0m\u001b[0m\n\u001b[1;32m   3082\u001b[0m         \u001b[0mindexer\u001b[0m \u001b[0;34m=\u001b[0m \u001b[0mself\u001b[0m\u001b[0;34m.\u001b[0m\u001b[0mget_indexer\u001b[0m\u001b[0;34m(\u001b[0m\u001b[0;34m[\u001b[0m\u001b[0mkey\u001b[0m\u001b[0;34m]\u001b[0m\u001b[0;34m,\u001b[0m \u001b[0mmethod\u001b[0m\u001b[0;34m=\u001b[0m\u001b[0mmethod\u001b[0m\u001b[0;34m,\u001b[0m \u001b[0mtolerance\u001b[0m\u001b[0;34m=\u001b[0m\u001b[0mtolerance\u001b[0m\u001b[0;34m)\u001b[0m\u001b[0;34m\u001b[0m\u001b[0m\n",
      "\u001b[0;32mpandas/_libs/index.pyx\u001b[0m in \u001b[0;36mpandas._libs.index.IndexEngine.get_loc\u001b[0;34m()\u001b[0m\n",
      "\u001b[0;32mpandas/_libs/index.pyx\u001b[0m in \u001b[0;36mpandas._libs.index.IndexEngine.get_loc\u001b[0;34m()\u001b[0m\n",
      "\u001b[0;32mpandas/_libs/hashtable_class_helper.pxi\u001b[0m in \u001b[0;36mpandas._libs.hashtable.PyObjectHashTable.get_item\u001b[0;34m()\u001b[0m\n",
      "\u001b[0;32mpandas/_libs/hashtable_class_helper.pxi\u001b[0m in \u001b[0;36mpandas._libs.hashtable.PyObjectHashTable.get_item\u001b[0;34m()\u001b[0m\n",
      "\u001b[0;31mKeyError\u001b[0m: 'nums'"
     ]
    }
   ],
   "source": [
    "s.to_csv('tmp.txt', header=True, index=False)\n",
    "\n",
    "s_read = pd.read_csv('tmp.txt', float_precision='round_trip')\n",
    "\n",
    "sum(nums - s_read['nums'].values != 0)"
   ]
  },
  {
   "cell_type": "markdown",
   "metadata": {
    "slideshow": {
     "slide_type": "slide"
    }
   },
   "source": [
    "So was all of this in service of a lie?\n",
    "\n",
    "No. What I said before remains true - text files do not guarantee byte level precision, and they take more space on disk. Text files have some advantages:\n",
    "\n",
    "  -  anyone, anywhere, on any platform can easily manipulate text files\n",
    "  -  text files can be easily inspected (and corrected) if necessary\n",
    "  -  special packages are needed to read/write in binary\n",
    "  -  binary files, which are not easily interpretable, are difficult to use in version control (and banned by some version control platforms)"
   ]
  },
  {
   "cell_type": "markdown",
   "metadata": {
    "slideshow": {
     "slide_type": "subslide"
    }
   },
   "source": [
    "To summarize, here is my advice: think of binary as your (new?) default for storing data.\n",
    "\n",
    "But, as with all things, consider your audience: if you are sharing/working with people that won't be able to deal with binary data, or, you have an incredibly small amount of data, csv (or other text files) should be fine."
   ]
  },
  {
   "cell_type": "markdown",
   "metadata": {
    "slideshow": {
     "slide_type": "subslide"
    }
   },
   "source": [
    "## Problem 3) Binary or ASCII - Doesn't Matter if You Aren't Organized"
   ]
  },
  {
   "cell_type": "markdown",
   "metadata": {
    "slideshow": {
     "slide_type": "slide"
    }
   },
   "source": [
    "While the reproducibility of data is essential, ultimately, concerns about binary vs ascii are useless if you cannot access the data you need *when* you need it.\n",
    "\n",
    "Your data are valuable (though cheaper to acquire than ever before), which means you need a good solution for managing that data, or else you are going to run into a significant loss of time and money."
   ]
  },
  {
   "cell_type": "markdown",
   "metadata": {
    "slideshow": {
     "slide_type": "slide"
    }
   },
   "source": [
    "**Problem 3a**\n",
    "\n",
    "How would you organize the following: (a) 3 very deep images of a galaxy, (b) 4 nights of optical observations ($\\sim$50 images night$^{-1}$) of a galaxy cluster in the $ugrizY$ filters, (c) images from a 50 night time-domain survey ($\\sim$250 images night$^{-1}$) covering 1000 deg$^2$?\n",
    "\n",
    "Similarly, how would you organize: (a) photometric information for your galaxy observations, (b) photometry for all the galaxies in your cluster field, (c) the observations/light curves from your survey?\n",
    "\n",
    "*Take a minute to discuss with your partner*"
   ]
  },
  {
   "cell_type": "markdown",
   "metadata": {
    "slideshow": {
     "slide_type": "subslide"
    }
   },
   "source": [
    "**Solution 3a**\n",
    "\n",
    "..."
   ]
  },
  {
   "cell_type": "markdown",
   "metadata": {
    "slideshow": {
     "slide_type": "subslide"
    }
   },
   "source": [
    "Keeping in mind that there are several suitable answers to each of these questions, here are a few thoughts: (a) the 3 images should be kept together, probably in a single file directory. (b) With 200 images taken over the course of 4 nights, I would create a directory structure that includes every night (top level), with sub-directories based on the individual filters. (c) Similar to (b), I'd create a tree-based file structure, though given that the primary science is time variability, I would likely organize the observations by fieldID at the top level, then by filter and date after that. \n",
    "\n",
    "As a final note - for each of these data sets, backups are essential! There should be no risk of a single point failure wiping away all that information for good."
   ]
  },
  {
   "cell_type": "markdown",
   "metadata": {
    "slideshow": {
     "slide_type": "subslide"
    }
   },
   "source": [
    "The photometric data requires more than just a file structure. In all three cases I would want to store everything in a single file (so directories are not necessary). \n",
    "\n",
    "For 3 observations of a single galaxy, I would use... a text file (not worth the trouble for binary storage)\n",
    "\n",
    "Assuming there are 5000 galaxies in the cluster field, I would store the photometric information that I extract for those galaxies in a *table*. In this table, each row would represent a single galaxy, while the columns would include brightness/shape measurements for the galaxies in each of the observed filters. I would organize this table as a `pandas` DataFrame (and write it to an hdf5 file). "
   ]
  },
  {
   "cell_type": "markdown",
   "metadata": {
    "slideshow": {
     "slide_type": "subslide"
    }
   },
   "source": [
    "For the time-domain survey, the organization of all the photometric information is far less straight forward.\n",
    "\n",
    "Could you use a single table? Yes. Though this would be highly inefficient given that not all sources were observed at the same time. The table would then need columns like `obs1_JD`, `obs1_flux`, `obs1_flux_unc`, `obs2_JD`, `obs2_flux`, `obs2_flux_unc`, ..., all the way up to $N$, the maximum number of observations of any individual source. This will lead to several columns that are empty for several sources. "
   ]
  },
  {
   "cell_type": "markdown",
   "metadata": {
    "slideshow": {
     "slide_type": "subslide"
    }
   },
   "source": [
    "I would instead use a collection of tables. First, a master source table:\n",
    "\n",
    "|objID|RA|Dec|mean_mag|mean_mag_unc|\n",
    "|:--:|:--:|:--:|:--:|:--:|\n",
    "|0001|246.98756|-12.06547|18.35|0.08|\n",
    "|0002|246.98853|-12.04325|19.98|0.21|\n",
    "|.|.|.|.|.|\n",
    "|.|.|.|.|.|\n",
    "|.|.|.|.|.|"
   ]
  },
  {
   "cell_type": "markdown",
   "metadata": {
    "slideshow": {
     "slide_type": "subslide"
    }
   },
   "source": [
    "Coupled with a table holding the individual flux measurements:\n",
    "\n",
    "|objID|JD|filt|mag|mag_unc|\n",
    "|:--:|:--:|:--:|:--:|:--:|\n",
    "|0001|2456785.23465|r|18.21|0.07|\n",
    "|0001|2456785.23469|z|17.81|0.12|\n",
    "|.|.|.|.|.|\n",
    "|.|.|.|.|.|\n",
    "|.|.|.|.|.|\n",
    "|0547|2456821.36900|g|16.04|0.02|\n",
    "|0547|2456821.36906|i|17.12|0.05|\n",
    "|.|.|.|.|.|\n",
    "|.|.|.|.|.|\n",
    "|.|.|.|.|.|"
   ]
  },
  {
   "cell_type": "markdown",
   "metadata": {
    "slideshow": {
     "slide_type": "subslide"
    }
   },
   "source": [
    "The critical thing to notice about these tables is that they both contain `objID`. That information allows us to connect the tables via a \"join\". This table, or relational, structure allows us to easily connect subsets of the data as way to minimize storage (relative to having everything in a single table) while also maintaining computational speed."
   ]
  },
  {
   "cell_type": "markdown",
   "metadata": {
    "slideshow": {
     "slide_type": "slide"
    }
   },
   "source": [
    "Typically, when astronomers (or data scientists) need to organize data into several connected tables capable of performing fast relational algebra operations they use a database. We will hear a lot more about databases over the next few days, so I won't provide a detailed introduction now. \n",
    "\n",
    "One very nice property of (many) database systems is that provide an efficient means for searching large volumes of data that cannot be stored in memory (recall problem **1a**). Whereas, your laptop, or even a specialized high-memory computer, would not be able to open a csv file with all the LSST observations in it. "
   ]
  },
  {
   "cell_type": "markdown",
   "metadata": {
    "slideshow": {
     "slide_type": "subslide"
    }
   },
   "source": [
    "Another quick aside –– `pandas` can deal with files that are too large to fit in memory by loading a portion of the file at a time:\n",
    "\n",
    "    light_curves = pd.read_csv(lc_csv_file, chunksize=100000)\n",
    "\n",
    "If you are building a data structure where loading the data in \"chunks\" is necessary, I would strongly advise considering an alternative to storing the data in a csv file. "
   ]
  },
  {
   "cell_type": "markdown",
   "metadata": {
    "slideshow": {
     "slide_type": "slide"
    }
   },
   "source": [
    "A question you may currently be wondering is: why has there been such an intense focus on `pandas` today?\n",
    "\n",
    "The short answer: the developers of `pandas` wanted to create a product that is good at relational algebra (like traditional database tools) but with lower overhead in construction, and a lot more flexibility (which is essential in a world of heterogeneous data storage and management, see Tuesday's lecture on Data Wrangling). \n",
    "\n",
    "(You'll get several chances to practice working with databases throughout the week)"
   ]
  },
  {
   "cell_type": "markdown",
   "metadata": {
    "slideshow": {
     "slide_type": "slide"
    }
   },
   "source": [
    "We will now run through a few examples that highlight how `pandas` can be used in a manner similar to a relational database. Throughout the week, as you think about your own data management needs, I think the critical thing to consider is scope. Can my data be organized into something that is smaller than a full-on database?"
   ]
  },
  {
   "cell_type": "markdown",
   "metadata": {
    "slideshow": {
     "slide_type": "slide"
    }
   },
   "source": [
    "**Problem 3b**\n",
    "\n",
    "Download the [SDSS data set](https://northwestern.box.com/s/sjegm0tx62l2i8dkzqw22s4gmq1a9sg1) that will be used in the exercises for tomorrow. \n",
    "\n",
    "Read that data, stored in a csv file, into a `pandas` DataFrame called `sdss_spec`."
   ]
  },
  {
   "cell_type": "markdown",
   "metadata": {
    "slideshow": {
     "slide_type": "skip"
    }
   },
   "source": [
    "In a lecture where I have spent a great deal of time describing the value of binary data storage, does the fact that I am now providing a (moderate) amount of data as a plain ascii file mean that I am a bad teacher...\n",
    "\n",
    "*probably*"
   ]
  },
  {
   "cell_type": "code",
   "execution_count": 24,
   "metadata": {
    "slideshow": {
     "slide_type": "subslide"
    }
   },
   "outputs": [
    {
     "data": {
      "text/html": [
       "<div>\n",
       "<style scoped>\n",
       "    .dataframe tbody tr th:only-of-type {\n",
       "        vertical-align: middle;\n",
       "    }\n",
       "\n",
       "    .dataframe tbody tr th {\n",
       "        vertical-align: top;\n",
       "    }\n",
       "\n",
       "    .dataframe thead th {\n",
       "        text-align: right;\n",
       "    }\n",
       "</style>\n",
       "<table border=\"1\" class=\"dataframe\">\n",
       "  <thead>\n",
       "    <tr style=\"text-align: right;\">\n",
       "      <th></th>\n",
       "      <th>specObjID</th>\n",
       "      <th>z</th>\n",
       "      <th>type</th>\n",
       "      <th>psfMag_u</th>\n",
       "      <th>psfMag_g</th>\n",
       "      <th>psfMag_r</th>\n",
       "      <th>psfMag_i</th>\n",
       "      <th>psfMag_z</th>\n",
       "      <th>modelMag_u</th>\n",
       "      <th>modelMag_g</th>\n",
       "      <th>...</th>\n",
       "      <th>extinction_i</th>\n",
       "      <th>extinction_z</th>\n",
       "      <th>w1mpro</th>\n",
       "      <th>w1snr</th>\n",
       "      <th>w2mpro</th>\n",
       "      <th>w2snr</th>\n",
       "      <th>w3mpro</th>\n",
       "      <th>w3snr</th>\n",
       "      <th>w4mpro</th>\n",
       "      <th>w4snr</th>\n",
       "    </tr>\n",
       "  </thead>\n",
       "  <tbody>\n",
       "    <tr>\n",
       "      <th>0</th>\n",
       "      <td>299567742770505728</td>\n",
       "      <td>0.071414</td>\n",
       "      <td>ext</td>\n",
       "      <td>20.88291</td>\n",
       "      <td>19.23907</td>\n",
       "      <td>18.56170</td>\n",
       "      <td>18.09715</td>\n",
       "      <td>17.76469</td>\n",
       "      <td>19.62189</td>\n",
       "      <td>18.03702</td>\n",
       "      <td>...</td>\n",
       "      <td>0.061267</td>\n",
       "      <td>0.045572</td>\n",
       "      <td>14.395</td>\n",
       "      <td>21.1</td>\n",
       "      <td>14.236</td>\n",
       "      <td>15.6</td>\n",
       "      <td>11.029</td>\n",
       "      <td>6.8</td>\n",
       "      <td>8.579</td>\n",
       "      <td>-0.9</td>\n",
       "    </tr>\n",
       "    <tr>\n",
       "      <th>1</th>\n",
       "      <td>299568017178650624</td>\n",
       "      <td>0.071380</td>\n",
       "      <td>ext</td>\n",
       "      <td>20.88291</td>\n",
       "      <td>19.23907</td>\n",
       "      <td>18.56170</td>\n",
       "      <td>18.09715</td>\n",
       "      <td>17.76469</td>\n",
       "      <td>19.62189</td>\n",
       "      <td>18.03702</td>\n",
       "      <td>...</td>\n",
       "      <td>0.061267</td>\n",
       "      <td>0.045572</td>\n",
       "      <td>14.395</td>\n",
       "      <td>21.1</td>\n",
       "      <td>14.236</td>\n",
       "      <td>15.6</td>\n",
       "      <td>11.029</td>\n",
       "      <td>6.8</td>\n",
       "      <td>8.579</td>\n",
       "      <td>-0.9</td>\n",
       "    </tr>\n",
       "    <tr>\n",
       "      <th>2</th>\n",
       "      <td>299566643258877952</td>\n",
       "      <td>0.088173</td>\n",
       "      <td>ext</td>\n",
       "      <td>20.84844</td>\n",
       "      <td>18.96040</td>\n",
       "      <td>18.08027</td>\n",
       "      <td>17.62953</td>\n",
       "      <td>17.31857</td>\n",
       "      <td>20.18508</td>\n",
       "      <td>18.26120</td>\n",
       "      <td>...</td>\n",
       "      <td>0.047582</td>\n",
       "      <td>0.035392</td>\n",
       "      <td>14.162</td>\n",
       "      <td>35.0</td>\n",
       "      <td>13.970</td>\n",
       "      <td>22.3</td>\n",
       "      <td>12.233</td>\n",
       "      <td>2.9</td>\n",
       "      <td>9.067</td>\n",
       "      <td>-0.3</td>\n",
       "    </tr>\n",
       "    <tr>\n",
       "      <th>3</th>\n",
       "      <td>299569116690278400</td>\n",
       "      <td>0.088161</td>\n",
       "      <td>ext</td>\n",
       "      <td>20.84844</td>\n",
       "      <td>18.96040</td>\n",
       "      <td>18.08027</td>\n",
       "      <td>17.62953</td>\n",
       "      <td>17.31857</td>\n",
       "      <td>20.18508</td>\n",
       "      <td>18.26120</td>\n",
       "      <td>...</td>\n",
       "      <td>0.047582</td>\n",
       "      <td>0.035392</td>\n",
       "      <td>14.162</td>\n",
       "      <td>35.0</td>\n",
       "      <td>13.970</td>\n",
       "      <td>22.3</td>\n",
       "      <td>12.233</td>\n",
       "      <td>2.9</td>\n",
       "      <td>9.067</td>\n",
       "      <td>-0.3</td>\n",
       "    </tr>\n",
       "    <tr>\n",
       "      <th>4</th>\n",
       "      <td>299568292056557568</td>\n",
       "      <td>0.066539</td>\n",
       "      <td>ext</td>\n",
       "      <td>21.28256</td>\n",
       "      <td>19.61427</td>\n",
       "      <td>18.98529</td>\n",
       "      <td>18.52956</td>\n",
       "      <td>18.26322</td>\n",
       "      <td>20.18081</td>\n",
       "      <td>18.47435</td>\n",
       "      <td>...</td>\n",
       "      <td>0.058709</td>\n",
       "      <td>0.043669</td>\n",
       "      <td>14.734</td>\n",
       "      <td>30.6</td>\n",
       "      <td>14.512</td>\n",
       "      <td>17.6</td>\n",
       "      <td>11.078</td>\n",
       "      <td>9.8</td>\n",
       "      <td>9.054</td>\n",
       "      <td>2.3</td>\n",
       "    </tr>\n",
       "  </tbody>\n",
       "</table>\n",
       "<p>5 rows × 26 columns</p>\n",
       "</div>"
      ],
      "text/plain": [
       "            specObjID         z type  psfMag_u  psfMag_g  psfMag_r  psfMag_i  \\\n",
       "0  299567742770505728  0.071414  ext  20.88291  19.23907  18.56170  18.09715   \n",
       "1  299568017178650624  0.071380  ext  20.88291  19.23907  18.56170  18.09715   \n",
       "2  299566643258877952  0.088173  ext  20.84844  18.96040  18.08027  17.62953   \n",
       "3  299569116690278400  0.088161  ext  20.84844  18.96040  18.08027  17.62953   \n",
       "4  299568292056557568  0.066539  ext  21.28256  19.61427  18.98529  18.52956   \n",
       "\n",
       "   psfMag_z  modelMag_u  modelMag_g  ...    extinction_i  extinction_z  \\\n",
       "0  17.76469    19.62189    18.03702  ...        0.061267      0.045572   \n",
       "1  17.76469    19.62189    18.03702  ...        0.061267      0.045572   \n",
       "2  17.31857    20.18508    18.26120  ...        0.047582      0.035392   \n",
       "3  17.31857    20.18508    18.26120  ...        0.047582      0.035392   \n",
       "4  18.26322    20.18081    18.47435  ...        0.058709      0.043669   \n",
       "\n",
       "   w1mpro  w1snr  w2mpro  w2snr  w3mpro  w3snr  w4mpro  w4snr  \n",
       "0  14.395   21.1  14.236   15.6  11.029    6.8   8.579   -0.9  \n",
       "1  14.395   21.1  14.236   15.6  11.029    6.8   8.579   -0.9  \n",
       "2  14.162   35.0  13.970   22.3  12.233    2.9   9.067   -0.3  \n",
       "3  14.162   35.0  13.970   22.3  12.233    2.9   9.067   -0.3  \n",
       "4  14.734   30.6  14.512   17.6  11.078    9.8   9.054    2.3  \n",
       "\n",
       "[5 rows x 26 columns]"
      ]
     },
     "execution_count": 24,
     "metadata": {},
     "output_type": "execute_result"
    }
   ],
   "source": [
    "sdss_spec = pd.read_csv(\"../DSFP_SDSS_spec_train.csv\")\n",
    "sdss_spec.head()"
   ]
  },
  {
   "cell_type": "markdown",
   "metadata": {
    "slideshow": {
     "slide_type": "slide"
    }
   },
   "source": [
    "`pandas` provides many different methods for selecting columns from the DataFrame. Supposing you wanted `psfMag`, you could use any of the following:\n",
    "\n",
    "    sdss_spec['psfMag_g']\n",
    "    sdss_spec[['psfMag_r', 'psfMag_z']]\n",
    "    sdss_spec.psfMag_g\n",
    "\n",
    "(notice that selecting multiple columns requires a list within `[]`)"
   ]
  },
  {
   "cell_type": "markdown",
   "metadata": {
    "slideshow": {
     "slide_type": "slide"
    }
   },
   "source": [
    "**Problem 3c**\n",
    "\n",
    "Plot a histogram of the `psfMag_g` - `modelMag_g` distribution for the data set (which requires a selection of those two columns).\n",
    "\n",
    "Do you notice anything interesting?\n",
    "\n",
    "*Hint* - you may want to use more than the default number of bins (=10)."
   ]
  },
  {
   "cell_type": "code",
   "execution_count": 26,
   "metadata": {
    "slideshow": {
     "slide_type": "slide"
    }
   },
   "outputs": [
    {
     "data": {
      "application/javascript": [
       "/* Put everything inside the global mpl namespace */\n",
       "window.mpl = {};\n",
       "\n",
       "\n",
       "mpl.get_websocket_type = function() {\n",
       "    if (typeof(WebSocket) !== 'undefined') {\n",
       "        return WebSocket;\n",
       "    } else if (typeof(MozWebSocket) !== 'undefined') {\n",
       "        return MozWebSocket;\n",
       "    } else {\n",
       "        alert('Your browser does not have WebSocket support.' +\n",
       "              'Please try Chrome, Safari or Firefox ≥ 6. ' +\n",
       "              'Firefox 4 and 5 are also supported but you ' +\n",
       "              'have to enable WebSockets in about:config.');\n",
       "    };\n",
       "}\n",
       "\n",
       "mpl.figure = function(figure_id, websocket, ondownload, parent_element) {\n",
       "    this.id = figure_id;\n",
       "\n",
       "    this.ws = websocket;\n",
       "\n",
       "    this.supports_binary = (this.ws.binaryType != undefined);\n",
       "\n",
       "    if (!this.supports_binary) {\n",
       "        var warnings = document.getElementById(\"mpl-warnings\");\n",
       "        if (warnings) {\n",
       "            warnings.style.display = 'block';\n",
       "            warnings.textContent = (\n",
       "                \"This browser does not support binary websocket messages. \" +\n",
       "                    \"Performance may be slow.\");\n",
       "        }\n",
       "    }\n",
       "\n",
       "    this.imageObj = new Image();\n",
       "\n",
       "    this.context = undefined;\n",
       "    this.message = undefined;\n",
       "    this.canvas = undefined;\n",
       "    this.rubberband_canvas = undefined;\n",
       "    this.rubberband_context = undefined;\n",
       "    this.format_dropdown = undefined;\n",
       "\n",
       "    this.image_mode = 'full';\n",
       "\n",
       "    this.root = $('<div/>');\n",
       "    this._root_extra_style(this.root)\n",
       "    this.root.attr('style', 'display: inline-block');\n",
       "\n",
       "    $(parent_element).append(this.root);\n",
       "\n",
       "    this._init_header(this);\n",
       "    this._init_canvas(this);\n",
       "    this._init_toolbar(this);\n",
       "\n",
       "    var fig = this;\n",
       "\n",
       "    this.waiting = false;\n",
       "\n",
       "    this.ws.onopen =  function () {\n",
       "            fig.send_message(\"supports_binary\", {value: fig.supports_binary});\n",
       "            fig.send_message(\"send_image_mode\", {});\n",
       "            if (mpl.ratio != 1) {\n",
       "                fig.send_message(\"set_dpi_ratio\", {'dpi_ratio': mpl.ratio});\n",
       "            }\n",
       "            fig.send_message(\"refresh\", {});\n",
       "        }\n",
       "\n",
       "    this.imageObj.onload = function() {\n",
       "            if (fig.image_mode == 'full') {\n",
       "                // Full images could contain transparency (where diff images\n",
       "                // almost always do), so we need to clear the canvas so that\n",
       "                // there is no ghosting.\n",
       "                fig.context.clearRect(0, 0, fig.canvas.width, fig.canvas.height);\n",
       "            }\n",
       "            fig.context.drawImage(fig.imageObj, 0, 0);\n",
       "        };\n",
       "\n",
       "    this.imageObj.onunload = function() {\n",
       "        this.ws.close();\n",
       "    }\n",
       "\n",
       "    this.ws.onmessage = this._make_on_message_function(this);\n",
       "\n",
       "    this.ondownload = ondownload;\n",
       "}\n",
       "\n",
       "mpl.figure.prototype._init_header = function() {\n",
       "    var titlebar = $(\n",
       "        '<div class=\"ui-dialog-titlebar ui-widget-header ui-corner-all ' +\n",
       "        'ui-helper-clearfix\"/>');\n",
       "    var titletext = $(\n",
       "        '<div class=\"ui-dialog-title\" style=\"width: 100%; ' +\n",
       "        'text-align: center; padding: 3px;\"/>');\n",
       "    titlebar.append(titletext)\n",
       "    this.root.append(titlebar);\n",
       "    this.header = titletext[0];\n",
       "}\n",
       "\n",
       "\n",
       "\n",
       "mpl.figure.prototype._canvas_extra_style = function(canvas_div) {\n",
       "\n",
       "}\n",
       "\n",
       "\n",
       "mpl.figure.prototype._root_extra_style = function(canvas_div) {\n",
       "\n",
       "}\n",
       "\n",
       "mpl.figure.prototype._init_canvas = function() {\n",
       "    var fig = this;\n",
       "\n",
       "    var canvas_div = $('<div/>');\n",
       "\n",
       "    canvas_div.attr('style', 'position: relative; clear: both; outline: 0');\n",
       "\n",
       "    function canvas_keyboard_event(event) {\n",
       "        return fig.key_event(event, event['data']);\n",
       "    }\n",
       "\n",
       "    canvas_div.keydown('key_press', canvas_keyboard_event);\n",
       "    canvas_div.keyup('key_release', canvas_keyboard_event);\n",
       "    this.canvas_div = canvas_div\n",
       "    this._canvas_extra_style(canvas_div)\n",
       "    this.root.append(canvas_div);\n",
       "\n",
       "    var canvas = $('<canvas/>');\n",
       "    canvas.addClass('mpl-canvas');\n",
       "    canvas.attr('style', \"left: 0; top: 0; z-index: 0; outline: 0\")\n",
       "\n",
       "    this.canvas = canvas[0];\n",
       "    this.context = canvas[0].getContext(\"2d\");\n",
       "\n",
       "    var backingStore = this.context.backingStorePixelRatio ||\n",
       "\tthis.context.webkitBackingStorePixelRatio ||\n",
       "\tthis.context.mozBackingStorePixelRatio ||\n",
       "\tthis.context.msBackingStorePixelRatio ||\n",
       "\tthis.context.oBackingStorePixelRatio ||\n",
       "\tthis.context.backingStorePixelRatio || 1;\n",
       "\n",
       "    mpl.ratio = (window.devicePixelRatio || 1) / backingStore;\n",
       "\n",
       "    var rubberband = $('<canvas/>');\n",
       "    rubberband.attr('style', \"position: absolute; left: 0; top: 0; z-index: 1;\")\n",
       "\n",
       "    var pass_mouse_events = true;\n",
       "\n",
       "    canvas_div.resizable({\n",
       "        start: function(event, ui) {\n",
       "            pass_mouse_events = false;\n",
       "        },\n",
       "        resize: function(event, ui) {\n",
       "            fig.request_resize(ui.size.width, ui.size.height);\n",
       "        },\n",
       "        stop: function(event, ui) {\n",
       "            pass_mouse_events = true;\n",
       "            fig.request_resize(ui.size.width, ui.size.height);\n",
       "        },\n",
       "    });\n",
       "\n",
       "    function mouse_event_fn(event) {\n",
       "        if (pass_mouse_events)\n",
       "            return fig.mouse_event(event, event['data']);\n",
       "    }\n",
       "\n",
       "    rubberband.mousedown('button_press', mouse_event_fn);\n",
       "    rubberband.mouseup('button_release', mouse_event_fn);\n",
       "    // Throttle sequential mouse events to 1 every 20ms.\n",
       "    rubberband.mousemove('motion_notify', mouse_event_fn);\n",
       "\n",
       "    rubberband.mouseenter('figure_enter', mouse_event_fn);\n",
       "    rubberband.mouseleave('figure_leave', mouse_event_fn);\n",
       "\n",
       "    canvas_div.on(\"wheel\", function (event) {\n",
       "        event = event.originalEvent;\n",
       "        event['data'] = 'scroll'\n",
       "        if (event.deltaY < 0) {\n",
       "            event.step = 1;\n",
       "        } else {\n",
       "            event.step = -1;\n",
       "        }\n",
       "        mouse_event_fn(event);\n",
       "    });\n",
       "\n",
       "    canvas_div.append(canvas);\n",
       "    canvas_div.append(rubberband);\n",
       "\n",
       "    this.rubberband = rubberband;\n",
       "    this.rubberband_canvas = rubberband[0];\n",
       "    this.rubberband_context = rubberband[0].getContext(\"2d\");\n",
       "    this.rubberband_context.strokeStyle = \"#000000\";\n",
       "\n",
       "    this._resize_canvas = function(width, height) {\n",
       "        // Keep the size of the canvas, canvas container, and rubber band\n",
       "        // canvas in synch.\n",
       "        canvas_div.css('width', width)\n",
       "        canvas_div.css('height', height)\n",
       "\n",
       "        canvas.attr('width', width * mpl.ratio);\n",
       "        canvas.attr('height', height * mpl.ratio);\n",
       "        canvas.attr('style', 'width: ' + width + 'px; height: ' + height + 'px;');\n",
       "\n",
       "        rubberband.attr('width', width);\n",
       "        rubberband.attr('height', height);\n",
       "    }\n",
       "\n",
       "    // Set the figure to an initial 600x600px, this will subsequently be updated\n",
       "    // upon first draw.\n",
       "    this._resize_canvas(600, 600);\n",
       "\n",
       "    // Disable right mouse context menu.\n",
       "    $(this.rubberband_canvas).bind(\"contextmenu\",function(e){\n",
       "        return false;\n",
       "    });\n",
       "\n",
       "    function set_focus () {\n",
       "        canvas.focus();\n",
       "        canvas_div.focus();\n",
       "    }\n",
       "\n",
       "    window.setTimeout(set_focus, 100);\n",
       "}\n",
       "\n",
       "mpl.figure.prototype._init_toolbar = function() {\n",
       "    var fig = this;\n",
       "\n",
       "    var nav_element = $('<div/>')\n",
       "    nav_element.attr('style', 'width: 100%');\n",
       "    this.root.append(nav_element);\n",
       "\n",
       "    // Define a callback function for later on.\n",
       "    function toolbar_event(event) {\n",
       "        return fig.toolbar_button_onclick(event['data']);\n",
       "    }\n",
       "    function toolbar_mouse_event(event) {\n",
       "        return fig.toolbar_button_onmouseover(event['data']);\n",
       "    }\n",
       "\n",
       "    for(var toolbar_ind in mpl.toolbar_items) {\n",
       "        var name = mpl.toolbar_items[toolbar_ind][0];\n",
       "        var tooltip = mpl.toolbar_items[toolbar_ind][1];\n",
       "        var image = mpl.toolbar_items[toolbar_ind][2];\n",
       "        var method_name = mpl.toolbar_items[toolbar_ind][3];\n",
       "\n",
       "        if (!name) {\n",
       "            // put a spacer in here.\n",
       "            continue;\n",
       "        }\n",
       "        var button = $('<button/>');\n",
       "        button.addClass('ui-button ui-widget ui-state-default ui-corner-all ' +\n",
       "                        'ui-button-icon-only');\n",
       "        button.attr('role', 'button');\n",
       "        button.attr('aria-disabled', 'false');\n",
       "        button.click(method_name, toolbar_event);\n",
       "        button.mouseover(tooltip, toolbar_mouse_event);\n",
       "\n",
       "        var icon_img = $('<span/>');\n",
       "        icon_img.addClass('ui-button-icon-primary ui-icon');\n",
       "        icon_img.addClass(image);\n",
       "        icon_img.addClass('ui-corner-all');\n",
       "\n",
       "        var tooltip_span = $('<span/>');\n",
       "        tooltip_span.addClass('ui-button-text');\n",
       "        tooltip_span.html(tooltip);\n",
       "\n",
       "        button.append(icon_img);\n",
       "        button.append(tooltip_span);\n",
       "\n",
       "        nav_element.append(button);\n",
       "    }\n",
       "\n",
       "    var fmt_picker_span = $('<span/>');\n",
       "\n",
       "    var fmt_picker = $('<select/>');\n",
       "    fmt_picker.addClass('mpl-toolbar-option ui-widget ui-widget-content');\n",
       "    fmt_picker_span.append(fmt_picker);\n",
       "    nav_element.append(fmt_picker_span);\n",
       "    this.format_dropdown = fmt_picker[0];\n",
       "\n",
       "    for (var ind in mpl.extensions) {\n",
       "        var fmt = mpl.extensions[ind];\n",
       "        var option = $(\n",
       "            '<option/>', {selected: fmt === mpl.default_extension}).html(fmt);\n",
       "        fmt_picker.append(option)\n",
       "    }\n",
       "\n",
       "    // Add hover states to the ui-buttons\n",
       "    $( \".ui-button\" ).hover(\n",
       "        function() { $(this).addClass(\"ui-state-hover\");},\n",
       "        function() { $(this).removeClass(\"ui-state-hover\");}\n",
       "    );\n",
       "\n",
       "    var status_bar = $('<span class=\"mpl-message\"/>');\n",
       "    nav_element.append(status_bar);\n",
       "    this.message = status_bar[0];\n",
       "}\n",
       "\n",
       "mpl.figure.prototype.request_resize = function(x_pixels, y_pixels) {\n",
       "    // Request matplotlib to resize the figure. Matplotlib will then trigger a resize in the client,\n",
       "    // which will in turn request a refresh of the image.\n",
       "    this.send_message('resize', {'width': x_pixels, 'height': y_pixels});\n",
       "}\n",
       "\n",
       "mpl.figure.prototype.send_message = function(type, properties) {\n",
       "    properties['type'] = type;\n",
       "    properties['figure_id'] = this.id;\n",
       "    this.ws.send(JSON.stringify(properties));\n",
       "}\n",
       "\n",
       "mpl.figure.prototype.send_draw_message = function() {\n",
       "    if (!this.waiting) {\n",
       "        this.waiting = true;\n",
       "        this.ws.send(JSON.stringify({type: \"draw\", figure_id: this.id}));\n",
       "    }\n",
       "}\n",
       "\n",
       "\n",
       "mpl.figure.prototype.handle_save = function(fig, msg) {\n",
       "    var format_dropdown = fig.format_dropdown;\n",
       "    var format = format_dropdown.options[format_dropdown.selectedIndex].value;\n",
       "    fig.ondownload(fig, format);\n",
       "}\n",
       "\n",
       "\n",
       "mpl.figure.prototype.handle_resize = function(fig, msg) {\n",
       "    var size = msg['size'];\n",
       "    if (size[0] != fig.canvas.width || size[1] != fig.canvas.height) {\n",
       "        fig._resize_canvas(size[0], size[1]);\n",
       "        fig.send_message(\"refresh\", {});\n",
       "    };\n",
       "}\n",
       "\n",
       "mpl.figure.prototype.handle_rubberband = function(fig, msg) {\n",
       "    var x0 = msg['x0'] / mpl.ratio;\n",
       "    var y0 = (fig.canvas.height - msg['y0']) / mpl.ratio;\n",
       "    var x1 = msg['x1'] / mpl.ratio;\n",
       "    var y1 = (fig.canvas.height - msg['y1']) / mpl.ratio;\n",
       "    x0 = Math.floor(x0) + 0.5;\n",
       "    y0 = Math.floor(y0) + 0.5;\n",
       "    x1 = Math.floor(x1) + 0.5;\n",
       "    y1 = Math.floor(y1) + 0.5;\n",
       "    var min_x = Math.min(x0, x1);\n",
       "    var min_y = Math.min(y0, y1);\n",
       "    var width = Math.abs(x1 - x0);\n",
       "    var height = Math.abs(y1 - y0);\n",
       "\n",
       "    fig.rubberband_context.clearRect(\n",
       "        0, 0, fig.canvas.width, fig.canvas.height);\n",
       "\n",
       "    fig.rubberband_context.strokeRect(min_x, min_y, width, height);\n",
       "}\n",
       "\n",
       "mpl.figure.prototype.handle_figure_label = function(fig, msg) {\n",
       "    // Updates the figure title.\n",
       "    fig.header.textContent = msg['label'];\n",
       "}\n",
       "\n",
       "mpl.figure.prototype.handle_cursor = function(fig, msg) {\n",
       "    var cursor = msg['cursor'];\n",
       "    switch(cursor)\n",
       "    {\n",
       "    case 0:\n",
       "        cursor = 'pointer';\n",
       "        break;\n",
       "    case 1:\n",
       "        cursor = 'default';\n",
       "        break;\n",
       "    case 2:\n",
       "        cursor = 'crosshair';\n",
       "        break;\n",
       "    case 3:\n",
       "        cursor = 'move';\n",
       "        break;\n",
       "    }\n",
       "    fig.rubberband_canvas.style.cursor = cursor;\n",
       "}\n",
       "\n",
       "mpl.figure.prototype.handle_message = function(fig, msg) {\n",
       "    fig.message.textContent = msg['message'];\n",
       "}\n",
       "\n",
       "mpl.figure.prototype.handle_draw = function(fig, msg) {\n",
       "    // Request the server to send over a new figure.\n",
       "    fig.send_draw_message();\n",
       "}\n",
       "\n",
       "mpl.figure.prototype.handle_image_mode = function(fig, msg) {\n",
       "    fig.image_mode = msg['mode'];\n",
       "}\n",
       "\n",
       "mpl.figure.prototype.updated_canvas_event = function() {\n",
       "    // Called whenever the canvas gets updated.\n",
       "    this.send_message(\"ack\", {});\n",
       "}\n",
       "\n",
       "// A function to construct a web socket function for onmessage handling.\n",
       "// Called in the figure constructor.\n",
       "mpl.figure.prototype._make_on_message_function = function(fig) {\n",
       "    return function socket_on_message(evt) {\n",
       "        if (evt.data instanceof Blob) {\n",
       "            /* FIXME: We get \"Resource interpreted as Image but\n",
       "             * transferred with MIME type text/plain:\" errors on\n",
       "             * Chrome.  But how to set the MIME type?  It doesn't seem\n",
       "             * to be part of the websocket stream */\n",
       "            evt.data.type = \"image/png\";\n",
       "\n",
       "            /* Free the memory for the previous frames */\n",
       "            if (fig.imageObj.src) {\n",
       "                (window.URL || window.webkitURL).revokeObjectURL(\n",
       "                    fig.imageObj.src);\n",
       "            }\n",
       "\n",
       "            fig.imageObj.src = (window.URL || window.webkitURL).createObjectURL(\n",
       "                evt.data);\n",
       "            fig.updated_canvas_event();\n",
       "            fig.waiting = false;\n",
       "            return;\n",
       "        }\n",
       "        else if (typeof evt.data === 'string' && evt.data.slice(0, 21) == \"data:image/png;base64\") {\n",
       "            fig.imageObj.src = evt.data;\n",
       "            fig.updated_canvas_event();\n",
       "            fig.waiting = false;\n",
       "            return;\n",
       "        }\n",
       "\n",
       "        var msg = JSON.parse(evt.data);\n",
       "        var msg_type = msg['type'];\n",
       "\n",
       "        // Call the  \"handle_{type}\" callback, which takes\n",
       "        // the figure and JSON message as its only arguments.\n",
       "        try {\n",
       "            var callback = fig[\"handle_\" + msg_type];\n",
       "        } catch (e) {\n",
       "            console.log(\"No handler for the '\" + msg_type + \"' message type: \", msg);\n",
       "            return;\n",
       "        }\n",
       "\n",
       "        if (callback) {\n",
       "            try {\n",
       "                // console.log(\"Handling '\" + msg_type + \"' message: \", msg);\n",
       "                callback(fig, msg);\n",
       "            } catch (e) {\n",
       "                console.log(\"Exception inside the 'handler_\" + msg_type + \"' callback:\", e, e.stack, msg);\n",
       "            }\n",
       "        }\n",
       "    };\n",
       "}\n",
       "\n",
       "// from http://stackoverflow.com/questions/1114465/getting-mouse-location-in-canvas\n",
       "mpl.findpos = function(e) {\n",
       "    //this section is from http://www.quirksmode.org/js/events_properties.html\n",
       "    var targ;\n",
       "    if (!e)\n",
       "        e = window.event;\n",
       "    if (e.target)\n",
       "        targ = e.target;\n",
       "    else if (e.srcElement)\n",
       "        targ = e.srcElement;\n",
       "    if (targ.nodeType == 3) // defeat Safari bug\n",
       "        targ = targ.parentNode;\n",
       "\n",
       "    // jQuery normalizes the pageX and pageY\n",
       "    // pageX,Y are the mouse positions relative to the document\n",
       "    // offset() returns the position of the element relative to the document\n",
       "    var x = e.pageX - $(targ).offset().left;\n",
       "    var y = e.pageY - $(targ).offset().top;\n",
       "\n",
       "    return {\"x\": x, \"y\": y};\n",
       "};\n",
       "\n",
       "/*\n",
       " * return a copy of an object with only non-object keys\n",
       " * we need this to avoid circular references\n",
       " * http://stackoverflow.com/a/24161582/3208463\n",
       " */\n",
       "function simpleKeys (original) {\n",
       "  return Object.keys(original).reduce(function (obj, key) {\n",
       "    if (typeof original[key] !== 'object')\n",
       "        obj[key] = original[key]\n",
       "    return obj;\n",
       "  }, {});\n",
       "}\n",
       "\n",
       "mpl.figure.prototype.mouse_event = function(event, name) {\n",
       "    var canvas_pos = mpl.findpos(event)\n",
       "\n",
       "    if (name === 'button_press')\n",
       "    {\n",
       "        this.canvas.focus();\n",
       "        this.canvas_div.focus();\n",
       "    }\n",
       "\n",
       "    var x = canvas_pos.x * mpl.ratio;\n",
       "    var y = canvas_pos.y * mpl.ratio;\n",
       "\n",
       "    this.send_message(name, {x: x, y: y, button: event.button,\n",
       "                             step: event.step,\n",
       "                             guiEvent: simpleKeys(event)});\n",
       "\n",
       "    /* This prevents the web browser from automatically changing to\n",
       "     * the text insertion cursor when the button is pressed.  We want\n",
       "     * to control all of the cursor setting manually through the\n",
       "     * 'cursor' event from matplotlib */\n",
       "    event.preventDefault();\n",
       "    return false;\n",
       "}\n",
       "\n",
       "mpl.figure.prototype._key_event_extra = function(event, name) {\n",
       "    // Handle any extra behaviour associated with a key event\n",
       "}\n",
       "\n",
       "mpl.figure.prototype.key_event = function(event, name) {\n",
       "\n",
       "    // Prevent repeat events\n",
       "    if (name == 'key_press')\n",
       "    {\n",
       "        if (event.which === this._key)\n",
       "            return;\n",
       "        else\n",
       "            this._key = event.which;\n",
       "    }\n",
       "    if (name == 'key_release')\n",
       "        this._key = null;\n",
       "\n",
       "    var value = '';\n",
       "    if (event.ctrlKey && event.which != 17)\n",
       "        value += \"ctrl+\";\n",
       "    if (event.altKey && event.which != 18)\n",
       "        value += \"alt+\";\n",
       "    if (event.shiftKey && event.which != 16)\n",
       "        value += \"shift+\";\n",
       "\n",
       "    value += 'k';\n",
       "    value += event.which.toString();\n",
       "\n",
       "    this._key_event_extra(event, name);\n",
       "\n",
       "    this.send_message(name, {key: value,\n",
       "                             guiEvent: simpleKeys(event)});\n",
       "    return false;\n",
       "}\n",
       "\n",
       "mpl.figure.prototype.toolbar_button_onclick = function(name) {\n",
       "    if (name == 'download') {\n",
       "        this.handle_save(this, null);\n",
       "    } else {\n",
       "        this.send_message(\"toolbar_button\", {name: name});\n",
       "    }\n",
       "};\n",
       "\n",
       "mpl.figure.prototype.toolbar_button_onmouseover = function(tooltip) {\n",
       "    this.message.textContent = tooltip;\n",
       "};\n",
       "mpl.toolbar_items = [[\"Home\", \"Reset original view\", \"fa fa-home icon-home\", \"home\"], [\"Back\", \"Back to  previous view\", \"fa fa-arrow-left icon-arrow-left\", \"back\"], [\"Forward\", \"Forward to next view\", \"fa fa-arrow-right icon-arrow-right\", \"forward\"], [\"\", \"\", \"\", \"\"], [\"Pan\", \"Pan axes with left mouse, zoom with right\", \"fa fa-arrows icon-move\", \"pan\"], [\"Zoom\", \"Zoom to rectangle\", \"fa fa-square-o icon-check-empty\", \"zoom\"], [\"\", \"\", \"\", \"\"], [\"Download\", \"Download plot\", \"fa fa-floppy-o icon-save\", \"download\"]];\n",
       "\n",
       "mpl.extensions = [\"eps\", \"jpeg\", \"pdf\", \"png\", \"ps\", \"raw\", \"svg\", \"tif\"];\n",
       "\n",
       "mpl.default_extension = \"png\";var comm_websocket_adapter = function(comm) {\n",
       "    // Create a \"websocket\"-like object which calls the given IPython comm\n",
       "    // object with the appropriate methods. Currently this is a non binary\n",
       "    // socket, so there is still some room for performance tuning.\n",
       "    var ws = {};\n",
       "\n",
       "    ws.close = function() {\n",
       "        comm.close()\n",
       "    };\n",
       "    ws.send = function(m) {\n",
       "        //console.log('sending', m);\n",
       "        comm.send(m);\n",
       "    };\n",
       "    // Register the callback with on_msg.\n",
       "    comm.on_msg(function(msg) {\n",
       "        //console.log('receiving', msg['content']['data'], msg);\n",
       "        // Pass the mpl event to the overriden (by mpl) onmessage function.\n",
       "        ws.onmessage(msg['content']['data'])\n",
       "    });\n",
       "    return ws;\n",
       "}\n",
       "\n",
       "mpl.mpl_figure_comm = function(comm, msg) {\n",
       "    // This is the function which gets called when the mpl process\n",
       "    // starts-up an IPython Comm through the \"matplotlib\" channel.\n",
       "\n",
       "    var id = msg.content.data.id;\n",
       "    // Get hold of the div created by the display call when the Comm\n",
       "    // socket was opened in Python.\n",
       "    var element = $(\"#\" + id);\n",
       "    var ws_proxy = comm_websocket_adapter(comm)\n",
       "\n",
       "    function ondownload(figure, format) {\n",
       "        window.open(figure.imageObj.src);\n",
       "    }\n",
       "\n",
       "    var fig = new mpl.figure(id, ws_proxy,\n",
       "                           ondownload,\n",
       "                           element.get(0));\n",
       "\n",
       "    // Call onopen now - mpl needs it, as it is assuming we've passed it a real\n",
       "    // web socket which is closed, not our websocket->open comm proxy.\n",
       "    ws_proxy.onopen();\n",
       "\n",
       "    fig.parent_element = element.get(0);\n",
       "    fig.cell_info = mpl.find_output_cell(\"<div id='\" + id + \"'></div>\");\n",
       "    if (!fig.cell_info) {\n",
       "        console.error(\"Failed to find cell for figure\", id, fig);\n",
       "        return;\n",
       "    }\n",
       "\n",
       "    var output_index = fig.cell_info[2]\n",
       "    var cell = fig.cell_info[0];\n",
       "\n",
       "};\n",
       "\n",
       "mpl.figure.prototype.handle_close = function(fig, msg) {\n",
       "    var width = fig.canvas.width/mpl.ratio\n",
       "    fig.root.unbind('remove')\n",
       "\n",
       "    // Update the output cell to use the data from the current canvas.\n",
       "    fig.push_to_output();\n",
       "    var dataURL = fig.canvas.toDataURL();\n",
       "    // Re-enable the keyboard manager in IPython - without this line, in FF,\n",
       "    // the notebook keyboard shortcuts fail.\n",
       "    IPython.keyboard_manager.enable()\n",
       "    $(fig.parent_element).html('<img src=\"' + dataURL + '\" width=\"' + width + '\">');\n",
       "    fig.close_ws(fig, msg);\n",
       "}\n",
       "\n",
       "mpl.figure.prototype.close_ws = function(fig, msg){\n",
       "    fig.send_message('closing', msg);\n",
       "    // fig.ws.close()\n",
       "}\n",
       "\n",
       "mpl.figure.prototype.push_to_output = function(remove_interactive) {\n",
       "    // Turn the data on the canvas into data in the output cell.\n",
       "    var width = this.canvas.width/mpl.ratio\n",
       "    var dataURL = this.canvas.toDataURL();\n",
       "    this.cell_info[1]['text/html'] = '<img src=\"' + dataURL + '\" width=\"' + width + '\">';\n",
       "}\n",
       "\n",
       "mpl.figure.prototype.updated_canvas_event = function() {\n",
       "    // Tell IPython that the notebook contents must change.\n",
       "    IPython.notebook.set_dirty(true);\n",
       "    this.send_message(\"ack\", {});\n",
       "    var fig = this;\n",
       "    // Wait a second, then push the new image to the DOM so\n",
       "    // that it is saved nicely (might be nice to debounce this).\n",
       "    setTimeout(function () { fig.push_to_output() }, 1000);\n",
       "}\n",
       "\n",
       "mpl.figure.prototype._init_toolbar = function() {\n",
       "    var fig = this;\n",
       "\n",
       "    var nav_element = $('<div/>')\n",
       "    nav_element.attr('style', 'width: 100%');\n",
       "    this.root.append(nav_element);\n",
       "\n",
       "    // Define a callback function for later on.\n",
       "    function toolbar_event(event) {\n",
       "        return fig.toolbar_button_onclick(event['data']);\n",
       "    }\n",
       "    function toolbar_mouse_event(event) {\n",
       "        return fig.toolbar_button_onmouseover(event['data']);\n",
       "    }\n",
       "\n",
       "    for(var toolbar_ind in mpl.toolbar_items){\n",
       "        var name = mpl.toolbar_items[toolbar_ind][0];\n",
       "        var tooltip = mpl.toolbar_items[toolbar_ind][1];\n",
       "        var image = mpl.toolbar_items[toolbar_ind][2];\n",
       "        var method_name = mpl.toolbar_items[toolbar_ind][3];\n",
       "\n",
       "        if (!name) { continue; };\n",
       "\n",
       "        var button = $('<button class=\"btn btn-default\" href=\"#\" title=\"' + name + '\"><i class=\"fa ' + image + ' fa-lg\"></i></button>');\n",
       "        button.click(method_name, toolbar_event);\n",
       "        button.mouseover(tooltip, toolbar_mouse_event);\n",
       "        nav_element.append(button);\n",
       "    }\n",
       "\n",
       "    // Add the status bar.\n",
       "    var status_bar = $('<span class=\"mpl-message\" style=\"text-align:right; float: right;\"/>');\n",
       "    nav_element.append(status_bar);\n",
       "    this.message = status_bar[0];\n",
       "\n",
       "    // Add the close button to the window.\n",
       "    var buttongrp = $('<div class=\"btn-group inline pull-right\"></div>');\n",
       "    var button = $('<button class=\"btn btn-mini btn-primary\" href=\"#\" title=\"Stop Interaction\"><i class=\"fa fa-power-off icon-remove icon-large\"></i></button>');\n",
       "    button.click(function (evt) { fig.handle_close(fig, {}); } );\n",
       "    button.mouseover('Stop Interaction', toolbar_mouse_event);\n",
       "    buttongrp.append(button);\n",
       "    var titlebar = this.root.find($('.ui-dialog-titlebar'));\n",
       "    titlebar.prepend(buttongrp);\n",
       "}\n",
       "\n",
       "mpl.figure.prototype._root_extra_style = function(el){\n",
       "    var fig = this\n",
       "    el.on(\"remove\", function(){\n",
       "\tfig.close_ws(fig, {});\n",
       "    });\n",
       "}\n",
       "\n",
       "mpl.figure.prototype._canvas_extra_style = function(el){\n",
       "    // this is important to make the div 'focusable\n",
       "    el.attr('tabindex', 0)\n",
       "    // reach out to IPython and tell the keyboard manager to turn it's self\n",
       "    // off when our div gets focus\n",
       "\n",
       "    // location in version 3\n",
       "    if (IPython.notebook.keyboard_manager) {\n",
       "        IPython.notebook.keyboard_manager.register_events(el);\n",
       "    }\n",
       "    else {\n",
       "        // location in version 2\n",
       "        IPython.keyboard_manager.register_events(el);\n",
       "    }\n",
       "\n",
       "}\n",
       "\n",
       "mpl.figure.prototype._key_event_extra = function(event, name) {\n",
       "    var manager = IPython.notebook.keyboard_manager;\n",
       "    if (!manager)\n",
       "        manager = IPython.keyboard_manager;\n",
       "\n",
       "    // Check for shift+enter\n",
       "    if (event.shiftKey && event.which == 13) {\n",
       "        this.canvas_div.blur();\n",
       "        // select the cell after this one\n",
       "        var index = IPython.notebook.find_cell_index(this.cell_info[0]);\n",
       "        IPython.notebook.select(index + 1);\n",
       "    }\n",
       "}\n",
       "\n",
       "mpl.figure.prototype.handle_save = function(fig, msg) {\n",
       "    fig.ondownload(fig, null);\n",
       "}\n",
       "\n",
       "\n",
       "mpl.find_output_cell = function(html_output) {\n",
       "    // Return the cell and output element which can be found *uniquely* in the notebook.\n",
       "    // Note - this is a bit hacky, but it is done because the \"notebook_saving.Notebook\"\n",
       "    // IPython event is triggered only after the cells have been serialised, which for\n",
       "    // our purposes (turning an active figure into a static one), is too late.\n",
       "    var cells = IPython.notebook.get_cells();\n",
       "    var ncells = cells.length;\n",
       "    for (var i=0; i<ncells; i++) {\n",
       "        var cell = cells[i];\n",
       "        if (cell.cell_type === 'code'){\n",
       "            for (var j=0; j<cell.output_area.outputs.length; j++) {\n",
       "                var data = cell.output_area.outputs[j];\n",
       "                if (data.data) {\n",
       "                    // IPython >= 3 moved mimebundle to data attribute of output\n",
       "                    data = data.data;\n",
       "                }\n",
       "                if (data['text/html'] == html_output) {\n",
       "                    return [cell, data, j];\n",
       "                }\n",
       "            }\n",
       "        }\n",
       "    }\n",
       "}\n",
       "\n",
       "// Register the function which deals with the matplotlib target/channel.\n",
       "// The kernel may be null if the page has been refreshed.\n",
       "if (IPython.notebook.kernel != null) {\n",
       "    IPython.notebook.kernel.comm_manager.register_target('matplotlib', mpl.mpl_figure_comm);\n",
       "}\n"
      ],
      "text/plain": [
       "<IPython.core.display.Javascript object>"
      ]
     },
     "metadata": {},
     "output_type": "display_data"
    },
    {
     "data": {
      "text/html": [
       "<img src=\"data:image/png;base64,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\" width=\"640\">"
      ],
      "text/plain": [
       "<IPython.core.display.HTML object>"
      ]
     },
     "metadata": {},
     "output_type": "display_data"
    },
    {
     "data": {
      "text/plain": [
       "(array([  1.00000000e+00,   0.00000000e+00,   0.00000000e+00,\n",
       "          0.00000000e+00,   0.00000000e+00,   0.00000000e+00,\n",
       "          0.00000000e+00,   2.00000000e+00,   0.00000000e+00,\n",
       "          0.00000000e+00,   0.00000000e+00,   0.00000000e+00,\n",
       "          0.00000000e+00,   3.00000000e+00,   0.00000000e+00,\n",
       "          1.00000000e+00,   0.00000000e+00,   0.00000000e+00,\n",
       "          0.00000000e+00,   0.00000000e+00,   0.00000000e+00,\n",
       "          2.00000000e+00,   0.00000000e+00,   0.00000000e+00,\n",
       "          3.00000000e+00,   0.00000000e+00,   2.00000000e+00,\n",
       "          7.00000000e+00,   4.00000000e+00,   3.00000000e+00,\n",
       "          1.50000000e+01,   3.40000000e+01,   7.50000000e+01,\n",
       "          8.33600000e+03,   8.75000000e+02,   3.43000000e+02,\n",
       "          2.87000000e+02,   2.66000000e+02,   2.90000000e+02,\n",
       "          4.75000000e+02,   8.20000000e+02,   1.33700000e+03,\n",
       "          2.03600000e+03,   2.38900000e+03,   2.81800000e+03,\n",
       "          2.99300000e+03,   2.88200000e+03,   2.76000000e+03,\n",
       "          2.65900000e+03,   2.32600000e+03,   2.03200000e+03,\n",
       "          1.87600000e+03,   1.70200000e+03,   1.59000000e+03,\n",
       "          1.40900000e+03,   1.17600000e+03,   1.05900000e+03,\n",
       "          9.45000000e+02,   7.53000000e+02,   6.87000000e+02,\n",
       "          5.19000000e+02,   4.60000000e+02,   3.53000000e+02,\n",
       "          3.10000000e+02,   2.42000000e+02,   1.96000000e+02,\n",
       "          1.27000000e+02,   1.34000000e+02,   6.20000000e+01,\n",
       "          5.70000000e+01,   4.80000000e+01,   4.60000000e+01,\n",
       "          3.70000000e+01,   3.70000000e+01,   2.20000000e+01,\n",
       "          1.80000000e+01,   1.30000000e+01,   3.00000000e+00,\n",
       "          8.00000000e+00,   4.00000000e+00,   1.00000000e+00,\n",
       "          1.00000000e+00,   7.00000000e+00,   0.00000000e+00,\n",
       "          5.00000000e+00,   7.00000000e+00,   2.00000000e+00,\n",
       "          5.00000000e+00,   0.00000000e+00,   0.00000000e+00,\n",
       "          0.00000000e+00,   0.00000000e+00,   0.00000000e+00,\n",
       "          0.00000000e+00,   0.00000000e+00,   0.00000000e+00,\n",
       "          0.00000000e+00,   1.00000000e+00,   0.00000000e+00,\n",
       "          2.00000000e+00]),\n",
       " array([-3.28232  , -3.1846586, -3.0869972, -2.9893358, -2.8916744,\n",
       "        -2.794013 , -2.6963516, -2.5986902, -2.5010288, -2.4033674,\n",
       "        -2.305706 , -2.2080446, -2.1103832, -2.0127218, -1.9150604,\n",
       "        -1.817399 , -1.7197376, -1.6220762, -1.5244148, -1.4267534,\n",
       "        -1.329092 , -1.2314306, -1.1337692, -1.0361078, -0.9384464,\n",
       "        -0.840785 , -0.7431236, -0.6454622, -0.5478008, -0.4501394,\n",
       "        -0.352478 , -0.2548166, -0.1571552, -0.0594938,  0.0381676,\n",
       "         0.135829 ,  0.2334904,  0.3311518,  0.4288132,  0.5264746,\n",
       "         0.624136 ,  0.7217974,  0.8194588,  0.9171202,  1.0147816,\n",
       "         1.112443 ,  1.2101044,  1.3077658,  1.4054272,  1.5030886,\n",
       "         1.60075  ,  1.6984114,  1.7960728,  1.8937342,  1.9913956,\n",
       "         2.089057 ,  2.1867184,  2.2843798,  2.3820412,  2.4797026,\n",
       "         2.577364 ,  2.6750254,  2.7726868,  2.8703482,  2.9680096,\n",
       "         3.065671 ,  3.1633324,  3.2609938,  3.3586552,  3.4563166,\n",
       "         3.553978 ,  3.6516394,  3.7493008,  3.8469622,  3.9446236,\n",
       "         4.042285 ,  4.1399464,  4.2376078,  4.3352692,  4.4329306,\n",
       "         4.530592 ,  4.6282534,  4.7259148,  4.8235762,  4.9212376,\n",
       "         5.018899 ,  5.1165604,  5.2142218,  5.3118832,  5.4095446,\n",
       "         5.507206 ,  5.6048674,  5.7025288,  5.8001902,  5.8978516,\n",
       "         5.995513 ,  6.0931744,  6.1908358,  6.2884972,  6.3861586,  6.48382  ]),\n",
       " <a list of 100 Patch objects>)"
      ]
     },
     "execution_count": 26,
     "metadata": {},
     "output_type": "execute_result"
    }
   ],
   "source": [
    "mag_diff = sdss_spec['psfMag_g']-sdss_spec['modelMag_g']\n",
    "plt.hist(mag_diff, bins=100)\n",
    "\n",
    "# complete"
   ]
  },
  {
   "cell_type": "markdown",
   "metadata": {
    "slideshow": {
     "slide_type": "slide"
    }
   },
   "source": [
    "Pandas can also be used to aggregate the results of a search.\n",
    "\n",
    "**Problem 3d**\n",
    "\n",
    "How many extended sources (`type` = `ext`) have `modelMag_i` between 19 and 20? Use as few lines as possible."
   ]
  },
  {
   "cell_type": "code",
   "execution_count": null,
   "metadata": {
    "collapsed": true,
    "slideshow": {
     "slide_type": "subslide"
    }
   },
   "outputs": [],
   "source": [
    "# complete"
   ]
  },
  {
   "cell_type": "markdown",
   "metadata": {
    "slideshow": {
     "slide_type": "slide"
    }
   },
   "source": [
    "`pandas` also enables [`GROUP BY`](http://pandas.pydata.org/pandas-docs/stable/user_guide/groupby.html) operations, where the data are split based on some criterion, a function is then applied to the groups, and the results are then combined back into a data structure."
   ]
  },
  {
   "cell_type": "markdown",
   "metadata": {
    "slideshow": {
     "slide_type": "slide"
    }
   },
   "source": [
    "**Problem 3e**\n",
    "\n",
    "Group the data by their `type` and then report the minimum, median, and maximum redshift of each group. Can you immediately tell anything about these sources based on these results?\n",
    "\n",
    "*Hint* - just execute the cell below."
   ]
  },
  {
   "cell_type": "code",
   "execution_count": 27,
   "metadata": {
    "slideshow": {
     "slide_type": "subslide"
    }
   },
   "outputs": [
    {
     "name": "stdout",
     "output_type": "stream",
     "text": [
      "type\n",
      "ext   -0.005469\n",
      "ps    -0.010875\n",
      "Name: z, dtype: float64\n",
      "type\n",
      "ext    0.107352\n",
      "ps     0.000275\n",
      "Name: z, dtype: float64\n",
      "type\n",
      "ext    6.839257\n",
      "ps     6.687022\n",
      "Name: z, dtype: float64\n"
     ]
    }
   ],
   "source": [
    "grouped = sdss_spec.groupby([sdss_spec.type])\n",
    "print(grouped['z'].min())\n",
    "print(grouped['z'].median())\n",
    "print(grouped['z'].max())"
   ]
  },
  {
   "cell_type": "markdown",
   "metadata": {
    "slideshow": {
     "slide_type": "slide"
    }
   },
   "source": [
    "Finally, we have only briefly discussed joining tables, but this is where relational databases really shine.\n",
    "\n",
    "For this example we only have a single table, so we will exclude any examples of a `pandas` join, but there is functionality to [join or merge](https://pandas.pydata.org/pandas-docs/stable/user_guide/merging.html) dataframes in a fashion that is fully analogous to databases."
   ]
  },
  {
   "cell_type": "markdown",
   "metadata": {
    "slideshow": {
     "slide_type": "slide"
    }
   },
   "source": [
    "In summary, there are many different possible solutions for data storage and management. \n",
    "\n",
    "For \"medium\" to \"big\" data that won't easily fit into memory ($\\sim$16 GB), it is likely that a database is your best solution. For slightly smaller problems `pandas` provides a really nice, lightweight alternative to a full blown database that nevertheless maintains a lot of the same functionality and power."
   ]
  },
  {
   "cell_type": "markdown",
   "metadata": {
    "slideshow": {
     "slide_type": "slide"
    }
   },
   "source": [
    "## Problem 4) We Aren't Done Talking About Your Laptop's Inadequacies"
   ]
  },
  {
   "cell_type": "markdown",
   "metadata": {
    "slideshow": {
     "slide_type": "slide"
    }
   },
   "source": [
    "So far we have been focused on only a single aspect of computing: storage (and your laptop sucks at that). \n",
    "\n",
    "But here's the thing - your laptop is also incredibly slow."
   ]
  },
  {
   "cell_type": "markdown",
   "metadata": {
    "slideshow": {
     "slide_type": "subslide"
    }
   },
   "source": [
    "Supposing for a moment that you could hold all (or even a significant fraction) of the information from LSST in memory on your laptop, you would still be out of luck, as you would die before you could actually process the data and make any meaningful calculations.\n",
    "\n",
    "(we argued that it would take [$\\sim$200 yr to process LSST on your laptop](https://github.com/LSSTC-DSFP/LSSTC-DSFP-Sessions/blob/master/Session5/Day1/PhotonsArentScienceSolutions.ipynb) in Session 5)"
   ]
  },
  {
   "cell_type": "markdown",
   "metadata": {
    "slideshow": {
     "slide_type": "subslide"
    }
   },
   "source": [
    "You are in luck, however, as you need not limit yourself to your laptop. You can take advantage of multiple computers, also known  as parallel processing.\n",
    "\n",
    "At a previous session, I asked Robert Lupton, one of the primary developers of the LSST photometric pipeline, \"How many CPUs are being used to process LSST data?\" To which he replied, \"However many are needed to process everything within 1 month.\""
   ]
  },
  {
   "cell_type": "markdown",
   "metadata": {
    "slideshow": {
     "slide_type": "subslide"
    }
   },
   "source": [
    "The critical point here is that if you can figure out how to split a calculation over multiple computers, then you can finish any calculation arbitrarily fast with enough processors (to within some limits, like the speed of light, etc)"
   ]
  },
  {
   "cell_type": "markdown",
   "metadata": {
    "slideshow": {
     "slide_type": "slide"
    }
   },
   "source": [
    "We will spend a lot more time talking about both efficient algorithm design and parallel processing later this week, but I want to close with a quick example that touches on each of these things."
   ]
  },
  {
   "cell_type": "markdown",
   "metadata": {
    "slideshow": {
     "slide_type": "subslide"
    }
   },
   "source": [
    "Suppose that you have some 2k x 2k detector (i.e. 4 million pixels), and you need to manipulate the data in that array. For instance, the detector will report the number of counts per pixel, but this number is larger than the actual number of detected photons by a factor $g$, the gain of the telescope.\n",
    "\n",
    "How long does it take divide every pixel by the gain?"
   ]
  },
  {
   "cell_type": "markdown",
   "metadata": {
    "slideshow": {
     "slide_type": "subslide"
    }
   },
   "source": [
    "(This is where I spend a moment telling you that - if you are going to time portions of your code as a means of measuring performance it is essential that you turn off *everything else* that may be running on your computer, as background processes can mess up your timing results)"
   ]
  },
  {
   "cell_type": "code",
   "execution_count": 28,
   "metadata": {
    "slideshow": {
     "slide_type": "subslide"
    }
   },
   "outputs": [
    {
     "name": "stdout",
     "output_type": "stream",
     "text": [
      "It takes 1.780213 s to correct for the gain\n"
     ]
    }
   ],
   "source": [
    "import time\n",
    "\n",
    "pixel_data = np.random.rand(4000000)\n",
    "photons = np.empty_like(pixel_data)\n",
    "\n",
    "tstart = time.time()\n",
    "for pix_num, pixel in enumerate(pixel_data):\n",
    "    photons[pix_num] = pixel/8\n",
    "trun = time.time() - tstart\n",
    "print('It takes {:.6f} s to correct for the gain'.format(trun))"
   ]
  },
  {
   "cell_type": "markdown",
   "metadata": {
    "slideshow": {
     "slide_type": "subslide"
    }
   },
   "source": [
    "1.5 s isn't too bad in the grand scheme of things. \n",
    "\n",
    "Except that this example should make you cringe. There is absolutely no need to use a for loop for these operations.\n",
    "\n",
    "This brings us to fast coding lesson number 1 - **vectorize everything**."
   ]
  },
  {
   "cell_type": "code",
   "execution_count": 29,
   "metadata": {
    "slideshow": {
     "slide_type": "subslide"
    }
   },
   "outputs": [
    {
     "name": "stdout",
     "output_type": "stream",
     "text": [
      "It takes 0.008029 s to correct for the gain\n"
     ]
    }
   ],
   "source": [
    "photons = np.empty_like(pixel_data)\n",
    "\n",
    "tstart = time.time()\n",
    "photons = pixel_data/8\n",
    "trun = time.time() - tstart\n",
    "print('It takes {:.6f} s to correct for the gain'.format(trun))"
   ]
  },
  {
   "cell_type": "markdown",
   "metadata": {
    "slideshow": {
     "slide_type": "subslide"
    }
   },
   "source": [
    "By removing the for loop we improve the speed of this particular calculation by a factor of $\\sim$125. That is a massive win."
   ]
  },
  {
   "cell_type": "markdown",
   "metadata": {
    "slideshow": {
     "slide_type": "subslide"
    }
   },
   "source": [
    "Alternatively, we could have sped up the operations via the use of parallel programing. The [`multiprocessing`](https://docs.python.org/2/library/multiprocessing.html) library in python makes it relatively easy to implement parallel operations. There are many different ways to implement parallel processing in python, here we will just use one simple example.\n",
    "\n",
    "(again, we will go over multiprocessing in far more detail later this week)"
   ]
  },
  {
   "cell_type": "code",
   "execution_count": 30,
   "metadata": {
    "slideshow": {
     "slide_type": "subslide"
    }
   },
   "outputs": [
    {
     "name": "stdout",
     "output_type": "stream",
     "text": [
      "It takes 13.377161 s to correct for the gain\n"
     ]
    }
   ],
   "source": [
    "from multiprocessing import Pool\n",
    "\n",
    "def divide_by_gain(number, gain=8):\n",
    "    return number/gain\n",
    "\n",
    "pool = Pool()\n",
    "\n",
    "tstart = time.time()\n",
    "photons = pool.map(divide_by_gain, pixel_data)\n",
    "trun = time.time() - tstart\n",
    "print('It takes {:.6f} s to correct for the gain'.format(trun))"
   ]
  },
  {
   "cell_type": "markdown",
   "metadata": {
    "slideshow": {
     "slide_type": "subslide"
    }
   },
   "source": [
    "Wait, parallel processing slows this down by a factor $\\sim$7? What's going on here? \n",
    "\n",
    "It turns out there is some overhead in copying the data and spawning multiple processes, and in this case that overhead is enormous. Of course, for more complex functions/operations (here we were only doing simple division), that overhead is tiny compared to the individual calculations and using multiple processors can lead to almost an $N$x gain in speed, where $N$ is the number of processors available."
   ]
  },
  {
   "cell_type": "markdown",
   "metadata": {
    "slideshow": {
     "slide_type": "subslide"
    }
   },
   "source": [
    "This brings me to fast coding lesson number 2 - **before you parallelize, profile**. (We will talk more about software profiling later in the week), but in short - there is no point to parallelizing inefficient operations. Even if the parallel gain calculation provided a factor of $\\sim$4 (the number of CPUS on my machine) speed up relative to our initial for loop, that factor of 4 is a waste compared to the factor of 125 gained by vectorizing the code."
   ]
  },
  {
   "cell_type": "markdown",
   "metadata": {
    "slideshow": {
     "slide_type": "slide"
    }
   },
   "source": [
    "## Conclusions"
   ]
  },
  {
   "cell_type": "markdown",
   "metadata": {
    "slideshow": {
     "slide_type": "subslide"
    }
   },
   "source": [
    "As we go through this week - think about the types of problems that you encounter in your own workflow, and consider how you might be able to improve that workflow by moving off of your laptop.\n",
    "\n",
    "This may come in several forms, including: superior data organization, better data structures (`pandas` or databases), more efficient algorithms, and finally parallel processing."
   ]
  }
 ],
 "metadata": {
  "kernelspec": {
   "display_name": "Python 3",
   "language": "python",
   "name": "python3"
  },
  "language_info": {
   "codemirror_mode": {
    "name": "ipython",
    "version": 3
   },
   "file_extension": ".py",
   "mimetype": "text/x-python",
   "name": "python",
   "nbconvert_exporter": "python",
   "pygments_lexer": "ipython3",
   "version": "3.6.2"
  }
 },
 "nbformat": 4,
 "nbformat_minor": 2
}
