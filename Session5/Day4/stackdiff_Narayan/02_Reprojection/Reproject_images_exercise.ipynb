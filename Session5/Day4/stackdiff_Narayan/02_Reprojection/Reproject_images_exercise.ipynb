{
 "cells": [
  {
   "cell_type": "markdown",
   "metadata": {},
   "source": [
    "# Image Reprojection Exercise\n",
    "#### Written by Gautham Narayan (gnarayan@stsci.edu) for LSST DSFP #5\n",
    "\n",
    "### We've already determined the WCS solution for two misalgined images in Exercise 1 using `astrometry.net` (`Register_images_exercise.ipynb`). Now we're going to reproject the images onto the same grid."
   ]
  },
  {
   "cell_type": "code",
   "execution_count": null,
   "metadata": {
    "collapsed": true
   },
   "outputs": [],
   "source": [
    "import numpy as np\n",
    "import matplotlib\n",
    "import astropy.io.fits as afits\n",
    "from astropy.wcs import WCS\n",
    "import reproject\n",
    "from astropy.visualization import ZScaleInterval\n",
    "import astropy.table as at\n",
    "import astropy.coordinates as coords\n",
    "import astropy.units as u\n",
    "from astropy.visualization.wcsaxes import WCSAxes\n",
    "import astropy.visualization.wcsaxes.frame as frame\n",
    "\n",
    "%matplotlib inline"
   ]
  },
  {
   "cell_type": "markdown",
   "metadata": {},
   "source": [
    "### If you didn't get through Exercise 1, that's OK! I saved my output! You can just use that if you'd like and press on!"
   ]
  },
  {
   "cell_type": "code",
   "execution_count": 2,
   "metadata": {},
   "outputs": [
    {
     "name": "stdout",
     "output_type": "stream",
     "text": [
      "original_misalignment.pdf           wdd7.080104_0214.1025_6-indx.png\r\n",
      "wdd7.040920_0452.051_6-indx.png     wdd7.080104_0214.1025_6-indx.xyls\r\n",
      "wdd7.040920_0452.051_6-indx.xyls    wdd7.080104_0214.1025_6-ngc.png\r\n",
      "wdd7.040920_0452.051_6-ngc.png      wdd7.080104_0214.1025_6-objs.png\r\n",
      "wdd7.040920_0452.051_6-objs.png     wdd7.080104_0214.1025_6.axy\r\n",
      "wdd7.040920_0452.051_6.axy          wdd7.080104_0214.1025_6.corr\r\n",
      "wdd7.040920_0452.051_6.corr         wdd7.080104_0214.1025_6.match\r\n",
      "wdd7.040920_0452.051_6.match        wdd7.080104_0214.1025_6.rdls\r\n",
      "wdd7.040920_0452.051_6.rdls         wdd7.080104_0214.1025_6.solved\r\n",
      "wdd7.040920_0452.051_6.solved       wdd7.080104_0214.1025_6.solved.fits\r\n",
      "wdd7.040920_0452.051_6.solved.fits  wdd7.080104_0214.1025_6.wcs\r\n",
      "wdd7.040920_0452.051_6.wcs          wdd7.080104_0214.1025_6.wcs.tan\r\n",
      "wdd7.040920_0452.051_6.wcs.tan\r\n"
     ]
    }
   ],
   "source": [
    "!ls ../01_Registration/out/"
   ]
  },
  {
   "cell_type": "markdown",
   "metadata": {},
   "source": [
    "### Open the two images and load the wcs solution that you created in the tangent plane (I used `wcs.tan` as my file extension)"
   ]
  },
  {
   "cell_type": "code",
   "execution_count": 3,
   "metadata": {},
   "outputs": [
    {
     "data": {
      "text/plain": [
       "u'/Users/eileengonzales/Dropbox/LSSTC_DSFP/LSSTC-DSFP-Sessions/Session5/Day4/stackdiff_Narayan/02_Reprojection'"
      ]
     },
     "execution_count": 3,
     "metadata": {},
     "output_type": "execute_result"
    }
   ],
   "source": [
    "pwd"
   ]
  },
  {
   "cell_type": "code",
   "execution_count": null,
   "metadata": {},
   "outputs": [],
   "source": [
    "# Open the fits file and get out dat data\n",
    "f1 = afits.open('../01_Registration/out/wdd7.040920_0452.051_6.solved.fits')\n",
    "f2 = afits.open('../01_Registration/out/wdd7.080104_0214.1025_6.solved.fits')\n",
    "\n",
    "f1_data = f1[0].data\n",
    "f2_data = f2[0].data\n",
    "\n",
    "# Load WCS solution\n",
    "f1_wcs = WCS(afits.Header.fromfile('../01_Registration/out/wdd7.040920_0452.051_6.wcs.tan'))\n",
    "f2_wcs = WCS(afits.Header.fromfile('../01_Registration/out/wdd7.080104_0214.1025_6.wcs.tan'))"
   ]
  },
  {
   "cell_type": "code",
   "execution_count": 7,
   "metadata": {},
   "outputs": [
    {
     "name": "stdout",
     "output_type": "stream",
     "text": [
      "[<astropy.io.fits.hdu.image.PrimaryHDU object at 0x103411950>]\n"
     ]
    }
   ],
   "source": [
    "print(f1)"
   ]
  },
  {
   "cell_type": "markdown",
   "metadata": {},
   "source": [
    "### OK, now reproject the data of the 2008 image on to the 2004 image. Look for functions in the `reproject` module. Remember to keep flux conservation in mind!"
   ]
  },
  {
   "cell_type": "code",
   "execution_count": 5,
   "metadata": {
    "collapsed": true
   },
   "outputs": [],
   "source": [
    "# 2008 image is f2, 2004 image is f1\n",
    "# reproject.reproject_exact(input_data, output_projection, shape_out=None, hdu_in=None, parallel=True)\n",
    "# input_data is f2's data and wcs solution and the output projection is that of the wcs for f1 since we are \n",
    "# projecting f2 onto f1. The shape needs to be that of the f1 data. Parallel =True is to parallelize the process\n",
    "\n",
    "f2_repro, f2_footprint = reproject.reproject_exact((f2_data, f2_wcs),f1_wcs, shape_out=f1_data.shape, parallel=True)"
   ]
  },
  {
   "cell_type": "markdown",
   "metadata": {},
   "source": [
    "### Now display the two images as you did in the last exercise - you should be able to copy and paste the same code even"
   ]
  },
  {
   "cell_type": "code",
   "execution_count": 6,
   "metadata": {},
   "outputs": [
    {
     "ename": "NameError",
     "evalue": "name 'figure' is not defined",
     "output_type": "error",
     "traceback": [
      "\u001b[0;31m---------------------------------------------------------------------------\u001b[0m",
      "\u001b[0;31mNameError\u001b[0m                                 Traceback (most recent call last)",
      "\u001b[0;32m<ipython-input-6-9ae37ef33d6a>\u001b[0m in \u001b[0;36m<module>\u001b[0;34m()\u001b[0m\n\u001b[1;32m      4\u001b[0m \u001b[0mf2s\u001b[0m \u001b[0;34m=\u001b[0m \u001b[0mzscaler\u001b[0m\u001b[0;34m(\u001b[0m\u001b[0mf2_repro\u001b[0m\u001b[0;34m)\u001b[0m\u001b[0;34m\u001b[0m\u001b[0m\n\u001b[1;32m      5\u001b[0m \u001b[0;34m\u001b[0m\u001b[0m\n\u001b[0;32m----> 6\u001b[0;31m \u001b[0mfig\u001b[0m \u001b[0;34m=\u001b[0m \u001b[0mfigure\u001b[0m\u001b[0;34m(\u001b[0m\u001b[0mfigsize\u001b[0m\u001b[0;34m=\u001b[0m\u001b[0;34m(\u001b[0m\u001b[0;36m10\u001b[0m\u001b[0;34m,\u001b[0m\u001b[0;36m4\u001b[0m\u001b[0;34m)\u001b[0m\u001b[0;34m)\u001b[0m\u001b[0;34m\u001b[0m\u001b[0m\n\u001b[0m\u001b[1;32m      7\u001b[0m \u001b[0max\u001b[0m \u001b[0;34m=\u001b[0m \u001b[0mfig\u001b[0m\u001b[0;34m.\u001b[0m\u001b[0madd_subplot\u001b[0m\u001b[0;34m(\u001b[0m\u001b[0;36m111\u001b[0m\u001b[0;34m)\u001b[0m\u001b[0;34m\u001b[0m\u001b[0m\n\u001b[1;32m      8\u001b[0m \u001b[0max\u001b[0m\u001b[0;34m.\u001b[0m\u001b[0mimshow\u001b[0m\u001b[0;34m(\u001b[0m\u001b[0mf1s\u001b[0m\u001b[0;34m.\u001b[0m\u001b[0mT\u001b[0m\u001b[0;34m,\u001b[0m \u001b[0mcmap\u001b[0m\u001b[0;34m=\u001b[0m\u001b[0;34m'Reds'\u001b[0m\u001b[0;34m,\u001b[0m\u001b[0morigin\u001b[0m\u001b[0;34m=\u001b[0m\u001b[0;34m'lower'\u001b[0m\u001b[0;34m)\u001b[0m  \u001b[0;31m#Transpose the flip the x and y axes, but not sure why. Maybe to make it easier to look at?\u001b[0m\u001b[0;34m\u001b[0m\u001b[0m\n",
      "\u001b[0;31mNameError\u001b[0m: name 'figure' is not defined"
     ]
    }
   ],
   "source": [
    "zscaler = ZScaleInterval(nsamples=1000, contrast=0.25)\n",
    "\n",
    "f1s = zscaler(f1_data)  #scalces the data and the reprojection\n",
    "f2s = zscaler(f2_repro)\n",
    "\n",
    "fig = figure(figsize=(10,4))\n",
    "ax = fig.add_subplot(111)\n",
    "ax.imshow(f1s.T, cmap='Reds',origin='lower')  #Transpose the flip the x and y axes, but not sure why. Maybe to make it easier to look at?\n",
    "ax.imshow(f2s.T, cmap='Blues', alpha=0.5,origin='lower') #Maybe to make it easier to look at?\n",
    "tight_layout()\n",
    "xlabel('x')\n",
    "ylabel('y')\n",
    "savefig('out/reprojected.pdf')"
   ]
  },
  {
   "cell_type": "code",
   "execution_count": null,
   "metadata": {},
   "outputs": [],
   "source": [
    "f1s.T.shape"
   ]
  },
  {
   "cell_type": "markdown",
   "metadata": {},
   "source": [
    "### Hopefully that's halfway reasonable looking compared to what we started from! For funsies, scale both images to have mean 1 and attempt to subtract them. Remember than there are `NaNs` in the reprojected image!"
   ]
  },
  {
   "cell_type": "code",
   "execution_count": null,
   "metadata": {
    "collapsed": true
   },
   "outputs": [],
   "source": [
    "#### You get to do this. You can look for NaNs in the image, or the reproject functions should return a footprint ####"
   ]
  },
  {
   "cell_type": "markdown",
   "metadata": {},
   "source": [
    "### Now construct a simple difference image from the original data"
   ]
  },
  {
   "cell_type": "code",
   "execution_count": null,
   "metadata": {
    "collapsed": true
   },
   "outputs": [],
   "source": [
    "#### You get to do this ####"
   ]
  },
  {
   "cell_type": "markdown",
   "metadata": {},
   "source": [
    "### Create a figure instance, zscale the differences and see what the residuals look like"
   ]
  },
  {
   "cell_type": "code",
   "execution_count": null,
   "metadata": {
    "collapsed": true
   },
   "outputs": [],
   "source": [
    "#### You get to do this ####"
   ]
  }
 ],
 "metadata": {
  "kernelspec": {
   "display_name": "Python (dsfp5)",
   "language": "python",
   "name": "dsfp5"
  },
  "language_info": {
   "codemirror_mode": {
    "name": "ipython",
    "version": 2
   },
   "file_extension": ".py",
   "mimetype": "text/x-python",
   "name": "python",
   "nbconvert_exporter": "python",
   "pygments_lexer": "ipython2",
   "version": "2.7.13"
  }
 },
 "nbformat": 4,
 "nbformat_minor": 1
}
