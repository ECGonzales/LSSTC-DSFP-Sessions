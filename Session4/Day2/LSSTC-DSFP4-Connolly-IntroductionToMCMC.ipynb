{
 "cells": [
  {
   "cell_type": "markdown",
   "metadata": {
    "slideshow": {
     "slide_type": "slide"
    }
   },
   "source": [
    "## A practical guide to MCMC \n",
    "### Andy Connolly (University of Washington) - ajc@astro.washington.edu\n",
    " \n",
    "### The objectives of this lecture\n",
    "- **A gentle (re)introduction to MCMC (from a mathematical and intuative perspective)**\n",
    "- An overview of probablistic programming\n",
    "- Hands on exercises using PYMC3 (from fitting a distribution to fitting data of increasing complex likelihoods)"
   ]
  },
  {
   "cell_type": "markdown",
   "metadata": {
    "slideshow": {
     "slide_type": "slide"
    }
   },
   "source": [
    "### What is the rationale behind Bayesian approaches\n",
    "\n",
    "Foundational: Breeding a statistician with a clergyman to produce the much sought honest statistician\n",
    "\n",
    "Bayesian statistics: Only a Bayesian Statistician is able to coherently explain the statement: If there is a 50-50 chance that something can go wrong, then 9 times out of ten it will\n",
    "\n",
    "\n",
    "<center><img src=\"figures/marg.png\" alt=\"marg\" style=\"width:600px;\"/></center>\n",
    "\n"
   ]
  },
  {
   "cell_type": "markdown",
   "metadata": {
    "slideshow": {
     "slide_type": "slide"
    }
   },
   "source": [
    "### For additional reading\n",
    "\n",
    "These lectures have been adapted from a range of different materials including\n",
    "- [A Practical Python Guide for the Analysis of Survey Data](http://press.princeton.edu/titles/10159.html) Chapter 5. (That yellow book)  \n",
    "- Thomas Wiecki: [``MCMC sampling for dummies\"](http://twiecki.github.io/blog/2015/11/10/mcmc-sampling/)\n",
    "- [Probabilistic Programming and Bayesian Methods for Hackers](http://nbviewer.jupyter.org/github/CamDavidsonPilon/Probabilistic-Programming-and-Bayesian-Methods-for-Hackers/blob/master/Chapter1_Introduction/Ch1_Introduction_PyMC2.ipynb) by Cam Davidson Pilon  (Lots of notebooks)\n",
    "- Abraham Flaxman's (UW) [discussion of MCMC](https://healthyalgorithms.com/)\n",
    "- [Astro 324 special topics](https://github.com/uw-astr-324-s17/astr-324-s17)course at the University of Washington"
   ]
  },
  {
   "cell_type": "markdown",
   "metadata": {
    "slideshow": {
     "slide_type": "slide"
    }
   },
   "source": [
    "### For those who want to dive deep:\n",
    "- [Andrieu et al. ``An Introduction to MCMC for Machine Learning\" (includes a few pages of history)\"](http://www.cs.princeton.edu/courses/archive/spr06/cos598C/papers/AndrieuFreitasDoucetJordan2003.pdf)"
   ]
  },
  {
   "cell_type": "markdown",
   "metadata": {
    "slideshow": {
     "slide_type": "slide"
    }
   },
   "source": [
    "### Software needed\n",
    "\n",
    "I will assume that you have numpy, scipy, matplotlib installed"
   ]
  },
  {
   "cell_type": "markdown",
   "metadata": {
    "slideshow": {
     "slide_type": "slide"
    }
   },
   "source": [
    "For the examples we will be using PYMC3 \n",
    "\n",
    "- pip install git+https://github.com/pymc-devs/pymc3\n",
    "\n",
    "To demonstrate how MCMC techniques sample we will use Jake Vanderplas's animation code\n",
    "- pip install JSAnimation\n",
    "\n",
    "Aside: PYMC3 should install Theano (a deep learning package) by default as it is used in many of the definitions of distributions. We will call Theano a couple of times in the later exercises"
   ]
  },
  {
   "cell_type": "markdown",
   "metadata": {
    "slideshow": {
     "slide_type": "slide"
    }
   },
   "source": [
    "### Testing it all works \n",
    "\n",
    "If you want to ensure that you have everything in place try to run the following piece of code (we will walk through what these lines mean as we go through the class). You should see something like the following figure\n",
    "\n",
    "<center><img src=\"figures/pymc3-gaussian.png\" alt=\"pymc3 test\" style=\"width:600px;\"/></center>\n"
   ]
  },
  {
   "cell_type": "markdown",
   "metadata": {
    "slideshow": {
     "slide_type": "slide"
    }
   },
   "source": [
    "### Exercise 1: What do you know about MCMC and how have you used it in the past\n",
    "\n",
    "Run the two notebook cells below to make sure that everything is up and running and while you are running the code discuss what you know about MCMC and ways in which you have used it"
   ]
  },
  {
   "cell_type": "code",
   "execution_count": 1,
   "metadata": {
    "collapsed": true,
    "slideshow": {
     "slide_type": "subslide"
    }
   },
   "outputs": [],
   "source": [
    "import numpy as np\n",
    "from matplotlib import pyplot as plt\n",
    "from scipy.stats import cauchy\n",
    "import scipy.stats as stats \n",
    "\n",
    "from JSAnimation import IPython_display\n",
    "import pymc3 as pm\n",
    "import theano as thea\n",
    "import theano.tensor as T \n",
    "%matplotlib inline"
   ]
  },
  {
   "cell_type": "code",
   "execution_count": 2,
   "metadata": {
    "slideshow": {
     "slide_type": "subslide"
    }
   },
   "outputs": [
    {
     "name": "stdout",
     "output_type": "stream",
     "text": [
      "Optimization terminated successfully.\n",
      "         Current function value: 429.000225\n",
      "         Iterations: 12\n",
      "         Function evaluations: 17\n",
      "         Gradient evaluations: 17\n"
     ]
    },
    {
     "name": "stderr",
     "output_type": "stream",
     "text": [
      "100%|██████████| 10000/10000 [00:06<00:00, 1473.19it/s]\n"
     ]
    },
    {
     "data": {
      "text/plain": [
       "array([[<matplotlib.axes._subplots.AxesSubplot object at 0x1175c9c50>,\n",
       "        <matplotlib.axes._subplots.AxesSubplot object at 0x1176e1470>],\n",
       "       [<matplotlib.axes._subplots.AxesSubplot object at 0x117752160>,\n",
       "        <matplotlib.axes._subplots.AxesSubplot object at 0x11779d940>]], dtype=object)"
      ]
     },
     "execution_count": 2,
     "metadata": {},
     "output_type": "execute_result"
    },
    {
     "data": {
      "image/png": "[encoded data removed]",
      "text/plain": [
       "<matplotlib.figure.Figure at 0x10f883780>"
      ]
     },
     "metadata": {},
     "output_type": "display_data"
    }
   ],
   "source": [
    "#generate a set of data\n",
    "N = 200\n",
    "mu_0 = 10.\n",
    "sigma_0 = 2.\n",
    "y = np.random.normal(loc=mu_0, scale=sigma_0, size=N)\n",
    "\n",
    "#run MCMC\n",
    "nsamples = 10000\n",
    "with pm.Model() as model:\n",
    "    mu = pm.Uniform('mu', lower=-20, upper=20)     # a simple uniform prior\n",
    "    sigma = pm.Uniform('sigma', lower=0, upper=10)\n",
    "\n",
    "    y_obs = pm.Normal('Y_obs', mu, sigma, observed=y) # we use the canned distributions in PYMC3\n",
    "   \n",
    "    start = pm.find_MAP()\n",
    "    step = pm.NUTS(scaling=start)\n",
    "    \n",
    "    trace = pm.sample(nsamples, step, start, random_seed=123, progressbar=True)\n",
    "#plot the trace\n",
    "pm.traceplot(trace)"
   ]
  },
  {
   "cell_type": "markdown",
   "metadata": {
    "slideshow": {
     "slide_type": "slide"
    }
   },
   "source": [
    "## Bayesian Statistical Inference\n",
    "\n",
    "As you have seen in the earlier lectures (and will likely see many times again) in Bayesian inference, we evaluate the **posterior probability** by using\n",
    "** data likelihood** and **prior** information: \n",
    " \n",
    "$$p(M,\\theta \\,|\\,D,I) = \\frac{p(D\\,|\\,M,\\theta,I)\\,p(M,\\theta\\,|\\,I)}{p(D\\,|\\,I)},$$\n",
    "\n",
    "The prior can be expanded as \n",
    "$$p(M,\\theta\\,|\\,I) = p(\\theta\\,|\\,M,I)\\,p(M\\,|\\,I).$$\n",
    " \n",
    "It is often the case that the ** evidence** $p(D\\,|\\,I)$ is not evaluated explictly since the posterior probability \n",
    "can be (re)normalized. "
   ]
  },
  {
   "cell_type": "markdown",
   "metadata": {
    "slideshow": {
     "slide_type": "slide"
    }
   },
   "source": [
    "**The Bayesian Statistical Inference process** is then\n",
    "* formulate the likelihood, $p(D\\,|\\,M,\\theta,I)$\n",
    "* chose a prior $p(M,\\theta\\,|\\,I)$, which incorporates *other information beyond the data in $D$*\n",
    "* determine the posterior pdf, $p(M,\\theta \\,|\\,D,I)$\n",
    "* search for the model parameters that maximize $p(M,\\theta \\,|\\,D,I)$ \n",
    "* quantify the uncertainty of the model parameter estimates (credible region)\n",
    " "
   ]
  },
  {
   "cell_type": "markdown",
   "metadata": {
    "slideshow": {
     "slide_type": "slide"
    }
   },
   "source": [
    " \n",
    " ### Estimating $p(\\theta)$\n",
    " \n",
    "We want to estimate $p(\\theta)$ given data, a likelihood, and priors. For the simplest (low dimensional) case we could simply undertake a grid search to evaluate $p(\\theta)$ for all $\\theta$. As you might expect this becomes quite slow for large dimensional data sets or for large samples. \n",
    "\n",
    "Once we have the posterior we wish to evaluate the multidimensional integral\n",
    "\n",
    "$$I(\\theta) = \\int g(\\theta) p(\\theta) \\, d\\theta$$\n",
    "\n",
    "**Why?**"
   ]
  },
  {
   "cell_type": "markdown",
   "metadata": {
    "slideshow": {
     "slide_type": "slide"
    }
   },
   "source": [
    "Three examples of this are:\n",
    "\n",
    "- Marginalization:  if $P$ elements of $\\theta$ are the model parameters, and the next $k-P$ parameters are nuisance parameters (often used to capture systematics within the data) we integrate over the space spanned by nuisance parameters $\\theta_j$, $j=(P+1), \\ldots, k$. For this this case, $g(\\theta)=1$. \n",
    "- Estimating the posterior mean: $g(\\theta)=\\theta_m$ and the integral is performed over all other parameters\n",
    "- Estimating credible regions (interval enclosing $1-\\alpha$ of the posterior probability): we evaluate the integral up to an unknown normalization constant because the posterior pdf can be renormalized to integrate to unity."
   ]
  },
  {
   "cell_type": "markdown",
   "metadata": {
    "slideshow": {
     "slide_type": "slide"
    }
   },
   "source": [
    "### Better(?) ways of estimating $p(\\theta)$: Monte Carlo Methods \n",
    "\n",
    "We can think of these methods as some form of randomized sampling. Monte Carlo methods have been used prior to computers including [Buffon's needle](https://en.wikipedia.org/wiki/Buffon%27s_needle) (Comte de Buffon) that was proposed as a method for estimating $\\pi$\n",
    "\n",
    "<center><img src=\"figures/220px-Buffon_needle.png\" alt=\"buffon\" style=\"width:300px;\"/></center>"
   ]
  },
  {
   "cell_type": "markdown",
   "metadata": {
    "slideshow": {
     "slide_type": "slide"
    }
   },
   "source": [
    "The modern version was invented in the late 1940s by Stanislaw Ulam, while he was working on nuclear weapons projects (studying the distance neutrons traveled through different materials), with von Neumann developing techniques for pseudorandom numbers. The name Monte Carlo was given to the method by Nick Metropolis (inventor of the Metropolis sampler, which evolved into one of the most famous MCMC algorithms, the Metropolis-Hastings algorithm). "
   ]
  },
  {
   "cell_type": "markdown",
   "metadata": {
    "slideshow": {
     "slide_type": "slide"
    }
   },
   "source": [
    "Assume that you can generate a distribution of M random numbers $\\theta_j$ uniformly sampled within an integration volume V. Then our interval can be evaluated as \n",
    "$$ I = \\int g(\\theta) \\, p(\\theta) \\, d\\theta = \\frac{V}{M} \\sum_{j=1}^M g(\\theta_j) \\, p(\\theta_j).$$\n",
    "    \n",
    "Note that in 1-D we can write a similar expression \n",
    "$$ I = \\int f(\\theta) \\, d\\theta = \\Delta \\, \\sum_{j=1}^M f(\\theta_j).$$\n",
    "\n",
    "where $ f(\\theta) = g(\\theta) \\, p(\\theta) $, and it is assumed that the values\n",
    "$\\theta_j$ are sampled on a regular grid with the step $\\Delta = V/M$ ($V$ here is the\n",
    "length of the sampling domain). This expression is the simplest example of\n",
    "numerical integration (\"rectangle rule\", which amounts to approximating $f(\\theta)$\n",
    "by a piecewise constant function)."
   ]
  },
  {
   "cell_type": "markdown",
   "metadata": {
    "slideshow": {
     "slide_type": "slide"
    }
   },
   "source": [
    "The reason why we expressed $f(\\theta)$\n",
    "as a product of $g(\\theta)$ and $p(\\theta)$ is that, as we will see shortly,\n",
    "we can generate a sample drawn from $p(\\theta)$ (instead of sampling on a \n",
    "regular grid), and this greatly improves the performance of numerical integration.\n",
    "\n",
    "One of the simplest numerical integration methods is generic Monte Carlo. We generate a random set of  M values  $\\theta$,  uniformly sampled within the integration volume  $V(\\theta)$ as ${ I \\approx { V\\theta \\over M} \\sum{j=1}^M g(\\theta_j) \\, p(\\theta_j). }$ This method is very inefficient when the integrated function greatly varies within the integration volume, as is the case for the posterior pdf. This problem is especially acute with high-dimensional integrals."
   ]
  },
  {
   "cell_type": "code",
   "execution_count": 3,
   "metadata": {
    "slideshow": {
     "slide_type": "slide"
    }
   },
   "outputs": [
    {
     "name": "stdout",
     "output_type": "stream",
     "text": [
      "fractional integration error for pi:\n",
      "M:  10 0.0185916357881\n",
      "M:  100 0.0567888221302\n",
      "M:  1000 0.0208787900987\n"
     ]
    },
    {
     "data": {
      "image/png": "[encoded data removed]",
      "text/plain": [
       "<matplotlib.figure.Figure at 0x11728b240>"
      ]
     },
     "metadata": {},
     "output_type": "display_data"
    }
   ],
   "source": [
    "print (\"fractional integration error for pi:\")\n",
    "for M in [10, 100, 1000]:\n",
    "    x = stats.uniform(0, 1).rvs(M)\n",
    "    y = stats.uniform(0, 1).rvs(M)\n",
    "    \n",
    "    r2 = x*x+y*y\n",
    "    print ('M: ', M, np.abs((np.pi-4.0*np.size(x[r2<1])/M)/np.pi)) # |pi-4*x/M|/pi\n",
    "\n",
    "fig, ax = plt.subplots(subplot_kw=dict(aspect='equal'))\n",
    "plt.plot(x, y, '.k', markersize=3, c='blue')\n",
    "plt.plot(x[r2<1], y[r2<1], '.k', markersize=3, c='red')\n",
    "ax.axis([0, 1, 0, 1], aspect='equal');\n",
    "plt.xlabel('x')\n",
    "plt.ylabel('y')\n",
    "plt.show()"
   ]
  },
  {
   "cell_type": "markdown",
   "metadata": {
    "collapsed": true,
    "slideshow": {
     "slide_type": "slide"
    }
   },
   "source": [
    "## Exercise 2: Extend this technique to >2 dimensions\n",
    "\n",
    "Estimate how many samples would be required to reach a 1% estimate of $\\pi$ (for the adventurous see Chapter 7 in \"A Practical Python Guide for the Analysis of Survey Data\" for formula for an n-dimensional hypersphere)\n"
   ]
  },
  {
   "cell_type": "code",
   "execution_count": 15,
   "metadata": {},
   "outputs": [
    {
     "name": "stdout",
     "output_type": "stream",
     "text": [
      "fractional integration error for pi:\n",
      "M:  10 0.358122181051\n",
      "M:  100 0.73160578084\n",
      "M:  1000 0.799511889892\n",
      "M:  10000 0.770651793545\n"
     ]
    }
   ],
   "source": [
    "print (\"fractional integration error for pi:\")\n",
    "for M in [10, 100, 1000, 10000]:\n",
    "    x = stats.uniform(0, 1).rvs(M)\n",
    "    y = stats.uniform(0, 1).rvs(M)\n",
    "    z = stats.uniform(0, 1).rvs(M)\n",
    "    \n",
    "    r2 = x*x+y*y+z*z   # V = 4/3 pi r^3\n",
    "    print ('M: ', M, np.abs((np.pi-8.0*(4/3)*(np.size(x[r2<1]))/M)/np.pi)) # not sure how to change this, but def is wrong.\n",
    "\n",
    "# fig, ax = plt.subplots(subplot_kw=dict(aspect='equal'))\n",
    "# plt.plot(x, y, z, '.k', markersize=3, c='blue')\n",
    "# plt.plot(x[r2<1], y[r2<1], z[r2<1], '.k', markersize=3, c='red')\n",
    "# ax.axis([0, 1, 0, 1], aspect='equal');\n",
    "# plt.xlabel('x')\n",
    "# plt.ylabel('y')\n",
    "# plt.show()"
   ]
  },
  {
   "cell_type": "markdown",
   "metadata": {
    "slideshow": {
     "slide_type": "slide"
    }
   },
   "source": [
    "##  Markov Chains\n",
    "\n",
    "A number of methods exist that are much more efficient than generic Monte Carlo integration. \n",
    "The most popular group of techniques is known as Markov chain Monte Carlo (MCMC) . \n",
    "\n",
    "MCMC returns a sample of points, or **chain**, from the k-dimensional parameter space, with \n",
    "a distribution that is **asymptotically proportional** to $p(\\theta)$. The constant of \n",
    "proportionality is not important in the first class of problems we will look at. In model \n",
    "comparison problems, the proportionality constant must be known and we will return to this \n",
    "point later.\n",
    "\n",
    "Given such a chain of length M, the integral can be estimated as\n",
    "$$ I = \\int g(\\theta) \\, p(\\theta) \\, d\\theta = \\frac{1}{M} \\sum_{j=1}^M g(\\theta_j).$$\n",
    "\n",
    "Again, here **the values of $\\theta$ are not sampled uniformly from the volume**;\n",
    "they are sampled **proportionally** to $p(\\theta)$! Note that there is no $p(\\theta_j)$ \n",
    "term next to $g(\\theta_j)$ because the proper weighting in the sum is taken care of \n",
    "by the sample itself! "
   ]
  },
  {
   "cell_type": "markdown",
   "metadata": {
    "slideshow": {
     "slide_type": "slide"
    }
   },
   "source": [
    "### What is a Markov process or chain?\n",
    "\n",
    "A Markov process is defined as a sequence of random variables where a parameter depends \n",
    "*only* on the preceding value.  Such processes are \"memoryless\".  \n",
    " \n",
    "Mathematically, we have\n",
    "$$p(\\theta_{i+1}|\\{\\theta_i\\}) = p(\\theta_{i+1}|\\,\\theta_i).$$\n",
    "\n",
    "\n",
    "Think of $\\theta$ as a vector in multidimensional space, and a realization of the chain represents a path through this space. \n",
    "\n",
    "For  equilibrium, or a stationary distribution of positions, it is necessary that the transition probability is symmetric:\n",
    "$$    p(\\theta_{i+1}|\\,\\theta_i) = p(\\theta_i |\\, \\theta_{i+1}). $$\n",
    "\n",
    "\n",
    "This is called the detailed balance or reversibility condition (i.e. the probability of a jump between two points does not depend on the direction of the jump)."
   ]
  },
  {
   "cell_type": "markdown",
   "metadata": {
    "slideshow": {
     "slide_type": "slide"
    }
   },
   "source": [
    "The use of resulting chains to perform Monte Carlo integration is called *Markov Chain Monte Carlo* (MCMC).\n",
    "\n",
    "Given such a chain of length $M$, the integral can be estimated as\n",
    "$\n",
    "               I = {1 \\over M} \\sum_{j=1}^M g(\\theta_j).\n",
    "$\n",
    "As a simple example, to estimate the expectation value for $\\theta_1$ (i.e., $g(\\theta)=\\theta_1$),\n",
    "we simply take the mean value of all $\\theta_1$ in the chain.\n",
    "\n",
    "Given a Markov chain, quantitative description of the posterior pdf\n",
    "becomes a density estimation problem. To visualize the posterior pdf\n",
    "for parameter $\\theta_1$, marginalized over all other parameters, $\\theta_2, \\ldots, \\theta_k$,\n",
    "we can construct a histogram of all $\\theta_1$ values in the chain, and normalize its integral\n",
    "to 1. To get a MAP (maximum a posterori) estimate for $\\theta_1$, we  find the maximum of this marginalized pdf."
   ]
  },
  {
   "cell_type": "markdown",
   "metadata": {
    "slideshow": {
     "slide_type": "slide"
    }
   },
   "source": [
    "In order for a Markov chain to reach a stationary distribution proportional to $p(\\theta)$,\n",
    "the probability of arriving at a point $\\theta_{i+1}$ must be proportional to $p(\\theta_{i+1})$,\n",
    "$$ p(\\theta_{i+1}) = \\int  T(\\theta_{i+1}|\\theta_i)  \\,   p(\\theta_i) \\,    d \\theta_i, $$\n",
    "where the transition probability $T(\\theta_{i+1}|\\theta_i)$ is called the jump kernel or\n",
    "transition kernel (and it is assumed that we know how to compute $p(\\theta_i)$).\n",
    "\n",
    "This requirement will be satisfied when the transition probability satisfies the detailed\n",
    "balance condition\n",
    "$$ T(\\theta_{i+1}|\\theta_i)  \\,  p(\\theta_i) = T(\\theta_i|\\theta_{i+1})  \\,  p(\\theta_{i+1}). $$\n",
    "\n"
   ]
  },
  {
   "cell_type": "markdown",
   "metadata": {
    "slideshow": {
     "slide_type": "slide"
    }
   },
   "source": [
    "##  Markov Chain Monte Carlo\n",
    "\n",
    "*Various MCMC algorithms differ in their choice of transition kernel*\n",
    "\n",
    "The most classic approach is the **The Metropolis-Hastings algorithm** \n",
    "\n",
    "**The Metropolis-Hastings algorithm** adopts acceptance probability\n",
    "$$ p_{\\rm acc}(\\theta_i,\\theta_{i+1}) = { p(\\theta_{i+1}) \\over p(\\theta_i) }, $$\n",
    "where the proposed point $\\theta_{i+1}$ is drawn from an *arbitrary* symmetric density distribution $K(\\theta_{i+1}\\,|\\,\\theta_i)$. A Gaussian distribution centered on \n",
    "$\\theta_i$ is often used for $K(\\theta_{i+1}|\\theta_i)$."
   ]
  },
  {
   "cell_type": "markdown",
   "metadata": {
    "slideshow": {
     "slide_type": "slide"
    }
   },
   "source": [
    "The original Metropolis algorithm is based on a symmetric proposal distribution,\n",
    "$K(\\theta_{i+1}|\\theta_i) =  K(\\theta_i|\\theta_{i+1})$, which then cancels out from\n",
    "the acceptance probability. **In this case, $\\theta_{i+1}$ is always accepted if\n",
    "$p(\\theta_{i+1}) > p(\\theta_i)$, and if not, then it is accepted with a probability\n",
    "$p(\\theta_{i+1})/p(\\theta_i)$.**\n",
    "\n",
    "** When $\\theta_{i+1}$ is rejected, $\\theta_i$ is added to the chain instead. **\n",
    "\n",
    "\n",
    "\n",
    "**The key aspect** is that\n",
    "\n",
    "$\\frac{p(M,\\theta_{i+1} \\,|\\,D,I)}{p(M,\\theta_{i} \\,|\\,D,I)} = \\frac{\\frac{p(D\\,|\\,M,\\theta_{i+1},I)\\,p(M,\\theta_{i+1},|\\,I)}{p(D\\,|\\,I)}}{\\frac{p(D\\,|\\,M,\\theta_i,I)\\,p(M,\\theta_i\\,|\\,I)}{p(D\\,|\\,I)}} = \\frac{p(D\\,|\\,M,\\theta_{i+1},I)\\,p(M,\\theta_{i+1},|\\,I)}{p(D\\,|\\,M,\\theta_i,I)\\,p(M,\\theta_i\\,|\\,I)}\n",
    "$\n",
    "\n",
    "so there is no dependence on the evidence.\n",
    "\n",
    "This algorithm guarantees that the chain will reach an equilibrium, or stationary, distribution, and it will approximate a sample drawn from $p(\\theta)$! "
   ]
  },
  {
   "cell_type": "markdown",
   "metadata": {
    "slideshow": {
     "slide_type": "slide"
    }
   },
   "source": [
    "##  Markov Chain Monte Carlo\n",
    "\n",
    "**In summary, the Metropolis-Hastings algorithm consists of these steps:**\n",
    "\n",
    "1) given $\\theta_i$ and $K(\\theta_{i+1}|\\theta_i)$, draw a proposed value for $\\theta_{i+1}.$ \n",
    "\n",
    "2) compute acceptance probability $p_{\\rm acc}(\\theta_i,\\theta_{i+1})$.\n",
    "\n",
    "3) draw a random number between 0 and 1 from a uniform distribution; if it smaller than\n",
    "   $p_{\\rm acc}(\\theta_i,\\theta_{i+1})$, then accept $\\theta_{i+1}$.\n",
    "   \n",
    "4) if $\\theta_{i+1}$ is accepted added it to the chain, if not, add $\\theta_{i}$ to the chain.\n",
    "\n",
    "5) use the chain (of $\\theta$ values) for inference; e.g. a histogram of $\\theta$ is\n",
    "  an estimator of the posterior pdf for $\\theta$, $p(\\theta)$, and the expectation value for \n",
    "  $\\theta$ can be computed from \n",
    "  $$ I = \\int g(\\theta) \\, p(\\theta) \\, d\\theta = \\frac{1}{M} \\sum_{j=1}^M \\theta_j.$$\n",
    "\n",
    "where M is the number of elements in the chain (e.g. \n",
    "the expectation value for $\\theta$ is simply the mean value of chain elements). \n",
    "  \n",
    "  "
   ]
  },
  {
   "cell_type": "markdown",
   "metadata": {
    "slideshow": {
     "slide_type": "slide"
    }
   },
   "source": [
    "## Caveats\n",
    "\n",
    "Although $K(\\theta_{i+1}|\\theta_i)$ satisfies a Markov chain requirement that it\n",
    "must be a function of only the current position $\\theta_i$, it takes a number\n",
    "of steps to reach a stationary distribution from an initial arbitrary position $\\theta_0$.\n",
    "**These early steps are called the \"burn-in\" and need to be discarded in analysis.**\n",
    "There is no general theory for finding transition from the burn-in phase to\n",
    "the stationary phase; several methods are used in practice. Gelman and Rubin\n",
    "proposed to generate a number of chains and then compare the ratio of\n",
    "the variance between the chains to the mean variance within the chains (this\n",
    "ratio is known as the $R$ statistic). For stationary chains, this ratio will\n",
    "be close to 1.  \n",
    "\n",
    "When the posterior pdf is multimodal, the simple Metropolis--Hastings algorithm can\n",
    "become stuck in a local mode and not find the globally best mode within a reasonable\n",
    "running time. There are a number of better algorithms, such as Gibbs sampling, parallel\n",
    "tempering, various genetic algorithms, and nested sampling."
   ]
  },
  {
   "cell_type": "markdown",
   "metadata": {
    "slideshow": {
     "slide_type": "slide"
    }
   },
   "source": [
    "### How do we choose the next step\n",
    "\n",
    "How far should we step (small steps in parameter space or large). This impacts the efficiency of the process but not if we will reach equilibrium.\n",
    "\n",
    "We want our samples to be independent of one another which we can determine with the autocorrelation function - we can then adjust the step size to account for this (e.g. ensure that we reject 50% of the proposed steps)\n",
    "\n",
    "Other techniques: **NUTS (No-U-Turn Sampler)**, Metropolis, Slice, HamiltonianMC, and BinaryMetropolis\n",
    "\n",
    "[NUTS](http://arxiv.org/abs/1507.08050) is generally the sampler of choice for continuous parameters (it uses  the gradient of the log posterior-density). See the end of this notebook for animations of different strategies \n"
   ]
  },
  {
   "cell_type": "code",
   "execution_count": 2,
   "metadata": {
    "slideshow": {
     "slide_type": "slide"
    }
   },
   "outputs": [
    {
     "data": {
      "text/html": [
       "<iframe src=\"https://player.vimeo.com/video/19274900\" width=\"640\" height=\"480\" frameborder=\"0\" webkitallowfullscreen mozallowfullscreen allowfullscreen></iframe><p><a href=\"https://vimeo.com/19274900\">Metropolis in the Square</a> from <a href=\"https://vimeo.com/user3812935\">Abraham Flaxman</a> on <a href=\"https://vimeo.com\">Vimeo</a>.</p>"
      ],
      "text/plain": [
       "<IPython.core.display.HTML object>"
      ]
     },
     "execution_count": 2,
     "metadata": {},
     "output_type": "execute_result"
    }
   ],
   "source": [
    "from IPython.display import HTML\n",
    "HTML('<iframe src=\"https://player.vimeo.com/video/19274900\" width=\"640\" height=\"480\" frameborder=\"0\" webkitallowfullscreen mozallowfullscreen allowfullscreen></iframe><p><a href=\"https://vimeo.com/19274900\">Metropolis in the Square</a> from <a href=\"https://vimeo.com/user3812935\">Abraham Flaxman</a> on <a href=\"https://vimeo.com\">Vimeo</a>.</p>')\n"
   ]
  },
  {
   "cell_type": "code",
   "execution_count": 3,
   "metadata": {
    "slideshow": {
     "slide_type": "slide"
    }
   },
   "outputs": [
    {
     "data": {
      "text/html": [
       "<iframe src=\"https://player.vimeo.com/video/19274173\" width=\"640\" height=\"480\" frameborder=\"0\" webkitallowfullscreen mozallowfullscreen allowfullscreen></iframe><p><a href=\"https://vimeo.com/19274173\">Metropolis in Diagonal Region</a> from <a href=\"https://vimeo.com/user3812935\">Abraham Flaxman</a> on <a href=\"https://vimeo.com\">Vimeo</a>.</p>"
      ],
      "text/plain": [
       "<IPython.core.display.HTML object>"
      ]
     },
     "execution_count": 3,
     "metadata": {},
     "output_type": "execute_result"
    }
   ],
   "source": [
    "HTML('<iframe src=\"https://player.vimeo.com/video/19274173\" width=\"640\" height=\"480\" frameborder=\"0\" webkitallowfullscreen mozallowfullscreen allowfullscreen></iframe><p><a href=\"https://vimeo.com/19274173\">Metropolis in Diagonal Region</a> from <a href=\"https://vimeo.com/user3812935\">Abraham Flaxman</a> on <a href=\"https://vimeo.com\">Vimeo</a>.</p>')"
   ]
  }
 ],
 "metadata": {
  "celltoolbar": "Slideshow",
  "kernelspec": {
   "display_name": "Python 3",
   "language": "python",
   "name": "python3"
  },
  "language_info": {
   "codemirror_mode": {
    "name": "ipython",
    "version": 3
   },
   "file_extension": ".py",
   "mimetype": "text/x-python",
   "name": "python",
   "nbconvert_exporter": "python",
   "pygments_lexer": "ipython3",
   "version": "3.6.2"
  }
 },
 "nbformat": 4,
 "nbformat_minor": 2
}
