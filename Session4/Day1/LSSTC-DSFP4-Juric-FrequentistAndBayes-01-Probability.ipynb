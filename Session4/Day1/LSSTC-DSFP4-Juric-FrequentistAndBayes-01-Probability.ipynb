{
 "cells": [
  {
   "cell_type": "markdown",
   "metadata": {
    "slideshow": {
     "slide_type": "slide"
    }
   },
   "source": [
    "# Frequentism and Bayesianism I: a Practical Introduction\n",
    "\n",
    "**Mario Juric & Jake VanderPlas, University of Washington**\n",
    "\n",
    "**e-mail: <mjuric@astro.washington.edu>, twitter: [@mjuric](http://twitter.com/mjuric)**\n",
    "\n",
    "---"
   ]
  },
  {
   "cell_type": "markdown",
   "metadata": {},
   "source": [
    "*This lecture is based on a [post](http://jakevdp.github.io/blog/2014/03/11/frequentism-and-bayesianism-a-practical-intro/) on the blog [Pythonic Perambulations](http://jakevdp.github.io), by [Jake VanderPlas](https://staff.washington.edu/jakevdp/). The content is BSD licensed. See also VanderPlas (2014) [\"Frequentism and Bayesianism: A Python-driven Primer\"](http://arxiv.org/abs/1411.5018).*\n",
    "\n",
    "*Slides built using the excellent [RISE](https://github.com/damianavila/RISE) Jupyter extension by [Damian Avila](https://github.com/damianavila).*"
   ]
  },
  {
   "cell_type": "markdown",
   "metadata": {
    "slideshow": {
     "slide_type": "slide"
    }
   },
   "source": [
    "<!-- PELICAN_BEGIN_SUMMARY -->\n",
    "\n",
    "One of the first things a scientist hears about statistics is that there is are two different approaches: ***Frequentism*** and ***Bayesianism***. Despite their importance, many scientific researchers never have opportunity to learn the distinctions between them and the different practical approaches that result.\n",
    "\n",
    "The purpose of this lecture is to synthesize the philosophical and pragmatic aspects of the frequentist and Bayesian approaches, so that scientists like you might be better prepared to understand the types of data analysis people do.\n",
    "\n",
    "We'll start by addressing the philosophical distinctions between the views, and from there move to discussion of how these ideas are applied in practice, with some Python code snippets demonstrating the difference between the approaches.\n",
    "\n",
    "<!-- PELICAN_END_SUMMARY -->"
   ]
  },
  {
   "cell_type": "markdown",
   "metadata": {
    "slideshow": {
     "slide_type": "slide"
    }
   },
   "source": [
    "## Prerequisites\n",
    "\n",
    "* Python Version 2.7\n",
    "* The \"PyData\" data science software stack (comes with [Anaconda](https://www.anaconda.com/download/)).\n",
    "\n",
    "\n",
    "* [emcee](http://dan.iel.fm/emcee/) -- a pure-Python implementation of Goodman & Weare’s Affine Invariant Markov chain Monte Carlo (MCMC) Ensemble sampler.\n",
    "* [AstroML](http://www.astroml.org/) -- a library of statistical and machine learning routines for analyzing, loading, and visualizing astronomical data in Python."
   ]
  },
  {
   "cell_type": "markdown",
   "metadata": {
    "slideshow": {
     "slide_type": "slide"
    }
   },
   "source": [
    "## Frequentism vs. Bayesianism: a Philosophical Debate"
   ]
  },
  {
   "cell_type": "markdown",
   "metadata": {
    "slideshow": {
     "slide_type": "slide"
    }
   },
   "source": [
    "<br>\n",
    "<center>Fundamentally, the disagreement between frequentists and Bayesians concerns the definition (interpretation) of probability.</center>\n",
    "<br>"
   ]
  },
  {
   "cell_type": "markdown",
   "metadata": {
    "slideshow": {
     "slide_type": "slide"
    }
   },
   "source": [
    "### Frequentist Probability\n",
    "\n",
    "For frequentists, probability only has meaning in terms of **a limiting case of repeated measurements**.\n",
    "\n",
    "That is, if I measure the photon flux $F$ from a given star (we'll assume for now that the star's flux does not vary with time), then measure it again, then again, and so on, each time I will get a slightly different answer due to the statistical error of my measuring device. In the limit of a large number of measurements, the *frequency* of any given value indicates the probability of measuring that value."
   ]
  },
  {
   "cell_type": "markdown",
   "metadata": {
    "slideshow": {
     "slide_type": "slide"
    }
   },
   "source": [
    "For frequentists **probabilities are fundamentally related to frequencies of events**. This means, for example, that in a strict frequentist view, it is meaningless to talk about the probability of the *true* flux of the star: the true flux is (by definition) a single fixed value, and to talk about a frequency distribution for a fixed value is nonsense."
   ]
  },
  {
   "cell_type": "markdown",
   "metadata": {
    "slideshow": {
     "slide_type": "slide"
    }
   },
   "source": [
    "### Bayesian Probability\n",
    "\n",
    "For Bayesians, the concept of probability is extended to cover **degrees of certainty about statements**. You can think of it as an **extension of logic** to statements where there's uncertainty.\n",
    "\n",
    "Say a Bayesian claims to measure the flux $F$ of a star with some probability $P(F)$: that probability can certainly be estimated from frequencies in the limit of a large number of repeated experiments, but this is not fundamental. The probability is a statement of my knowledge of what the measurement reasult will be."
   ]
  },
  {
   "cell_type": "markdown",
   "metadata": {
    "slideshow": {
     "slide_type": "slide"
    }
   },
   "source": [
    "For Bayesians, **probabilities are fundamentally related to our own knowledge about an event**. This means, for example, that in a Bayesian view, we can meaningfully talk about the probability that the *true* flux of a star lies in a given range.\n",
    "\n",
    "That probability codifies our knowledge of the value based on prior information and/or available data."
   ]
  },
  {
   "cell_type": "markdown",
   "metadata": {
    "slideshow": {
     "slide_type": "slide"
    }
   },
   "source": [
    "The surprising thing is that this arguably subtle difference in philosophy leads, in practice, to vastly different approaches to the statistical analysis of data.  Below I will give a few practical examples of the differences in approach, along with associated Python code to demonstrate the practical aspects of the resulting methods."
   ]
  },
  {
   "cell_type": "markdown",
   "metadata": {
    "slideshow": {
     "slide_type": "slide"
    }
   },
   "source": [
    "## Frequentist and Bayesian Approaches in Practice: Counting Photons"
   ]
  },
  {
   "cell_type": "markdown",
   "metadata": {},
   "source": [
    "Here we'll take a look at an extremely simple problem, and compare the frequentist and Bayesian approaches to solving it. There's necessarily a bit of mathematical formalism involved, but we won't go into too much depth or discuss too many of the subtleties.\n",
    "\n",
    "If you want to go deeper, you might consider taking a look at chapters 4-5 of the [Statistics, Data Mining, and Machine Learning in Astronomy](http://www.amazon.com/dp/0691151687/) textbook."
   ]
  },
  {
   "cell_type": "markdown",
   "metadata": {
    "slideshow": {
     "slide_type": "slide"
    }
   },
   "source": [
    "### The Problem: Simple Photon Counts"
   ]
  },
  {
   "cell_type": "markdown",
   "metadata": {},
   "source": [
    "Imagine that we point our telescope to the sky, and observe the light coming from a single star. For the time being, we'll assume that the star's true flux is constant with time, i.e. that is it has a fixed value $F_{\\rm true}$ (we'll also ignore effects like sky noise and other sources of systematic error). We'll assume that we perform a series of $N$ measurements with our telescope, where the $i^{\\rm th}$ measurement reports the observed photon flux $F_i$ and error $e_i$.\n",
    "\n",
    "**The question is, given this set of measurements $D = \\{F_i,e_i\\}$, what is our best estimate of the true flux $F_{\\rm true}$?**"
   ]
  },
  {
   "cell_type": "markdown",
   "metadata": {
    "slideshow": {
     "slide_type": "slide"
    }
   },
   "source": [
    "#### Aside on measurement errors\n",
    "\n",
    "We'll make the (reasonable) assumption that errors are Gaussian:\n",
    "* In a Frequentist perspective, $e_i$ is the standard deviation of the results of a single measurement event in the limit of repetitions of *that event*.\n",
    "* In the Bayesian perspective, $e_i$ is the standard deviation of the (Gaussian) probability distribution describing our knowledge of that particular measurement given its observed value)"
   ]
  },
  {
   "cell_type": "markdown",
   "metadata": {
    "slideshow": {
     "slide_type": "slide"
    }
   },
   "source": [
    "Here we'll use Python to generate some toy data to demonstrate the two approaches to the problem.\n",
    "\n",
    "Because the measurements are number counts, a Poisson distribution is a good approximation to the measurement process:"
   ]
  },
  {
   "cell_type": "code",
   "execution_count": 1,
   "metadata": {},
   "outputs": [],
   "source": [
    "# Generating some simple photon count data\n",
    "import numpy as np\n",
    "from scipy import stats\n",
    "np.random.seed(1)  # for repeatability\n",
    "\n",
    "F_true = 1000  # true flux, say number of photons measured in 1 second\n",
    "N = 50 # number of measurements\n",
    "F = stats.poisson(F_true).rvs(N)  # N measurements of the flux\n",
    "e = np.sqrt(F)  # errors on Poisson counts estimated via square root"
   ]
  },
  {
   "cell_type": "markdown",
   "metadata": {
    "slideshow": {
     "slide_type": "slide"
    }
   },
   "source": [
    "Now let's make a simple visualization of the \"measured\" data:"
   ]
  },
  {
   "cell_type": "code",
   "execution_count": 2,
   "metadata": {},
   "outputs": [
    {
     "data": {
      "image/png": "iVBORw0KGgoAAAANSUhEUgAAAYIAAAEKCAYAAAAfGVI8AAAABHNCSVQICAgIfAhkiAAAAAlwSFlz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\n",
      "text/plain": [
<<<<<<< HEAD
       "<matplotlib.figure.Figure at 0x112ce5fd0>"
=======
       "<matplotlib.figure.Figure at 0x10b403890>"
>>>>>>> 95ca2425e7c990868cbf834814d4d54af807d89c
      ]
     },
     "metadata": {},
     "output_type": "display_data"
    }
   ],
   "source": [
    "%matplotlib inline\n",
    "import matplotlib.pyplot as plt\n",
    "\n",
    "fig, ax = plt.subplots()\n",
    "ax.errorbar(F, np.arange(N), xerr=e, fmt='ok', ecolor='gray', alpha=0.5)\n",
    "ax.vlines([F_true], 0, N, linewidth=5, alpha=0.2)\n",
    "ax.set_xlabel(\"Flux\");ax.set_ylabel(\"measurement number\");"
   ]
  },
  {
   "cell_type": "markdown",
   "metadata": {
    "slideshow": {
     "slide_type": "slide"
    }
   },
   "source": [
    "These measurements each have a different error $e_i$ which is estimated from [Poisson statistics](http://en.wikipedia.org/wiki/Poisson_distribution) using the standard square-root rule.\n",
    "\n",
    "In this toy example we already know the true flux $F_{\\rm true}$, but the question is this: **given our measurements and errors, what is our best estimate of the true flux?**\n",
    "\n",
    "Let's take a look at the frequentist and Bayesian approaches to solving this."
   ]
  },
  {
   "cell_type": "markdown",
   "metadata": {
    "slideshow": {
     "slide_type": "slide"
    }
   },
   "source": [
    "### Frequentist Approach to Simple Photon Counts"
   ]
  },
  {
   "cell_type": "markdown",
   "metadata": {
    "slideshow": {
     "slide_type": "slide"
    }
   },
   "source": [
    "We'll start with the classical frequentist **maximum likelihood** approach. Given a single observation $D_i = (F_i, e_i)$, we can compute the probability distribution of the measurement given the true flux $F_{\\rm true}$ given our assumption of Gaussian errors:\n",
    "\n",
    "$$ P(D_i~|~F_{\\rm true}) = \\frac{1}{\\sqrt{2\\pi e_i^2}} \\exp{\\left[\\frac{-(F_i - F_{\\rm true})^2}{2 e_i^2}\\right]} $$\n",
    "\n",
    "This should be read \"the probability of $D_i$ given $F_{\\rm true}$ equals ...\". You should recognize this as a normal distribution with mean $F_{\\rm true}$ and standard deviation $e_i$."
   ]
  },
  {
   "cell_type": "markdown",
   "metadata": {
    "slideshow": {
     "slide_type": "slide"
    }
   },
   "source": [
    "We construct the **likelihood function** by computing the product of the probabilities for each data point:\n",
    "\n",
    "$$\\mathcal{L}(D~|~F_{\\rm true}) = \\prod_{i=1}^N P(D_i~|~F_{\\rm true})$$\n",
    "\n",
    "Here $D = \\{D_i\\}$ represents the entire set of measurements. Because the value of the likelihood can become very small, it is often more convenient to instead compute the log-likelihood.  Combining the previous two equations and computing the log, we have\n",
    "\n",
    "$$\\log\\mathcal{L} = -\\frac{1}{2} \\sum_{i=1}^N \\left[ \\log(2\\pi  e_i^2) + \\frac{(F_i - F_{\\rm true})^2}{e_i^2} \\right]$$"
   ]
  },
  {
   "cell_type": "markdown",
   "metadata": {
    "slideshow": {
     "slide_type": "slide"
    }
   },
   "source": [
    "What we'd like to do is determine $F_{\\rm true}$ such that the likelihood is maximized. For this simple problem, the maximization can be computed analytically (i.e. by setting $d\\log\\mathcal{L}/dF_{\\rm true} = 0$). This results in the following observed estimate of $F_{\\rm true}$:\n",
    "\n",
    "$$ F_{\\rm est} = \\frac{\\sum w_i F_i}{\\sum w_i};~~w_i = 1/e_i^2  <--- F_{est}\\ is\\ the\\  weighted\\ mean--$$\n",
    "\n",
    "Notice that in the special case of all errors $e_i$ being equal, this reduces to\n",
    "\n",
    "$$ F_{\\rm est} = \\frac{1}{N}\\sum_{i=1}^N F_i $$\n",
    "\n",
    "That is, in agreement with intuition, $F_{\\rm est}$ is simply the mean of the observed data when errors are equal."
   ]
  },
  {
   "cell_type": "markdown",
   "metadata": {
    "slideshow": {
     "slide_type": "slide"
    }
   },
   "source": [
    "We can go further and ask what the error of our estimate is? In the frequentist approach, this can be accomplished by fitting a Gaussian approximation to the likelihood curve at maximum; in this simple case this can also be solved analytically.\n",
    "\n",
    "It can be shown that the standard deviation of this Gaussian approximation is:\n",
    "\n",
    "$$ \\sigma_{\\rm est} = \\left(\\sum_{i=1}^N w_i \\right)^{-1/2} $$"
   ]
  },
  {
   "cell_type": "markdown",
   "metadata": {
    "slideshow": {
     "slide_type": "slide"
    }
   },
   "source": [
    "These results are fairly simple calculations; let's evaluate them for our toy dataset:"
   ]
  },
  {
   "cell_type": "code",
   "execution_count": 3,
   "metadata": {},
   "outputs": [
    {
     "name": "stdout",
     "output_type": "stream",
     "text": [
      "\n",
      "      F_true = 1000\n",
      "      F_est  = 998 +/- 4 (based on 50 measurements)\n",
      "      \n"
     ]
    }
   ],
   "source": [
    "w = 1. / e ** 2\n",
    "print(\"\"\"\n",
    "      F_true = {0}\n",
    "      F_est  = {1:.0f} +/- {2:.0f} (based on {3} measurements)\n",
    "      \"\"\".format(F_true, (w * F).sum() / w.sum(), w.sum() ** -0.5, N))"
   ]
  },
  {
   "cell_type": "markdown",
   "metadata": {},
   "source": [
    "We find that for 50 measurements of the flux, our estimate has an error of about 0.4% and is consistent with the input value."
   ]
  },
  {
   "cell_type": "markdown",
   "metadata": {
    "slideshow": {
     "slide_type": "slide"
    }
   },
   "source": [
    "### Bayesian Approach to Simple Photon Counts"
   ]
  },
  {
   "cell_type": "markdown",
   "metadata": {},
   "source": [
    "The Bayesian approach, as you might expect, begins and ends with probabilities.  It recognizes that what we fundamentally want to compute is our knowledge of the parameters in question, i.e. in this case,\n",
    "\n",
    "$$ P(F_{\\rm true}~|~D) $$\n",
    "\n",
    "N.b.: that this formulation of the problem is *fundamentally contrary* to the frequentist philosophy, which says that *probabilities have no meaning for model parameters* like $F_{\\rm true}$. Within the ***Bayesian interpretation of probability***, this is perfectly acceptable. "
   ]
  },
  {
   "cell_type": "markdown",
   "metadata": {
    "slideshow": {
     "slide_type": "slide"
    }
   },
   "source": [
    "To compute this result, Bayesians next apply [Bayes' Theorem](http://en.wikipedia.org/wiki/Bayes\\'_theorem), a fundamental law of probability:\n",
    "\n",
    "$$ P(F_{\\rm true}~|~D) = \\frac{P(D~|~F_{\\rm true})~P(F_{\\rm true})}{P(D)} $$\n",
    "\n",
    "Though Bayes' theorem is where Bayesians get their name, it is not this law itself that is controversial, but the Bayesian *interpretation of probability* implied by the term $P(F_{\\rm true}~|~D)$."
   ]
  },
  {
   "cell_type": "markdown",
   "metadata": {
    "slideshow": {
     "slide_type": "slide"
    }
   },
   "source": [
    "Let's take a look at each of the terms in this expression:\n",
    "\n",
    "- $P(F_{\\rm true}~|~D)$: The **posterior**, or the probability of the model parameters given the data: this is the result we want to compute.\n",
    "- $P(D~|~F_{\\rm true})$: The **likelihood**, which is proportional to the $\\mathcal{L}(D~|~F_{\\rm true})$ in the frequentist approach, above.\n",
    "- $P(F_{\\rm true})$: The **model prior**, which encodes what we knew about the model prior to the application of the data $D$.\n",
    "- $P(D)$: The **data probability**, which in practice amounts to simply a normalization term."
   ]
  },
  {
   "cell_type": "markdown",
   "metadata": {
    "slideshow": {
     "slide_type": "slide"
    }
   },
   "source": [
    "If we set the prior $P(F_{\\rm true}) \\propto 1$ (a *flat prior*), we find\n",
    "\n",
    "$$P(F_{\\rm true}|D) \\propto \\mathcal{L}(D|F_{\\rm true})$$\n",
    "\n",
    "and the Bayesian probability is maximized at precisely the same value as the frequentist result! So despite the philosophical differences, we see that (for this simple problem at least) the Bayesian and frequentist point estimates are equivalent."
   ]
  },
  {
   "cell_type": "markdown",
   "metadata": {
    "slideshow": {
     "slide_type": "slide"
    }
   },
   "source": [
    "### But What About the Prior?"
   ]
  },
  {
   "cell_type": "markdown",
   "metadata": {},
   "source": [
    "We glossed over something here: the prior, $P(F_{\\rm true})$.\n",
    "\n",
    "The prior ***allows inclusion of other information into the computation***, which becomes very useful in cases where multiple measurement strategies are being combined to constrain a single model (as is the case in, e.g. cosmological parameter estimation).\n",
    "\n",
    "The necessity to specify a prior, however, is one of the more controversial pieces of Bayesian analysis."
   ]
  },
  {
   "cell_type": "markdown",
   "metadata": {
    "slideshow": {
     "slide_type": "slide"
    }
   },
   "source": [
    "### But What About the Prior?\n",
    "\n",
    "A frequentist will point out that the ***prior is problematic when no true prior information is available***. Though it might seem straightforward to use a **noninformative prior** like the flat prior mentioned above, there are some [surprisingly subtleties](http://normaldeviate.wordpress.com/2013/07/13/lost-causes-in-statistics-ii-noninformative-priors/comment-page-1/) involved. It turns out that in many situations, a truly noninformative prior does not exist!\n",
    "\n",
    "***Frequentists point out that the subjective choice of a prior which necessarily biases your result has no place in statistical data analysis***. A Bayesian would counter that frequentism doesn't solve this problem, but simply skirts the question.\n",
    "\n",
    "Frequentism can often be viewed as simply a special case of the Bayesian approach for some (implicit) choice of the prior: ***a Bayesian would say that it's better to make this implicit choice explicit, even if the choice might include some subjectivity***."
   ]
  },
  {
   "cell_type": "markdown",
   "metadata": {
    "slideshow": {
     "slide_type": "slide"
    }
   },
   "source": [
    "### Photon Counts: the Bayesian approach"
   ]
  },
  {
   "cell_type": "markdown",
   "metadata": {
    "slideshow": {
     "slide_type": "slide"
    }
   },
   "source": [
    "Leaving these philosophical debates aside for the time being, let's address how Bayesian results are generally computed in practice.\n",
    "\n",
    "For a one parameter problem like the one considered here, it's as simple as computing the posterior probability $P(F_{\\rm true}~|~D)$ as a function of $F_{\\rm true}$: this is the distribution reflecting our knowledge of the parameter $F_{\\rm true}$.\n",
    "\n",
    "But as the dimension of the model grows, this direct approach becomes increasingly intractable. For this reason, Bayesian calculations often depend on sampling methods such as [Markov Chain Monte Carlo (MCMC)](http://en.wikipedia.org/wiki/Markov_chain_Monte_Carlo). Here, we'll be using Dan Foreman-Mackey's excellent [emcee](http://dan.iel.fm/emcee/current/)  package.  Keep in mind here that the goal is to *generate a set of points drawn from the posterior probability distribution*, and to use those points to determine the answer we seek."
   ]
  },
  {
   "cell_type": "markdown",
   "metadata": {
    "slideshow": {
     "slide_type": "slide"
    }
   },
   "source": [
    "To perform this MCMC, we start by defining Python functions for the prior $P(F_{\\rm true})$, the likelihood $P(D~|~F_{\\rm true})$, and the posterior $P(F_{\\rm true}~|~D)$, noting that none of these need be properly normalized. \n",
    "\n",
    "Our model here is one-dimensional, but to handle multi-dimensional models we'll define the model in terms of an array of parameters $\\theta$, which in this case is $\\theta = [F_{\\rm true}]$:"
   ]
  },
  {
   "cell_type": "code",
   "execution_count": 4,
   "metadata": {},
   "outputs": [],
   "source": [
    "def log_prior(theta):\n",
    "    return 1  # flat prior\n",
    "\n",
    "def log_likelihood(theta, F, e):\n",
    "    return -0.5 * np.sum(np.log(2 * np.pi * e ** 2)\n",
    "                         + (F - theta[0]) ** 2 / e ** 2)\n",
    "\n",
    "def log_posterior(theta, F, e):\n",
    "    return log_prior(theta) + log_likelihood(theta, F, e)"
   ]
  },
  {
   "cell_type": "markdown",
   "metadata": {
    "slideshow": {
     "slide_type": "slide"
    }
   },
   "source": [
    "Now we set up the problem, including generating some random starting guesses for the multiple chains of points."
   ]
  },
  {
   "cell_type": "code",
   "execution_count": 5,
   "metadata": {},
   "outputs": [],
   "source": [
    "ndim = 1  # number of parameters in the model\n",
    "nwalkers = 50  # number of MCMC walkers\n",
    "nburn = 1000  # \"burn-in\" period to let chains stabilize\n",
    "nsteps = 2000  # number of MCMC steps to take\n",
    "\n",
    "# we'll start at random locations between 0 and 2000\n",
    "starting_guesses = 2000 * np.random.rand(nwalkers, ndim)\n",
    "\n",
    "import emcee\n",
    "sampler = emcee.EnsembleSampler(nwalkers, ndim, log_posterior, args=[F, e])\n",
    "sampler.run_mcmc(starting_guesses, nsteps)\n",
    "\n",
    "sample = sampler.chain  # shape = (nwalkers, nsteps, ndim)\n",
    "sample = sampler.chain[:, nburn:, :].ravel()  # discard burn-in points"
   ]
  },
  {
   "cell_type": "markdown",
   "metadata": {
    "slideshow": {
     "slide_type": "slide"
    }
   },
   "source": [
    "If this all worked correctly, the array ``sample`` should contain a series of 50000 points drawn from the posterior. Let's plot them and check:"
   ]
  },
  {
   "cell_type": "code",
   "execution_count": 6,
   "metadata": {},
   "outputs": [
    {
     "data": {
      "text/plain": [
<<<<<<< HEAD
       "<matplotlib.text.Text at 0x1162656d8>"
=======
       "<matplotlib.text.Text at 0x10f9a9a50>"
>>>>>>> 95ca2425e7c990868cbf834814d4d54af807d89c
      ]
     },
     "execution_count": 6,
     "metadata": {},
     "output_type": "execute_result"
    },
    {
     "data": {
<<<<<<< HEAD
      "image/png": "iVBORw0KGgoAAAANSUhEUgAAAYwAAAEKCAYAAAAB0GKPAAAABHNCSVQICAgIfAhkiAAAAAlwSFlz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\n",
      "text/plain": [
       "<matplotlib.figure.Figure at 0x116135390>"
=======
      "image/png": "iVBORw0KGgoAAAANSUhEUgAAAYwAAAEKCAYAAAAB0GKPAAAABHNCSVQICAgIfAhkiAAAAAlwSFlz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\nIhKS/w8Jl3aYBOAINAAAAABJRU5ErkJggg==\n",
      "text/plain": [
       "<matplotlib.figure.Figure at 0x10f9365d0>"
>>>>>>> 95ca2425e7c990868cbf834814d4d54af807d89c
      ]
     },
     "metadata": {},
     "output_type": "display_data"
    }
   ],
   "source": [
    "# plot a histogram of the sample\n",
    "plt.hist(sample, bins=50, histtype=\"stepfilled\", alpha=0.3, normed=True)\n",
    "\n",
    "# plot a best-fit Gaussian\n",
    "F_fit = np.linspace(975, 1025)\n",
    "pdf = stats.norm(np.mean(sample), np.std(sample)).pdf(F_fit)\n",
    "\n",
    "plt.plot(F_fit, pdf, '-k')\n",
    "plt.xlabel(\"F\"); plt.ylabel(\"P(F)\")"
   ]
  },
  {
   "cell_type": "markdown",
   "metadata": {
    "slideshow": {
     "slide_type": "slide"
    }
   },
   "source": [
    "We end up with a sample of points drawn from the (normal) posterior distribution.  The mean and standard deviation of this posterior are the corollary of the frequentist maximum likelihood estimate above:"
   ]
  },
  {
   "cell_type": "code",
   "execution_count": 7,
   "metadata": {},
   "outputs": [
    {
     "name": "stdout",
     "output_type": "stream",
     "text": [
      "\n",
      "      F_true = 1000\n",
      "      F_est  = 998 +/- 5 (based on 50 measurements)\n",
      "      \n"
     ]
    }
   ],
   "source": [
    "print(\"\"\"\n",
    "      F_true = {0}\n",
    "      F_est  = {1:.0f} +/- {2:.0f} (based on {3} measurements)\n",
    "      \"\"\".format(F_true, np.mean(sample), np.std(sample), N))"
   ]
  },
  {
   "cell_type": "markdown",
   "metadata": {},
   "source": [
    "We see that as expected for this simple problem, the Bayesian approach yields the same result as the frequentist approach!"
   ]
  },
  {
   "cell_type": "markdown",
   "metadata": {
    "slideshow": {
     "slide_type": "slide"
    }
   },
   "source": [
    "### Discussion"
   ]
  },
  {
   "cell_type": "markdown",
   "metadata": {},
   "source": [
    "Now, you might come away with the impression that the Bayesian method is unnecessarily complicated, and in this case it certainly is. Using an Affine Invariant Markov Chain Monte Carlo Ensemble sampler to characterize a one-dimensional normal distribution is a bit like using the Death Star to destroy a beach ball.\n",
    "\n",
    "But we did it here because it demonstrates an approach that can scale to complicated posteriors in many, many dimensions, and can provide nice results in more complicated situations where an analytic likelihood approach is not possible."
   ]
  },
  {
   "cell_type": "markdown",
   "metadata": {
    "slideshow": {
     "slide_type": "subslide"
    }
   },
   "source": [
    "As a side note, you might also have noticed one little sleight of hand: at the end, we use a frequentist approach to characterize our posterior samples!  When we computed the sample mean and standard deviation above, we were employing a distinctly frequentist technique to characterize the posterior distribution. The pure Bayesian result for a problem like this would be to report the posterior distribution itself (i.e. its representative sample), and leave it at that. That is, in pure Bayesianism the answer to a question is not a single number with error bars; the answer is the posterior distribution over the model parameters!"
   ]
  },
  {
   "cell_type": "markdown",
   "metadata": {
    "slideshow": {
     "slide_type": "slide"
    }
   },
   "source": [
    "## Adding a Dimension: Exploring a more sophisticated model"
   ]
  },
  {
   "cell_type": "markdown",
   "metadata": {},
   "source": [
    "Let's briefly take a look at a more complicated situation, and compare the frequentist and Bayesian results yet again.  Above we assumed that the star was static: now let's assume that we're looking at an object which we suspect has some stochastic variation &mdash; that is, it varies with time, but in an unpredictable way (a Quasar is a good example of such an object)."
   ]
  },
  {
   "cell_type": "markdown",
   "metadata": {
    "slideshow": {
     "slide_type": "slide"
    }
   },
   "source": [
    "We'll propose a simple 2-parameter Gaussian model for this object: $\\theta = [\\mu, \\sigma]$ where $\\mu$ is the mean value, and $\\sigma$ is the standard deviation of the variability *intrinsic to the object*.  Thus our model for the probability of the true flux at the time of each observation looks like this:\n",
    "\n",
    "$$ F_{\\rm true} \\sim \\frac{1}{\\sqrt{2\\pi\\sigma^2}}\\exp\\left[\\frac{-(F - \\mu)^2}{2\\sigma^2}\\right]$$"
   ]
  },
  {
   "cell_type": "markdown",
   "metadata": {
    "slideshow": {
     "slide_type": "slide"
    }
   },
   "source": [
    "Now, we'll again consider $N$ observations each with their own error. We can generate them this way:"
   ]
  },
  {
   "cell_type": "code",
   "execution_count": 8,
   "metadata": {},
   "outputs": [],
   "source": [
    "np.random.seed(42)  # for reproducibility\n",
    "N = 100  # we'll use more samples for the more complicated model\n",
    "mu_true, sigma_true = 1000, 15  # stochastic flux model\n",
    "\n",
    "F_true = stats.norm(mu_true, sigma_true).rvs(N)  # (unknown) true flux\n",
    "F = stats.poisson(F_true).rvs()  # observed flux: true flux plus Poisson errors.\n",
    "e = np.sqrt(F)  # root-N error, as above"
   ]
  },
  {
   "cell_type": "markdown",
   "metadata": {
    "slideshow": {
     "slide_type": "slide"
    }
   },
   "source": [
    "### Varying Photon Counts: The Frequentist Approach"
   ]
  },
  {
   "cell_type": "markdown",
   "metadata": {},
   "source": [
    "The resulting likelihood is the convolution of the intrinsic distribution with the error distribution, so we have\n",
    "\n",
    "$$\\mathcal{L}(D~|~\\theta) = \\prod_{i=1}^N \\frac{1}{\\sqrt{2\\pi(\\sigma^2 + e_i^2)}}\\exp\\left[\\frac{-(F_i - \\mu)^2}{2(\\sigma^2 + e_i^2)}\\right]$$"
   ]
  },
  {
   "cell_type": "markdown",
   "metadata": {
    "slideshow": {
     "slide_type": "slide"
    }
   },
   "source": [
    "Analogously to above, we can analytically maximize this likelihood to find the best estimate for $\\mu$:\n",
    "\n",
    "$$\\mu_{est} =  \\frac{\\sum w_i F_i}{\\sum w_i};~~w_i = \\frac{1}{\\sigma^2 + e_i^2} $$\n",
    "\n",
    "And here we have a problem: the optimal value of $\\mu$ *depends on* the optimal value of $\\sigma$.  The results are correlated, so we can no longer use straightforward analytic methods to arrive at the frequentist result."
   ]
  },
  {
   "cell_type": "markdown",
   "metadata": {
    "slideshow": {
     "slide_type": "slide"
    }
   },
   "source": [
    "Nevertheless, we can use numerical optimization techniques to determine the maximum likelihood value. Here we'll use the optimization routines available within Scipy's [optimize](http://docs.scipy.org/doc/scipy/reference/optimize.html) submodule:"
   ]
  },
  {
   "cell_type": "code",
   "execution_count": 9,
   "metadata": {},
   "outputs": [
    {
     "name": "stdout",
     "output_type": "stream",
     "text": [
      "Optimization terminated successfully.\n",
      "         Current function value: 502.839505\n",
      "         Iterations: 58\n",
      "         Function evaluations: 114\n",
      "\n",
      "      Maximum likelihood estimate for 100 data points:\n",
      "          mu=999, sigma=19\n",
      "      \n"
     ]
    }
   ],
   "source": [
    "def log_likelihood(theta, F, e):\n",
    "    return -0.5 * np.sum(np.log(2 * np.pi * (theta[1] ** 2 + e ** 2))\n",
    "                         + (F - theta[0]) ** 2 / (theta[1] ** 2 + e ** 2))\n",
    "\n",
    "# maximize likelihood <--> minimize negative likelihood\n",
    "def neg_log_likelihood(theta, F, e):\n",
    "    return -log_likelihood(theta, F, e)\n",
    "\n",
    "from scipy import optimize\n",
    "theta_guess = [900, 5]\n",
    "theta_est = optimize.fmin(neg_log_likelihood, theta_guess, args=(F, e))\n",
    "print(\"\"\"\n",
    "      Maximum likelihood estimate for {0} data points:\n",
    "          mu={theta[0]:.0f}, sigma={theta[1]:.0f}\n",
    "      \"\"\".format(N, theta=theta_est))"
   ]
  },
  {
   "cell_type": "markdown",
   "metadata": {
    "slideshow": {
     "slide_type": "slide"
    }
   },
   "source": [
    "#### Error Estimates\n",
    "\n",
    "This maximum likelihood value gives our best estimate of the parameters $\\mu$ and $\\sigma$ governing our model of the source. But this is only half the answer: we need to determine how confident we are in this answer, that is, we need to compute the error bars on $\\mu$ and $\\sigma$.\n",
    "\n",
    "To see how this is done in the frequentist paradigm, see the sub-slides."
   ]
  },
  {
   "cell_type": "markdown",
   "metadata": {
    "slideshow": {
     "slide_type": "subslide"
    }
   },
   "source": [
    "There are several approaches to determining errors in a frequentist paradigm.  We could:\n",
    "* as above, fit a normal approximation to the maximum likelihood and report the covariance matrix (here we'd have to do this numerically rather than analytically).\n",
    "* Alternatively, we can compute statistics like $\\chi^2$ and $\\chi^2_{\\rm dof}$ to and use standard tests to determine confidence limits, which also depends on strong assumptions about the Gaussianity of the likelihood. \n",
    "* We might alternatively use randomized sampling approaches such as \"Jackknife\"...\n",
    "* or \"Bootstrap\", which maximize the likelihood for randomized samples of the input data in order to explore the degree of certainty in the result."
   ]
  },
  {
   "cell_type": "markdown",
   "metadata": {
    "slideshow": {
     "slide_type": "subslide"
    }
   },
   "source": [
    "All of these would be valid techniques to use, but each comes with its own assumptions and subtleties.  Here, for simplicity, we'll use the basic bootstrap resampler found in the [astroML][4] package:\n",
    "\n",
    "[1]: http://en.wikipedia.org/wiki/Pearson%27s_chi-squared_test\n",
    "[2]: http://en.wikipedia.org/wiki/Jackknife_(statistics)\n",
    "[3]: http://en.wikipedia.org/wiki/Bootstrapping_(statistics)\n",
    "[4]: http://astroML.org"
   ]
  },
  {
   "cell_type": "code",
   "execution_count": 10,
   "metadata": {},
   "outputs": [],
   "source": [
    "from astroML.resample import bootstrap\n",
    "\n",
    "def fit_samples(sample):\n",
    "    # sample is an array of size [n_bootstraps, n_samples]\n",
    "    # compute the maximum likelihood for each bootstrap.\n",
    "    return np.array([optimize.fmin(neg_log_likelihood, theta_guess,\n",
    "                                   args=(F, np.sqrt(F)), disp=0)\n",
    "                     for F in sample])\n",
    "\n",
    "samples = bootstrap(F, 1000, fit_samples)  # 1000 bootstrap resamplings"
   ]
  },
  {
   "cell_type": "markdown",
   "metadata": {
    "slideshow": {
     "slide_type": "subslide"
    }
   },
   "source": [
    "Now in a similar manner to what we did above for the MCMC Bayesian posterior, we'll compute the sample mean and standard deviation to determine the errors on the parameters."
   ]
  },
  {
   "cell_type": "code",
   "execution_count": 11,
   "metadata": {},
   "outputs": [
    {
     "name": "stdout",
     "output_type": "stream",
     "text": [
      " mu    = 999 +/- 4\n",
      " sigma = 18 +/- 5\n"
     ]
    }
   ],
   "source": [
    "mu_samp = samples[:, 0]\n",
    "sig_samp = abs(samples[:, 1])\n",
    "\n",
    "print \" mu    = {0:.0f} +/- {1:.0f}\".format(mu_samp.mean(), mu_samp.std())\n",
    "print \" sigma = {0:.0f} +/- {1:.0f}\".format(sig_samp.mean(), sig_samp.std())"
   ]
  },
  {
   "cell_type": "markdown",
   "metadata": {
    "slideshow": {
     "slide_type": "subslide"
    }
   },
   "source": [
    "I should note that there is a **huge** literature on the details of bootstrap resampling, and there are definitely some subtleties of the approach that I am glossing over here. One obvious piece is that there is potential for errors to be correlated or non-Gaussian, neither of which is reflected by simply finding the mean and standard deviation of each model parameter. Nevertheless, I trust that this gives the basic idea of the frequentist approach to this problem."
   ]
  },
  {
   "cell_type": "markdown",
   "metadata": {
    "slideshow": {
     "slide_type": "slide"
    }
   },
   "source": [
    "### Varying Photon Counts: The Bayesian Approach"
   ]
  },
  {
   "cell_type": "markdown",
   "metadata": {},
   "source": [
    "The Bayesian approach to this problem is almost exactly the same as it was in the previous problem, and we can set it up by slightly modifying the above code."
   ]
  },
  {
   "cell_type": "code",
   "execution_count": 10,
   "metadata": {
    "slideshow": {
     "slide_type": "slide"
    }
   },
   "outputs": [],
   "source": [
    "def log_prior(theta):\n",
    "    # sigma needs to be positive.\n",
    "    if theta[1] <= 0:\n",
    "        return -np.inf\n",
    "    else:\n",
    "        return 0\n",
    "\n",
    "def log_posterior(theta, F, e):\n",
    "    return log_prior(theta) + log_likelihood(theta, F, e)\n",
    "\n",
    "# same setup as above:\n",
    "ndim, nwalkers = 2, 50\n",
    "nsteps, nburn = 2000, 1000\n",
    "\n",
    "starting_guesses = np.random.rand(nwalkers, ndim)\n",
    "starting_guesses[:, 0] *= 2000  # start mu between 0 and 2000\n",
    "starting_guesses[:, 1] *= 20    # start sigma between 0 and 20\n",
    "\n",
    "sampler = emcee.EnsembleSampler(nwalkers, ndim, log_posterior, args=[F, e])\n",
    "sampler.run_mcmc(starting_guesses, nsteps)\n",
    "\n",
    "sample = sampler.chain  # shape = (nwalkers, nsteps, ndim)\n",
    "sample = sampler.chain[:, nburn:, :].reshape(-1, 2)"
   ]
  },
  {
   "cell_type": "markdown",
   "metadata": {
    "slideshow": {
     "slide_type": "slide"
    }
   },
   "source": [
    "Now that we have the samples, we'll use a convenience routine from astroML to plot the traces and the contours representing one and two standard deviations:"
   ]
  },
  {
   "cell_type": "code",
   "execution_count": 11,
   "metadata": {},
   "outputs": [
    {
     "data": {
<<<<<<< HEAD
      "image/png": "iVBORw0KGgoAAAANSUhEUgAAAbMAAAEuCAYAAAAEFfwaAAAABHNCSVQICAgIfAhkiAAAAAlwSFlz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\n",
      "text/plain": [
       "<matplotlib.figure.Figure at 0x1165b72e8>"
=======
      "image/png": "iVBORw0KGgoAAAANSUhEUgAAAasAAAEtCAYAAAC2+E+oAAAABHNCSVQICAgIfAhkiAAAAAlwSFlz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\nmhxegkPHAAAAAElFTkSuQmCC\n",
      "text/plain": [
       "<matplotlib.figure.Figure at 0x10f9a9550>"
>>>>>>> 95ca2425e7c990868cbf834814d4d54af807d89c
      ]
     },
     "metadata": {},
     "output_type": "display_data"
    }
   ],
   "source": [
    "from astroML.plotting import plot_mcmc\n",
    "fig = plt.figure()\n",
    "ax = plot_mcmc(sample.T, fig=fig, labels=[r'$\\mu$', r'$\\sigma$'], colors='k')\n",
    "ax[0].plot(sample[:, 0], sample[:, 1], ',k', alpha=0.1)\n",
    "ax[0].plot([mu_true], [sigma_true], 'o', color='red', ms=10);"
   ]
  },
  {
   "cell_type": "markdown",
   "metadata": {
    "slideshow": {
     "slide_type": "slide"
    }
   },
   "source": [
    "The red dot indicates ground truth (from our problem setup), and the contours indicate one and two standard deviations (68% and 95% confidence levels).  In other words, based on this analysis we are 68% confident that the model lies within the inner contour, and 95% confident that the model lies within the outer contour.\n",
    "\n",
    "Note here that $\\sigma = 0$ is consistent with our data within two standard deviations: that is, depending on the certainty threshold you're interested in, our data are not enough to confidently rule out the possibility of a non-varying source!"
   ]
  },
  {
   "cell_type": "markdown",
   "metadata": {
    "slideshow": {
     "slide_type": "slide"
    }
   },
   "source": [
    "***The other thing to notice is that this posterior is definitely *not* Gaussian***: this can be seen by the lack of symmetry in the vertical direction.\n",
    "\n",
    "That means that the Gaussian approximation used within the frequentist approach may not reflect the true uncertainties in the result.  This isn't an issue with frequentism itself (i.e. there are certainly ways to account for non-Gaussianity within the frequentist paradigm), but the *vast majority* of commonly applied frequentist techniques make the explicit  or implicit assumption of Gaussianity of the distribution.\n",
    "\n",
    "Bayesian approaches generally don't require such assumptions."
   ]
  },
  {
   "cell_type": "markdown",
   "metadata": {
    "slideshow": {
     "slide_type": "subslide"
    }
   },
   "source": [
    "(Side note on priors: there are good arguments that a flat prior on $\\sigma$ subtley biases the calculation in this case: i.e. a flat prior is not necessarily non-informative in the case of scale factors like $\\sigma$. There are interesting arguments to be made that the [Jeffreys Prior](http://en.wikipedia.org/wiki/Jeffreys_prior) would be more applicable. Here I believe the Jeffreys prior is not suitable, because $\\sigma$ is not a true scale factor (i.e. the Gaussian has contributions from $e_i$ as well). On this question, I'll have to defer to others who have more expertise. Note that subtle &mdash; some would say subjective &mdash; questions like this are among the features of Bayesian analysis that frequentists take issue with)."
   ]
  },
  {
   "cell_type": "markdown",
   "metadata": {
    "slideshow": {
     "slide_type": "slide"
    }
   },
   "source": [
    "## Conclusion"
   ]
  },
  {
   "cell_type": "markdown",
   "metadata": {},
   "source": [
    "Philosophical differences underlying frequentism and Bayesianism lead to fundamentally different approaches to simple problems, which nonetheless can often yield similar or even identical results."
   ]
  },
  {
   "cell_type": "markdown",
   "metadata": {
    "slideshow": {
     "slide_type": "slide"
    }
   },
   "source": [
    "***The root of all differences is in a different interpretation of probability***:\n",
    "\n",
    "- Frequentism considers probabilities to be relative frequencies of a large number of (real or hypothetical) events.\n",
    "- Bayesianism considers probabilities to measure degrees of knowledge (belief) about something.\n",
    "\n",
    "... and differences in methodology follow:\n",
    "\n",
    "- Frequentist analyses generally proceed through use of point estimates and maximum likelihood approaches.\n",
    "- Bayesian analyses generally compute the posterior either directly or through some version of MCMC sampling."
   ]
  },
  {
   "cell_type": "markdown",
   "metadata": {
    "slideshow": {
     "slide_type": "slide"
    }
   },
   "source": [
    "As we've seen, in simple problems the two approaches can yield similar results.\n",
    "\n",
    "But as data and models grow in complexity, the two approaches can diverge greatly. We turn to that next..."
   ]
  }
 ],
 "metadata": {
  "anaconda-cloud": {},
  "celltoolbar": "Slideshow",
  "kernelspec": {
   "display_name": "Python 3",
   "language": "python",
   "name": "python3"
  },
  "language_info": {
   "codemirror_mode": {
    "name": "ipython",
    "version": 3
   },
   "file_extension": ".py",
   "mimetype": "text/x-python",
   "name": "python",
   "nbconvert_exporter": "python",
   "pygments_lexer": "ipython3",
   "version": "3.6.2"
  },
  "livereveal": {
   "scroll": true,
   "start_slideshow_at": "selected",
   "theme": "sky"
  }
 },
 "nbformat": 4,
 "nbformat_minor": 1
}
