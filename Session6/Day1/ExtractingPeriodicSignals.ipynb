{
 "cells": [
  {
   "cell_type": "code",
   "execution_count": 1,
   "metadata": {
    "collapsed": true,
    "slideshow": {
     "slide_type": "skip"
    }
   },
   "outputs": [],
   "source": [
    "import numpy as np\n",
    "import pandas as pd\n",
    "from scipy.optimize import minimize\n",
    "\n",
    "import matplotlib.pyplot as plt\n",
    "%matplotlib notebook"
   ]
  },
  {
   "cell_type": "markdown",
   "metadata": {
    "slideshow": {
     "slide_type": "slide"
    }
   },
   "source": [
    "# Periodic Signals & The Lomb-Scargle Periodogram\n",
    "\n",
    "**Version 0.1**\n",
    "\n",
    "* * *\n",
    "\n",
    "By AA Miller (CIERA/Northwestern & Adler)"
   ]
  },
  {
   "cell_type": "markdown",
   "metadata": {
    "slideshow": {
     "slide_type": "slide"
    }
   },
   "source": [
    "This notebook discusses the detection of periodic signals in noisy, irregular data (the standard for ground-based astronomical surveys). The discussion below is strongly influenced by *Understanding the Lomb-Scarge Periodogram*, by Jake VanderPlas, a former DSFP lecturer [(VanderPlas 2017)](http://adsabs.harvard.edu/abs/2017arXiv170309824V). Beyond that, the original papers by [Lomb 1976](http://adsabs.harvard.edu/abs/1976Ap%26SS..39..447L) and [Scargle 1982](http://adsabs.harvard.edu/abs/1982ApJ...263..835S) are also worth a read."
   ]
  },
  {
   "cell_type": "markdown",
   "metadata": {
    "slideshow": {
     "slide_type": "slide"
    }
   },
   "source": [
    "There are many, many papers on the use of the Lomb-Scargle periodogram (and other period detection methods). Former DSFP lecturer, Matthew Graham and colleagues conducted a systematic analysis of many of the most popular tools used to search for periodic signals on *actual astronomical data* [(Graham et al. 2013)](http://adsabs.harvard.edu/abs/2013MNRAS.434.3423G). [Somewhat to my (our?) dismay, they found that none of the solutions work really well across all use cases.]"
   ]
  },
  {
   "cell_type": "markdown",
   "metadata": {
    "slideshow": {
     "slide_type": "slide"
    }
   },
   "source": [
    "## Problem 1) Helper Functions\n",
    "\n",
    "Throughout this lecture, there are a number of operations that we will be performing again and again. Thus, we'll create a few helper functions to minimize repetitive commands (e.g., plotting a phase folded light curve). "
   ]
  },
  {
   "cell_type": "markdown",
   "metadata": {
    "slideshow": {
     "slide_type": "slide"
    }
   },
   "source": [
    "**Problem 1a**\n",
    "\n",
    "Create a function, `gen_periodic_data`, that creates simulated data (including noise) over a grid of user supplied positions:\n",
    "\n",
    "$$ y = A\\,cos\\left(\\frac{2{\\pi}x}{P} - \\phi\\right) + \\sigma_y$$\n",
    "\n",
    "where $A, P, \\phi$ are inputs to the function. `gen_periodic_data` should include Gaussian noise, $\\sigma_y$, for each output $y_i$."
   ]
  },
  {
   "cell_type": "code",
   "execution_count": 2,
   "metadata": {
    "collapsed": true,
    "slideshow": {
     "slide_type": "slide"
    }
   },
   "outputs": [],
   "source": [
    "def gen_periodic_data(x,period=1,amplitude=1,phase=0,noise=0):\n",
    "\n",
    "    \n",
    "    y = amplitude*np.sin(2*np.pi*x/(period)-phase) + np.random.normal(0,np.sqrt(noise),size=len(x))\n",
    "    return y"
   ]
  },
  {
   "cell_type": "markdown",
   "metadata": {
    "slideshow": {
     "slide_type": "slide"
    }
   },
   "source": [
    "**Problem 1b**\n",
    "\n",
    "Generate a *noise-free* signal with $A = 2$ and $p = \\pi$ over a regular grid between 0 and 10. Plot the results (and make sure `gen_periodic_data` behaves as you would expect)."
   ]
  },
  {
   "cell_type": "code",
   "execution_count": 4,
   "metadata": {
    "slideshow": {
     "slide_type": "slide"
    }
   },
   "outputs": [
    {
     "data": {
      "application/javascript": [
       "/* Put everything inside the global mpl namespace */\n",
       "window.mpl = {};\n",
       "\n",
       "\n",
       "mpl.get_websocket_type = function() {\n",
       "    if (typeof(WebSocket) !== 'undefined') {\n",
       "        return WebSocket;\n",
       "    } else if (typeof(MozWebSocket) !== 'undefined') {\n",
       "        return MozWebSocket;\n",
       "    } else {\n",
       "        alert('Your browser does not have WebSocket support.' +\n",
       "              'Please try Chrome, Safari or Firefox ≥ 6. ' +\n",
       "              'Firefox 4 and 5 are also supported but you ' +\n",
       "              'have to enable WebSockets in about:config.');\n",
       "    };\n",
       "}\n",
       "\n",
       "mpl.figure = function(figure_id, websocket, ondownload, parent_element) {\n",
       "    this.id = figure_id;\n",
       "\n",
       "    this.ws = websocket;\n",
       "\n",
       "    this.supports_binary = (this.ws.binaryType != undefined);\n",
       "\n",
       "    if (!this.supports_binary) {\n",
       "        var warnings = document.getElementById(\"mpl-warnings\");\n",
       "        if (warnings) {\n",
       "            warnings.style.display = 'block';\n",
       "            warnings.textContent = (\n",
       "                \"This browser does not support binary websocket messages. \" +\n",
       "                    \"Performance may be slow.\");\n",
       "        }\n",
       "    }\n",
       "\n",
       "    this.imageObj = new Image();\n",
       "\n",
       "    this.context = undefined;\n",
       "    this.message = undefined;\n",
       "    this.canvas = undefined;\n",
       "    this.rubberband_canvas = undefined;\n",
       "    this.rubberband_context = undefined;\n",
       "    this.format_dropdown = undefined;\n",
       "\n",
       "    this.image_mode = 'full';\n",
       "\n",
       "    this.root = $('<div/>');\n",
       "    this._root_extra_style(this.root)\n",
       "    this.root.attr('style', 'display: inline-block');\n",
       "\n",
       "    $(parent_element).append(this.root);\n",
       "\n",
       "    this._init_header(this);\n",
       "    this._init_canvas(this);\n",
       "    this._init_toolbar(this);\n",
       "\n",
       "    var fig = this;\n",
       "\n",
       "    this.waiting = false;\n",
       "\n",
       "    this.ws.onopen =  function () {\n",
       "            fig.send_message(\"supports_binary\", {value: fig.supports_binary});\n",
       "            fig.send_message(\"send_image_mode\", {});\n",
       "            if (mpl.ratio != 1) {\n",
       "                fig.send_message(\"set_dpi_ratio\", {'dpi_ratio': mpl.ratio});\n",
       "            }\n",
       "            fig.send_message(\"refresh\", {});\n",
       "        }\n",
       "\n",
       "    this.imageObj.onload = function() {\n",
       "            if (fig.image_mode == 'full') {\n",
       "                // Full images could contain transparency (where diff images\n",
       "                // almost always do), so we need to clear the canvas so that\n",
       "                // there is no ghosting.\n",
       "                fig.context.clearRect(0, 0, fig.canvas.width, fig.canvas.height);\n",
       "            }\n",
       "            fig.context.drawImage(fig.imageObj, 0, 0);\n",
       "        };\n",
       "\n",
       "    this.imageObj.onunload = function() {\n",
       "        this.ws.close();\n",
       "    }\n",
       "\n",
       "    this.ws.onmessage = this._make_on_message_function(this);\n",
       "\n",
       "    this.ondownload = ondownload;\n",
       "}\n",
       "\n",
       "mpl.figure.prototype._init_header = function() {\n",
       "    var titlebar = $(\n",
       "        '<div class=\"ui-dialog-titlebar ui-widget-header ui-corner-all ' +\n",
       "        'ui-helper-clearfix\"/>');\n",
       "    var titletext = $(\n",
       "        '<div class=\"ui-dialog-title\" style=\"width: 100%; ' +\n",
       "        'text-align: center; padding: 3px;\"/>');\n",
       "    titlebar.append(titletext)\n",
       "    this.root.append(titlebar);\n",
       "    this.header = titletext[0];\n",
       "}\n",
       "\n",
       "\n",
       "\n",
       "mpl.figure.prototype._canvas_extra_style = function(canvas_div) {\n",
       "\n",
       "}\n",
       "\n",
       "\n",
       "mpl.figure.prototype._root_extra_style = function(canvas_div) {\n",
       "\n",
       "}\n",
       "\n",
       "mpl.figure.prototype._init_canvas = function() {\n",
       "    var fig = this;\n",
       "\n",
       "    var canvas_div = $('<div/>');\n",
       "\n",
       "    canvas_div.attr('style', 'position: relative; clear: both; outline: 0');\n",
       "\n",
       "    function canvas_keyboard_event(event) {\n",
       "        return fig.key_event(event, event['data']);\n",
       "    }\n",
       "\n",
       "    canvas_div.keydown('key_press', canvas_keyboard_event);\n",
       "    canvas_div.keyup('key_release', canvas_keyboard_event);\n",
       "    this.canvas_div = canvas_div\n",
       "    this._canvas_extra_style(canvas_div)\n",
       "    this.root.append(canvas_div);\n",
       "\n",
       "    var canvas = $('<canvas/>');\n",
       "    canvas.addClass('mpl-canvas');\n",
       "    canvas.attr('style', \"left: 0; top: 0; z-index: 0; outline: 0\")\n",
       "\n",
       "    this.canvas = canvas[0];\n",
       "    this.context = canvas[0].getContext(\"2d\");\n",
       "\n",
       "    var backingStore = this.context.backingStorePixelRatio ||\n",
       "\tthis.context.webkitBackingStorePixelRatio ||\n",
       "\tthis.context.mozBackingStorePixelRatio ||\n",
       "\tthis.context.msBackingStorePixelRatio ||\n",
       "\tthis.context.oBackingStorePixelRatio ||\n",
       "\tthis.context.backingStorePixelRatio || 1;\n",
       "\n",
       "    mpl.ratio = (window.devicePixelRatio || 1) / backingStore;\n",
       "\n",
       "    var rubberband = $('<canvas/>');\n",
       "    rubberband.attr('style', \"position: absolute; left: 0; top: 0; z-index: 1;\")\n",
       "\n",
       "    var pass_mouse_events = true;\n",
       "\n",
       "    canvas_div.resizable({\n",
       "        start: function(event, ui) {\n",
       "            pass_mouse_events = false;\n",
       "        },\n",
       "        resize: function(event, ui) {\n",
       "            fig.request_resize(ui.size.width, ui.size.height);\n",
       "        },\n",
       "        stop: function(event, ui) {\n",
       "            pass_mouse_events = true;\n",
       "            fig.request_resize(ui.size.width, ui.size.height);\n",
       "        },\n",
       "    });\n",
       "\n",
       "    function mouse_event_fn(event) {\n",
       "        if (pass_mouse_events)\n",
       "            return fig.mouse_event(event, event['data']);\n",
       "    }\n",
       "\n",
       "    rubberband.mousedown('button_press', mouse_event_fn);\n",
       "    rubberband.mouseup('button_release', mouse_event_fn);\n",
       "    // Throttle sequential mouse events to 1 every 20ms.\n",
       "    rubberband.mousemove('motion_notify', mouse_event_fn);\n",
       "\n",
       "    rubberband.mouseenter('figure_enter', mouse_event_fn);\n",
       "    rubberband.mouseleave('figure_leave', mouse_event_fn);\n",
       "\n",
       "    canvas_div.on(\"wheel\", function (event) {\n",
       "        event = event.originalEvent;\n",
       "        event['data'] = 'scroll'\n",
       "        if (event.deltaY < 0) {\n",
       "            event.step = 1;\n",
       "        } else {\n",
       "            event.step = -1;\n",
       "        }\n",
       "        mouse_event_fn(event);\n",
       "    });\n",
       "\n",
       "    canvas_div.append(canvas);\n",
       "    canvas_div.append(rubberband);\n",
       "\n",
       "    this.rubberband = rubberband;\n",
       "    this.rubberband_canvas = rubberband[0];\n",
       "    this.rubberband_context = rubberband[0].getContext(\"2d\");\n",
       "    this.rubberband_context.strokeStyle = \"#000000\";\n",
       "\n",
       "    this._resize_canvas = function(width, height) {\n",
       "        // Keep the size of the canvas, canvas container, and rubber band\n",
       "        // canvas in synch.\n",
       "        canvas_div.css('width', width)\n",
       "        canvas_div.css('height', height)\n",
       "\n",
       "        canvas.attr('width', width * mpl.ratio);\n",
       "        canvas.attr('height', height * mpl.ratio);\n",
       "        canvas.attr('style', 'width: ' + width + 'px; height: ' + height + 'px;');\n",
       "\n",
       "        rubberband.attr('width', width);\n",
       "        rubberband.attr('height', height);\n",
       "    }\n",
       "\n",
       "    // Set the figure to an initial 600x600px, this will subsequently be updated\n",
       "    // upon first draw.\n",
       "    this._resize_canvas(600, 600);\n",
       "\n",
       "    // Disable right mouse context menu.\n",
       "    $(this.rubberband_canvas).bind(\"contextmenu\",function(e){\n",
       "        return false;\n",
       "    });\n",
       "\n",
       "    function set_focus () {\n",
       "        canvas.focus();\n",
       "        canvas_div.focus();\n",
       "    }\n",
       "\n",
       "    window.setTimeout(set_focus, 100);\n",
       "}\n",
       "\n",
       "mpl.figure.prototype._init_toolbar = function() {\n",
       "    var fig = this;\n",
       "\n",
       "    var nav_element = $('<div/>')\n",
       "    nav_element.attr('style', 'width: 100%');\n",
       "    this.root.append(nav_element);\n",
       "\n",
       "    // Define a callback function for later on.\n",
       "    function toolbar_event(event) {\n",
       "        return fig.toolbar_button_onclick(event['data']);\n",
       "    }\n",
       "    function toolbar_mouse_event(event) {\n",
       "        return fig.toolbar_button_onmouseover(event['data']);\n",
       "    }\n",
       "\n",
       "    for(var toolbar_ind in mpl.toolbar_items) {\n",
       "        var name = mpl.toolbar_items[toolbar_ind][0];\n",
       "        var tooltip = mpl.toolbar_items[toolbar_ind][1];\n",
       "        var image = mpl.toolbar_items[toolbar_ind][2];\n",
       "        var method_name = mpl.toolbar_items[toolbar_ind][3];\n",
       "\n",
       "        if (!name) {\n",
       "            // put a spacer in here.\n",
       "            continue;\n",
       "        }\n",
       "        var button = $('<button/>');\n",
       "        button.addClass('ui-button ui-widget ui-state-default ui-corner-all ' +\n",
       "                        'ui-button-icon-only');\n",
       "        button.attr('role', 'button');\n",
       "        button.attr('aria-disabled', 'false');\n",
       "        button.click(method_name, toolbar_event);\n",
       "        button.mouseover(tooltip, toolbar_mouse_event);\n",
       "\n",
       "        var icon_img = $('<span/>');\n",
       "        icon_img.addClass('ui-button-icon-primary ui-icon');\n",
       "        icon_img.addClass(image);\n",
       "        icon_img.addClass('ui-corner-all');\n",
       "\n",
       "        var tooltip_span = $('<span/>');\n",
       "        tooltip_span.addClass('ui-button-text');\n",
       "        tooltip_span.html(tooltip);\n",
       "\n",
       "        button.append(icon_img);\n",
       "        button.append(tooltip_span);\n",
       "\n",
       "        nav_element.append(button);\n",
       "    }\n",
       "\n",
       "    var fmt_picker_span = $('<span/>');\n",
       "\n",
       "    var fmt_picker = $('<select/>');\n",
       "    fmt_picker.addClass('mpl-toolbar-option ui-widget ui-widget-content');\n",
       "    fmt_picker_span.append(fmt_picker);\n",
       "    nav_element.append(fmt_picker_span);\n",
       "    this.format_dropdown = fmt_picker[0];\n",
       "\n",
       "    for (var ind in mpl.extensions) {\n",
       "        var fmt = mpl.extensions[ind];\n",
       "        var option = $(\n",
       "            '<option/>', {selected: fmt === mpl.default_extension}).html(fmt);\n",
       "        fmt_picker.append(option)\n",
       "    }\n",
       "\n",
       "    // Add hover states to the ui-buttons\n",
       "    $( \".ui-button\" ).hover(\n",
       "        function() { $(this).addClass(\"ui-state-hover\");},\n",
       "        function() { $(this).removeClass(\"ui-state-hover\");}\n",
       "    );\n",
       "\n",
       "    var status_bar = $('<span class=\"mpl-message\"/>');\n",
       "    nav_element.append(status_bar);\n",
       "    this.message = status_bar[0];\n",
       "}\n",
       "\n",
       "mpl.figure.prototype.request_resize = function(x_pixels, y_pixels) {\n",
       "    // Request matplotlib to resize the figure. Matplotlib will then trigger a resize in the client,\n",
       "    // which will in turn request a refresh of the image.\n",
       "    this.send_message('resize', {'width': x_pixels, 'height': y_pixels});\n",
       "}\n",
       "\n",
       "mpl.figure.prototype.send_message = function(type, properties) {\n",
       "    properties['type'] = type;\n",
       "    properties['figure_id'] = this.id;\n",
       "    this.ws.send(JSON.stringify(properties));\n",
       "}\n",
       "\n",
       "mpl.figure.prototype.send_draw_message = function() {\n",
       "    if (!this.waiting) {\n",
       "        this.waiting = true;\n",
       "        this.ws.send(JSON.stringify({type: \"draw\", figure_id: this.id}));\n",
       "    }\n",
       "}\n",
       "\n",
       "\n",
       "mpl.figure.prototype.handle_save = function(fig, msg) {\n",
       "    var format_dropdown = fig.format_dropdown;\n",
       "    var format = format_dropdown.options[format_dropdown.selectedIndex].value;\n",
       "    fig.ondownload(fig, format);\n",
       "}\n",
       "\n",
       "\n",
       "mpl.figure.prototype.handle_resize = function(fig, msg) {\n",
       "    var size = msg['size'];\n",
       "    if (size[0] != fig.canvas.width || size[1] != fig.canvas.height) {\n",
       "        fig._resize_canvas(size[0], size[1]);\n",
       "        fig.send_message(\"refresh\", {});\n",
       "    };\n",
       "}\n",
       "\n",
       "mpl.figure.prototype.handle_rubberband = function(fig, msg) {\n",
       "    var x0 = msg['x0'] / mpl.ratio;\n",
       "    var y0 = (fig.canvas.height - msg['y0']) / mpl.ratio;\n",
       "    var x1 = msg['x1'] / mpl.ratio;\n",
       "    var y1 = (fig.canvas.height - msg['y1']) / mpl.ratio;\n",
       "    x0 = Math.floor(x0) + 0.5;\n",
       "    y0 = Math.floor(y0) + 0.5;\n",
       "    x1 = Math.floor(x1) + 0.5;\n",
       "    y1 = Math.floor(y1) + 0.5;\n",
       "    var min_x = Math.min(x0, x1);\n",
       "    var min_y = Math.min(y0, y1);\n",
       "    var width = Math.abs(x1 - x0);\n",
       "    var height = Math.abs(y1 - y0);\n",
       "\n",
       "    fig.rubberband_context.clearRect(\n",
       "        0, 0, fig.canvas.width, fig.canvas.height);\n",
       "\n",
       "    fig.rubberband_context.strokeRect(min_x, min_y, width, height);\n",
       "}\n",
       "\n",
       "mpl.figure.prototype.handle_figure_label = function(fig, msg) {\n",
       "    // Updates the figure title.\n",
       "    fig.header.textContent = msg['label'];\n",
       "}\n",
       "\n",
       "mpl.figure.prototype.handle_cursor = function(fig, msg) {\n",
       "    var cursor = msg['cursor'];\n",
       "    switch(cursor)\n",
       "    {\n",
       "    case 0:\n",
       "        cursor = 'pointer';\n",
       "        break;\n",
       "    case 1:\n",
       "        cursor = 'default';\n",
       "        break;\n",
       "    case 2:\n",
       "        cursor = 'crosshair';\n",
       "        break;\n",
       "    case 3:\n",
       "        cursor = 'move';\n",
       "        break;\n",
       "    }\n",
       "    fig.rubberband_canvas.style.cursor = cursor;\n",
       "}\n",
       "\n",
       "mpl.figure.prototype.handle_message = function(fig, msg) {\n",
       "    fig.message.textContent = msg['message'];\n",
       "}\n",
       "\n",
       "mpl.figure.prototype.handle_draw = function(fig, msg) {\n",
       "    // Request the server to send over a new figure.\n",
       "    fig.send_draw_message();\n",
       "}\n",
       "\n",
       "mpl.figure.prototype.handle_image_mode = function(fig, msg) {\n",
       "    fig.image_mode = msg['mode'];\n",
       "}\n",
       "\n",
       "mpl.figure.prototype.updated_canvas_event = function() {\n",
       "    // Called whenever the canvas gets updated.\n",
       "    this.send_message(\"ack\", {});\n",
       "}\n",
       "\n",
       "// A function to construct a web socket function for onmessage handling.\n",
       "// Called in the figure constructor.\n",
       "mpl.figure.prototype._make_on_message_function = function(fig) {\n",
       "    return function socket_on_message(evt) {\n",
       "        if (evt.data instanceof Blob) {\n",
       "            /* FIXME: We get \"Resource interpreted as Image but\n",
       "             * transferred with MIME type text/plain:\" errors on\n",
       "             * Chrome.  But how to set the MIME type?  It doesn't seem\n",
       "             * to be part of the websocket stream */\n",
       "            evt.data.type = \"image/png\";\n",
       "\n",
       "            /* Free the memory for the previous frames */\n",
       "            if (fig.imageObj.src) {\n",
       "                (window.URL || window.webkitURL).revokeObjectURL(\n",
       "                    fig.imageObj.src);\n",
       "            }\n",
       "\n",
       "            fig.imageObj.src = (window.URL || window.webkitURL).createObjectURL(\n",
       "                evt.data);\n",
       "            fig.updated_canvas_event();\n",
       "            fig.waiting = false;\n",
       "            return;\n",
       "        }\n",
       "        else if (typeof evt.data === 'string' && evt.data.slice(0, 21) == \"data:image/png;base64\") {\n",
       "            fig.imageObj.src = evt.data;\n",
       "            fig.updated_canvas_event();\n",
       "            fig.waiting = false;\n",
       "            return;\n",
       "        }\n",
       "\n",
       "        var msg = JSON.parse(evt.data);\n",
       "        var msg_type = msg['type'];\n",
       "\n",
       "        // Call the  \"handle_{type}\" callback, which takes\n",
       "        // the figure and JSON message as its only arguments.\n",
       "        try {\n",
       "            var callback = fig[\"handle_\" + msg_type];\n",
       "        } catch (e) {\n",
       "            console.log(\"No handler for the '\" + msg_type + \"' message type: \", msg);\n",
       "            return;\n",
       "        }\n",
       "\n",
       "        if (callback) {\n",
       "            try {\n",
       "                // console.log(\"Handling '\" + msg_type + \"' message: \", msg);\n",
       "                callback(fig, msg);\n",
       "            } catch (e) {\n",
       "                console.log(\"Exception inside the 'handler_\" + msg_type + \"' callback:\", e, e.stack, msg);\n",
       "            }\n",
       "        }\n",
       "    };\n",
       "}\n",
       "\n",
       "// from http://stackoverflow.com/questions/1114465/getting-mouse-location-in-canvas\n",
       "mpl.findpos = function(e) {\n",
       "    //this section is from http://www.quirksmode.org/js/events_properties.html\n",
       "    var targ;\n",
       "    if (!e)\n",
       "        e = window.event;\n",
       "    if (e.target)\n",
       "        targ = e.target;\n",
       "    else if (e.srcElement)\n",
       "        targ = e.srcElement;\n",
       "    if (targ.nodeType == 3) // defeat Safari bug\n",
       "        targ = targ.parentNode;\n",
       "\n",
       "    // jQuery normalizes the pageX and pageY\n",
       "    // pageX,Y are the mouse positions relative to the document\n",
       "    // offset() returns the position of the element relative to the document\n",
       "    var x = e.pageX - $(targ).offset().left;\n",
       "    var y = e.pageY - $(targ).offset().top;\n",
       "\n",
       "    return {\"x\": x, \"y\": y};\n",
       "};\n",
       "\n",
       "/*\n",
       " * return a copy of an object with only non-object keys\n",
       " * we need this to avoid circular references\n",
       " * http://stackoverflow.com/a/24161582/3208463\n",
       " */\n",
       "function simpleKeys (original) {\n",
       "  return Object.keys(original).reduce(function (obj, key) {\n",
       "    if (typeof original[key] !== 'object')\n",
       "        obj[key] = original[key]\n",
       "    return obj;\n",
       "  }, {});\n",
       "}\n",
       "\n",
       "mpl.figure.prototype.mouse_event = function(event, name) {\n",
       "    var canvas_pos = mpl.findpos(event)\n",
       "\n",
       "    if (name === 'button_press')\n",
       "    {\n",
       "        this.canvas.focus();\n",
       "        this.canvas_div.focus();\n",
       "    }\n",
       "\n",
       "    var x = canvas_pos.x * mpl.ratio;\n",
       "    var y = canvas_pos.y * mpl.ratio;\n",
       "\n",
       "    this.send_message(name, {x: x, y: y, button: event.button,\n",
       "                             step: event.step,\n",
       "                             guiEvent: simpleKeys(event)});\n",
       "\n",
       "    /* This prevents the web browser from automatically changing to\n",
       "     * the text insertion cursor when the button is pressed.  We want\n",
       "     * to control all of the cursor setting manually through the\n",
       "     * 'cursor' event from matplotlib */\n",
       "    event.preventDefault();\n",
       "    return false;\n",
       "}\n",
       "\n",
       "mpl.figure.prototype._key_event_extra = function(event, name) {\n",
       "    // Handle any extra behaviour associated with a key event\n",
       "}\n",
       "\n",
       "mpl.figure.prototype.key_event = function(event, name) {\n",
       "\n",
       "    // Prevent repeat events\n",
       "    if (name == 'key_press')\n",
       "    {\n",
       "        if (event.which === this._key)\n",
       "            return;\n",
       "        else\n",
       "            this._key = event.which;\n",
       "    }\n",
       "    if (name == 'key_release')\n",
       "        this._key = null;\n",
       "\n",
       "    var value = '';\n",
       "    if (event.ctrlKey && event.which != 17)\n",
       "        value += \"ctrl+\";\n",
       "    if (event.altKey && event.which != 18)\n",
       "        value += \"alt+\";\n",
       "    if (event.shiftKey && event.which != 16)\n",
       "        value += \"shift+\";\n",
       "\n",
       "    value += 'k';\n",
       "    value += event.which.toString();\n",
       "\n",
       "    this._key_event_extra(event, name);\n",
       "\n",
       "    this.send_message(name, {key: value,\n",
       "                             guiEvent: simpleKeys(event)});\n",
       "    return false;\n",
       "}\n",
       "\n",
       "mpl.figure.prototype.toolbar_button_onclick = function(name) {\n",
       "    if (name == 'download') {\n",
       "        this.handle_save(this, null);\n",
       "    } else {\n",
       "        this.send_message(\"toolbar_button\", {name: name});\n",
       "    }\n",
       "};\n",
       "\n",
       "mpl.figure.prototype.toolbar_button_onmouseover = function(tooltip) {\n",
       "    this.message.textContent = tooltip;\n",
       "};\n",
       "mpl.toolbar_items = [[\"Home\", \"Reset original view\", \"fa fa-home icon-home\", \"home\"], [\"Back\", \"Back to  previous view\", \"fa fa-arrow-left icon-arrow-left\", \"back\"], [\"Forward\", \"Forward to next view\", \"fa fa-arrow-right icon-arrow-right\", \"forward\"], [\"\", \"\", \"\", \"\"], [\"Pan\", \"Pan axes with left mouse, zoom with right\", \"fa fa-arrows icon-move\", \"pan\"], [\"Zoom\", \"Zoom to rectangle\", \"fa fa-square-o icon-check-empty\", \"zoom\"], [\"\", \"\", \"\", \"\"], [\"Download\", \"Download plot\", \"fa fa-floppy-o icon-save\", \"download\"]];\n",
       "\n",
       "mpl.extensions = [\"eps\", \"jpeg\", \"pdf\", \"png\", \"ps\", \"raw\", \"svg\", \"tif\"];\n",
       "\n",
       "mpl.default_extension = \"png\";var comm_websocket_adapter = function(comm) {\n",
       "    // Create a \"websocket\"-like object which calls the given IPython comm\n",
       "    // object with the appropriate methods. Currently this is a non binary\n",
       "    // socket, so there is still some room for performance tuning.\n",
       "    var ws = {};\n",
       "\n",
       "    ws.close = function() {\n",
       "        comm.close()\n",
       "    };\n",
       "    ws.send = function(m) {\n",
       "        //console.log('sending', m);\n",
       "        comm.send(m);\n",
       "    };\n",
       "    // Register the callback with on_msg.\n",
       "    comm.on_msg(function(msg) {\n",
       "        //console.log('receiving', msg['content']['data'], msg);\n",
       "        // Pass the mpl event to the overriden (by mpl) onmessage function.\n",
       "        ws.onmessage(msg['content']['data'])\n",
       "    });\n",
       "    return ws;\n",
       "}\n",
       "\n",
       "mpl.mpl_figure_comm = function(comm, msg) {\n",
       "    // This is the function which gets called when the mpl process\n",
       "    // starts-up an IPython Comm through the \"matplotlib\" channel.\n",
       "\n",
       "    var id = msg.content.data.id;\n",
       "    // Get hold of the div created by the display call when the Comm\n",
       "    // socket was opened in Python.\n",
       "    var element = $(\"#\" + id);\n",
       "    var ws_proxy = comm_websocket_adapter(comm)\n",
       "\n",
       "    function ondownload(figure, format) {\n",
       "        window.open(figure.imageObj.src);\n",
       "    }\n",
       "\n",
       "    var fig = new mpl.figure(id, ws_proxy,\n",
       "                           ondownload,\n",
       "                           element.get(0));\n",
       "\n",
       "    // Call onopen now - mpl needs it, as it is assuming we've passed it a real\n",
       "    // web socket which is closed, not our websocket->open comm proxy.\n",
       "    ws_proxy.onopen();\n",
       "\n",
       "    fig.parent_element = element.get(0);\n",
       "    fig.cell_info = mpl.find_output_cell(\"<div id='\" + id + \"'></div>\");\n",
       "    if (!fig.cell_info) {\n",
       "        console.error(\"Failed to find cell for figure\", id, fig);\n",
       "        return;\n",
       "    }\n",
       "\n",
       "    var output_index = fig.cell_info[2]\n",
       "    var cell = fig.cell_info[0];\n",
       "\n",
       "};\n",
       "\n",
       "mpl.figure.prototype.handle_close = function(fig, msg) {\n",
       "    var width = fig.canvas.width/mpl.ratio\n",
       "    fig.root.unbind('remove')\n",
       "\n",
       "    // Update the output cell to use the data from the current canvas.\n",
       "    fig.push_to_output();\n",
       "    var dataURL = fig.canvas.toDataURL();\n",
       "    // Re-enable the keyboard manager in IPython - without this line, in FF,\n",
       "    // the notebook keyboard shortcuts fail.\n",
       "    IPython.keyboard_manager.enable()\n",
       "    $(fig.parent_element).html('<img src=\"' + dataURL + '\" width=\"' + width + '\">');\n",
       "    fig.close_ws(fig, msg);\n",
       "}\n",
       "\n",
       "mpl.figure.prototype.close_ws = function(fig, msg){\n",
       "    fig.send_message('closing', msg);\n",
       "    // fig.ws.close()\n",
       "}\n",
       "\n",
       "mpl.figure.prototype.push_to_output = function(remove_interactive) {\n",
       "    // Turn the data on the canvas into data in the output cell.\n",
       "    var width = this.canvas.width/mpl.ratio\n",
       "    var dataURL = this.canvas.toDataURL();\n",
       "    this.cell_info[1]['text/html'] = '<img src=\"' + dataURL + '\" width=\"' + width + '\">';\n",
       "}\n",
       "\n",
       "mpl.figure.prototype.updated_canvas_event = function() {\n",
       "    // Tell IPython that the notebook contents must change.\n",
       "    IPython.notebook.set_dirty(true);\n",
       "    this.send_message(\"ack\", {});\n",
       "    var fig = this;\n",
       "    // Wait a second, then push the new image to the DOM so\n",
       "    // that it is saved nicely (might be nice to debounce this).\n",
       "    setTimeout(function () { fig.push_to_output() }, 1000);\n",
       "}\n",
       "\n",
       "mpl.figure.prototype._init_toolbar = function() {\n",
       "    var fig = this;\n",
       "\n",
       "    var nav_element = $('<div/>')\n",
       "    nav_element.attr('style', 'width: 100%');\n",
       "    this.root.append(nav_element);\n",
       "\n",
       "    // Define a callback function for later on.\n",
       "    function toolbar_event(event) {\n",
       "        return fig.toolbar_button_onclick(event['data']);\n",
       "    }\n",
       "    function toolbar_mouse_event(event) {\n",
       "        return fig.toolbar_button_onmouseover(event['data']);\n",
       "    }\n",
       "\n",
       "    for(var toolbar_ind in mpl.toolbar_items){\n",
       "        var name = mpl.toolbar_items[toolbar_ind][0];\n",
       "        var tooltip = mpl.toolbar_items[toolbar_ind][1];\n",
       "        var image = mpl.toolbar_items[toolbar_ind][2];\n",
       "        var method_name = mpl.toolbar_items[toolbar_ind][3];\n",
       "\n",
       "        if (!name) { continue; };\n",
       "\n",
       "        var button = $('<button class=\"btn btn-default\" href=\"#\" title=\"' + name + '\"><i class=\"fa ' + image + ' fa-lg\"></i></button>');\n",
       "        button.click(method_name, toolbar_event);\n",
       "        button.mouseover(tooltip, toolbar_mouse_event);\n",
       "        nav_element.append(button);\n",
       "    }\n",
       "\n",
       "    // Add the status bar.\n",
       "    var status_bar = $('<span class=\"mpl-message\" style=\"text-align:right; float: right;\"/>');\n",
       "    nav_element.append(status_bar);\n",
       "    this.message = status_bar[0];\n",
       "\n",
       "    // Add the close button to the window.\n",
       "    var buttongrp = $('<div class=\"btn-group inline pull-right\"></div>');\n",
       "    var button = $('<button class=\"btn btn-mini btn-primary\" href=\"#\" title=\"Stop Interaction\"><i class=\"fa fa-power-off icon-remove icon-large\"></i></button>');\n",
       "    button.click(function (evt) { fig.handle_close(fig, {}); } );\n",
       "    button.mouseover('Stop Interaction', toolbar_mouse_event);\n",
       "    buttongrp.append(button);\n",
       "    var titlebar = this.root.find($('.ui-dialog-titlebar'));\n",
       "    titlebar.prepend(buttongrp);\n",
       "}\n",
       "\n",
       "mpl.figure.prototype._root_extra_style = function(el){\n",
       "    var fig = this\n",
       "    el.on(\"remove\", function(){\n",
       "\tfig.close_ws(fig, {});\n",
       "    });\n",
       "}\n",
       "\n",
       "mpl.figure.prototype._canvas_extra_style = function(el){\n",
       "    // this is important to make the div 'focusable\n",
       "    el.attr('tabindex', 0)\n",
       "    // reach out to IPython and tell the keyboard manager to turn it's self\n",
       "    // off when our div gets focus\n",
       "\n",
       "    // location in version 3\n",
       "    if (IPython.notebook.keyboard_manager) {\n",
       "        IPython.notebook.keyboard_manager.register_events(el);\n",
       "    }\n",
       "    else {\n",
       "        // location in version 2\n",
       "        IPython.keyboard_manager.register_events(el);\n",
       "    }\n",
       "\n",
       "}\n",
       "\n",
       "mpl.figure.prototype._key_event_extra = function(event, name) {\n",
       "    var manager = IPython.notebook.keyboard_manager;\n",
       "    if (!manager)\n",
       "        manager = IPython.keyboard_manager;\n",
       "\n",
       "    // Check for shift+enter\n",
       "    if (event.shiftKey && event.which == 13) {\n",
       "        this.canvas_div.blur();\n",
       "        // select the cell after this one\n",
       "        var index = IPython.notebook.find_cell_index(this.cell_info[0]);\n",
       "        IPython.notebook.select(index + 1);\n",
       "    }\n",
       "}\n",
       "\n",
       "mpl.figure.prototype.handle_save = function(fig, msg) {\n",
       "    fig.ondownload(fig, null);\n",
       "}\n",
       "\n",
       "\n",
       "mpl.find_output_cell = function(html_output) {\n",
       "    // Return the cell and output element which can be found *uniquely* in the notebook.\n",
       "    // Note - this is a bit hacky, but it is done because the \"notebook_saving.Notebook\"\n",
       "    // IPython event is triggered only after the cells have been serialised, which for\n",
       "    // our purposes (turning an active figure into a static one), is too late.\n",
       "    var cells = IPython.notebook.get_cells();\n",
       "    var ncells = cells.length;\n",
       "    for (var i=0; i<ncells; i++) {\n",
       "        var cell = cells[i];\n",
       "        if (cell.cell_type === 'code'){\n",
       "            for (var j=0; j<cell.output_area.outputs.length; j++) {\n",
       "                var data = cell.output_area.outputs[j];\n",
       "                if (data.data) {\n",
       "                    // IPython >= 3 moved mimebundle to data attribute of output\n",
       "                    data = data.data;\n",
       "                }\n",
       "                if (data['text/html'] == html_output) {\n",
       "                    return [cell, data, j];\n",
       "                }\n",
       "            }\n",
       "        }\n",
       "    }\n",
       "}\n",
       "\n",
       "// Register the function which deals with the matplotlib target/channel.\n",
       "// The kernel may be null if the page has been refreshed.\n",
       "if (IPython.notebook.kernel != null) {\n",
       "    IPython.notebook.kernel.comm_manager.register_target('matplotlib', mpl.mpl_figure_comm);\n",
       "}\n"
      ],
      "text/plain": [
       "<IPython.core.display.Javascript object>"
      ]
     },
     "metadata": {},
     "output_type": "display_data"
    },
    {
     "data": {
      "text/html": [
       "<img src=\"data:image/png;base64,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\" width=\"640\">"
      ],
      "text/plain": [
       "<IPython.core.display.HTML object>"
      ]
     },
     "metadata": {},
     "output_type": "display_data"
    }
   ],
   "source": [
    "x = np.linspace(0,10,500) # create an array of data to feed into function\n",
    "y = gen_periodic_data(x,np.pi,2)\n",
    "\n",
    "fig, ax = plt.subplots()\n",
    "ax.scatter(x,y)\n",
    "plt.xlabel('x')\n",
    "plt.ylabel('y')\n",
    "fig.tight_layout()"
   ]
  },
  {
   "cell_type": "markdown",
   "metadata": {
    "slideshow": {
     "slide_type": "slide"
    }
   },
   "source": [
    "**Problem 1c**\n",
    "\n",
    "Create a function, `phase_plot`, that takes x, y, and $P$ as inputs to create a phase-folded light curve (i.e., plot the data at their respective phase values given the period $P$).\n",
    "\n",
    "Include an optional argument, `y_unc`, to include uncertainties on the `y` values, when available."
   ]
  },
  {
   "cell_type": "code",
   "execution_count": 5,
   "metadata": {
    "collapsed": true,
    "slideshow": {
     "slide_type": "slide"
    }
   },
   "outputs": [],
   "source": [
    "def phase_plot(x,y,period,y_unc=0.0):\n",
    "\n",
    "    phases = (x/period) % 1 #divide by period and take the remainder\n",
    "    if type(y_unc) == float:\n",
    "        y_unc=np.zeros_like(x)\n",
    "        \n",
    "    plot_order = np.argsort(phases)\n",
    "\n",
    "    fig, ax = plt.subplots()\n",
    "    ax.errorbar( phases[plot_order], y[plot_order], y_unc[plot_order],fmt='o',mec=\"0.2\",mew=0.1)\n",
    "    plt.xlabel('x')\n",
    "    plt.ylabel('y')\n",
    "    fig.tight_layout()"
   ]
  },
  {
   "cell_type": "markdown",
   "metadata": {
    "slideshow": {
     "slide_type": "slide"
    }
   },
   "source": [
    "**Problem 1d**\n",
    "\n",
    "Plot the phase folded data generated in **1b**.\n",
    "\n",
    "Does you plot match your expectations?"
   ]
  },
  {
   "cell_type": "code",
   "execution_count": 6,
   "metadata": {
    "scrolled": false,
    "slideshow": {
     "slide_type": "slide"
    }
   },
   "outputs": [
    {
     "data": {
      "application/javascript": [
       "/* Put everything inside the global mpl namespace */\n",
       "window.mpl = {};\n",
       "\n",
       "\n",
       "mpl.get_websocket_type = function() {\n",
       "    if (typeof(WebSocket) !== 'undefined') {\n",
       "        return WebSocket;\n",
       "    } else if (typeof(MozWebSocket) !== 'undefined') {\n",
       "        return MozWebSocket;\n",
       "    } else {\n",
       "        alert('Your browser does not have WebSocket support.' +\n",
       "              'Please try Chrome, Safari or Firefox ≥ 6. ' +\n",
       "              'Firefox 4 and 5 are also supported but you ' +\n",
       "              'have to enable WebSockets in about:config.');\n",
       "    };\n",
       "}\n",
       "\n",
       "mpl.figure = function(figure_id, websocket, ondownload, parent_element) {\n",
       "    this.id = figure_id;\n",
       "\n",
       "    this.ws = websocket;\n",
       "\n",
       "    this.supports_binary = (this.ws.binaryType != undefined);\n",
       "\n",
       "    if (!this.supports_binary) {\n",
       "        var warnings = document.getElementById(\"mpl-warnings\");\n",
       "        if (warnings) {\n",
       "            warnings.style.display = 'block';\n",
       "            warnings.textContent = (\n",
       "                \"This browser does not support binary websocket messages. \" +\n",
       "                    \"Performance may be slow.\");\n",
       "        }\n",
       "    }\n",
       "\n",
       "    this.imageObj = new Image();\n",
       "\n",
       "    this.context = undefined;\n",
       "    this.message = undefined;\n",
       "    this.canvas = undefined;\n",
       "    this.rubberband_canvas = undefined;\n",
       "    this.rubberband_context = undefined;\n",
       "    this.format_dropdown = undefined;\n",
       "\n",
       "    this.image_mode = 'full';\n",
       "\n",
       "    this.root = $('<div/>');\n",
       "    this._root_extra_style(this.root)\n",
       "    this.root.attr('style', 'display: inline-block');\n",
       "\n",
       "    $(parent_element).append(this.root);\n",
       "\n",
       "    this._init_header(this);\n",
       "    this._init_canvas(this);\n",
       "    this._init_toolbar(this);\n",
       "\n",
       "    var fig = this;\n",
       "\n",
       "    this.waiting = false;\n",
       "\n",
       "    this.ws.onopen =  function () {\n",
       "            fig.send_message(\"supports_binary\", {value: fig.supports_binary});\n",
       "            fig.send_message(\"send_image_mode\", {});\n",
       "            if (mpl.ratio != 1) {\n",
       "                fig.send_message(\"set_dpi_ratio\", {'dpi_ratio': mpl.ratio});\n",
       "            }\n",
       "            fig.send_message(\"refresh\", {});\n",
       "        }\n",
       "\n",
       "    this.imageObj.onload = function() {\n",
       "            if (fig.image_mode == 'full') {\n",
       "                // Full images could contain transparency (where diff images\n",
       "                // almost always do), so we need to clear the canvas so that\n",
       "                // there is no ghosting.\n",
       "                fig.context.clearRect(0, 0, fig.canvas.width, fig.canvas.height);\n",
       "            }\n",
       "            fig.context.drawImage(fig.imageObj, 0, 0);\n",
       "        };\n",
       "\n",
       "    this.imageObj.onunload = function() {\n",
       "        this.ws.close();\n",
       "    }\n",
       "\n",
       "    this.ws.onmessage = this._make_on_message_function(this);\n",
       "\n",
       "    this.ondownload = ondownload;\n",
       "}\n",
       "\n",
       "mpl.figure.prototype._init_header = function() {\n",
       "    var titlebar = $(\n",
       "        '<div class=\"ui-dialog-titlebar ui-widget-header ui-corner-all ' +\n",
       "        'ui-helper-clearfix\"/>');\n",
       "    var titletext = $(\n",
       "        '<div class=\"ui-dialog-title\" style=\"width: 100%; ' +\n",
       "        'text-align: center; padding: 3px;\"/>');\n",
       "    titlebar.append(titletext)\n",
       "    this.root.append(titlebar);\n",
       "    this.header = titletext[0];\n",
       "}\n",
       "\n",
       "\n",
       "\n",
       "mpl.figure.prototype._canvas_extra_style = function(canvas_div) {\n",
       "\n",
       "}\n",
       "\n",
       "\n",
       "mpl.figure.prototype._root_extra_style = function(canvas_div) {\n",
       "\n",
       "}\n",
       "\n",
       "mpl.figure.prototype._init_canvas = function() {\n",
       "    var fig = this;\n",
       "\n",
       "    var canvas_div = $('<div/>');\n",
       "\n",
       "    canvas_div.attr('style', 'position: relative; clear: both; outline: 0');\n",
       "\n",
       "    function canvas_keyboard_event(event) {\n",
       "        return fig.key_event(event, event['data']);\n",
       "    }\n",
       "\n",
       "    canvas_div.keydown('key_press', canvas_keyboard_event);\n",
       "    canvas_div.keyup('key_release', canvas_keyboard_event);\n",
       "    this.canvas_div = canvas_div\n",
       "    this._canvas_extra_style(canvas_div)\n",
       "    this.root.append(canvas_div);\n",
       "\n",
       "    var canvas = $('<canvas/>');\n",
       "    canvas.addClass('mpl-canvas');\n",
       "    canvas.attr('style', \"left: 0; top: 0; z-index: 0; outline: 0\")\n",
       "\n",
       "    this.canvas = canvas[0];\n",
       "    this.context = canvas[0].getContext(\"2d\");\n",
       "\n",
       "    var backingStore = this.context.backingStorePixelRatio ||\n",
       "\tthis.context.webkitBackingStorePixelRatio ||\n",
       "\tthis.context.mozBackingStorePixelRatio ||\n",
       "\tthis.context.msBackingStorePixelRatio ||\n",
       "\tthis.context.oBackingStorePixelRatio ||\n",
       "\tthis.context.backingStorePixelRatio || 1;\n",
       "\n",
       "    mpl.ratio = (window.devicePixelRatio || 1) / backingStore;\n",
       "\n",
       "    var rubberband = $('<canvas/>');\n",
       "    rubberband.attr('style', \"position: absolute; left: 0; top: 0; z-index: 1;\")\n",
       "\n",
       "    var pass_mouse_events = true;\n",
       "\n",
       "    canvas_div.resizable({\n",
       "        start: function(event, ui) {\n",
       "            pass_mouse_events = false;\n",
       "        },\n",
       "        resize: function(event, ui) {\n",
       "            fig.request_resize(ui.size.width, ui.size.height);\n",
       "        },\n",
       "        stop: function(event, ui) {\n",
       "            pass_mouse_events = true;\n",
       "            fig.request_resize(ui.size.width, ui.size.height);\n",
       "        },\n",
       "    });\n",
       "\n",
       "    function mouse_event_fn(event) {\n",
       "        if (pass_mouse_events)\n",
       "            return fig.mouse_event(event, event['data']);\n",
       "    }\n",
       "\n",
       "    rubberband.mousedown('button_press', mouse_event_fn);\n",
       "    rubberband.mouseup('button_release', mouse_event_fn);\n",
       "    // Throttle sequential mouse events to 1 every 20ms.\n",
       "    rubberband.mousemove('motion_notify', mouse_event_fn);\n",
       "\n",
       "    rubberband.mouseenter('figure_enter', mouse_event_fn);\n",
       "    rubberband.mouseleave('figure_leave', mouse_event_fn);\n",
       "\n",
       "    canvas_div.on(\"wheel\", function (event) {\n",
       "        event = event.originalEvent;\n",
       "        event['data'] = 'scroll'\n",
       "        if (event.deltaY < 0) {\n",
       "            event.step = 1;\n",
       "        } else {\n",
       "            event.step = -1;\n",
       "        }\n",
       "        mouse_event_fn(event);\n",
       "    });\n",
       "\n",
       "    canvas_div.append(canvas);\n",
       "    canvas_div.append(rubberband);\n",
       "\n",
       "    this.rubberband = rubberband;\n",
       "    this.rubberband_canvas = rubberband[0];\n",
       "    this.rubberband_context = rubberband[0].getContext(\"2d\");\n",
       "    this.rubberband_context.strokeStyle = \"#000000\";\n",
       "\n",
       "    this._resize_canvas = function(width, height) {\n",
       "        // Keep the size of the canvas, canvas container, and rubber band\n",
       "        // canvas in synch.\n",
       "        canvas_div.css('width', width)\n",
       "        canvas_div.css('height', height)\n",
       "\n",
       "        canvas.attr('width', width * mpl.ratio);\n",
       "        canvas.attr('height', height * mpl.ratio);\n",
       "        canvas.attr('style', 'width: ' + width + 'px; height: ' + height + 'px;');\n",
       "\n",
       "        rubberband.attr('width', width);\n",
       "        rubberband.attr('height', height);\n",
       "    }\n",
       "\n",
       "    // Set the figure to an initial 600x600px, this will subsequently be updated\n",
       "    // upon first draw.\n",
       "    this._resize_canvas(600, 600);\n",
       "\n",
       "    // Disable right mouse context menu.\n",
       "    $(this.rubberband_canvas).bind(\"contextmenu\",function(e){\n",
       "        return false;\n",
       "    });\n",
       "\n",
       "    function set_focus () {\n",
       "        canvas.focus();\n",
       "        canvas_div.focus();\n",
       "    }\n",
       "\n",
       "    window.setTimeout(set_focus, 100);\n",
       "}\n",
       "\n",
       "mpl.figure.prototype._init_toolbar = function() {\n",
       "    var fig = this;\n",
       "\n",
       "    var nav_element = $('<div/>')\n",
       "    nav_element.attr('style', 'width: 100%');\n",
       "    this.root.append(nav_element);\n",
       "\n",
       "    // Define a callback function for later on.\n",
       "    function toolbar_event(event) {\n",
       "        return fig.toolbar_button_onclick(event['data']);\n",
       "    }\n",
       "    function toolbar_mouse_event(event) {\n",
       "        return fig.toolbar_button_onmouseover(event['data']);\n",
       "    }\n",
       "\n",
       "    for(var toolbar_ind in mpl.toolbar_items) {\n",
       "        var name = mpl.toolbar_items[toolbar_ind][0];\n",
       "        var tooltip = mpl.toolbar_items[toolbar_ind][1];\n",
       "        var image = mpl.toolbar_items[toolbar_ind][2];\n",
       "        var method_name = mpl.toolbar_items[toolbar_ind][3];\n",
       "\n",
       "        if (!name) {\n",
       "            // put a spacer in here.\n",
       "            continue;\n",
       "        }\n",
       "        var button = $('<button/>');\n",
       "        button.addClass('ui-button ui-widget ui-state-default ui-corner-all ' +\n",
       "                        'ui-button-icon-only');\n",
       "        button.attr('role', 'button');\n",
       "        button.attr('aria-disabled', 'false');\n",
       "        button.click(method_name, toolbar_event);\n",
       "        button.mouseover(tooltip, toolbar_mouse_event);\n",
       "\n",
       "        var icon_img = $('<span/>');\n",
       "        icon_img.addClass('ui-button-icon-primary ui-icon');\n",
       "        icon_img.addClass(image);\n",
       "        icon_img.addClass('ui-corner-all');\n",
       "\n",
       "        var tooltip_span = $('<span/>');\n",
       "        tooltip_span.addClass('ui-button-text');\n",
       "        tooltip_span.html(tooltip);\n",
       "\n",
       "        button.append(icon_img);\n",
       "        button.append(tooltip_span);\n",
       "\n",
       "        nav_element.append(button);\n",
       "    }\n",
       "\n",
       "    var fmt_picker_span = $('<span/>');\n",
       "\n",
       "    var fmt_picker = $('<select/>');\n",
       "    fmt_picker.addClass('mpl-toolbar-option ui-widget ui-widget-content');\n",
       "    fmt_picker_span.append(fmt_picker);\n",
       "    nav_element.append(fmt_picker_span);\n",
       "    this.format_dropdown = fmt_picker[0];\n",
       "\n",
       "    for (var ind in mpl.extensions) {\n",
       "        var fmt = mpl.extensions[ind];\n",
       "        var option = $(\n",
       "            '<option/>', {selected: fmt === mpl.default_extension}).html(fmt);\n",
       "        fmt_picker.append(option)\n",
       "    }\n",
       "\n",
       "    // Add hover states to the ui-buttons\n",
       "    $( \".ui-button\" ).hover(\n",
       "        function() { $(this).addClass(\"ui-state-hover\");},\n",
       "        function() { $(this).removeClass(\"ui-state-hover\");}\n",
       "    );\n",
       "\n",
       "    var status_bar = $('<span class=\"mpl-message\"/>');\n",
       "    nav_element.append(status_bar);\n",
       "    this.message = status_bar[0];\n",
       "}\n",
       "\n",
       "mpl.figure.prototype.request_resize = function(x_pixels, y_pixels) {\n",
       "    // Request matplotlib to resize the figure. Matplotlib will then trigger a resize in the client,\n",
       "    // which will in turn request a refresh of the image.\n",
       "    this.send_message('resize', {'width': x_pixels, 'height': y_pixels});\n",
       "}\n",
       "\n",
       "mpl.figure.prototype.send_message = function(type, properties) {\n",
       "    properties['type'] = type;\n",
       "    properties['figure_id'] = this.id;\n",
       "    this.ws.send(JSON.stringify(properties));\n",
       "}\n",
       "\n",
       "mpl.figure.prototype.send_draw_message = function() {\n",
       "    if (!this.waiting) {\n",
       "        this.waiting = true;\n",
       "        this.ws.send(JSON.stringify({type: \"draw\", figure_id: this.id}));\n",
       "    }\n",
       "}\n",
       "\n",
       "\n",
       "mpl.figure.prototype.handle_save = function(fig, msg) {\n",
       "    var format_dropdown = fig.format_dropdown;\n",
       "    var format = format_dropdown.options[format_dropdown.selectedIndex].value;\n",
       "    fig.ondownload(fig, format);\n",
       "}\n",
       "\n",
       "\n",
       "mpl.figure.prototype.handle_resize = function(fig, msg) {\n",
       "    var size = msg['size'];\n",
       "    if (size[0] != fig.canvas.width || size[1] != fig.canvas.height) {\n",
       "        fig._resize_canvas(size[0], size[1]);\n",
       "        fig.send_message(\"refresh\", {});\n",
       "    };\n",
       "}\n",
       "\n",
       "mpl.figure.prototype.handle_rubberband = function(fig, msg) {\n",
       "    var x0 = msg['x0'] / mpl.ratio;\n",
       "    var y0 = (fig.canvas.height - msg['y0']) / mpl.ratio;\n",
       "    var x1 = msg['x1'] / mpl.ratio;\n",
       "    var y1 = (fig.canvas.height - msg['y1']) / mpl.ratio;\n",
       "    x0 = Math.floor(x0) + 0.5;\n",
       "    y0 = Math.floor(y0) + 0.5;\n",
       "    x1 = Math.floor(x1) + 0.5;\n",
       "    y1 = Math.floor(y1) + 0.5;\n",
       "    var min_x = Math.min(x0, x1);\n",
       "    var min_y = Math.min(y0, y1);\n",
       "    var width = Math.abs(x1 - x0);\n",
       "    var height = Math.abs(y1 - y0);\n",
       "\n",
       "    fig.rubberband_context.clearRect(\n",
       "        0, 0, fig.canvas.width, fig.canvas.height);\n",
       "\n",
       "    fig.rubberband_context.strokeRect(min_x, min_y, width, height);\n",
       "}\n",
       "\n",
       "mpl.figure.prototype.handle_figure_label = function(fig, msg) {\n",
       "    // Updates the figure title.\n",
       "    fig.header.textContent = msg['label'];\n",
       "}\n",
       "\n",
       "mpl.figure.prototype.handle_cursor = function(fig, msg) {\n",
       "    var cursor = msg['cursor'];\n",
       "    switch(cursor)\n",
       "    {\n",
       "    case 0:\n",
       "        cursor = 'pointer';\n",
       "        break;\n",
       "    case 1:\n",
       "        cursor = 'default';\n",
       "        break;\n",
       "    case 2:\n",
       "        cursor = 'crosshair';\n",
       "        break;\n",
       "    case 3:\n",
       "        cursor = 'move';\n",
       "        break;\n",
       "    }\n",
       "    fig.rubberband_canvas.style.cursor = cursor;\n",
       "}\n",
       "\n",
       "mpl.figure.prototype.handle_message = function(fig, msg) {\n",
       "    fig.message.textContent = msg['message'];\n",
       "}\n",
       "\n",
       "mpl.figure.prototype.handle_draw = function(fig, msg) {\n",
       "    // Request the server to send over a new figure.\n",
       "    fig.send_draw_message();\n",
       "}\n",
       "\n",
       "mpl.figure.prototype.handle_image_mode = function(fig, msg) {\n",
       "    fig.image_mode = msg['mode'];\n",
       "}\n",
       "\n",
       "mpl.figure.prototype.updated_canvas_event = function() {\n",
       "    // Called whenever the canvas gets updated.\n",
       "    this.send_message(\"ack\", {});\n",
       "}\n",
       "\n",
       "// A function to construct a web socket function for onmessage handling.\n",
       "// Called in the figure constructor.\n",
       "mpl.figure.prototype._make_on_message_function = function(fig) {\n",
       "    return function socket_on_message(evt) {\n",
       "        if (evt.data instanceof Blob) {\n",
       "            /* FIXME: We get \"Resource interpreted as Image but\n",
       "             * transferred with MIME type text/plain:\" errors on\n",
       "             * Chrome.  But how to set the MIME type?  It doesn't seem\n",
       "             * to be part of the websocket stream */\n",
       "            evt.data.type = \"image/png\";\n",
       "\n",
       "            /* Free the memory for the previous frames */\n",
       "            if (fig.imageObj.src) {\n",
       "                (window.URL || window.webkitURL).revokeObjectURL(\n",
       "                    fig.imageObj.src);\n",
       "            }\n",
       "\n",
       "            fig.imageObj.src = (window.URL || window.webkitURL).createObjectURL(\n",
       "                evt.data);\n",
       "            fig.updated_canvas_event();\n",
       "            fig.waiting = false;\n",
       "            return;\n",
       "        }\n",
       "        else if (typeof evt.data === 'string' && evt.data.slice(0, 21) == \"data:image/png;base64\") {\n",
       "            fig.imageObj.src = evt.data;\n",
       "            fig.updated_canvas_event();\n",
       "            fig.waiting = false;\n",
       "            return;\n",
       "        }\n",
       "\n",
       "        var msg = JSON.parse(evt.data);\n",
       "        var msg_type = msg['type'];\n",
       "\n",
       "        // Call the  \"handle_{type}\" callback, which takes\n",
       "        // the figure and JSON message as its only arguments.\n",
       "        try {\n",
       "            var callback = fig[\"handle_\" + msg_type];\n",
       "        } catch (e) {\n",
       "            console.log(\"No handler for the '\" + msg_type + \"' message type: \", msg);\n",
       "            return;\n",
       "        }\n",
       "\n",
       "        if (callback) {\n",
       "            try {\n",
       "                // console.log(\"Handling '\" + msg_type + \"' message: \", msg);\n",
       "                callback(fig, msg);\n",
       "            } catch (e) {\n",
       "                console.log(\"Exception inside the 'handler_\" + msg_type + \"' callback:\", e, e.stack, msg);\n",
       "            }\n",
       "        }\n",
       "    };\n",
       "}\n",
       "\n",
       "// from http://stackoverflow.com/questions/1114465/getting-mouse-location-in-canvas\n",
       "mpl.findpos = function(e) {\n",
       "    //this section is from http://www.quirksmode.org/js/events_properties.html\n",
       "    var targ;\n",
       "    if (!e)\n",
       "        e = window.event;\n",
       "    if (e.target)\n",
       "        targ = e.target;\n",
       "    else if (e.srcElement)\n",
       "        targ = e.srcElement;\n",
       "    if (targ.nodeType == 3) // defeat Safari bug\n",
       "        targ = targ.parentNode;\n",
       "\n",
       "    // jQuery normalizes the pageX and pageY\n",
       "    // pageX,Y are the mouse positions relative to the document\n",
       "    // offset() returns the position of the element relative to the document\n",
       "    var x = e.pageX - $(targ).offset().left;\n",
       "    var y = e.pageY - $(targ).offset().top;\n",
       "\n",
       "    return {\"x\": x, \"y\": y};\n",
       "};\n",
       "\n",
       "/*\n",
       " * return a copy of an object with only non-object keys\n",
       " * we need this to avoid circular references\n",
       " * http://stackoverflow.com/a/24161582/3208463\n",
       " */\n",
       "function simpleKeys (original) {\n",
       "  return Object.keys(original).reduce(function (obj, key) {\n",
       "    if (typeof original[key] !== 'object')\n",
       "        obj[key] = original[key]\n",
       "    return obj;\n",
       "  }, {});\n",
       "}\n",
       "\n",
       "mpl.figure.prototype.mouse_event = function(event, name) {\n",
       "    var canvas_pos = mpl.findpos(event)\n",
       "\n",
       "    if (name === 'button_press')\n",
       "    {\n",
       "        this.canvas.focus();\n",
       "        this.canvas_div.focus();\n",
       "    }\n",
       "\n",
       "    var x = canvas_pos.x * mpl.ratio;\n",
       "    var y = canvas_pos.y * mpl.ratio;\n",
       "\n",
       "    this.send_message(name, {x: x, y: y, button: event.button,\n",
       "                             step: event.step,\n",
       "                             guiEvent: simpleKeys(event)});\n",
       "\n",
       "    /* This prevents the web browser from automatically changing to\n",
       "     * the text insertion cursor when the button is pressed.  We want\n",
       "     * to control all of the cursor setting manually through the\n",
       "     * 'cursor' event from matplotlib */\n",
       "    event.preventDefault();\n",
       "    return false;\n",
       "}\n",
       "\n",
       "mpl.figure.prototype._key_event_extra = function(event, name) {\n",
       "    // Handle any extra behaviour associated with a key event\n",
       "}\n",
       "\n",
       "mpl.figure.prototype.key_event = function(event, name) {\n",
       "\n",
       "    // Prevent repeat events\n",
       "    if (name == 'key_press')\n",
       "    {\n",
       "        if (event.which === this._key)\n",
       "            return;\n",
       "        else\n",
       "            this._key = event.which;\n",
       "    }\n",
       "    if (name == 'key_release')\n",
       "        this._key = null;\n",
       "\n",
       "    var value = '';\n",
       "    if (event.ctrlKey && event.which != 17)\n",
       "        value += \"ctrl+\";\n",
       "    if (event.altKey && event.which != 18)\n",
       "        value += \"alt+\";\n",
       "    if (event.shiftKey && event.which != 16)\n",
       "        value += \"shift+\";\n",
       "\n",
       "    value += 'k';\n",
       "    value += event.which.toString();\n",
       "\n",
       "    this._key_event_extra(event, name);\n",
       "\n",
       "    this.send_message(name, {key: value,\n",
       "                             guiEvent: simpleKeys(event)});\n",
       "    return false;\n",
       "}\n",
       "\n",
       "mpl.figure.prototype.toolbar_button_onclick = function(name) {\n",
       "    if (name == 'download') {\n",
       "        this.handle_save(this, null);\n",
       "    } else {\n",
       "        this.send_message(\"toolbar_button\", {name: name});\n",
       "    }\n",
       "};\n",
       "\n",
       "mpl.figure.prototype.toolbar_button_onmouseover = function(tooltip) {\n",
       "    this.message.textContent = tooltip;\n",
       "};\n",
       "mpl.toolbar_items = [[\"Home\", \"Reset original view\", \"fa fa-home icon-home\", \"home\"], [\"Back\", \"Back to  previous view\", \"fa fa-arrow-left icon-arrow-left\", \"back\"], [\"Forward\", \"Forward to next view\", \"fa fa-arrow-right icon-arrow-right\", \"forward\"], [\"\", \"\", \"\", \"\"], [\"Pan\", \"Pan axes with left mouse, zoom with right\", \"fa fa-arrows icon-move\", \"pan\"], [\"Zoom\", \"Zoom to rectangle\", \"fa fa-square-o icon-check-empty\", \"zoom\"], [\"\", \"\", \"\", \"\"], [\"Download\", \"Download plot\", \"fa fa-floppy-o icon-save\", \"download\"]];\n",
       "\n",
       "mpl.extensions = [\"eps\", \"jpeg\", \"pdf\", \"png\", \"ps\", \"raw\", \"svg\", \"tif\"];\n",
       "\n",
       "mpl.default_extension = \"png\";var comm_websocket_adapter = function(comm) {\n",
       "    // Create a \"websocket\"-like object which calls the given IPython comm\n",
       "    // object with the appropriate methods. Currently this is a non binary\n",
       "    // socket, so there is still some room for performance tuning.\n",
       "    var ws = {};\n",
       "\n",
       "    ws.close = function() {\n",
       "        comm.close()\n",
       "    };\n",
       "    ws.send = function(m) {\n",
       "        //console.log('sending', m);\n",
       "        comm.send(m);\n",
       "    };\n",
       "    // Register the callback with on_msg.\n",
       "    comm.on_msg(function(msg) {\n",
       "        //console.log('receiving', msg['content']['data'], msg);\n",
       "        // Pass the mpl event to the overriden (by mpl) onmessage function.\n",
       "        ws.onmessage(msg['content']['data'])\n",
       "    });\n",
       "    return ws;\n",
       "}\n",
       "\n",
       "mpl.mpl_figure_comm = function(comm, msg) {\n",
       "    // This is the function which gets called when the mpl process\n",
       "    // starts-up an IPython Comm through the \"matplotlib\" channel.\n",
       "\n",
       "    var id = msg.content.data.id;\n",
       "    // Get hold of the div created by the display call when the Comm\n",
       "    // socket was opened in Python.\n",
       "    var element = $(\"#\" + id);\n",
       "    var ws_proxy = comm_websocket_adapter(comm)\n",
       "\n",
       "    function ondownload(figure, format) {\n",
       "        window.open(figure.imageObj.src);\n",
       "    }\n",
       "\n",
       "    var fig = new mpl.figure(id, ws_proxy,\n",
       "                           ondownload,\n",
       "                           element.get(0));\n",
       "\n",
       "    // Call onopen now - mpl needs it, as it is assuming we've passed it a real\n",
       "    // web socket which is closed, not our websocket->open comm proxy.\n",
       "    ws_proxy.onopen();\n",
       "\n",
       "    fig.parent_element = element.get(0);\n",
       "    fig.cell_info = mpl.find_output_cell(\"<div id='\" + id + \"'></div>\");\n",
       "    if (!fig.cell_info) {\n",
       "        console.error(\"Failed to find cell for figure\", id, fig);\n",
       "        return;\n",
       "    }\n",
       "\n",
       "    var output_index = fig.cell_info[2]\n",
       "    var cell = fig.cell_info[0];\n",
       "\n",
       "};\n",
       "\n",
       "mpl.figure.prototype.handle_close = function(fig, msg) {\n",
       "    var width = fig.canvas.width/mpl.ratio\n",
       "    fig.root.unbind('remove')\n",
       "\n",
       "    // Update the output cell to use the data from the current canvas.\n",
       "    fig.push_to_output();\n",
       "    var dataURL = fig.canvas.toDataURL();\n",
       "    // Re-enable the keyboard manager in IPython - without this line, in FF,\n",
       "    // the notebook keyboard shortcuts fail.\n",
       "    IPython.keyboard_manager.enable()\n",
       "    $(fig.parent_element).html('<img src=\"' + dataURL + '\" width=\"' + width + '\">');\n",
       "    fig.close_ws(fig, msg);\n",
       "}\n",
       "\n",
       "mpl.figure.prototype.close_ws = function(fig, msg){\n",
       "    fig.send_message('closing', msg);\n",
       "    // fig.ws.close()\n",
       "}\n",
       "\n",
       "mpl.figure.prototype.push_to_output = function(remove_interactive) {\n",
       "    // Turn the data on the canvas into data in the output cell.\n",
       "    var width = this.canvas.width/mpl.ratio\n",
       "    var dataURL = this.canvas.toDataURL();\n",
       "    this.cell_info[1]['text/html'] = '<img src=\"' + dataURL + '\" width=\"' + width + '\">';\n",
       "}\n",
       "\n",
       "mpl.figure.prototype.updated_canvas_event = function() {\n",
       "    // Tell IPython that the notebook contents must change.\n",
       "    IPython.notebook.set_dirty(true);\n",
       "    this.send_message(\"ack\", {});\n",
       "    var fig = this;\n",
       "    // Wait a second, then push the new image to the DOM so\n",
       "    // that it is saved nicely (might be nice to debounce this).\n",
       "    setTimeout(function () { fig.push_to_output() }, 1000);\n",
       "}\n",
       "\n",
       "mpl.figure.prototype._init_toolbar = function() {\n",
       "    var fig = this;\n",
       "\n",
       "    var nav_element = $('<div/>')\n",
       "    nav_element.attr('style', 'width: 100%');\n",
       "    this.root.append(nav_element);\n",
       "\n",
       "    // Define a callback function for later on.\n",
       "    function toolbar_event(event) {\n",
       "        return fig.toolbar_button_onclick(event['data']);\n",
       "    }\n",
       "    function toolbar_mouse_event(event) {\n",
       "        return fig.toolbar_button_onmouseover(event['data']);\n",
       "    }\n",
       "\n",
       "    for(var toolbar_ind in mpl.toolbar_items){\n",
       "        var name = mpl.toolbar_items[toolbar_ind][0];\n",
       "        var tooltip = mpl.toolbar_items[toolbar_ind][1];\n",
       "        var image = mpl.toolbar_items[toolbar_ind][2];\n",
       "        var method_name = mpl.toolbar_items[toolbar_ind][3];\n",
       "\n",
       "        if (!name) { continue; };\n",
       "\n",
       "        var button = $('<button class=\"btn btn-default\" href=\"#\" title=\"' + name + '\"><i class=\"fa ' + image + ' fa-lg\"></i></button>');\n",
       "        button.click(method_name, toolbar_event);\n",
       "        button.mouseover(tooltip, toolbar_mouse_event);\n",
       "        nav_element.append(button);\n",
       "    }\n",
       "\n",
       "    // Add the status bar.\n",
       "    var status_bar = $('<span class=\"mpl-message\" style=\"text-align:right; float: right;\"/>');\n",
       "    nav_element.append(status_bar);\n",
       "    this.message = status_bar[0];\n",
       "\n",
       "    // Add the close button to the window.\n",
       "    var buttongrp = $('<div class=\"btn-group inline pull-right\"></div>');\n",
       "    var button = $('<button class=\"btn btn-mini btn-primary\" href=\"#\" title=\"Stop Interaction\"><i class=\"fa fa-power-off icon-remove icon-large\"></i></button>');\n",
       "    button.click(function (evt) { fig.handle_close(fig, {}); } );\n",
       "    button.mouseover('Stop Interaction', toolbar_mouse_event);\n",
       "    buttongrp.append(button);\n",
       "    var titlebar = this.root.find($('.ui-dialog-titlebar'));\n",
       "    titlebar.prepend(buttongrp);\n",
       "}\n",
       "\n",
       "mpl.figure.prototype._root_extra_style = function(el){\n",
       "    var fig = this\n",
       "    el.on(\"remove\", function(){\n",
       "\tfig.close_ws(fig, {});\n",
       "    });\n",
       "}\n",
       "\n",
       "mpl.figure.prototype._canvas_extra_style = function(el){\n",
       "    // this is important to make the div 'focusable\n",
       "    el.attr('tabindex', 0)\n",
       "    // reach out to IPython and tell the keyboard manager to turn it's self\n",
       "    // off when our div gets focus\n",
       "\n",
       "    // location in version 3\n",
       "    if (IPython.notebook.keyboard_manager) {\n",
       "        IPython.notebook.keyboard_manager.register_events(el);\n",
       "    }\n",
       "    else {\n",
       "        // location in version 2\n",
       "        IPython.keyboard_manager.register_events(el);\n",
       "    }\n",
       "\n",
       "}\n",
       "\n",
       "mpl.figure.prototype._key_event_extra = function(event, name) {\n",
       "    var manager = IPython.notebook.keyboard_manager;\n",
       "    if (!manager)\n",
       "        manager = IPython.keyboard_manager;\n",
       "\n",
       "    // Check for shift+enter\n",
       "    if (event.shiftKey && event.which == 13) {\n",
       "        this.canvas_div.blur();\n",
       "        // select the cell after this one\n",
       "        var index = IPython.notebook.find_cell_index(this.cell_info[0]);\n",
       "        IPython.notebook.select(index + 1);\n",
       "    }\n",
       "}\n",
       "\n",
       "mpl.figure.prototype.handle_save = function(fig, msg) {\n",
       "    fig.ondownload(fig, null);\n",
       "}\n",
       "\n",
       "\n",
       "mpl.find_output_cell = function(html_output) {\n",
       "    // Return the cell and output element which can be found *uniquely* in the notebook.\n",
       "    // Note - this is a bit hacky, but it is done because the \"notebook_saving.Notebook\"\n",
       "    // IPython event is triggered only after the cells have been serialised, which for\n",
       "    // our purposes (turning an active figure into a static one), is too late.\n",
       "    var cells = IPython.notebook.get_cells();\n",
       "    var ncells = cells.length;\n",
       "    for (var i=0; i<ncells; i++) {\n",
       "        var cell = cells[i];\n",
       "        if (cell.cell_type === 'code'){\n",
       "            for (var j=0; j<cell.output_area.outputs.length; j++) {\n",
       "                var data = cell.output_area.outputs[j];\n",
       "                if (data.data) {\n",
       "                    // IPython >= 3 moved mimebundle to data attribute of output\n",
       "                    data = data.data;\n",
       "                }\n",
       "                if (data['text/html'] == html_output) {\n",
       "                    return [cell, data, j];\n",
       "                }\n",
       "            }\n",
       "        }\n",
       "    }\n",
       "}\n",
       "\n",
       "// Register the function which deals with the matplotlib target/channel.\n",
       "// The kernel may be null if the page has been refreshed.\n",
       "if (IPython.notebook.kernel != null) {\n",
       "    IPython.notebook.kernel.comm_manager.register_target('matplotlib', mpl.mpl_figure_comm);\n",
       "}\n"
      ],
      "text/plain": [
       "<IPython.core.display.Javascript object>"
      ]
     },
     "metadata": {},
     "output_type": "display_data"
    },
    {
     "data": {
      "text/html": [
       "<img src=\"data:image/png;base64,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\" width=\"640\">"
      ],
      "text/plain": [
       "<IPython.core.display.HTML object>"
      ]
     },
     "metadata": {},
     "output_type": "display_data"
    }
   ],
   "source": [
    "phase_plot(x,y,np.pi)"
   ]
  },
  {
   "cell_type": "markdown",
   "metadata": {
    "slideshow": {
     "slide_type": "slide"
    }
   },
   "source": [
    "## Problem 2) A Brief Review of Fourier Analysis\n",
    "\n",
    "In astronomical time series, we crave the detection of periodic signals because they can often provide fundamental insight into the sources we are studying (e.g., masses in a binary, classifications for pulsating stars, etc).\n",
    "\n",
    "The standard$^\\dagger$ choice for most astronomers to identify such signals is the Lomb-Scargle (LS) periodogram ([Lomb 1976](http://adsabs.harvard.edu/abs/1976Ap%26SS..39..447L); [Scargle 1982](http://adsabs.harvard.edu/abs/1982ApJ...263..835S)).\n",
    "\n",
    "$^\\dagger$Standard does not mean best, fastest, or even correct depending on your specific application."
   ]
  },
  {
   "cell_type": "markdown",
   "metadata": {
    "slideshow": {
     "slide_type": "slide"
    }
   },
   "source": [
    "At the heart of understanding any periodic signals is Fourier analysis. Thus, to understand how to interpret the LS periodogram, we first need to consider Fourier transforms.\n",
    "\n",
    "*Note - here we aim to jog your memory regarding Fourier analysis. Detailed mathematical calculations can be found elsewhere.*"
   ]
  },
  {
   "cell_type": "markdown",
   "metadata": {
    "slideshow": {
     "slide_type": "slide"
    }
   },
   "source": [
    "Given a continuous signal, $g(t)$ the Fourier transform of that signal is defined as:\n",
    "\n",
    "$$\\hat{\\mathrm{g}}(f) = \\int_{-\\infty}^{\\infty} g(t) \\,e^{-2\\pi i f t} \\,dt,$$\n",
    "\n",
    "where $i$ is an imaginary number. The inverse of this equation is defined as:\n",
    "\n",
    "$$ g(t) = \\int_{-\\infty}^{\\infty} \\hat{\\mathrm{g}}(f) \\,e^{-2\\pi i f t} \\,dt.$$\n",
    "\n",
    "For convenience, we will use the Fourier transform operator $\\mathcal{F}$, from which the above equations reduce to: \n",
    "\n",
    "$$\\mathcal{F}(g) = \\hat g$$\n",
    "\n",
    "$$\\mathcal{F}^{-1}(\\hat{g}) = g$$"
   ]
  },
  {
   "cell_type": "markdown",
   "metadata": {
    "slideshow": {
     "slide_type": "slide"
    }
   },
   "source": [
    "There are many useful properties of the Fourier transform including that the Fourier transform is a linear operator. Additionally, a time shift imparts a phase shift. Perhaps most importantly for our present purposes, however, is that the squared amplitude of the resulting transform allows us to get rid of the imaginary component and measure the power spectral density or power spectrum:\n",
    "\n",
    "$$ \\mathcal{P}_g = \\left|\\mathcal{F}(g)\\right|^2.$$\n",
    "\n",
    "The power spectrum is a real-valued function that quantifies the contribution of each frequency $f$ to the total signal in $g$. The power spectrum thus provides a way to identify the dominant frequency in any given signal. "
   ]
  },
  {
   "cell_type": "markdown",
   "metadata": {
    "slideshow": {
     "slide_type": "slide"
    }
   },
   "source": [
    "Next we consider some common Fourier pairs, that will prove helpful in our interpretation of the LS periodogram. "
   ]
  },
  {
   "cell_type": "code",
   "execution_count": 3,
   "metadata": {
    "slideshow": {
     "slide_type": "slide"
    }
   },
   "outputs": [
    {
     "data": {
      "text/plain": [
       "<IPython.core.display.Javascript object>"
      ]
     },
     "metadata": {},
     "output_type": "display_data"
    },
    {
     "data": {
      "text/html": [
       "<img src=\"data:image/png;base64,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\" width=\"1000\">"
      ],
      "text/plain": [
       "<IPython.core.display.HTML object>"
      ]
     },
     "metadata": {},
     "output_type": "execute_result"
    }
   ],
   "source": [
    "fourier_pairs_plot()"
   ]
  },
  {
   "cell_type": "markdown",
   "metadata": {
    "slideshow": {
     "slide_type": "slide"
    }
   },
   "source": [
    "The common Fourier pairs are especially useful in light of the convolution theorem. Fourier transforms convert convolutions into point-wise products. We define a convolution as:\n",
    "\n",
    "$$ [f \\ast g] (t) = \\int_{-\\infty}^{\\infty} f(\\tau) \\,g(t - \\tau) \\,d\\tau,$$\n",
    "\n",
    "where $\\ast$ is the convolution symbol. From the convolution theorem:\n",
    "\n",
    "$$ \\mathcal{F} \\{f \\ast g\\} = \\mathcal{F}(f)  \\mathcal{F}(g) $$\n",
    "\n",
    "Furthermore, the Fourier transform of a product is equal to the convolution of the Fourier transforms:\n",
    "\n",
    "$$ \\mathcal{F}\\{f \\cdot g\\} = \\mathcal{F}(f) \\ast \\mathcal{F}(g) $$\n",
    "\n",
    "This property will be very important for understanding the Lomb-Scargle periodogram. "
   ]
  },
  {
   "cell_type": "markdown",
   "metadata": {
    "slideshow": {
     "slide_type": "slide"
    }
   },
   "source": [
    "Fourier transforms are all well and good, but ultimately we desire a measure of periodicity in actual observations of astrophysical sources, which cannot be (a) continuous, or (b) infinite. \n",
    "\n",
    "The first thing to understand with real world observations is the Nyquist frequency limit. If observations are obtained in a uniformly spaced manner at a rate of $f_0 = 1/T$ one can only recover the frequncy information if the signal is band-limited between frequencies $\\pm f_0/2$. Put another way, the highest frequency that can be detected in such data is $f_0/2$."
   ]
  },
  {
   "cell_type": "markdown",
   "metadata": {
    "slideshow": {
     "slide_type": "slide"
    }
   },
   "source": [
    "This result can be (somewhat) intuited by looking at simulated data.\n",
    "\n",
    "**Problem 2a**\n",
    "\n",
    "Generate and plot a periodic signal with $f = f_\\mathrm{Ny} = 1/2$ on a grid from 0 to 10, comprising of 10 even samples (i.e., 0, 1, 2, 3, ..., 10). Overplot the underlying signal in addition to the observations."
   ]
  },
  {
   "cell_type": "code",
   "execution_count": null,
   "metadata": {
    "collapsed": true,
    "slideshow": {
     "slide_type": "slide"
    }
   },
   "outputs": [],
   "source": [
    "x = # complete\n",
    "y = # complete\n",
    "x_signal = # complete\n",
    "y_signal = # complete\n",
    "fig, ax = plt.subplots()\n",
    "ax.scatter( # complete\n",
    "ax.plot( # complete\n",
    "fig.tight_layout()"
   ]
  },
  {
   "cell_type": "markdown",
   "metadata": {
    "slideshow": {
     "slide_type": "slide"
    }
   },
   "source": [
    "Sampling a signal directly at the Nyquist frequency results in a lack of any variability. But does this just mean that $f_\\mathrm{Ny}$ is special? What happens at $f > f_\\mathrm{Ny}$?\n",
    "\n",
    "**Problem 2b**\n",
    "\n",
    "As above, generate and plot a periodic signal with $f = 0.7$ on an even grid from 0 to 10. Overplot the underlying signal in addition to the observations."
   ]
  },
  {
   "cell_type": "code",
   "execution_count": null,
   "metadata": {
    "collapsed": true,
    "slideshow": {
     "slide_type": "slide"
    }
   },
   "outputs": [],
   "source": [
    "x = # complete\n",
    "y = # complete\n",
    "x_signal = # complete\n",
    "y_signal = # complete\n",
    "fig, ax = plt.subplots()\n",
    "ax.scatter( # complete\n",
    "ax.plot( # complete\n",
    "fig.tight_layout()"
   ]
  },
  {
   "cell_type": "markdown",
   "metadata": {
    "slideshow": {
     "slide_type": "slide"
    }
   },
   "source": [
    "From the plot the signal is clearly variable (unlike when $f = f_\\mathrm{Ny}$). However, there are fewer than 2 observations per cycle.\n",
    "\n",
    "**Problem 2c**\n",
    "\n",
    "Overplot a source with $f = 2.7$ on the same data shown in **2b**."
   ]
  },
  {
   "cell_type": "code",
   "execution_count": null,
   "metadata": {
    "collapsed": true,
    "slideshow": {
     "slide_type": "slide"
    }
   },
   "outputs": [],
   "source": [
    "x = # complete\n",
    "y = # complete\n",
    "x_signal = # complete\n",
    "y_signal = # complete\n",
    "\n",
    "# complete\n",
    "# complete\n",
    "# complete\n",
    "# complete"
   ]
  },
  {
   "cell_type": "markdown",
   "metadata": {
    "slideshow": {
     "slide_type": "slide"
    }
   },
   "source": [
    "The observations are identical! Here is what you need to remember about the Nyquist frequency:\n",
    "\n",
    "  1. If you are going to obtain observations at *regular intervals*, and there is a specific signal you wish to detect, then be sure to sample the data such that $f_\\mathrm{Ny} > f_\\mathrm{signal}$.\n",
    "  2. For all $f > f_\\mathrm{Ny}$, $f$ will be aliased with $f \\pm 2n f_\\mathrm{Ny}$ signals, where $n$ is an integer. Practically speaking, this means it does not make sense to search for signals with $f > f_\\mathrm{Ny}$.\n",
    "  3. Finally, (and this is something that is often wrong in the literature) there is no Nyquist limit for unevenly sampled data (see VanderPlas 2017 for further details). Thus, for (virtually all) ground-based observing one need not worry about the Nyquist limit."
   ]
  },
  {
   "cell_type": "markdown",
   "metadata": {
    "slideshow": {
     "slide_type": "slide"
    }
   },
   "source": [
    "Staying on the topic of non-continuous observations, I present without derivation the discrete Fourier transform:\n",
    "\n",
    "$$ \\hat g_\\mathrm{obs}(f) = \\sum_{n = 0}^N g_n\\,e^{-2\\pi i f n\\Delta t}$$\n",
    "\n",
    "where $g_n = g(n\\Delta t)$, and $\\Delta t$ is the sampling interval. Our discussion of the Nyquist frequency tells us that we cannot detect frequencies $f > 1/2\\Delta T$. Thus, the relevant frequencies to search for power given $\\Delta t$ are between 0 and $f_\\mathrm{Ny}$, which we can sample on a grid $\\Delta f = 1/(N \\Delta t)$. From there:\n",
    "\n",
    "$$\\hat g_k = \\sum_{n = 0}^N g_n\\,e^{-2\\pi i f knN}$$\n",
    "\n",
    "where $\\hat g_k = \\hat g_\\mathrm{obs} (k\\Delta f)$. This is the discrete Fourier transform. "
   ]
  },
  {
   "cell_type": "markdown",
   "metadata": {
    "slideshow": {
     "slide_type": "subslide"
    }
   },
   "source": [
    "I said a full derivation will not be provided, and that is true. To understand how we went from a continuous integral to the summation above, recall that regular observations of a continous signal over a finite interval is equivalent to multiplying the continuous signal by a Dirac comb function and a window function. The delta functions from the Dirac comb function collapse the integral to a sum, while the window function limits that sum from $0$ to $N$."
   ]
  },
  {
   "cell_type": "markdown",
   "metadata": {
    "slideshow": {
     "slide_type": "slide"
    }
   },
   "source": [
    "From the discrete Fourier transform we can then calculate the periodogram (an estimator of the power spectrum):\n",
    "\n",
    "$$\\mathcal{P}(f) = \\frac{1}{N}\\left|\\sum_{n=1}^{N} g_n\\,e^{-2\\pi i f knN}\\right|^2$$\n",
    "\n",
    "which is also called the classical periodogram or the Schuster periodogram (Schuster 1898). "
   ]
  },
  {
   "cell_type": "markdown",
   "metadata": {
    "slideshow": {
     "slide_type": "slide"
    }
   },
   "source": [
    "## Problem 3) The LS Periodogram"
   ]
  },
  {
   "cell_type": "markdown",
   "metadata": {
    "slideshow": {
     "slide_type": "slide"
    }
   },
   "source": [
    "Of course, we ultimately care about applications where the data are not perfectly uniformly sampled (even *Kepler* data is not uniformly sampled). We can re-write the classical periodogram in a more general way:\n",
    "\n",
    "$$\\mathcal{P}(f) = \\frac{1}{N}\\left|\\sum_{n=1}^{N} g_n\\,e^{-2\\pi i f t_n}\\right|^2$$\n",
    "\n",
    "where $t_n$ corresponds to the observation times. Irregular sampling removes a lot of the nice statistical properties of the discrete Fourier transform. Scargle (1982) was able to address these issues via a generalized form of the periodogram. \n",
    "\n",
    "[For completeness, there are some long equations that I should include here, but I won't...]"
   ]
  },
  {
   "cell_type": "markdown",
   "metadata": {
    "slideshow": {
     "slide_type": "slide"
    }
   },
   "source": [
    "Instead, I will simplify things slightly by using the fact that Scargle's modified periodogram is identical to the result one obtains by fitting a sinusoid model to the data at each frequency $f$ and constructing a \"periodogram\" from the corresponding $\\chi^2$ values at each frequency $f$ [this was considered in great detail by Lomb (1976)].\n",
    "\n",
    "*Note* - to this day I find this particular identity remarkable."
   ]
  },
  {
   "cell_type": "markdown",
   "metadata": {
    "slideshow": {
     "slide_type": "slide"
    }
   },
   "source": [
    "Thus, using the model:\n",
    "\n",
    "$$y(t;f) = A_f \\sin(2\\pi f(t - \\phi_f)$$\n",
    "\n",
    "we can calculate the $\\chi^2$ for every frequency $f$:\n",
    "\n",
    "$$\\chi^2 = \\sum_n (y_n - y(t_n; f))^2$$\n",
    "\n",
    "The \"best\" model for a given frequency requires the selection of $A_f$ and $\\phi_f$ that minimizes $\\chi^2$, which we will call $\\hat \\chi^2$. Scargle (1982) then showed that the Lomb-Scargle periodogram can be written \n",
    "\n",
    "$$\\mathcal{P}_\\mathrm{LS}(f) = \\frac{1}{2}\\left[ \\hat \\chi^2_0 - \\hat \\chi^2(f) \\right]$$\n",
    "\n",
    "where $\\hat \\chi^2_0$ is the value for a non-varying reference model."
   ]
  },
  {
   "cell_type": "markdown",
   "metadata": {
    "slideshow": {
     "slide_type": "slide"
    }
   },
   "source": [
    "This realization further enables the inclusion of observational uncertainty in the periodogram, via a familiar adjustment to the $\\chi^2$ value:\n",
    "\n",
    "$$\\chi^2 = \\sum_n \\left(\\frac{y_n - y(t_n; f)}{\\sigma_n}\\right)^2$$\n",
    "\n",
    "where $\\sigma_n$ is the uncertainty on the individual measurements, $y_n$. "
   ]
  },
  {
   "cell_type": "markdown",
   "metadata": {
    "slideshow": {
     "slide_type": "slide"
    }
   },
   "source": [
    "From here it follows that we can construct a LS periodogram. \n",
    "\n",
    "**Problem 3a**\n",
    "\n",
    "Write a function, `chi2`, to calculate the $\\chi^2$ given $f$, $A_f$, and $\\phi$, for observations $y_n$ with uncertainties $\\sigma_{y,n}$ taken at times $t_n$."
   ]
  },
  {
   "cell_type": "code",
   "execution_count": null,
   "metadata": {
    "collapsed": true,
    "slideshow": {
     "slide_type": "slide"
    }
   },
   "outputs": [],
   "source": [
    "def chi2( # complete\n",
    "    # complete\n",
    "    # complete\n",
    "    # complete"
   ]
  },
  {
   "cell_type": "markdown",
   "metadata": {
    "slideshow": {
     "slide_type": "slide"
    }
   },
   "source": [
    "**Problem 3b**\n",
    "\n",
    "Write a function to minimize the $\\chi^2$ given everything but $A_f$ and $\\phi_f$.\n",
    "\n",
    "*Hint* - you may find [`minimize`](https://docs.scipy.org/doc/scipy/reference/generated/scipy.optimize.minimize.html) within the `scipy` package useful."
   ]
  },
  {
   "cell_type": "code",
   "execution_count": null,
   "metadata": {
    "collapsed": true,
    "slideshow": {
     "slide_type": "slide"
    }
   },
   "outputs": [],
   "source": [
    "def min_chi2( # complete\n",
    "    # complete\n",
    "    # complete"
   ]
  },
  {
   "cell_type": "markdown",
   "metadata": {
    "slideshow": {
     "slide_type": "slide"
    }
   },
   "source": [
    "**Problem 3c**\n",
    "\n",
    "Write a function, `ls_periodogram`, to calculate the LS periodogram for observations $y$, $\\sigma_y$, $t$ over a frequency grid `f_grid`."
   ]
  },
  {
   "cell_type": "code",
   "execution_count": null,
   "metadata": {
    "collapsed": true,
    "slideshow": {
     "slide_type": "slide"
    }
   },
   "outputs": [],
   "source": [
    "def ls_periodogram( # complete\n",
    "    psd = np.empty_like(f_grid)\n",
    "    chi2_0 = # complete\n",
    "    for f_num, f in enumerate(f_grid):\n",
    "        psd[f_num] = # complete\n",
    "    \n",
    "    return psd"
   ]
  },
  {
   "cell_type": "markdown",
   "metadata": {
    "slideshow": {
     "slide_type": "slide"
    }
   },
   "source": [
    "**Problem 3d**\n",
    "\n",
    "Generate a periodic signal with 100 observations taken over a time period of 10 days. Use an input period of 5.25, amplitude of 7.4, and variance of the noise = 0.8. Then compute and plot the periodogram for the simulated data. Do you recover the simulated period?\n",
    "\n",
    "*Hint* - set the minimum frequency in the grid to $1/T$ where $T$ is the duration of the observations. Set the maximum frequnecy to 10, and use an equally spaced grid with 50 points. "
   ]
  },
  {
   "cell_type": "code",
   "execution_count": null,
   "metadata": {
    "collapsed": true,
    "slideshow": {
     "slide_type": "slide"
    }
   },
   "outputs": [],
   "source": [
    "np.random.seed(23)\n",
    "# calculate the periodogram\n",
    "\n",
    "x = # complete\n",
    "y = # complete\n",
    "y_unc = # complete\n",
    "\n",
    "f_grid = # complete\n",
    "\n",
    "psd_ls = # complete"
   ]
  },
  {
   "cell_type": "code",
   "execution_count": null,
   "metadata": {
    "collapsed": true,
    "slideshow": {
     "slide_type": "slide"
    }
   },
   "outputs": [],
   "source": [
    "# plot the periodogram\n",
    "fig, ax = plt.subplots()\n",
    "ax.plot( # complete\n",
    "# complete\n",
    "# complete\n",
    "fig.tight_layout()"
   ]
  },
  {
   "cell_type": "markdown",
   "metadata": {
    "slideshow": {
     "slide_type": "slide"
    }
   },
   "source": [
    "**Problem 3e**\n",
    "\n",
    "For the same data, include 1000 points in `f_grid` and calculate and plot the periodogram. \n",
    "\n",
    "Now do you recover the correct period?"
   ]
  },
  {
   "cell_type": "code",
   "execution_count": null,
   "metadata": {
    "collapsed": true,
    "slideshow": {
     "slide_type": "slide"
    }
   },
   "outputs": [],
   "source": [
    "# calculate the periodogram\n",
    "f_grid = # complete\n",
    "\n",
    "psd_ls = # complete"
   ]
  },
  {
   "cell_type": "code",
   "execution_count": null,
   "metadata": {
    "collapsed": true,
    "slideshow": {
     "slide_type": "slide"
    }
   },
   "outputs": [],
   "source": [
    "# plot the periodogram\n",
    "fig,ax = plt.subplots()\n",
    "\n",
    "ax.plot(# complete\n",
    "# complete\n",
    "# complete\n",
    "fig.tight_layout()\n",
    "\n",
    "print(\"The best fit period is: {:.4f}\".format( # complete"
   ]
  },
  {
   "cell_type": "markdown",
   "metadata": {
    "slideshow": {
     "slide_type": "slide"
    }
   },
   "source": [
    "**Problem 3f**\n",
    "\n",
    "Plot the phase-folded data at the newly found \"best\" fit period."
   ]
  },
  {
   "cell_type": "code",
   "execution_count": null,
   "metadata": {
    "collapsed": true,
    "slideshow": {
     "slide_type": "slide"
    }
   },
   "outputs": [],
   "source": [
    "phase_plot( # complete"
   ]
  },
  {
   "cell_type": "markdown",
   "metadata": {
    "slideshow": {
     "slide_type": "slide"
    }
   },
   "source": [
    "### Congratulations\n",
    "\n",
    "You did it! You just developed the software necessary to find periodic signals in sparsely sampled, noisy data.\n",
    "\n",
    "You are ready to conquer LSST."
   ]
  },
  {
   "cell_type": "markdown",
   "metadata": {
    "slideshow": {
     "slide_type": "slide"
    }
   },
   "source": [
    "**But wait!**\n",
    "\n",
    "There should be a few things that are bothering you. \n",
    "\n",
    "First and foremost, why did we use a grid with 50 points and then increase that to 1000 points for the previous simulation?"
   ]
  },
  {
   "cell_type": "markdown",
   "metadata": {
    "slideshow": {
     "slide_type": "slide"
    }
   },
   "source": [
    "There are many important ramifications following the choice of an evaluation grid for the LS periodogram. When selecting the grid upon which to evaluate $f$ one must determine both the limits for the grid and the spacing within the grid. \n",
    "\n",
    "The minimum frequency is straightforward: $f_\\mathrm{min} = 1/T$ corresponds to a signal that experiences 1 cycle in the span of the data. Computationally, $f_\\mathrm{min} = 0$ does not add much time. "
   ]
  },
  {
   "cell_type": "markdown",
   "metadata": {
    "slideshow": {
     "slide_type": "slide"
    }
   },
   "source": [
    "The maximum frequency is straightforward: $f_\\mathrm{Ny}$ (**if** you have evenly spaced data). What if the data are not evenly spaced (a situation for which we said $f_\\mathrm{Ny}$ does not exist? \n",
    "\n",
    "There are many ad-hoc methods described in the literature, such as $f_\\mathrm{max} = 1/<\\Delta T>$, where $<\\Delta T>$ is the mean separation of consecutive observations. Again - this is *not* correct.\n",
    "\n",
    "[VanderPlas (2017)](https://arxiv.org/abs/1703.09824) discuss maximum frequencies for non-uniform data (see that paper for more details). My useful practical advice is to set $f_\\mathrm{max}$ to the maximum frequency that you might expect to see in the data (for example, with the exception of a few extreme white dwarf systems, essentially no stars show periodicity at $< 1\\,\\mathrm{hr}$)."
   ]
  },
  {
   "cell_type": "markdown",
   "metadata": {
    "slideshow": {
     "slide_type": "slide"
    }
   },
   "source": [
    "Of course, we still haven't decided what grid to adopt. As we saw above - if we use too few points, we will not resolve the peak in the periodogram. Alternatively, if we include too many points in the grid we will waste a lot of computation. \n",
    "\n",
    "Fortunately, figuring out $\\Delta f$ is relatively straightfoward: from above we saw that the Fourier transform of a window function of length $T$ produces a sinc signal with width $\\sim 1/T$. Thus, we need $\\Delta f$ to sample $\\sim 1/T$, which means $\\Delta f = 1/n_0T$, where $n_0$ is a constant, and 5 is a good choice for $n_0$."
   ]
  },
  {
   "cell_type": "markdown",
   "metadata": {
    "slideshow": {
     "slide_type": "slide"
    }
   },
   "source": [
    "**Problem 3g**\n",
    "\n",
    "Calculate the optimal grid for sampling LSST data. Assume that the time measurements are carried out in units of days, the survey lasts for 10 years and the shortest period expected in the data is 1 hr. \n",
    "\n",
    "How many evaluations are needed to calculate the periodogram?"
   ]
  },
  {
   "cell_type": "code",
   "execution_count": null,
   "metadata": {
    "collapsed": true,
    "slideshow": {
     "slide_type": "slide"
    }
   },
   "outputs": [],
   "source": [
    "f_min = # complete\n",
    "f_max = # complete\n",
    "delta_f = # complete\n",
    "\n",
    "f_grid = np.arange( # complete\n",
    "\n",
    "print(\"{:d} grid points are needed to sample the periodogram\".format( # complete"
   ]
  },
  {
   "cell_type": "markdown",
   "metadata": {
    "slideshow": {
     "slide_type": "slide"
    }
   },
   "source": [
    "## Problem 4) Other Considerations and Faster Implementations"
   ]
  },
  {
   "cell_type": "markdown",
   "metadata": {
    "slideshow": {
     "slide_type": "slide"
    }
   },
   "source": [
    "While `ls_periodogram` functions well, it would take a long time to evaluate $\\sim4\\times 10^5$ frequencies for $\\sim2\\times 10^7$ variable LSST sources. Fortunately, there are significantly faster implementations, including (as you may have guessed) one in `astropy`.\n",
    "\n",
    "**Problem 4a**\n",
    "\n",
    "[`LombScargle`](http://docs.astropy.org/en/stable/stats/lombscargle.html) in `astropy.stats` is fast. Run it below to compare to `ls_periodogram`."
   ]
  },
  {
   "cell_type": "code",
   "execution_count": null,
   "metadata": {
    "collapsed": true,
    "slideshow": {
     "slide_type": "slide"
    }
   },
   "outputs": [],
   "source": [
    "from astropy.stats import LombScargle\n",
    "frequency, power = LombScargle(x, y, y_unc).autopower()"
   ]
  },
  {
   "cell_type": "markdown",
   "metadata": {
    "slideshow": {
     "slide_type": "slide"
    }
   },
   "source": [
    "Unlike `ls_periodogram`, `LombScargle` effectively takes no time to run on the simulated data. \n",
    "\n",
    "**Problem 4b**\n",
    "\n",
    "Plot the periodogram for the simulated data."
   ]
  },
  {
   "cell_type": "code",
   "execution_count": null,
   "metadata": {
    "collapsed": true,
    "slideshow": {
     "slide_type": "slide"
    }
   },
   "outputs": [],
   "source": [
    "fig, ax = plt.subplots()\n",
    "\n",
    "ax.plot( # complete\n",
    "# complete\n",
    "# complete\n",
    "# complete\n",
    "fig.tight_layout()"
   ]
  },
  {
   "cell_type": "markdown",
   "metadata": {
    "slideshow": {
     "slide_type": "slide"
    }
   },
   "source": [
    "There are many choices regarding the calculation of the periodogram, so [read the docs](http://docs.astropy.org/en/stable/api/astropy.stats.LombScargle.html#astropy.stats.LombScargle)."
   ]
  },
  {
   "cell_type": "markdown",
   "metadata": {
    "slideshow": {
     "slide_type": "slide"
    }
   },
   "source": [
    "### Floating Mean Periodogram\n",
    "\n",
    "A basic assumption that we preivously made is that the data are \"centered\" - in other words, our model explicitly assumes that the signal oscillates about a mean of 0.\n",
    "\n",
    "For astronomical applications, this assumption can be harmful. Instead, it is useful to fit for the mean of the signal in addition to the periodic component (as is the default in `LombScargle`):\n",
    "\n",
    "$$y(t;f) = y_0(f) + A_f \\sin(2\\pi f(t - \\phi_f).$$"
   ]
  },
  {
   "cell_type": "markdown",
   "metadata": {
    "slideshow": {
     "slide_type": "slide"
    }
   },
   "source": [
    "To illustrate why this is important for astronomy, assume that any signal fainter than $-2$ in our simulated data cannot be detected. \n",
    "\n",
    "**Problem 4c**\n",
    "\n",
    "Remove the observations from `x` and `y` where $y \\le -2$ and calculate the periodogram both with and without fitting the mean (`fit_mean = False` in the call to `LombScargle`). Plot the periodograms. Do both methods recover the correct period? "
   ]
  },
  {
   "cell_type": "code",
   "execution_count": null,
   "metadata": {
    "collapsed": true,
    "slideshow": {
     "slide_type": "slide"
    }
   },
   "outputs": [],
   "source": [
    "# complete\n",
    "freq_no_mean, power_no_mean = LombScargle( # complete\n",
    "freq_fit_mean, power_fit_mean = LombScargle( # complete\n",
    "    \n",
    "fig, (ax1, ax2) = plt.subplots(2, 1, sharex=True)\n",
    "ax1.plot( # complete\n",
    "ax2.plot( # complete\n",
    "ax1.set_xlim(0,15)\n",
    "\n",
    "fig.tight_layout()"
   ]
  },
  {
   "cell_type": "markdown",
   "metadata": {
    "slideshow": {
     "slide_type": "slide"
    }
   },
   "source": [
    "We can see that the best fit model doesn't match the signal in the case where we do not allow a floating mean."
   ]
  },
  {
   "cell_type": "code",
   "execution_count": null,
   "metadata": {
    "collapsed": true,
    "slideshow": {
     "slide_type": "slide"
    }
   },
   "outputs": [],
   "source": [
    "fit_mean_model = LombScargle(x[bright], y[bright], y_unc[bright], \n",
    "                             fit_mean=True).model(np.linspace(0,10,1000),\n",
    "                                                  freq_fit_mean[np.argmax(power_fit_mean)])\n",
    "no_mean_model = LombScargle(x[bright], y[bright], y_unc[bright], \n",
    "                             fit_mean=False).model(np.linspace(0,10,1000),\n",
    "                                                  freq_no_mean[np.argmax(power_no_mean)])\n",
    "\n",
    "fig, ax = plt.subplots()\n",
    "ax.errorbar(x[bright], y[bright], y_unc[bright], fmt='o', label='data')\n",
    "ax.plot(np.linspace(0,10,1000), fit_mean_model, label='fit mean')\n",
    "ax.plot(np.linspace(0,10,1000), no_mean_model, label='no mean')\n",
    "ax.set_xlabel('x')\n",
    "ax.set_ylabel('y')\n",
    "ax.legend()\n",
    "fig.tight_layout()"
   ]
  },
  {
   "cell_type": "markdown",
   "metadata": {
    "slideshow": {
     "slide_type": "slide"
    }
   },
   "source": [
    "### Window Functions\n",
    "\n",
    "Recall that the convolution theorem tells us that:\n",
    "\n",
    "$$\\mathcal{F}[f\\cdot g] = \\mathcal{F}(f) \\ast \\mathcal{F}(g)$$\n",
    "\n",
    "Telescope observations are effectively the product of a continous signal with several delta functions (corresponding to the times of observations). As a result, the convolution that produces the periodogram will retain signal from both the source and the observational cadence."
   ]
  },
  {
   "cell_type": "markdown",
   "metadata": {
    "slideshow": {
     "slide_type": "slide"
    }
   },
   "source": [
    "To illustrate this effect, let us simulate \"realistic\" observations for a 10 year telescope survey. We do this by assuming that a source is observed every 3 nights (the LSST cadence) within $\\pm 4\\,\\mathrm{hr}$ of the same time, and that $\\sim 30\\%$ of the observations did not occur due to bad weather. We further assume that the source cannot be observed for 40% of the year because it is behind the sun.\n",
    "\n",
    "Simulate a periodic signal with this cadence, a period = 220 days (typical for Miras), amplitude = 12.4, and noise = 1. Plot the simulated light curve."
   ]
  },
  {
   "cell_type": "markdown",
   "metadata": {
    "slideshow": {
     "slide_type": "slide"
    }
   },
   "source": [
    "**Problem 4d**\n",
    "\n",
    "Simulate a periodic signal with 3 day cadence (and the observing conditions described above), a period = 220 days (typical for Miras), amplitude = 12.4, and variance of the noise = 1. Plot the simulated light curve."
   ]
  },
  {
   "cell_type": "code",
   "execution_count": null,
   "metadata": {
    "collapsed": true,
    "slideshow": {
     "slide_type": "slide"
    }
   },
   "outputs": [],
   "source": [
    "# set up simulated observations\n",
    "t_obs = np.arange(0, 10*365, 3)      # 3d cadence\n",
    "# complete\n",
    "# complete\n",
    "# complete\n",
    "\n",
    "y = gen_periodic_data( # complete\n",
    "# complete\n",
    "\n",
    "fig, ax = plt.subplots()\n",
    "ax.errorbar( # complete\n",
    "ax.set_xlabel(\"Time (d)\")\n",
    "\n",
    "ax.set_ylabel(\"Flux (arbitrary units)\")"
   ]
  },
  {
   "cell_type": "markdown",
   "metadata": {
    "slideshow": {
     "slide_type": "slide"
    }
   },
   "source": [
    "**Problem 4e**\n",
    "\n",
    "Calculate and plot the periodogram for the window function (i.e., set `y = 1` in `LombScargle`) of the observations. Do you notice any significant power? \n",
    "\n",
    "*Hint* - you may need to zoom in on the plot to see all the relevant features."
   ]
  },
  {
   "cell_type": "code",
   "execution_count": null,
   "metadata": {
    "collapsed": true,
    "slideshow": {
     "slide_type": "slide"
    }
   },
   "outputs": [],
   "source": [
    "ls = LombScargle( # complete\n",
    "    \n",
    "freq_window, power_window = # complete\n",
    "\n",
    "fig, ax = plt.subplots()\n",
    "ax.plot( # complete\n",
    "ax.set_ylabel(\"Power\")\n",
    "ax.set_xlabel(\"Period (d)\")\n",
    "ax.set_xlim(0,500)\n",
    "\n",
    "axins = plt.axes([.2, .65, .5, .2])\n",
    "axins.plot( # complete\n",
    "axins.set_xlim(0,5)"
   ]
  },
  {
   "cell_type": "markdown",
   "metadata": {
    "slideshow": {
     "slide_type": "slide"
    }
   },
   "source": [
    "Interestingly, there are very strong peaks in the data at $P \\approx 3\\,\\mathrm{d} \\;\\&\\; 365\\,\\mathrm{d}$. \n",
    "\n",
    "What is this telling us? Essentially that observations are likely to be repeated at intervals of 3 or 365 days (shorter period spikes are aliases of the 3 d peak).\n",
    "\n",
    "This is important to understand, however, because this same power will be present in the periodogram where we search for the periodic signal."
   ]
  },
  {
   "cell_type": "markdown",
   "metadata": {
    "slideshow": {
     "slide_type": "slide"
    }
   },
   "source": [
    "**Problem 4f**\n",
    "\n",
    "Calculate the periodogram for the data and compare it to the periodogram for the window function. "
   ]
  },
  {
   "cell_type": "code",
   "execution_count": null,
   "metadata": {
    "collapsed": true,
    "slideshow": {
     "slide_type": "slide"
    }
   },
   "outputs": [],
   "source": [
    "ls = LombScargle( # complete\n",
    "\n",
    "frequency, power = # complete\n",
    "\n",
    "fig, (ax,ax2) = plt.subplots(2,1, sharex=True)\n",
    "ax.plot( # complete\n",
    "ax.set_ylabel(\"Power\")\n",
    "ax.set_ylim(0,1)\n",
    "\n",
    "ax2.plot( # complete\n",
    "ax2.set_ylabel(\"Power\")\n",
    "ax2.set_xlabel(\"Period (d)\")\n",
    "ax2.set_xlim(0,10)\n",
    "fig.tight_layout()"
   ]
  },
  {
   "cell_type": "markdown",
   "metadata": {
    "slideshow": {
     "slide_type": "slide"
    }
   },
   "source": [
    "### Uncertainty on the best-fit period\n",
    "\n",
    "How do we report uncertainties on the best-fit period from LS? For example, for the previously simulated LSST light curve we would want to report something like $P = 102 \\pm 4\\,\\mathrm{d}$. However, the uncertainty from LS periodograms cannot be determined in this way. "
   ]
  },
  {
   "cell_type": "markdown",
   "metadata": {
    "slideshow": {
     "slide_type": "slide"
    }
   },
   "source": [
    "Naively, one could report the width of the peak in the periodogram as the uncertainty in the fit. However, we previously saw that the peak width $\\propto 1/T$ (the peak width does not decrease as the number of observations or their S/N increases; see Vander Plas 2017). Reporting such an uncertainty is particularly ridiculous for long duration surveys, whereby the peaks become very very narrow."
   ]
  },
  {
   "cell_type": "markdown",
   "metadata": {
    "slideshow": {
     "slide_type": "slide"
    }
   },
   "source": [
    "An alternative approach is to report the False Alarm Probability (FAP), which estimates the probability that a dataset with no periodic signal could produce a peak of similar magnitude, due to random gaussian fluctuations, as the data. \n",
    "\n",
    "There are a few different methods to calculate the FAP. Perhaps the most useful, however, is the bootstrap method. To obtain a bootstrap estimate of the LS FAP one leaves the observation times fixed, and then draws new observation values with replacement from the actual set of observations. This procedure is then repeated many times to determine the FAP. "
   ]
  },
  {
   "cell_type": "markdown",
   "metadata": {
    "slideshow": {
     "slide_type": "slide"
    }
   },
   "source": [
    "One nice advantage of this procedure is that any effects due to the window function will be imprinted in each iteration of the bootstrap resampling. \n",
    "\n",
    "The major disadvantage is that many many periodograms must be calculated. The rule of thumb is that to acieve a FAP $= p_\\mathrm{false}$, one must run $n_\\mathrm{boot} \\approx 10/p_\\mathrm{false}$ bootstrap periodogram calculations. Thus, an FAP $\\approx 0.1\\%$ requires an increase of 1000 in computational time. \n",
    "\n",
    "`LombScargle` provides the [`false_alarm_probability`](One nice advantage of this procedure is that any effects due to the window function will be imprinted in each iteration of the bootstrap resampling. The major disadvantage is that many many periodograms must be calculated) method, including a bootstrap option. We skip that for now in the interest of time."
   ]
  },
  {
   "cell_type": "markdown",
   "metadata": {
    "slideshow": {
     "slide_type": "slide"
    }
   },
   "source": [
    "As a final note of caution - be weary of over-interpreting the FAP. The specific question answered by the FAP is, what is the probability that gaussian fluctations could produce a signal of equivalent magnitude? Whereas, the question we generally want to answer is: did a periodic signal produce these data?\n",
    "\n",
    "These questions are very different, and thus, the FAP cannot be used to *prove* that a source is periodic."
   ]
  },
  {
   "cell_type": "markdown",
   "metadata": {
    "slideshow": {
     "slide_type": "slide"
    }
   },
   "source": [
    "## Problem 5) Real-world considerations\n",
    "\n",
    "We have covered many, though not all, considerations that are necessary when employing a Lomb Scargle periodogram. We have not yet, however, encountered real world data. Here we highlight some of the issues associated with astronomical light curves. \n",
    "\n",
    "We will now use LS to analyze actual data from the [All Sky Automated Survey (ASAS)](http://www.astrouw.edu.pl/asas/?page=catalogues). Download the [example light curve](https://northwestern.box.com/s/rclcz4lkcdfjn4829p8pa5ddfmcyd0gm)."
   ]
  },
  {
   "cell_type": "markdown",
   "metadata": {
    "slideshow": {
     "slide_type": "slide"
    }
   },
   "source": [
    "**Problem 5a**\n",
    "\n",
    "Read in the light curve from example_asas_lc.dat. Plot the light curve.\n",
    "\n",
    "*Hint* - I recommend using `astropy Tables` or `pandas dataframe`."
   ]
  },
  {
   "cell_type": "code",
   "execution_count": null,
   "metadata": {
    "collapsed": true,
    "slideshow": {
     "slide_type": "slide"
    }
   },
   "outputs": [],
   "source": [
    "data = # complete\n",
    "\n",
    "fig, ax = plt.subplots()\n",
    "ax.errorbar( # complete\n",
    "ax.set_xlabel('HJD (d)')\n",
    "ax.set_ylabel('V (mag)')\n",
    "ax.set_ylim(ax.get_ylim()[::-1])\n",
    "fig.tight_layout()"
   ]
  },
  {
   "cell_type": "markdown",
   "metadata": {
    "slideshow": {
     "slide_type": "slide"
    }
   },
   "source": [
    "**Problem 5b**\n",
    "\n",
    "Use `LombScargle` to measure the periodogram. Then plot the periodogram and the phase folded light curve at the best-fit period.\n",
    "\n",
    "*Hint* - search periods longer than 2 hr."
   ]
  },
  {
   "cell_type": "code",
   "execution_count": null,
   "metadata": {
    "collapsed": true,
    "slideshow": {
     "slide_type": "slide"
    }
   },
   "outputs": [],
   "source": [
    "frequency, power = # complete\n",
    "\n",
    "# complete\n",
    "\n",
    "fig,ax = plt.subplots()\n",
    "\n",
    "ax.plot(# complete\n",
    "ax.set_ylabel(\"Power\")\n",
    "ax.set_xlabel(\"Period (d)\")\n",
    "ax.set_xlim(0, 800)\n",
    "\n",
    "axins = plt.axes([.25, .55, .6, .3])\n",
    "axins.plot( # complete\n",
    "axins.set_xlim(0,5)\n",
    "fig.tight_layout()"
   ]
  },
  {
   "cell_type": "code",
   "execution_count": null,
   "metadata": {
    "collapsed": true,
    "slideshow": {
     "slide_type": "slide"
    }
   },
   "outputs": [],
   "source": [
    "# plot the phase folded light curve\n",
    "phase_plot( # complete"
   ]
  },
  {
   "cell_type": "markdown",
   "metadata": {
    "slideshow": {
     "slide_type": "slide"
    }
   },
   "source": [
    "**Problem 5c**\n",
    "\n",
    "Now plot the light curve folded at twice the best LS period.\n",
    "\n",
    "Which of these 2 is better? "
   ]
  },
  {
   "cell_type": "code",
   "execution_count": null,
   "metadata": {
    "collapsed": true,
    "slideshow": {
     "slide_type": "slide"
    }
   },
   "outputs": [],
   "source": [
    "phase_plot( # complete"
   ]
  },
  {
   "cell_type": "markdown",
   "metadata": {
    "slideshow": {
     "slide_type": "slide"
    }
   },
   "source": [
    "Herein lies a fundamental issue regarding the LS periodogram: the model does not search for \"periodicity.\" The LS model asks if the data support a sinusoidal signal. As astronomers we typically assume this question is good enough, but as we can see in the example of this eclipsing binary that is not the case [and this is not limited to eclipsing binaries]. \n",
    "\n",
    "We can see why LS is not sufficient for an EB by comparing the model to the phase-folded light curve:"
   ]
  },
  {
   "cell_type": "code",
   "execution_count": null,
   "metadata": {
    "collapsed": true,
    "slideshow": {
     "slide_type": "slide"
    }
   },
   "outputs": [],
   "source": [
    "fig, ax = plt.subplots()\n",
    "\n",
    "ax.errorbar(data['hjd']/ls_period % 1, data['mag'], data['mag_unc'], fmt='o', zorder=-1)\n",
    "ax.plot(np.linspace(0,1,1000), \n",
    "        LombScargle(data['hjd'],data['mag'], data['mag_unc']).model(np.linspace(0,1,1000)*ls_period, 1/ls_period) )\n",
    "ax.set_xlabel('Phase')\n",
    "ax.set_ylabel('V (mag)')\n",
    "ax.set_ylim(ax.get_ylim()[::-1])\n",
    "fig.tight_layout()"
   ]
  },
  {
   "cell_type": "markdown",
   "metadata": {
    "slideshow": {
     "slide_type": "slide"
    }
   },
   "source": [
    "One way to combat this very specific issue is to include more Fourier terms at the harmonic of the best fit period. This is easy to implement in `LombScargle` with the `nterms` keyword. [Though always be weary of adding degrees of freedom to a model, especially at the large pipeline level of analysis.]\n",
    "\n",
    "**Problem 5d**\n",
    "\n",
    "Calculate the LS periodogram for the eclipsing binary, with `nterms` = 1, 2, 3, 4, 5. Report the best-fit period for each of these models.\n",
    "\n",
    "*Hint* - we have good reason to believe that the best fit frequency is < 3 in this case, so set `maximum_frequency = 3`."
   ]
  },
  {
   "cell_type": "code",
   "execution_count": null,
   "metadata": {
    "collapsed": true,
    "slideshow": {
     "slide_type": "slide"
    }
   },
   "outputs": [],
   "source": [
    "for i in np.arange(1,6):\n",
    "    frequency, power = # complete\n",
    "    # complete\n",
    "    print('For {:d} harmonics, P_LS = {:.8f}'.format( # complete"
   ]
  },
  {
   "cell_type": "markdown",
   "metadata": {
    "slideshow": {
     "slide_type": "slide"
    }
   },
   "source": [
    "Interestingly, for the $n=2, 3, 4$ harmonics, it appears as though we get the period that we have visually confirmed. However, by $n=5$ harmonics we no longer get a reasonable answer. Again - be very careful about adding harmonics, especially in large analysis pipelines.\n",
    "\n",
    "What does the $n = 4$ model look like?"
   ]
  },
  {
   "cell_type": "code",
   "execution_count": null,
   "metadata": {
    "collapsed": true,
    "slideshow": {
     "slide_type": "slide"
    }
   },
   "outputs": [],
   "source": [
    "best_period = 0.73508568\n",
    "\n",
    "fig, ax = plt.subplots()\n",
    "\n",
    "ax.errorbar((data['hjd'])/best_period % 1, data['mag'], data['mag_unc'], fmt='o',zorder=-1)\n",
    "ax.plot(np.linspace(0,1,1000), \n",
    "        LombScargle(data['hjd'],data['mag'], data['mag_unc'], \n",
    "                    nterms=4).model(np.linspace(0,1,1000)*best_period, 1/best_period) )\n",
    "ax.set_xlabel('Phase')\n",
    "ax.set_ylabel('V (mag)')\n",
    "ax.set_ylim(ax.get_ylim()[::-1])\n",
    "fig.tight_layout()"
   ]
  },
  {
   "cell_type": "markdown",
   "metadata": {
    "slideshow": {
     "slide_type": "slide"
    }
   },
   "source": [
    "This example also shows why it is somewhat strange to provide an uncertainty with a LS best-fit period. Errors tend to be catastrophic, and not some small fractional percentage, with the LS periodogram (we'll explore this a little further later). \n",
    "\n",
    "In the case of the above EB, the \"best-fit\" period was off by a factor 2. This is not isolated to EBs, however, LS periodograms frequently identify a correct harmonic of the true period, but not the actual period of variability. "
   ]
  },
  {
   "cell_type": "markdown",
   "metadata": {
    "slideshow": {
     "slide_type": "slide"
    }
   },
   "source": [
    "## Conclusions\n",
    "\n",
    "The Lomb-Scargle periodogram is a useful tool to search for *sinusoidal* signals in noisy, irregular data. \n",
    "\n",
    "However, as highlighted throughout, there are many ways in which the methodology can run awry."
   ]
  },
  {
   "cell_type": "markdown",
   "metadata": {
    "slideshow": {
     "slide_type": "slide"
    }
   },
   "source": [
    "In closing, I will summarize some practical considerations from VanderPlas (2017): \n",
    "\n",
    "  1. Choose an appropriate frequency grid (defaults in `LombScargle` are not sufficient)\n",
    "  2. Calculate the LS periodogram for the observation times to search for dominant signals (e.g., 1 day in astro)\n",
    "  3. Compute LS periodogram for data (avoid multi-Fourier models if signal unknown)\n",
    "  4. Plot periodogram and various FAP levels (do not over-interpret FAP)\n",
    "  5. If window function shows strong aliasing, plot phased light curve at each peak (now add more Fourier terms if necessary)\n",
    "  6. If looking for a particular signal (e.g., detatched EBs), consider different methods that better match expected signal\n",
    "  7. Inject fake signals into data to understand systematics if using LS in a survey pipeline"
   ]
  },
  {
   "cell_type": "markdown",
   "metadata": {
    "slideshow": {
     "slide_type": "slide"
    }
   },
   "source": [
    "### Finally, Finally\n",
    "\n",
    "As a very last note: know that there are many different ways to search for periodicity in astronomical data. Depending on your application (and computational resources), LS may be a poor choice (even though this is often the default choice by all astronomers!) [Graham et al. (2013)](http://adsabs.harvard.edu/abs/2013MNRAS.434.3423G) provides a summary of several methods using actual astronomical data. The results of that study show that no single method is best. However, they also show that no single method performs particularly well: the detection efficiences in Graham et al. (2013) are disappointing given the importance of periodicity in astronomical signals.\n",
    "\n",
    "Period detection is a fundamental problem for astronomical time-series, but it is especially difficult in \"production\" mode. Be careful when setting up pipelines to analyze large datasets.  "
   ]
  },
  {
   "cell_type": "markdown",
   "metadata": {
    "slideshow": {
     "slide_type": "slide"
    }
   },
   "source": [
    "**Challenge Problem**\n",
    "\n",
    "Alter `gen_periodic_data` to create signals with 4 harmonics. \n",
    "\n",
    "Using our prescription for a simulated \"realistic\" astronomical cadence (see above), simulate 2 years worth of survey data for 1000 simulated stars with periods drawn randomly from [0.2, 10], amplitude=1, and variance of the noise=0.01. \n",
    "\n",
    "Compare the best-fit LS period to the simulated period. Do you notice any particular trends?"
   ]
  },
  {
   "cell_type": "code",
   "execution_count": null,
   "metadata": {
    "collapsed": true,
    "slideshow": {
     "slide_type": "skip"
    }
   },
   "outputs": [],
   "source": []
  },
  {
   "cell_type": "markdown",
   "metadata": {
    "slideshow": {
     "slide_type": "skip"
    }
   },
   "source": [
    "## Code from [PracticalLombScargle](https://github.com/jakevdp/PracticalLombScargle/) by Jake Van der Plas\n",
    "\n",
    "The functions below implement plotting routines developed by Jake to illustrate some properties of Fourier transforms. \n",
    "\n",
    "This code is distributed under a BSD-3 licence, which is repeated below: \n",
    "\n",
    "Copyright (c) 2015, Jake Vanderplas\n",
    "All rights reserved.\n",
    "\n",
    "Redistribution and use in source and binary forms, with or without\n",
    "modification, are permitted provided that the following conditions are met:\n",
    "\n",
    "* Redistributions of source code must retain the above copyright notice, this\n",
    "  list of conditions and the following disclaimer.\n",
    "\n",
    "* Redistributions in binary form must reproduce the above copyright notice,\n",
    "  this list of conditions and the following disclaimer in the documentation\n",
    "  and/or other materials provided with the distribution.\n",
    "\n",
    "* Neither the name of PracticalLombScargle nor the names of its\n",
    "  contributors may be used to endorse or promote products derived from\n",
    "  this software without specific prior written permission.\n",
    "\n",
    "THIS SOFTWARE IS PROVIDED BY THE COPYRIGHT HOLDERS AND CONTRIBUTORS \"AS IS\"\n",
    "AND ANY EXPRESS OR IMPLIED WARRANTIES, INCLUDING, BUT NOT LIMITED TO, THE\n",
    "IMPLIED WARRANTIES OF MERCHANTABILITY AND FITNESS FOR A PARTICULAR PURPOSE ARE\n",
    "DISCLAIMED. IN NO EVENT SHALL THE COPYRIGHT HOLDER OR CONTRIBUTORS BE LIABLE\n",
    "FOR ANY DIRECT, INDIRECT, INCIDENTAL, SPECIAL, EXEMPLARY, OR CONSEQUENTIAL\n",
    "DAMAGES (INCLUDING, BUT NOT LIMITED TO, PROCUREMENT OF SUBSTITUTE GOODS OR\n",
    "SERVICES; LOSS OF USE, DATA, OR PROFITS; OR BUSINESS INTERRUPTION) HOWEVER\n",
    "CAUSED AND ON ANY THEORY OF LIABILITY, WHETHER IN CONTRACT, STRICT LIABILITY,\n",
    "OR TORT (INCLUDING NEGLIGENCE OR OTHERWISE) ARISING IN ANY WAY OUT OF THE USE\n",
    "OF THIS SOFTWARE, EVEN IF ADVISED OF THE POSSIBILITY OF SUCH DAMAGE."
   ]
  },
  {
   "cell_type": "code",
   "execution_count": 2,
   "metadata": {
    "collapsed": true,
    "slideshow": {
     "slide_type": "skip"
    }
   },
   "outputs": [],
   "source": [
    "def fourier_pairs_plot():\n",
    "    \n",
    "    fig, ax = plt.subplots(4, 2, figsize=(10, 6))\n",
    "    fig.subplots_adjust(left=0.04, right=0.98, bottom=0.02, top=0.95,\n",
    "                        hspace=0.3, wspace=0.2)\n",
    "\n",
    "    x = np.linspace(-5, 5, 1000)\n",
    "\n",
    "    for axi in ax.flat:\n",
    "        axi.xaxis.set_major_formatter(plt.NullFormatter())\n",
    "        axi.yaxis.set_major_formatter(plt.NullFormatter())\n",
    "\n",
    "        # draw center line\n",
    "        axi.axvline(0, linestyle='dotted', color='gray')\n",
    "        axi.axhline(0, linestyle='dotted', color='gray')\n",
    "\n",
    "    style_re = dict(linestyle='solid', color='k', linewidth=2)\n",
    "    style_im = dict(linestyle='solid', color='gray', linewidth=2)\n",
    "    text_style = dict(size=14, color='gray')\n",
    "\n",
    "\n",
    "    # sine -> delta\n",
    "    ax[0, 0].plot(x, np.cos(x),**style_re)\n",
    "    ax[0, 0].set(xlim=(-5, 5), ylim=(-1.2, 1.2))\n",
    "    ax[0, 0].annotate('', (-np.pi, 0), (np.pi, 0),\n",
    "                      arrowprops=dict(arrowstyle='|-|', color='gray'))\n",
    "    ax[0, 0].text(0, 0, '$1/f_0$', ha='center', va='bottom', **text_style)\n",
    "    ax[0, 0].set_title('Sinusoid')\n",
    "\n",
    "    ax[0, 1].plot([-5, 2, 2, 2, 5], [0, 0, 1, 0, 0], **style_re)\n",
    "    ax[0, 1].plot([-5, -2, -2, -2, 5], [0, 0, 1, 0, 0], **style_re)\n",
    "    ax[0, 1].set(xlim=(-5, 5), ylim=(-0.2, 1.2))\n",
    "    ax[0, 1].annotate('', (0, 0.4), (2, 0.4), arrowprops=dict(arrowstyle='<-', color='gray'))\n",
    "    ax[0, 1].annotate('', (0, 0.4), (-2, 0.4), arrowprops=dict(arrowstyle='<-', color='gray'))\n",
    "    ax[0, 1].text(1, 0.45, '$+f_0$', ha='center', va='bottom', **text_style)\n",
    "    ax[0, 1].text(-1, 0.45, '$-f_0$', ha='center', va='bottom', **text_style)\n",
    "    ax[0, 1].set_title('Delta Functions')\n",
    "\n",
    "    # gaussian -> gaussian\n",
    "    ax[1, 0].plot(x, np.exp(-(2 * x) ** 2), **style_re)\n",
    "    ax[1, 0].set(xlim=(-5, 5), ylim=(-0.2, 1.2))\n",
    "    ax[1, 0].annotate('', (0, 0.35), (0.6, 0.35), arrowprops=dict(arrowstyle='<-', color='gray'))\n",
    "    ax[1, 0].text(0, 0.4, '$\\sigma$', ha='center', va='bottom', **text_style)\n",
    "    ax[1, 0].set_title('Gaussian')\n",
    "\n",
    "    ax[1, 1].plot(x, np.exp(-(x / 2) ** 2), **style_re)\n",
    "    ax[1, 1].set(xlim=(-5, 5), ylim=(-0.2, 1.2))\n",
    "    ax[1, 1].annotate('', (0, 0.35), (2, 0.35), arrowprops=dict(arrowstyle='<-', color='gray'))\n",
    "    ax[1, 1].text(0, 0.4, '$(2\\pi\\sigma)^{-1}$', ha='center', va='bottom', **text_style)\n",
    "    ax[1, 1].set_title('Gaussian')\n",
    "\n",
    "    # top hat -> sinc\n",
    "    ax[2, 0].plot([-2, -1, -1, 1, 1, 2], [0, 0, 1, 1, 0, 0], **style_re)\n",
    "    ax[2, 0].set(xlim=(-2, 2), ylim=(-0.3, 1.2))\n",
    "    ax[2, 0].annotate('', (-1, 0.5), (1, 0.5), arrowprops=dict(arrowstyle='<->', color='gray'))\n",
    "    ax[2, 0].text(0.0, 0.5, '$T$', ha='center', va='bottom', **text_style)\n",
    "    ax[2, 0].set_title('Top Hat')\n",
    "\n",
    "    ax[2, 1].plot(x, np.sinc(x), **style_re)\n",
    "    ax[2, 1].set(xlim=(-5, 5), ylim=(-0.3, 1.2))\n",
    "    ax[2, 1].annotate('', (-1, 0), (1, 0), arrowprops=dict(arrowstyle='<->', color='gray'))\n",
    "    ax[2, 1].text(0.0, 0.0, '$2/T$', ha='center', va='bottom', **text_style)\n",
    "    ax[2, 1].set_title('Sinc')\n",
    "\n",
    "    # comb -> comb\n",
    "    ax[3, 0].plot([-5.5] + sum((3 * [i] for i in range(-5, 6)), []) + [5.5],\n",
    "                  [0] + 11 * [0, 1, 0] + [0], **style_re)\n",
    "    ax[3, 0].set(xlim=(-5.5, 5.5), ylim=(-0.2, 1.2))\n",
    "    ax[3, 0].annotate('', (0, 0.5), (1, 0.5), arrowprops=dict(arrowstyle='<->', color='gray'))\n",
    "    ax[3, 0].text(0.5, 0.6, '$T$', ha='center', va='bottom', **text_style)\n",
    "    ax[3, 0].set_title('Dirac Comb')\n",
    "\n",
    "    ax[3, 1].plot([-5.5] + sum((3 * [i] for i in range(-5, 6)), []) + [5.5],\n",
    "                  [0] + 11 * [0, 1, 0] + [0], **style_re)\n",
    "    ax[3, 1].set(xlim=(-2.5, 2.5), ylim=(-0.2, 1.2));\n",
    "    ax[3, 1].annotate('', (0, 0.5), (1, 0.5), arrowprops=dict(arrowstyle='<->', color='gray'))\n",
    "    ax[3, 1].text(0.5, 0.6, '$1/T$', ha='center', va='bottom', **text_style)\n",
    "    ax[3, 1].set_title('Dirac Comb')\n",
    "\n",
    "    for i, letter in enumerate('abcd'):\n",
    "        ax[i, 0].set_ylabel('({0})'.format(letter), rotation=0)\n",
    "\n",
    "    # Draw arrows between pairs of axes\n",
    "    for i in range(4):\n",
    "        left = ax[i, 0].bbox.inverse_transformed(fig.transFigure).bounds\n",
    "        right = ax[i, 1].bbox.inverse_transformed(fig.transFigure).bounds\n",
    "        x = 0.5 * (left[0] + left[2] + right[0])\n",
    "        y = left[1] + 0.5 * left[3]\n",
    "        fig.text(x, y, r'$\\Longleftrightarrow$',\n",
    "                 ha='center', va='center', size=30)"
   ]
  }
 ],
 "metadata": {
  "celltoolbar": "Slideshow",
  "kernelspec": {
   "display_name": "Python 3",
   "language": "python",
   "name": "python3"
  },
  "language_info": {
   "codemirror_mode": {
    "name": "ipython",
    "version": 3
   },
   "file_extension": ".py",
   "mimetype": "text/x-python",
   "name": "python",
   "nbconvert_exporter": "python",
   "pygments_lexer": "ipython3",
   "version": "3.6.2"
  }
 },
 "nbformat": 4,
 "nbformat_minor": 1
}
