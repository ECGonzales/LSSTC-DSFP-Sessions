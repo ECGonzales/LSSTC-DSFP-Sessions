{
 "cells": [
  {
   "cell_type": "code",
   "execution_count": 36,
   "metadata": {
    "collapsed": true,
    "slideshow": {
     "slide_type": "skip"
    }
   },
   "outputs": [],
   "source": [
    "import numpy as np\n",
    "import pandas as pd\n",
    "from sklearn.ensemble import RandomForestClassifier\n",
    "from sklearn.model_selection import cross_val_score\n",
    "import scipy\n",
    "\n",
    "import matplotlib.pyplot as plt\n",
    "import matplotlib.gridspec as GridSpec\n",
    "%matplotlib inline"
   ]
  },
  {
   "cell_type": "markdown",
   "metadata": {
    "collapsed": true,
    "slideshow": {
     "slide_type": "slide"
    }
   },
   "source": [
    "# Features as a Representation of Time Series for Classification\n",
    "\n",
    "**version 0.1**\n",
    "\n",
    "***\n",
    "By AA Miller (Northwestern CIERA/Adler Planetarium)\n",
    "01 May 2018"
   ]
  },
  {
   "cell_type": "markdown",
   "metadata": {
    "slideshow": {
     "slide_type": "slide"
    }
   },
   "source": [
    "This lecture is about machine learning..."
   ]
  },
  {
   "cell_type": "markdown",
   "metadata": {
    "slideshow": {
     "slide_type": "slide"
    }
   },
   "source": [
    "But honestly, this lecture isn't really about machine learning..."
   ]
  },
  {
   "cell_type": "markdown",
   "metadata": {
    "slideshow": {
     "slide_type": "slide"
    }
   },
   "source": [
    "This lecture *is* about the classification of variable sources in astronomical survey data. There are many different ways to approach such a classification problem, and today we will use a machine leaning approach to accomplish this task."
   ]
  },
  {
   "cell_type": "markdown",
   "metadata": {
    "slideshow": {
     "slide_type": "slide"
    }
   },
   "source": [
    "As a(n incredibly) brief reminder, machine learning algorithms use a training set with known labels$^1$ to develop a mapping between the data and the labels. You can, and should, think of this mapping as a black box. The mapping can occur between the raw data and the labels (e.g., neural net classification of images) or between representative features$^2$ and the labels.\n",
    "\n",
    "$^1$ Labels are the parameters of interest to be estimated (a variable star classification in this case).\n",
    "\n",
    "$^2$Features = measured properties of the sources. "
   ]
  },
  {
   "cell_type": "markdown",
   "metadata": {
    "slideshow": {
     "slide_type": "slide"
    }
   },
   "source": [
    "Once the mapping between the data and the labels has been learned from the training set, new classifications can be obtained by applying the machine learning model to sources where the labels are unknown."
   ]
  },
  {
   "cell_type": "markdown",
   "metadata": {
    "slideshow": {
     "slide_type": "slide"
    }
   },
   "source": [
    "**Break Out Problem 1**\n",
    "\n",
    "Why would it be useful to measure features from astronomical light curves in order to classify them in an automated fashion?"
   ]
  },
  {
   "cell_type": "markdown",
   "metadata": {
    "slideshow": {
     "slide_type": "slide"
    }
   },
   "source": [
    "**Solution to Break Out 1**\n",
    "\n",
    "*Can deal with gaps in data and reduce the dimensionality of the data*"
   ]
  },
  {
   "cell_type": "markdown",
   "metadata": {
    "slideshow": {
     "slide_type": "slide"
    }
   },
   "source": [
    "The peculiarities of astronomical light curves (observational gaps, heteroskedastic uncertainties, etc) makes it difficult to compare any 2 random sources. For example, the cadence of observations in one portion of the sky will ultimately be very different from any other point on the sky separated by an appreciable distance ($\\sim 100^\\circ$ for LSST). \n",
    "\n",
    "The use of features allows us to place all sources on the same basis. In this way it then becomes possible to make 1 to 1 comparisons between sources with different observing sequences."
   ]
  },
  {
   "cell_type": "markdown",
   "metadata": {
    "slideshow": {
     "slide_type": "slide"
    }
   },
   "source": [
    "## Problem 1) The ML Training Set\n",
    "\n",
    "Here we are going to define some helper functions that you may find helpful in your efforts to build this variable star classification model.\n",
    "\n",
    "These functions include `lc_plot`, which will produce a nice plot of the light curve showing the full duration of the observations as well as a phase folded light curve.\n",
    "\n",
    "And `read_lc`, which can quickly read the data format provided for the light curves."
   ]
  },
  {
   "cell_type": "code",
   "execution_count": 2,
   "metadata": {
    "collapsed": true,
    "slideshow": {
     "slide_type": "slide"
    }
   },
   "outputs": [],
   "source": [
    "def lc_plot(t, m, m_unc, period=0.0):\n",
    "    if period == 0.0:\n",
    "        fig, ax = plt.subplots()\n",
    "        ax.errorbar(t, m, m_unc, \n",
    "                    fmt='o', color='MediumAquaMarine',\n",
    "                    mec=\"0.2\",mew=0.5)\n",
    "        ax.set_xlabel('HJD (d)')\n",
    "        ax.set_ylabel(r'$V_\\mathrm{ASAS}\\;(\\mathrm{mag})$')\n",
    "        fig.gca().invert_yaxis()\n",
    "    elif period != 0.0:\n",
    "        fig = plt.figure()\n",
    "        gs = GridSpec.GridSpec(5, 1)\n",
    "        ax_full = plt.subplot(gs[:2, :])\n",
    "        ax_full.errorbar(t, m, m_unc, \n",
    "                         fmt='o', color='MediumAquaMarine',\n",
    "                         mec=\"0.2\",mew=0.5)\n",
    "        ax_full.set_xlabel('HJD (d)')\n",
    "        ax_full.set_ylabel(r'$V_\\mathrm{ASAS}\\;(\\mathrm{mag})$')\n",
    "        plt.gca().invert_yaxis()\n",
    "\n",
    "        ax_phase = plt.subplot(gs[2:, :])\n",
    "        for repeat in [-1, 0, 1]:\n",
    "            ax_phase.errorbar(t/period % 1 + repeat, m, m_unc, \n",
    "                             fmt='o', color='MediumAquaMarine',\n",
    "                             mec=\"0.2\",mew=0.5)\n",
    "        ax_phase.axvline(x=0, ls='--', color='0.8', lw=1, zorder=3)\n",
    "        ax_phase.axvline(x=1, ls='--', color='0.8', lw=1, zorder=3)\n",
    "        ax_phase.set_xlim(-0.2, 1.2)\n",
    "        ax_phase.set_xlabel('Phase')\n",
    "        ax_phase.set_ylabel(r'$V_\\mathrm{ASAS}\\;(\\mathrm{mag})$')\n",
    "        plt.gca().invert_yaxis()\n",
    "    \n",
    "    plt.tight_layout()"
   ]
  },
  {
   "cell_type": "code",
   "execution_count": 3,
   "metadata": {
    "collapsed": true,
    "slideshow": {
     "slide_type": "slide"
    }
   },
   "outputs": [],
   "source": [
    "def read_lc(filename):\n",
    "    hjd, mag, mag_unc = np.loadtxt(filename, unpack=True)\n",
    "    return hjd, mag, mag_unc"
   ]
  },
  {
   "cell_type": "markdown",
   "metadata": {
    "slideshow": {
     "slide_type": "subslide"
    }
   },
   "source": [
    "If you did not already have the training set, download and unpack the [tarball](https://northwestern.box.com/s/o6knkdzvabk9tc3u0diizpqrhhae70xq)."
   ]
  },
  {
   "cell_type": "markdown",
   "metadata": {
    "slideshow": {
     "slide_type": "slide"
    }
   },
   "source": [
    "We will be working with data from the [ASAS survey](http://www.astrouw.edu.pl/asas/), and I have already curated a training set that only includes stars in 1 of 7 classes: Mira variables, RR Lyrae stars, detatched eclipsing binaries, semi-detatched eclipsing binaries, W UMa binaries, Cepheids, and R Cor Bor stars. \n",
    "\n",
    "[If you don't know what any of these things are, don't worry, we have examples below.]"
   ]
  },
  {
   "cell_type": "markdown",
   "metadata": {
    "slideshow": {
     "slide_type": "slide"
    }
   },
   "source": [
    "**Problem 1a**\n",
    "\n",
    "Plot an example Mira light curve.\n",
    "\n",
    "*Hint* - just execute the cell."
   ]
  },
  {
   "cell_type": "code",
   "execution_count": 7,
   "metadata": {
    "slideshow": {
     "slide_type": "slide"
    }
   },
   "outputs": [
    {
     "data": {
      "image/png": "[encoded data removed]",
      "text/plain": [
       "<matplotlib.figure.Figure at 0x109037fd0>"
      ]
     },
     "metadata": {},
     "output_type": "display_data"
    }
   ],
   "source": [
    "# Mira example\n",
    "t, m, m_unc = read_lc(\"feature_engineering/training_lcs/181637+0341.6\")\n",
    "lc_plot(t, m, m_unc, period=150.461188)"
   ]
  },
  {
   "cell_type": "markdown",
   "metadata": {
    "slideshow": {
     "slide_type": "slide"
    }
   },
   "source": [
    "**Problem 1b**\n",
    "\n",
    "Plot an example RR Lyrae light curve."
   ]
  },
  {
   "cell_type": "code",
   "execution_count": 8,
   "metadata": {
    "slideshow": {
     "slide_type": "slide"
    }
   },
   "outputs": [
    {
     "data": {
      "image/png": "[encoded data removed]",
      "text/plain": [
       "<matplotlib.figure.Figure at 0x1180ddac8>"
      ]
     },
     "metadata": {},
     "output_type": "display_data"
    }
   ],
   "source": [
    "# RRL example\n",
    "t, m, m_unc = read_lc(\"feature_engineering/training_lcs/011815-3912.8\")\n",
    "lc_plot(t, m, m_unc, period=0.510918)"
   ]
  },
  {
   "cell_type": "markdown",
   "metadata": {
    "slideshow": {
     "slide_type": "slide"
    }
   },
   "source": [
    "**Problem 1c**\n",
    "\n",
    "Plot an example detatched eclipsing binary (EB) light curve."
   ]
  },
  {
   "cell_type": "code",
   "execution_count": 9,
   "metadata": {
    "slideshow": {
     "slide_type": "slide"
    }
   },
   "outputs": [
    {
     "data": {
      "image/png": "[encoded data removed]",
      "text/plain": [
       "<matplotlib.figure.Figure at 0x118540048>"
      ]
     },
     "metadata": {},
     "output_type": "display_data"
    }
   ],
   "source": [
    "# dEB example\n",
    "t, m, m_unc = read_lc(\"feature_engineering/training_lcs/153835-6727.8\")\n",
    "lc_plot(t, m, m_unc, period=2*1.107174)"
   ]
  },
  {
   "cell_type": "markdown",
   "metadata": {
    "slideshow": {
     "slide_type": "slide"
    }
   },
   "source": [
    "**Problem 1d**\n",
    "\n",
    "Plot an example semi-detatched EB light curve."
   ]
  },
  {
   "cell_type": "code",
   "execution_count": 10,
   "metadata": {
    "slideshow": {
     "slide_type": "slide"
    }
   },
   "outputs": [
    {
     "data": {
      "image/png": "[encoded data removed]",
      "text/plain": [
       "<matplotlib.figure.Figure at 0x1186b26d8>"
      ]
     },
     "metadata": {},
     "output_type": "display_data"
    }
   ],
   "source": [
    "# aEB example\n",
    "t, m, m_unc = read_lc(\"feature_engineering/training_lcs/141748-5311.2\")\n",
    "lc_plot(t, m, m_unc, period=1.514158)"
   ]
  },
  {
   "cell_type": "markdown",
   "metadata": {
    "slideshow": {
     "slide_type": "slide"
    }
   },
   "source": [
    "**Problem 1e**\n",
    "\n",
    "Plot an example W UMa EB light curve."
   ]
  },
  {
   "cell_type": "code",
   "execution_count": 11,
   "metadata": {
    "slideshow": {
     "slide_type": "slide"
    }
   },
   "outputs": [
    {
     "data": {
      "image/png": "[encoded data removed]",
      "text/plain": [
       "<matplotlib.figure.Figure at 0x118509e10>"
      ]
     },
     "metadata": {},
     "output_type": "display_data"
    }
   ],
   "source": [
    "# WU example\n",
    "t, m, m_unc = read_lc(\"feature_engineering/training_lcs/193546-1136.3\")\n",
    "lc_plot(t, m, m_unc, period=0.424015)"
   ]
  },
  {
   "cell_type": "markdown",
   "metadata": {
    "slideshow": {
     "slide_type": "slide"
    }
   },
   "source": [
    "**Problem 1f**\n",
    "\n",
    "Plot an example Cepheid light curve."
   ]
  },
  {
   "cell_type": "code",
   "execution_count": 12,
   "metadata": {
    "slideshow": {
     "slide_type": "slide"
    }
   },
   "outputs": [
    {
     "data": {
      "image/png": "[encoded data removed]",
      "text/plain": [
       "<matplotlib.figure.Figure at 0x118a5bf60>"
      ]
     },
     "metadata": {},
     "output_type": "display_data"
    }
   ],
   "source": [
    "# Cepheid example\n",
    "t, m, m_unc = read_lc(\"feature_engineering/training_lcs/065640+0011.4\")\n",
    "lc_plot(t, m, m_unc, period=4.022837)"
   ]
  },
  {
   "cell_type": "markdown",
   "metadata": {
    "slideshow": {
     "slide_type": "slide"
    }
   },
   "source": [
    "**Problem 1g**\n",
    "\n",
    "Plot an example R Cor Bor star light curve."
   ]
  },
  {
   "cell_type": "code",
   "execution_count": 13,
   "metadata": {
    "slideshow": {
     "slide_type": "slide"
    }
   },
   "outputs": [
    {
     "data": {
      "image/png": "[encoded data removed]",
      "text/plain": [
       "<matplotlib.figure.Figure at 0x118407828>"
      ]
     },
     "metadata": {},
     "output_type": "display_data"
    }
   ],
   "source": [
    "# R Cor Bor example\n",
    "t, m, m_unc = read_lc(\"feature_engineering/training_lcs/163242-5315.6\")\n",
    "lc_plot(t, m, m_unc, period=0.0)"
   ]
  },
  {
   "cell_type": "markdown",
   "metadata": {
    "slideshow": {
     "slide_type": "slide"
    }
   },
   "source": [
    "## Problem 2) Machine Learning Classification"
   ]
  },
  {
   "cell_type": "markdown",
   "metadata": {
    "slideshow": {
     "slide_type": "slide"
    }
   },
   "source": [
    "To classify newly observed light curves we need a machine learning model.\n",
    "\n",
    "Previously I said this is not a machine learning problem, and that is because we will all use the same pre-specified model. I have provided a file `training_sources.csv` which includes the name of the sources, along with some features, and their classification."
   ]
  },
  {
   "cell_type": "markdown",
   "metadata": {
    "slideshow": {
     "slide_type": "slide"
    }
   },
   "source": [
    "**Problem 2a**\n",
    "\n",
    "Read in the training set file, and create a feature vector `X` and label array `y`."
   ]
  },
  {
   "cell_type": "code",
   "execution_count": 14,
   "metadata": {
    "collapsed": true,
    "slideshow": {
     "slide_type": "slide"
    }
   },
   "outputs": [],
   "source": [
    "train_df = pd.read_csv(\"feature_engineering/training_sources.csv\")\n",
    "\n",
    "X_train = np.array(train_df[[\"mean\", \"nobs\", \"duration\"]])\n",
    "y_train = np.array(train_df[\"Class\"])"
   ]
  },
  {
   "cell_type": "markdown",
   "metadata": {
    "slideshow": {
     "slide_type": "slide"
    }
   },
   "source": [
    "The provided training set comes with 3 features: i) the mean magnitude of the observations, ii) the total number of observations obtained, and iii) the duration of the observations."
   ]
  },
  {
   "cell_type": "markdown",
   "metadata": {
    "slideshow": {
     "slide_type": "slide"
    }
   },
   "source": [
    "**Problem 2b**\n",
    "\n",
    "Using the helper function provided below, calculate the 10-fold cross-validation accuracy of a random forest machine learning model using the 3 features provided above.\n",
    "\n",
    "*Note* - do not adjust any part of `calc_cv_score` throughout this exercise."
   ]
  },
  {
   "cell_type": "code",
   "execution_count": 15,
   "metadata": {},
   "outputs": [
    {
     "name": "stderr",
     "output_type": "stream",
     "text": [
      "/anaconda/envs/DSFP/lib/python3.6/site-packages/sklearn/model_selection/_split.py:597: Warning: The least populated class in y has only 5 members, which is too few. The minimum number of members in any class cannot be less than n_splits=10.\n",
      "  % (min_groups, self.n_splits)), Warning)\n"
     ]
    },
    {
     "name": "stdout",
     "output_type": "stream",
     "text": [
      "These features have CV accuracy = 0.4460 +/- 0.0370\n"
     ]
    }
   ],
   "source": [
    "def calc_cv_score(X, y):\n",
    "    rf_clf = RandomForestClassifier(n_estimators=150, min_samples_leaf=1)\n",
    "    \n",
    "    cv_score = cross_val_score(rf_clf, X, y, cv=10, n_jobs=-1)\n",
    "    \n",
    "    print(\"These features have CV accuracy = {:.4f} +/- {:.4f}\".format(np.mean(cv_score), np.std(cv_score, ddof=1)))\n",
    "\n",
    "calc_cv_score(X_train,y_train)"
   ]
  },
  {
   "cell_type": "markdown",
   "metadata": {
    "slideshow": {
     "slide_type": "slide"
    }
   },
   "source": [
    "## Problem 3) Feature Engineering\n",
    "\n",
    "It should now be clear why this is not a machine learning problem. We have, in this case, provided all the machine learning code that you will need.\n",
    "\n",
    "Instead, this is a feature engineering problem. Feature engineering requires the utilization of domain knowledge to create new features for a data set to improve the performance of machine learning algorithms."
   ]
  },
  {
   "cell_type": "markdown",
   "metadata": {
    "slideshow": {
     "slide_type": "slide"
    }
   },
   "source": [
    "Add new features - if necessary\n",
    "  - Utilize domain knowledge to create/compute new features\n",
    "  - Combine features or represent in an alternative fashion\n",
    "\n",
    "Remove noisy/uniformative features - if necessary\n",
    "  - Determine feature importance (RF)\n",
    "  - Forward/backward selection to iteratively remove features"
   ]
  },
  {
   "cell_type": "markdown",
   "metadata": {
    "slideshow": {
     "slide_type": "slide"
    }
   },
   "source": [
    "Below I have provided a partial function `calc_feature` which you can alter to calculate new features for the data set. "
   ]
  },
  {
   "cell_type": "code",
   "execution_count": 20,
   "metadata": {
    "collapsed": true
   },
   "outputs": [],
   "source": [
    "def normalize(lc):\n",
    "\n",
    "    t=lc[0]\n",
    "    f=lc[1]\n",
    "    err=lc[2]\n",
    "   \n",
    "    err = err[np.isfinite(t)]\n",
    "    f = f[np.isfinite(t)]\n",
    "    t = t[np.isfinite(t)]\n",
    "    err = err[np.isfinite(f)]\n",
    "    t = t[np.isfinite(f)]\n",
    "    f = f[np.isfinite(f)]\n",
    "   \n",
    "    err = err/np.median(f)\n",
    "    nf = f / np.median(f)\n",
    "\n",
    "    return t, nf, err"
   ]
  },
  {
   "cell_type": "code",
   "execution_count": 37,
   "metadata": {
    "slideshow": {
     "slide_type": "slide"
    }
   },
   "outputs": [],
   "source": [
    "def first_features(df, train=True):    \n",
    "    if train==True:\n",
    "        lc_dir = \"feature_engineering/training_lcs/\"\n",
    "    else:\n",
    "        lc_dir = \"feature_engineering/test_lcs/\"\n",
    "    features = np.empty(len(df))\n",
    "    f1 = []\n",
    "    f2 = []\n",
    "    f3 = []\n",
    "    f4 = []\n",
    "    f5 = []\n",
    "   \n",
    "    for source_num, asas_id in enumerate(df[\"ASAS_ID\"]):\n",
    "        t, m, mu = normalize(read_lc(lc_dir+asas_id))\n",
    "       \n",
    "        meanmedrat = np.mean(m) / np.median(m) # F2\n",
    "        varss = np.var(m) # F4\n",
    "        coeffvar = np.std(m)/np.mean(m) #F5\n",
    "        stds = np.std(m) #F6\n",
    "        skew = scipy.stats.skew(m)\n",
    "       \n",
    "        f1.append(meanmedrat)\n",
    "        f2.append(varss)\n",
    "        f3.append(coeffvar)\n",
    "        f4.append(stds)\n",
    "        f5.append(skew)\n",
    "       \n",
    "       #features[source_num] = np.array([meanmedrat, varss, coeffvar, stds])\n",
    "       \n",
    "    df[\"meanmedrat\"] = f1\n",
    "    df[\"varss\"] = f2\n",
    "    df[\"coeffvar\"] = f3\n",
    "    df[\"stds\"] = f4\n",
    "    df['skew'] = f5\n",
    "    \n",
    "    return df"
   ]
  },
  {
   "cell_type": "code",
   "execution_count": 38,
   "metadata": {},
   "outputs": [
    {
     "data": {
      "text/html": [
       "<div>\n",
       "<style>\n",
       "    .dataframe thead tr:only-child th {\n",
       "        text-align: right;\n",
       "    }\n",
       "\n",
       "    .dataframe thead th {\n",
       "        text-align: left;\n",
       "    }\n",
       "\n",
       "    .dataframe tbody tr th {\n",
       "        vertical-align: top;\n",
       "    }\n",
       "</style>\n",
       "<table border=\"1\" class=\"dataframe\">\n",
       "  <thead>\n",
       "    <tr style=\"text-align: right;\">\n",
       "      <th></th>\n",
       "      <th>ASAS_ID</th>\n",
       "      <th>Class</th>\n",
       "      <th>mean</th>\n",
       "      <th>nobs</th>\n",
       "      <th>duration</th>\n",
       "      <th>meanmedrat</th>\n",
       "      <th>varss</th>\n",
       "      <th>coeffvar</th>\n",
       "      <th>stds</th>\n",
       "      <th>skew</th>\n",
       "    </tr>\n",
       "  </thead>\n",
       "  <tbody>\n",
       "    <tr>\n",
       "      <th>0</th>\n",
       "      <td>195044-7146.3</td>\n",
       "      <td>Mira</td>\n",
       "      <td>10.756969</td>\n",
       "      <td>457.0</td>\n",
       "      <td>2699.34483</td>\n",
       "      <td>0.972425</td>\n",
       "      <td>0.028797</td>\n",
       "      <td>0.174509</td>\n",
       "      <td>0.169697</td>\n",
       "      <td>-0.199418</td>\n",
       "    </tr>\n",
       "    <tr>\n",
       "      <th>1</th>\n",
       "      <td>203827+0912.1</td>\n",
       "      <td>RRL</td>\n",
       "      <td>13.043225</td>\n",
       "      <td>218.0</td>\n",
       "      <td>2355.38912</td>\n",
       "      <td>1.001630</td>\n",
       "      <td>0.000790</td>\n",
       "      <td>0.028070</td>\n",
       "      <td>0.028116</td>\n",
       "      <td>-0.037707</td>\n",
       "    </tr>\n",
       "    <tr>\n",
       "      <th>2</th>\n",
       "      <td>170013-2623.9</td>\n",
       "      <td>WU</td>\n",
       "      <td>12.475924</td>\n",
       "      <td>408.0</td>\n",
       "      <td>2635.92064</td>\n",
       "      <td>1.002163</td>\n",
       "      <td>0.000169</td>\n",
       "      <td>0.012975</td>\n",
       "      <td>0.013003</td>\n",
       "      <td>0.641852</td>\n",
       "    </tr>\n",
       "    <tr>\n",
       "      <th>3</th>\n",
       "      <td>143730-4422.1</td>\n",
       "      <td>Mira</td>\n",
       "      <td>12.883042</td>\n",
       "      <td>425.0</td>\n",
       "      <td>2669.87201</td>\n",
       "      <td>0.995675</td>\n",
       "      <td>0.006584</td>\n",
       "      <td>0.081495</td>\n",
       "      <td>0.081142</td>\n",
       "      <td>-0.039825</td>\n",
       "    </tr>\n",
       "    <tr>\n",
       "      <th>4</th>\n",
       "      <td>014231-8000.6</td>\n",
       "      <td>RRL</td>\n",
       "      <td>12.681640</td>\n",
       "      <td>614.0</td>\n",
       "      <td>2684.88330</td>\n",
       "      <td>0.995615</td>\n",
       "      <td>0.000659</td>\n",
       "      <td>0.025779</td>\n",
       "      <td>0.025666</td>\n",
       "      <td>-0.443626</td>\n",
       "    </tr>\n",
       "    <tr>\n",
       "      <th>5</th>\n",
       "      <td>141748-5311.2</td>\n",
       "      <td>aEB</td>\n",
       "      <td>11.295293</td>\n",
       "      <td>547.0</td>\n",
       "      <td>2674.88034</td>\n",
       "      <td>1.005277</td>\n",
       "      <td>0.000221</td>\n",
       "      <td>0.014797</td>\n",
       "      <td>0.014875</td>\n",
       "      <td>1.741147</td>\n",
       "    </tr>\n",
       "    <tr>\n",
       "      <th>6</th>\n",
       "      <td>180847-8647.9</td>\n",
       "      <td>Mira</td>\n",
       "      <td>10.920813</td>\n",
       "      <td>943.0</td>\n",
       "      <td>2699.27574</td>\n",
       "      <td>0.969274</td>\n",
       "      <td>0.029125</td>\n",
       "      <td>0.176071</td>\n",
       "      <td>0.170662</td>\n",
       "      <td>-0.276797</td>\n",
       "    </tr>\n",
       "    <tr>\n",
       "      <th>7</th>\n",
       "      <td>193546-1136.3</td>\n",
       "      <td>WU</td>\n",
       "      <td>11.660504</td>\n",
       "      <td>474.0</td>\n",
       "      <td>2593.02570</td>\n",
       "      <td>1.002149</td>\n",
       "      <td>0.000096</td>\n",
       "      <td>0.009766</td>\n",
       "      <td>0.009787</td>\n",
       "      <td>1.087201</td>\n",
       "    </tr>\n",
       "    <tr>\n",
       "      <th>8</th>\n",
       "      <td>204100-6705.3</td>\n",
       "      <td>RRL</td>\n",
       "      <td>13.920421</td>\n",
       "      <td>95.0</td>\n",
       "      <td>2408.80348</td>\n",
       "      <td>1.010190</td>\n",
       "      <td>0.002433</td>\n",
       "      <td>0.048831</td>\n",
       "      <td>0.049328</td>\n",
       "      <td>1.758509</td>\n",
       "    </tr>\n",
       "    <tr>\n",
       "      <th>9</th>\n",
       "      <td>050909-7707.9</td>\n",
       "      <td>WU</td>\n",
       "      <td>12.958352</td>\n",
       "      <td>1043.0</td>\n",
       "      <td>2706.88380</td>\n",
       "      <td>1.004212</td>\n",
       "      <td>0.000588</td>\n",
       "      <td>0.024144</td>\n",
       "      <td>0.024245</td>\n",
       "      <td>2.848131</td>\n",
       "    </tr>\n",
       "    <tr>\n",
       "      <th>10</th>\n",
       "      <td>023835-5408.1</td>\n",
       "      <td>Mira</td>\n",
       "      <td>11.729066</td>\n",
       "      <td>365.0</td>\n",
       "      <td>2669.89098</td>\n",
       "      <td>1.010517</td>\n",
       "      <td>0.014111</td>\n",
       "      <td>0.117553</td>\n",
       "      <td>0.118789</td>\n",
       "      <td>0.513345</td>\n",
       "    </tr>\n",
       "    <tr>\n",
       "      <th>11</th>\n",
       "      <td>160506-3423.5</td>\n",
       "      <td>Mira</td>\n",
       "      <td>12.652155</td>\n",
       "      <td>316.0</td>\n",
       "      <td>2654.90008</td>\n",
       "      <td>0.987139</td>\n",
       "      <td>0.009105</td>\n",
       "      <td>0.096661</td>\n",
       "      <td>0.095418</td>\n",
       "      <td>-0.350493</td>\n",
       "    </tr>\n",
       "    <tr>\n",
       "      <th>12</th>\n",
       "      <td>050922-1932.5</td>\n",
       "      <td>WU</td>\n",
       "      <td>12.441062</td>\n",
       "      <td>711.0</td>\n",
       "      <td>2704.78394</td>\n",
       "      <td>1.001535</td>\n",
       "      <td>0.000266</td>\n",
       "      <td>0.016290</td>\n",
       "      <td>0.016315</td>\n",
       "      <td>0.556912</td>\n",
       "    </tr>\n",
       "    <tr>\n",
       "      <th>13</th>\n",
       "      <td>080312-3917.6</td>\n",
       "      <td>WU</td>\n",
       "      <td>11.017328</td>\n",
       "      <td>542.0</td>\n",
       "      <td>2705.83242</td>\n",
       "      <td>1.002441</td>\n",
       "      <td>0.000131</td>\n",
       "      <td>0.011430</td>\n",
       "      <td>0.011458</td>\n",
       "      <td>0.532584</td>\n",
       "    </tr>\n",
       "    <tr>\n",
       "      <th>14</th>\n",
       "      <td>074311-6247.5</td>\n",
       "      <td>Mira</td>\n",
       "      <td>12.044341</td>\n",
       "      <td>337.0</td>\n",
       "      <td>2667.76991</td>\n",
       "      <td>1.015286</td>\n",
       "      <td>0.011728</td>\n",
       "      <td>0.106665</td>\n",
       "      <td>0.108295</td>\n",
       "      <td>0.326807</td>\n",
       "    </tr>\n",
       "    <tr>\n",
       "      <th>15</th>\n",
       "      <td>191845-3325.0</td>\n",
       "      <td>WU</td>\n",
       "      <td>13.169879</td>\n",
       "      <td>347.0</td>\n",
       "      <td>2547.01569</td>\n",
       "      <td>1.000903</td>\n",
       "      <td>0.000249</td>\n",
       "      <td>0.015751</td>\n",
       "      <td>0.015765</td>\n",
       "      <td>0.490861</td>\n",
       "    </tr>\n",
       "    <tr>\n",
       "      <th>16</th>\n",
       "      <td>230106-8703.2</td>\n",
       "      <td>Mira</td>\n",
       "      <td>11.619391</td>\n",
       "      <td>765.0</td>\n",
       "      <td>2706.16452</td>\n",
       "      <td>1.020677</td>\n",
       "      <td>0.012759</td>\n",
       "      <td>0.110667</td>\n",
       "      <td>0.112956</td>\n",
       "      <td>0.321065</td>\n",
       "    </tr>\n",
       "    <tr>\n",
       "      <th>17</th>\n",
       "      <td>150859-5625.5</td>\n",
       "      <td>WU</td>\n",
       "      <td>12.819763</td>\n",
       "      <td>468.0</td>\n",
       "      <td>2654.88371</td>\n",
       "      <td>1.002288</td>\n",
       "      <td>0.000304</td>\n",
       "      <td>0.017400</td>\n",
       "      <td>0.017440</td>\n",
       "      <td>0.528068</td>\n",
       "    </tr>\n",
       "    <tr>\n",
       "      <th>18</th>\n",
       "      <td>165125+0818.8</td>\n",
       "      <td>Mira</td>\n",
       "      <td>13.055635</td>\n",
       "      <td>211.0</td>\n",
       "      <td>2423.23433</td>\n",
       "      <td>1.007302</td>\n",
       "      <td>0.008131</td>\n",
       "      <td>0.089518</td>\n",
       "      <td>0.090172</td>\n",
       "      <td>0.279762</td>\n",
       "    </tr>\n",
       "    <tr>\n",
       "      <th>19</th>\n",
       "      <td>150618-1010.9</td>\n",
       "      <td>WU</td>\n",
       "      <td>12.737542</td>\n",
       "      <td>406.0</td>\n",
       "      <td>2660.86413</td>\n",
       "      <td>1.001852</td>\n",
       "      <td>0.000250</td>\n",
       "      <td>0.015794</td>\n",
       "      <td>0.015823</td>\n",
       "      <td>1.008610</td>\n",
       "    </tr>\n",
       "    <tr>\n",
       "      <th>20</th>\n",
       "      <td>155431-3524.5</td>\n",
       "      <td>Mira</td>\n",
       "      <td>12.575440</td>\n",
       "      <td>393.0</td>\n",
       "      <td>2534.02945</td>\n",
       "      <td>1.007971</td>\n",
       "      <td>0.006978</td>\n",
       "      <td>0.082875</td>\n",
       "      <td>0.083536</td>\n",
       "      <td>0.151536</td>\n",
       "    </tr>\n",
       "    <tr>\n",
       "      <th>21</th>\n",
       "      <td>022508-4239.5</td>\n",
       "      <td>WU</td>\n",
       "      <td>11.562284</td>\n",
       "      <td>522.0</td>\n",
       "      <td>2677.88298</td>\n",
       "      <td>1.005241</td>\n",
       "      <td>0.000248</td>\n",
       "      <td>0.015671</td>\n",
       "      <td>0.015753</td>\n",
       "      <td>0.622456</td>\n",
       "    </tr>\n",
       "    <tr>\n",
       "      <th>22</th>\n",
       "      <td>144813-1318.9</td>\n",
       "      <td>aEB</td>\n",
       "      <td>11.402400</td>\n",
       "      <td>440.0</td>\n",
       "      <td>2670.86951</td>\n",
       "      <td>1.005192</td>\n",
       "      <td>0.000168</td>\n",
       "      <td>0.012909</td>\n",
       "      <td>0.012976</td>\n",
       "      <td>1.140544</td>\n",
       "    </tr>\n",
       "    <tr>\n",
       "      <th>23</th>\n",
       "      <td>164912-3246.0</td>\n",
       "      <td>dEB</td>\n",
       "      <td>9.131918</td>\n",
       "      <td>438.0</td>\n",
       "      <td>2646.91819</td>\n",
       "      <td>1.002571</td>\n",
       "      <td>0.000103</td>\n",
       "      <td>0.010126</td>\n",
       "      <td>0.010152</td>\n",
       "      <td>4.761669</td>\n",
       "    </tr>\n",
       "    <tr>\n",
       "      <th>24</th>\n",
       "      <td>071305-0231.8</td>\n",
       "      <td>WU</td>\n",
       "      <td>12.888655</td>\n",
       "      <td>438.0</td>\n",
       "      <td>2674.84400</td>\n",
       "      <td>1.001839</td>\n",
       "      <td>0.000326</td>\n",
       "      <td>0.018035</td>\n",
       "      <td>0.018068</td>\n",
       "      <td>0.713305</td>\n",
       "    </tr>\n",
       "    <tr>\n",
       "      <th>25</th>\n",
       "      <td>111135-1326.2</td>\n",
       "      <td>WU</td>\n",
       "      <td>11.023791</td>\n",
       "      <td>473.0</td>\n",
       "      <td>2704.75641</td>\n",
       "      <td>1.003531</td>\n",
       "      <td>0.000205</td>\n",
       "      <td>0.014254</td>\n",
       "      <td>0.014304</td>\n",
       "      <td>0.793529</td>\n",
       "    </tr>\n",
       "    <tr>\n",
       "      <th>26</th>\n",
       "      <td>190814+0117.9</td>\n",
       "      <td>Cepheid</td>\n",
       "      <td>7.226859</td>\n",
       "      <td>305.0</td>\n",
       "      <td>2593.97002</td>\n",
       "      <td>0.990523</td>\n",
       "      <td>0.001920</td>\n",
       "      <td>0.044236</td>\n",
       "      <td>0.043817</td>\n",
       "      <td>-0.358079</td>\n",
       "    </tr>\n",
       "    <tr>\n",
       "      <th>27</th>\n",
       "      <td>185802-2234.5</td>\n",
       "      <td>Mira</td>\n",
       "      <td>11.872403</td>\n",
       "      <td>422.0</td>\n",
       "      <td>2546.98323</td>\n",
       "      <td>1.002229</td>\n",
       "      <td>0.012403</td>\n",
       "      <td>0.111121</td>\n",
       "      <td>0.111369</td>\n",
       "      <td>0.088506</td>\n",
       "    </tr>\n",
       "    <tr>\n",
       "      <th>28</th>\n",
       "      <td>092204-3642.2</td>\n",
       "      <td>Mira</td>\n",
       "      <td>12.638273</td>\n",
       "      <td>242.0</td>\n",
       "      <td>2675.89889</td>\n",
       "      <td>0.999784</td>\n",
       "      <td>0.008340</td>\n",
       "      <td>0.091344</td>\n",
       "      <td>0.091325</td>\n",
       "      <td>0.106153</td>\n",
       "    </tr>\n",
       "    <tr>\n",
       "      <th>29</th>\n",
       "      <td>020418+2400.1</td>\n",
       "      <td>WU</td>\n",
       "      <td>10.322160</td>\n",
       "      <td>243.0</td>\n",
       "      <td>1852.99974</td>\n",
       "      <td>1.004883</td>\n",
       "      <td>0.000273</td>\n",
       "      <td>0.016427</td>\n",
       "      <td>0.016508</td>\n",
       "      <td>0.601223</td>\n",
       "    </tr>\n",
       "    <tr>\n",
       "      <th>...</th>\n",
       "      <td>...</td>\n",
       "      <td>...</td>\n",
       "      <td>...</td>\n",
       "      <td>...</td>\n",
       "      <td>...</td>\n",
       "      <td>...</td>\n",
       "      <td>...</td>\n",
       "      <td>...</td>\n",
       "      <td>...</td>\n",
       "      <td>...</td>\n",
       "    </tr>\n",
       "    <tr>\n",
       "      <th>987</th>\n",
       "      <td>052926+2700.1</td>\n",
       "      <td>Cepheid</td>\n",
       "      <td>11.958722</td>\n",
       "      <td>115.0</td>\n",
       "      <td>1926.79008</td>\n",
       "      <td>0.997308</td>\n",
       "      <td>0.000430</td>\n",
       "      <td>0.020790</td>\n",
       "      <td>0.020734</td>\n",
       "      <td>-0.148978</td>\n",
       "    </tr>\n",
       "    <tr>\n",
       "      <th>988</th>\n",
       "      <td>062819+0743.3</td>\n",
       "      <td>aEB</td>\n",
       "      <td>12.178120</td>\n",
       "      <td>384.0</td>\n",
       "      <td>2072.57104</td>\n",
       "      <td>1.001861</td>\n",
       "      <td>0.000122</td>\n",
       "      <td>0.011022</td>\n",
       "      <td>0.011042</td>\n",
       "      <td>1.145999</td>\n",
       "    </tr>\n",
       "    <tr>\n",
       "      <th>989</th>\n",
       "      <td>011147+1757.4</td>\n",
       "      <td>WU</td>\n",
       "      <td>12.270296</td>\n",
       "      <td>223.0</td>\n",
       "      <td>1850.93710</td>\n",
       "      <td>1.002967</td>\n",
       "      <td>0.000255</td>\n",
       "      <td>0.015913</td>\n",
       "      <td>0.015960</td>\n",
       "      <td>1.933693</td>\n",
       "    </tr>\n",
       "    <tr>\n",
       "      <th>990</th>\n",
       "      <td>132745+0352.4</td>\n",
       "      <td>aEB</td>\n",
       "      <td>10.357340</td>\n",
       "      <td>297.0</td>\n",
       "      <td>2668.81377</td>\n",
       "      <td>1.006838</td>\n",
       "      <td>0.000443</td>\n",
       "      <td>0.020893</td>\n",
       "      <td>0.021036</td>\n",
       "      <td>2.792597</td>\n",
       "    </tr>\n",
       "    <tr>\n",
       "      <th>991</th>\n",
       "      <td>033520-8015.6</td>\n",
       "      <td>aEB</td>\n",
       "      <td>12.017041</td>\n",
       "      <td>978.0</td>\n",
       "      <td>2706.88509</td>\n",
       "      <td>1.001462</td>\n",
       "      <td>0.000063</td>\n",
       "      <td>0.007945</td>\n",
       "      <td>0.007957</td>\n",
       "      <td>0.913641</td>\n",
       "    </tr>\n",
       "    <tr>\n",
       "      <th>992</th>\n",
       "      <td>213325-1813.0</td>\n",
       "      <td>WU</td>\n",
       "      <td>13.348729</td>\n",
       "      <td>420.0</td>\n",
       "      <td>2700.38852</td>\n",
       "      <td>1.003136</td>\n",
       "      <td>0.000516</td>\n",
       "      <td>0.022651</td>\n",
       "      <td>0.022722</td>\n",
       "      <td>1.030756</td>\n",
       "    </tr>\n",
       "    <tr>\n",
       "      <th>993</th>\n",
       "      <td>093752-7230.4</td>\n",
       "      <td>WU</td>\n",
       "      <td>13.111408</td>\n",
       "      <td>510.0</td>\n",
       "      <td>2706.84423</td>\n",
       "      <td>1.002018</td>\n",
       "      <td>0.000319</td>\n",
       "      <td>0.017825</td>\n",
       "      <td>0.017861</td>\n",
       "      <td>0.699310</td>\n",
       "    </tr>\n",
       "    <tr>\n",
       "      <th>994</th>\n",
       "      <td>044536-2353.0</td>\n",
       "      <td>WU</td>\n",
       "      <td>13.259103</td>\n",
       "      <td>487.0</td>\n",
       "      <td>2705.79268</td>\n",
       "      <td>1.001292</td>\n",
       "      <td>0.000333</td>\n",
       "      <td>0.018214</td>\n",
       "      <td>0.018238</td>\n",
       "      <td>0.125768</td>\n",
       "    </tr>\n",
       "    <tr>\n",
       "      <th>995</th>\n",
       "      <td>073608-2630.3</td>\n",
       "      <td>Mira</td>\n",
       "      <td>12.376878</td>\n",
       "      <td>196.0</td>\n",
       "      <td>2704.82373</td>\n",
       "      <td>0.996408</td>\n",
       "      <td>0.011175</td>\n",
       "      <td>0.106095</td>\n",
       "      <td>0.105714</td>\n",
       "      <td>0.300660</td>\n",
       "    </tr>\n",
       "    <tr>\n",
       "      <th>996</th>\n",
       "      <td>153451-5823.9</td>\n",
       "      <td>aEB</td>\n",
       "      <td>11.292316</td>\n",
       "      <td>882.0</td>\n",
       "      <td>2655.91356</td>\n",
       "      <td>1.002870</td>\n",
       "      <td>0.000149</td>\n",
       "      <td>0.012159</td>\n",
       "      <td>0.012194</td>\n",
       "      <td>2.400724</td>\n",
       "    </tr>\n",
       "    <tr>\n",
       "      <th>997</th>\n",
       "      <td>231101-5820.1</td>\n",
       "      <td>RRL</td>\n",
       "      <td>12.035975</td>\n",
       "      <td>442.0</td>\n",
       "      <td>2704.39576</td>\n",
       "      <td>0.990289</td>\n",
       "      <td>0.000865</td>\n",
       "      <td>0.029706</td>\n",
       "      <td>0.029418</td>\n",
       "      <td>-0.654558</td>\n",
       "    </tr>\n",
       "    <tr>\n",
       "      <th>998</th>\n",
       "      <td>065640+0011.4</td>\n",
       "      <td>Cepheid</td>\n",
       "      <td>11.654665</td>\n",
       "      <td>367.0</td>\n",
       "      <td>2593.92892</td>\n",
       "      <td>0.998600</td>\n",
       "      <td>0.000252</td>\n",
       "      <td>0.015904</td>\n",
       "      <td>0.015882</td>\n",
       "      <td>-0.216541</td>\n",
       "    </tr>\n",
       "    <tr>\n",
       "      <th>999</th>\n",
       "      <td>232218-4205.4</td>\n",
       "      <td>RRL</td>\n",
       "      <td>12.924131</td>\n",
       "      <td>435.0</td>\n",
       "      <td>2702.37218</td>\n",
       "      <td>0.994853</td>\n",
       "      <td>0.000623</td>\n",
       "      <td>0.025094</td>\n",
       "      <td>0.024965</td>\n",
       "      <td>-0.822028</td>\n",
       "    </tr>\n",
       "    <tr>\n",
       "      <th>1000</th>\n",
       "      <td>122618-2546.3</td>\n",
       "      <td>WU</td>\n",
       "      <td>12.548117</td>\n",
       "      <td>488.0</td>\n",
       "      <td>2700.80566</td>\n",
       "      <td>1.003849</td>\n",
       "      <td>0.000327</td>\n",
       "      <td>0.018006</td>\n",
       "      <td>0.018075</td>\n",
       "      <td>1.053159</td>\n",
       "    </tr>\n",
       "    <tr>\n",
       "      <th>1001</th>\n",
       "      <td>040446-2643.0</td>\n",
       "      <td>RRL</td>\n",
       "      <td>12.689462</td>\n",
       "      <td>565.0</td>\n",
       "      <td>2705.79613</td>\n",
       "      <td>0.997992</td>\n",
       "      <td>0.000425</td>\n",
       "      <td>0.020652</td>\n",
       "      <td>0.020610</td>\n",
       "      <td>0.108952</td>\n",
       "    </tr>\n",
       "    <tr>\n",
       "      <th>1002</th>\n",
       "      <td>110055-4800.9</td>\n",
       "      <td>Mira</td>\n",
       "      <td>13.092132</td>\n",
       "      <td>242.0</td>\n",
       "      <td>2697.81811</td>\n",
       "      <td>1.021068</td>\n",
       "      <td>0.010917</td>\n",
       "      <td>0.102326</td>\n",
       "      <td>0.104482</td>\n",
       "      <td>1.264119</td>\n",
       "    </tr>\n",
       "    <tr>\n",
       "      <th>1003</th>\n",
       "      <td>082859-3613.9</td>\n",
       "      <td>Cepheid</td>\n",
       "      <td>11.763381</td>\n",
       "      <td>572.0</td>\n",
       "      <td>2706.82377</td>\n",
       "      <td>0.997869</td>\n",
       "      <td>0.000334</td>\n",
       "      <td>0.018311</td>\n",
       "      <td>0.018272</td>\n",
       "      <td>-0.201345</td>\n",
       "    </tr>\n",
       "    <tr>\n",
       "      <th>1004</th>\n",
       "      <td>165625+0052.2</td>\n",
       "      <td>RRL</td>\n",
       "      <td>12.840343</td>\n",
       "      <td>306.0</td>\n",
       "      <td>2625.91704</td>\n",
       "      <td>0.996225</td>\n",
       "      <td>0.000830</td>\n",
       "      <td>0.028912</td>\n",
       "      <td>0.028803</td>\n",
       "      <td>-0.066345</td>\n",
       "    </tr>\n",
       "    <tr>\n",
       "      <th>1005</th>\n",
       "      <td>120307-4039.4</td>\n",
       "      <td>aEB</td>\n",
       "      <td>12.652627</td>\n",
       "      <td>482.0</td>\n",
       "      <td>2704.80708</td>\n",
       "      <td>1.002665</td>\n",
       "      <td>0.000197</td>\n",
       "      <td>0.014006</td>\n",
       "      <td>0.014043</td>\n",
       "      <td>1.155570</td>\n",
       "    </tr>\n",
       "    <tr>\n",
       "      <th>1006</th>\n",
       "      <td>061432-1414.2</td>\n",
       "      <td>aEB</td>\n",
       "      <td>11.366938</td>\n",
       "      <td>548.0</td>\n",
       "      <td>2706.79937</td>\n",
       "      <td>1.007707</td>\n",
       "      <td>0.000361</td>\n",
       "      <td>0.018850</td>\n",
       "      <td>0.018995</td>\n",
       "      <td>1.895288</td>\n",
       "    </tr>\n",
       "    <tr>\n",
       "      <th>1007</th>\n",
       "      <td>140726-3835.7</td>\n",
       "      <td>WU</td>\n",
       "      <td>11.541813</td>\n",
       "      <td>498.0</td>\n",
       "      <td>2685.85657</td>\n",
       "      <td>1.002982</td>\n",
       "      <td>0.000235</td>\n",
       "      <td>0.015283</td>\n",
       "      <td>0.015328</td>\n",
       "      <td>0.526150</td>\n",
       "    </tr>\n",
       "    <tr>\n",
       "      <th>1008</th>\n",
       "      <td>183648-1459.1</td>\n",
       "      <td>Mira</td>\n",
       "      <td>12.567528</td>\n",
       "      <td>195.0</td>\n",
       "      <td>2594.96276</td>\n",
       "      <td>1.017284</td>\n",
       "      <td>0.006372</td>\n",
       "      <td>0.078469</td>\n",
       "      <td>0.079826</td>\n",
       "      <td>0.626122</td>\n",
       "    </tr>\n",
       "    <tr>\n",
       "      <th>1009</th>\n",
       "      <td>173347-1522.3</td>\n",
       "      <td>Mira</td>\n",
       "      <td>12.499500</td>\n",
       "      <td>228.0</td>\n",
       "      <td>2625.95834</td>\n",
       "      <td>1.012187</td>\n",
       "      <td>0.005512</td>\n",
       "      <td>0.073349</td>\n",
       "      <td>0.074243</td>\n",
       "      <td>0.205343</td>\n",
       "    </tr>\n",
       "    <tr>\n",
       "      <th>1010</th>\n",
       "      <td>060412+2520.0</td>\n",
       "      <td>dEB</td>\n",
       "      <td>11.142004</td>\n",
       "      <td>281.0</td>\n",
       "      <td>1942.74051</td>\n",
       "      <td>1.006595</td>\n",
       "      <td>0.000237</td>\n",
       "      <td>0.015303</td>\n",
       "      <td>0.015404</td>\n",
       "      <td>1.665456</td>\n",
       "    </tr>\n",
       "    <tr>\n",
       "      <th>1011</th>\n",
       "      <td>175739-4033.4</td>\n",
       "      <td>RRL</td>\n",
       "      <td>11.480005</td>\n",
       "      <td>389.0</td>\n",
       "      <td>2626.88876</td>\n",
       "      <td>0.992307</td>\n",
       "      <td>0.000635</td>\n",
       "      <td>0.025395</td>\n",
       "      <td>0.025199</td>\n",
       "      <td>-0.713010</td>\n",
       "    </tr>\n",
       "    <tr>\n",
       "      <th>1012</th>\n",
       "      <td>183133-2447.6</td>\n",
       "      <td>Mira</td>\n",
       "      <td>12.767250</td>\n",
       "      <td>176.0</td>\n",
       "      <td>2548.01579</td>\n",
       "      <td>1.016825</td>\n",
       "      <td>0.004586</td>\n",
       "      <td>0.066601</td>\n",
       "      <td>0.067722</td>\n",
       "      <td>0.638316</td>\n",
       "    </tr>\n",
       "    <tr>\n",
       "      <th>1013</th>\n",
       "      <td>043933-7146.6</td>\n",
       "      <td>aEB</td>\n",
       "      <td>11.265925</td>\n",
       "      <td>1074.0</td>\n",
       "      <td>2706.85867</td>\n",
       "      <td>1.002306</td>\n",
       "      <td>0.000115</td>\n",
       "      <td>0.010691</td>\n",
       "      <td>0.010716</td>\n",
       "      <td>1.242914</td>\n",
       "    </tr>\n",
       "    <tr>\n",
       "      <th>1014</th>\n",
       "      <td>011815-3912.8</td>\n",
       "      <td>RRL</td>\n",
       "      <td>11.119278</td>\n",
       "      <td>454.0</td>\n",
       "      <td>2652.92730</td>\n",
       "      <td>0.986364</td>\n",
       "      <td>0.001156</td>\n",
       "      <td>0.034473</td>\n",
       "      <td>0.034003</td>\n",
       "      <td>-0.799465</td>\n",
       "    </tr>\n",
       "    <tr>\n",
       "      <th>1015</th>\n",
       "      <td>171333-2232.0</td>\n",
       "      <td>aEB</td>\n",
       "      <td>12.158000</td>\n",
       "      <td>416.0</td>\n",
       "      <td>2635.92064</td>\n",
       "      <td>1.003964</td>\n",
       "      <td>0.000339</td>\n",
       "      <td>0.018344</td>\n",
       "      <td>0.018416</td>\n",
       "      <td>0.911334</td>\n",
       "    </tr>\n",
       "    <tr>\n",
       "      <th>1016</th>\n",
       "      <td>153850-1009.6</td>\n",
       "      <td>aEB</td>\n",
       "      <td>11.373609</td>\n",
       "      <td>662.0</td>\n",
       "      <td>2654.87296</td>\n",
       "      <td>1.003229</td>\n",
       "      <td>0.000164</td>\n",
       "      <td>0.012761</td>\n",
       "      <td>0.012802</td>\n",
       "      <td>1.092967</td>\n",
       "    </tr>\n",
       "  </tbody>\n",
       "</table>\n",
       "<p>1017 rows × 10 columns</p>\n",
       "</div>"
      ],
      "text/plain": [
       "            ASAS_ID    Class       mean    nobs    duration  meanmedrat  \\\n",
       "0     195044-7146.3     Mira  10.756969   457.0  2699.34483    0.972425   \n",
       "1     203827+0912.1      RRL  13.043225   218.0  2355.38912    1.001630   \n",
       "2     170013-2623.9       WU  12.475924   408.0  2635.92064    1.002163   \n",
       "3     143730-4422.1     Mira  12.883042   425.0  2669.87201    0.995675   \n",
       "4     014231-8000.6      RRL  12.681640   614.0  2684.88330    0.995615   \n",
       "5     141748-5311.2      aEB  11.295293   547.0  2674.88034    1.005277   \n",
       "6     180847-8647.9     Mira  10.920813   943.0  2699.27574    0.969274   \n",
       "7     193546-1136.3       WU  11.660504   474.0  2593.02570    1.002149   \n",
       "8     204100-6705.3      RRL  13.920421    95.0  2408.80348    1.010190   \n",
       "9     050909-7707.9       WU  12.958352  1043.0  2706.88380    1.004212   \n",
       "10    023835-5408.1     Mira  11.729066   365.0  2669.89098    1.010517   \n",
       "11    160506-3423.5     Mira  12.652155   316.0  2654.90008    0.987139   \n",
       "12    050922-1932.5       WU  12.441062   711.0  2704.78394    1.001535   \n",
       "13    080312-3917.6       WU  11.017328   542.0  2705.83242    1.002441   \n",
       "14    074311-6247.5     Mira  12.044341   337.0  2667.76991    1.015286   \n",
       "15    191845-3325.0       WU  13.169879   347.0  2547.01569    1.000903   \n",
       "16    230106-8703.2     Mira  11.619391   765.0  2706.16452    1.020677   \n",
       "17    150859-5625.5       WU  12.819763   468.0  2654.88371    1.002288   \n",
       "18    165125+0818.8     Mira  13.055635   211.0  2423.23433    1.007302   \n",
       "19    150618-1010.9       WU  12.737542   406.0  2660.86413    1.001852   \n",
       "20    155431-3524.5     Mira  12.575440   393.0  2534.02945    1.007971   \n",
       "21    022508-4239.5       WU  11.562284   522.0  2677.88298    1.005241   \n",
       "22    144813-1318.9      aEB  11.402400   440.0  2670.86951    1.005192   \n",
       "23    164912-3246.0      dEB   9.131918   438.0  2646.91819    1.002571   \n",
       "24    071305-0231.8       WU  12.888655   438.0  2674.84400    1.001839   \n",
       "25    111135-1326.2       WU  11.023791   473.0  2704.75641    1.003531   \n",
       "26    190814+0117.9  Cepheid   7.226859   305.0  2593.97002    0.990523   \n",
       "27    185802-2234.5     Mira  11.872403   422.0  2546.98323    1.002229   \n",
       "28    092204-3642.2     Mira  12.638273   242.0  2675.89889    0.999784   \n",
       "29    020418+2400.1       WU  10.322160   243.0  1852.99974    1.004883   \n",
       "...             ...      ...        ...     ...         ...         ...   \n",
       "987   052926+2700.1  Cepheid  11.958722   115.0  1926.79008    0.997308   \n",
       "988   062819+0743.3      aEB  12.178120   384.0  2072.57104    1.001861   \n",
       "989   011147+1757.4       WU  12.270296   223.0  1850.93710    1.002967   \n",
       "990   132745+0352.4      aEB  10.357340   297.0  2668.81377    1.006838   \n",
       "991   033520-8015.6      aEB  12.017041   978.0  2706.88509    1.001462   \n",
       "992   213325-1813.0       WU  13.348729   420.0  2700.38852    1.003136   \n",
       "993   093752-7230.4       WU  13.111408   510.0  2706.84423    1.002018   \n",
       "994   044536-2353.0       WU  13.259103   487.0  2705.79268    1.001292   \n",
       "995   073608-2630.3     Mira  12.376878   196.0  2704.82373    0.996408   \n",
       "996   153451-5823.9      aEB  11.292316   882.0  2655.91356    1.002870   \n",
       "997   231101-5820.1      RRL  12.035975   442.0  2704.39576    0.990289   \n",
       "998   065640+0011.4  Cepheid  11.654665   367.0  2593.92892    0.998600   \n",
       "999   232218-4205.4      RRL  12.924131   435.0  2702.37218    0.994853   \n",
       "1000  122618-2546.3       WU  12.548117   488.0  2700.80566    1.003849   \n",
       "1001  040446-2643.0      RRL  12.689462   565.0  2705.79613    0.997992   \n",
       "1002  110055-4800.9     Mira  13.092132   242.0  2697.81811    1.021068   \n",
       "1003  082859-3613.9  Cepheid  11.763381   572.0  2706.82377    0.997869   \n",
       "1004  165625+0052.2      RRL  12.840343   306.0  2625.91704    0.996225   \n",
       "1005  120307-4039.4      aEB  12.652627   482.0  2704.80708    1.002665   \n",
       "1006  061432-1414.2      aEB  11.366938   548.0  2706.79937    1.007707   \n",
       "1007  140726-3835.7       WU  11.541813   498.0  2685.85657    1.002982   \n",
       "1008  183648-1459.1     Mira  12.567528   195.0  2594.96276    1.017284   \n",
       "1009  173347-1522.3     Mira  12.499500   228.0  2625.95834    1.012187   \n",
       "1010  060412+2520.0      dEB  11.142004   281.0  1942.74051    1.006595   \n",
       "1011  175739-4033.4      RRL  11.480005   389.0  2626.88876    0.992307   \n",
       "1012  183133-2447.6     Mira  12.767250   176.0  2548.01579    1.016825   \n",
       "1013  043933-7146.6      aEB  11.265925  1074.0  2706.85867    1.002306   \n",
       "1014  011815-3912.8      RRL  11.119278   454.0  2652.92730    0.986364   \n",
       "1015  171333-2232.0      aEB  12.158000   416.0  2635.92064    1.003964   \n",
       "1016  153850-1009.6      aEB  11.373609   662.0  2654.87296    1.003229   \n",
       "\n",
       "         varss  coeffvar      stds      skew  \n",
       "0     0.028797  0.174509  0.169697 -0.199418  \n",
       "1     0.000790  0.028070  0.028116 -0.037707  \n",
       "2     0.000169  0.012975  0.013003  0.641852  \n",
       "3     0.006584  0.081495  0.081142 -0.039825  \n",
       "4     0.000659  0.025779  0.025666 -0.443626  \n",
       "5     0.000221  0.014797  0.014875  1.741147  \n",
       "6     0.029125  0.176071  0.170662 -0.276797  \n",
       "7     0.000096  0.009766  0.009787  1.087201  \n",
       "8     0.002433  0.048831  0.049328  1.758509  \n",
       "9     0.000588  0.024144  0.024245  2.848131  \n",
       "10    0.014111  0.117553  0.118789  0.513345  \n",
       "11    0.009105  0.096661  0.095418 -0.350493  \n",
       "12    0.000266  0.016290  0.016315  0.556912  \n",
       "13    0.000131  0.011430  0.011458  0.532584  \n",
       "14    0.011728  0.106665  0.108295  0.326807  \n",
       "15    0.000249  0.015751  0.015765  0.490861  \n",
       "16    0.012759  0.110667  0.112956  0.321065  \n",
       "17    0.000304  0.017400  0.017440  0.528068  \n",
       "18    0.008131  0.089518  0.090172  0.279762  \n",
       "19    0.000250  0.015794  0.015823  1.008610  \n",
       "20    0.006978  0.082875  0.083536  0.151536  \n",
       "21    0.000248  0.015671  0.015753  0.622456  \n",
       "22    0.000168  0.012909  0.012976  1.140544  \n",
       "23    0.000103  0.010126  0.010152  4.761669  \n",
       "24    0.000326  0.018035  0.018068  0.713305  \n",
       "25    0.000205  0.014254  0.014304  0.793529  \n",
       "26    0.001920  0.044236  0.043817 -0.358079  \n",
       "27    0.012403  0.111121  0.111369  0.088506  \n",
       "28    0.008340  0.091344  0.091325  0.106153  \n",
       "29    0.000273  0.016427  0.016508  0.601223  \n",
       "...        ...       ...       ...       ...  \n",
       "987   0.000430  0.020790  0.020734 -0.148978  \n",
       "988   0.000122  0.011022  0.011042  1.145999  \n",
       "989   0.000255  0.015913  0.015960  1.933693  \n",
       "990   0.000443  0.020893  0.021036  2.792597  \n",
       "991   0.000063  0.007945  0.007957  0.913641  \n",
       "992   0.000516  0.022651  0.022722  1.030756  \n",
       "993   0.000319  0.017825  0.017861  0.699310  \n",
       "994   0.000333  0.018214  0.018238  0.125768  \n",
       "995   0.011175  0.106095  0.105714  0.300660  \n",
       "996   0.000149  0.012159  0.012194  2.400724  \n",
       "997   0.000865  0.029706  0.029418 -0.654558  \n",
       "998   0.000252  0.015904  0.015882 -0.216541  \n",
       "999   0.000623  0.025094  0.024965 -0.822028  \n",
       "1000  0.000327  0.018006  0.018075  1.053159  \n",
       "1001  0.000425  0.020652  0.020610  0.108952  \n",
       "1002  0.010917  0.102326  0.104482  1.264119  \n",
       "1003  0.000334  0.018311  0.018272 -0.201345  \n",
       "1004  0.000830  0.028912  0.028803 -0.066345  \n",
       "1005  0.000197  0.014006  0.014043  1.155570  \n",
       "1006  0.000361  0.018850  0.018995  1.895288  \n",
       "1007  0.000235  0.015283  0.015328  0.526150  \n",
       "1008  0.006372  0.078469  0.079826  0.626122  \n",
       "1009  0.005512  0.073349  0.074243  0.205343  \n",
       "1010  0.000237  0.015303  0.015404  1.665456  \n",
       "1011  0.000635  0.025395  0.025199 -0.713010  \n",
       "1012  0.004586  0.066601  0.067722  0.638316  \n",
       "1013  0.000115  0.010691  0.010716  1.242914  \n",
       "1014  0.001156  0.034473  0.034003 -0.799465  \n",
       "1015  0.000339  0.018344  0.018416  0.911334  \n",
       "1016  0.000164  0.012761  0.012802  1.092967  \n",
       "\n",
       "[1017 rows x 10 columns]"
      ]
     },
     "execution_count": 38,
     "metadata": {},
     "output_type": "execute_result"
    }
   ],
   "source": [
    "train_df = pd.read_csv(\"feature_engineering/training_sources.csv\")\n",
    "\n",
    "first_features(train_df)"
   ]
  },
  {
   "cell_type": "code",
   "execution_count": 40,
   "metadata": {},
   "outputs": [
    {
     "name": "stderr",
     "output_type": "stream",
     "text": [
      "/anaconda/envs/DSFP/lib/python3.6/site-packages/sklearn/model_selection/_split.py:597: Warning: The least populated class in y has only 5 members, which is too few. The minimum number of members in any class cannot be less than n_splits=10.\n",
      "  % (min_groups, self.n_splits)), Warning)\n"
     ]
    },
    {
     "name": "stdout",
     "output_type": "stream",
     "text": [
      "These features have CV accuracy = 0.8230 +/- 0.0184\n"
     ]
    },
    {
     "name": "stderr",
     "output_type": "stream",
     "text": [
      "/anaconda/envs/DSFP/lib/python3.6/site-packages/sklearn/model_selection/_split.py:597: Warning: The least populated class in y has only 5 members, which is too few. The minimum number of members in any class cannot be less than n_splits=10.\n",
      "  % (min_groups, self.n_splits)), Warning)\n"
     ]
    },
    {
     "name": "stdout",
     "output_type": "stream",
     "text": [
      "These features have CV accuracy = 0.7373 +/- 0.0487\n"
     ]
    },
    {
     "name": "stderr",
     "output_type": "stream",
     "text": [
      "/anaconda/envs/DSFP/lib/python3.6/site-packages/sklearn/model_selection/_split.py:597: Warning: The least populated class in y has only 5 members, which is too few. The minimum number of members in any class cannot be less than n_splits=10.\n",
      "  % (min_groups, self.n_splits)), Warning)\n"
     ]
    },
    {
     "name": "stdout",
     "output_type": "stream",
     "text": [
      "These features have CV accuracy = 0.7353 +/- 0.0409\n"
     ]
    },
    {
     "name": "stderr",
     "output_type": "stream",
     "text": [
      "/anaconda/envs/DSFP/lib/python3.6/site-packages/sklearn/model_selection/_split.py:597: Warning: The least populated class in y has only 5 members, which is too few. The minimum number of members in any class cannot be less than n_splits=10.\n",
      "  % (min_groups, self.n_splits)), Warning)\n"
     ]
    },
    {
     "name": "stdout",
     "output_type": "stream",
     "text": [
      "These features have CV accuracy = 0.7123 +/- 0.0385\n"
     ]
    },
    {
     "name": "stderr",
     "output_type": "stream",
     "text": [
      "/anaconda/envs/DSFP/lib/python3.6/site-packages/sklearn/model_selection/_split.py:597: Warning: The least populated class in y has only 5 members, which is too few. The minimum number of members in any class cannot be less than n_splits=10.\n",
      "  % (min_groups, self.n_splits)), Warning)\n"
     ]
    },
    {
     "name": "stdout",
     "output_type": "stream",
     "text": [
      "These features have CV accuracy = 0.7343 +/- 0.0413\n"
     ]
    },
    {
     "name": "stderr",
     "output_type": "stream",
     "text": [
      "/anaconda/envs/DSFP/lib/python3.6/site-packages/sklearn/model_selection/_split.py:597: Warning: The least populated class in y has only 5 members, which is too few. The minimum number of members in any class cannot be less than n_splits=10.\n",
      "  % (min_groups, self.n_splits)), Warning)\n"
     ]
    },
    {
     "name": "stdout",
     "output_type": "stream",
     "text": [
      "These features have CV accuracy = 0.7400 +/- 0.0473\n"
     ]
    },
    {
     "name": "stderr",
     "output_type": "stream",
     "text": [
      "/anaconda/envs/DSFP/lib/python3.6/site-packages/sklearn/model_selection/_split.py:597: Warning: The least populated class in y has only 5 members, which is too few. The minimum number of members in any class cannot be less than n_splits=10.\n",
      "  % (min_groups, self.n_splits)), Warning)\n"
     ]
    },
    {
     "name": "stdout",
     "output_type": "stream",
     "text": [
      "These features have CV accuracy = 0.8790 +/- 0.0300\n"
     ]
    },
    {
     "name": "stderr",
     "output_type": "stream",
     "text": [
      "/anaconda/envs/DSFP/lib/python3.6/site-packages/sklearn/model_selection/_split.py:597: Warning: The least populated class in y has only 5 members, which is too few. The minimum number of members in any class cannot be less than n_splits=10.\n",
      "  % (min_groups, self.n_splits)), Warning)\n"
     ]
    },
    {
     "name": "stdout",
     "output_type": "stream",
     "text": [
      "These features have CV accuracy = 0.8301 +/- 0.0232\n"
     ]
    }
   ],
   "source": [
    "X_train_1 = np.array(train_df[[\"mean\", \"nobs\", \"duration\", \"meanmedrat\", \"varss\", \"coeffvar\", \"stds\"]])\n",
    "X_train_2 = np.array(train_df[[\"mean\", \"nobs\", \"duration\", \"coeffvar\"]])\n",
    "X_train_3 = np.array(train_df[[\"mean\", \"nobs\", \"duration\", \"varss\"]])\n",
    "X_train_4 = np.array(train_df[[\"mean\", \"nobs\", \"duration\", \"meanmedrat\"]])\n",
    "X_train_5 = np.array(train_df[[\"mean\", \"nobs\", \"duration\", \"stds\"]])\n",
    "X_train_6 = np.array(train_df[[\"mean\", \"nobs\", \"duration\", \"coeffvar\", \"varss\"]])\n",
    "X_train_7 = np.array(train_df[[\"mean\", \"nobs\", \"duration\", \"meanmedrat\", \"varss\", \"coeffvar\", \"stds\",'skew']])\n",
    "X_train_8 = np.array(train_df[[\"mean\", \"meanmedrat\", \"varss\", \"coeffvar\", \"stds\"]])\n",
    "\n",
    "y_train = np.array(train_df[\"Class\"])\n",
    "\n",
    "calc_cv_score(X_train_1,y_train)\n",
    "calc_cv_score(X_train_2,y_train)\n",
    "calc_cv_score(X_train_3,y_train)\n",
    "calc_cv_score(X_train_4,y_train)\n",
    "calc_cv_score(X_train_5,y_train)\n",
    "calc_cv_score(X_train_6,y_train)\n",
    "calc_cv_score(X_train_7,y_train)\n",
    "calc_cv_score(X_train_8,y_train)"
   ]
  },
  {
   "cell_type": "markdown",
   "metadata": {
    "collapsed": true,
    "slideshow": {
     "slide_type": "slide"
    }
   },
   "source": [
    "Your objective now is to apply your domain knowledge of astronomical signals to improve the provided machine learning model via feature engineering (and only feature engineering - do not attempt to use other models or change the model parameters).\n",
    "\n",
    "Below are 3 problems you should attempt to answer, but note - these problems are not necessarily independent and do not need to be completed sequentially."
   ]
  },
  {
   "cell_type": "markdown",
   "metadata": {
    "slideshow": {
     "slide_type": "slide"
    }
   },
   "source": [
    "**With a partner answer the following:**"
   ]
  },
  {
   "cell_type": "markdown",
   "metadata": {
    "slideshow": {
     "slide_type": "slide"
    }
   },
   "source": [
    "**Problem 3a**\n",
    "\n",
    "What is the best *simple* feature you can add to the model to improve the classification performance? \n",
    "\n",
    "Why simple? Because speed matters. If you need to classify $10^7$ LSST sources, you cannot run models that take several minutes to hours to run...\n",
    "\n",
    "*Note* - simple means can be executed on the full training set in a matter of seconds ($\\lesssim 100\\,\\mathrm{s}$)."
   ]
  },
  {
   "cell_type": "markdown",
   "metadata": {
    "slideshow": {
     "slide_type": "slide"
    }
   },
   "source": [
    "**Problem 3b**\n",
    "\n",
    "What is the best individual feature you can add to the model to improve the classification performance? "
   ]
  },
  {
   "cell_type": "markdown",
   "metadata": {
    "slideshow": {
     "slide_type": "slide"
    }
   },
   "source": [
    "**Problem 3c**\n",
    "\n",
    "What combination of features provides the best classification accuracy for the model?"
   ]
  },
  {
   "cell_type": "markdown",
   "metadata": {
    "slideshow": {
     "slide_type": "slide"
    }
   },
   "source": [
    "*Hint 1* - use `calc_cv_score` to measure the classification performance.\n",
    "\n",
    "*Hint 2* - if your efforts are limited by file read times, consider calculating multiple features within the function `calc_feature`."
   ]
  },
  {
   "cell_type": "markdown",
   "metadata": {
    "slideshow": {
     "slide_type": "slide"
    }
   },
   "source": [
    "*Hint 3* - you are in pairs for a reason. If you decide to attempt a very complicated feature that requires long runtimes, proceed with that calculation on one person's laptop, while working on some other feature calculation on the other person's laptop.\n",
    "\n",
    "*Hint 4* - be very careful about book keeping and variable names. You don't want to have to repeat a complex calculation because you accidentally renamed an active variable in your namespace."
   ]
  },
  {
   "cell_type": "markdown",
   "metadata": {
    "slideshow": {
     "slide_type": "slide"
    }
   },
   "source": [
    "*Hint 5* - do not destroy any code that you write to calculate features. Ultimately, you will need to apply your feature calculations to a test set of new sources and it will be essential that the calculations are done in a reproducible way.\n",
    "\n",
    "*Hint 6* - pay attention to how long it takes for your feature calculations to run. If you have anything that takes $\\gtrsim 30\\,\\mathrm{min}$ let me know immediately."
   ]
  },
  {
   "cell_type": "markdown",
   "metadata": {
    "slideshow": {
     "slide_type": "slide"
    }
   },
   "source": [
    "We will compare answers at the end of the lecture."
   ]
  }
 ],
 "metadata": {
  "kernelspec": {
   "display_name": "Python 3",
   "language": "python",
   "name": "python3"
  },
  "language_info": {
   "codemirror_mode": {
    "name": "ipython",
    "version": 3.0
   },
   "file_extension": ".py",
   "mimetype": "text/x-python",
   "name": "python",
   "nbconvert_exporter": "python",
   "pygments_lexer": "ipython3",
   "version": "3.6.2"
  },
  "livereveal": {
   "height": 768.0,
   "scroll": true,
   "start_slideshow_at": "selected",
   "theme": "solarized",
   "width": 1024.0
  }
 },
 "nbformat": 4,
 "nbformat_minor": 0
}